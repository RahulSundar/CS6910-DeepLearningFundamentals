{
  "nbformat": 4,
  "nbformat_minor": 0,
  "metadata": {
    "colab": {
      "name": "Assignment1_training_sweep_Fashion_MNIST.ipynb",
      "provenance": [],
      "collapsed_sections": [],
      "authorship_tag": "ABX9TyM9owfKMjo5AnEFfE8SeYVN",
      "include_colab_link": true
    },
    "kernelspec": {
      "name": "python3",
      "display_name": "Python 3"
    },
    "widgets": {
      "application/vnd.jupyter.widget-state+json": {
        "4799016969ab464e84bedd41b786b1d0": {
          "model_module": "@jupyter-widgets/controls",
          "model_name": "VBoxModel",
          "state": {
            "_view_name": "VBoxView",
            "_dom_classes": [],
            "_model_name": "VBoxModel",
            "_view_module": "@jupyter-widgets/controls",
            "_model_module_version": "1.5.0",
            "_view_count": null,
            "_view_module_version": "1.5.0",
            "box_style": "",
            "layout": "IPY_MODEL_56fd411bb73b4ded95ea6494ee806298",
            "_model_module": "@jupyter-widgets/controls",
            "children": [
              "IPY_MODEL_6f50418fc96442edbbf2c50dbf4eaccf",
              "IPY_MODEL_4eac2e8f60974e15b8693dc9db08a4a0"
            ]
          }
        },
        "56fd411bb73b4ded95ea6494ee806298": {
          "model_module": "@jupyter-widgets/base",
          "model_name": "LayoutModel",
          "state": {
            "_view_name": "LayoutView",
            "grid_template_rows": null,
            "right": null,
            "justify_content": null,
            "_view_module": "@jupyter-widgets/base",
            "overflow": null,
            "_model_module_version": "1.2.0",
            "_view_count": null,
            "flex_flow": null,
            "width": null,
            "min_width": null,
            "border": null,
            "align_items": null,
            "bottom": null,
            "_model_module": "@jupyter-widgets/base",
            "top": null,
            "grid_column": null,
            "overflow_y": null,
            "overflow_x": null,
            "grid_auto_flow": null,
            "grid_area": null,
            "grid_template_columns": null,
            "flex": null,
            "_model_name": "LayoutModel",
            "justify_items": null,
            "grid_row": null,
            "max_height": null,
            "align_content": null,
            "visibility": null,
            "align_self": null,
            "height": null,
            "min_height": null,
            "padding": null,
            "grid_auto_rows": null,
            "grid_gap": null,
            "max_width": null,
            "order": null,
            "_view_module_version": "1.2.0",
            "grid_template_areas": null,
            "object_position": null,
            "object_fit": null,
            "grid_auto_columns": null,
            "margin": null,
            "display": null,
            "left": null
          }
        },
        "6f50418fc96442edbbf2c50dbf4eaccf": {
          "model_module": "@jupyter-widgets/controls",
          "model_name": "LabelModel",
          "state": {
            "_view_name": "LabelView",
            "style": "IPY_MODEL_0570c4c5863443c188d5d42b168936e4",
            "_dom_classes": [],
            "description": "",
            "_model_name": "LabelModel",
            "placeholder": "​",
            "_view_module": "@jupyter-widgets/controls",
            "_model_module_version": "1.5.0",
            "value": " 0.01MB of 0.01MB uploaded (0.00MB deduped)\r",
            "_view_count": null,
            "_view_module_version": "1.5.0",
            "description_tooltip": null,
            "_model_module": "@jupyter-widgets/controls",
            "layout": "IPY_MODEL_ee6d04ea0c9148479a4717263f8b15b3"
          }
        },
        "4eac2e8f60974e15b8693dc9db08a4a0": {
          "model_module": "@jupyter-widgets/controls",
          "model_name": "FloatProgressModel",
          "state": {
            "_view_name": "ProgressView",
            "style": "IPY_MODEL_1c05b8c695094f0280663e912f43d1ff",
            "_dom_classes": [],
            "description": "",
            "_model_name": "FloatProgressModel",
            "bar_style": "",
            "max": 1,
            "_view_module": "@jupyter-widgets/controls",
            "_model_module_version": "1.5.0",
            "value": 1,
            "_view_count": null,
            "_view_module_version": "1.5.0",
            "orientation": "horizontal",
            "min": 0,
            "description_tooltip": null,
            "_model_module": "@jupyter-widgets/controls",
            "layout": "IPY_MODEL_452fd24621fb4456a791d46409614d89"
          }
        },
        "0570c4c5863443c188d5d42b168936e4": {
          "model_module": "@jupyter-widgets/controls",
          "model_name": "DescriptionStyleModel",
          "state": {
            "_view_name": "StyleView",
            "_model_name": "DescriptionStyleModel",
            "description_width": "",
            "_view_module": "@jupyter-widgets/base",
            "_model_module_version": "1.5.0",
            "_view_count": null,
            "_view_module_version": "1.2.0",
            "_model_module": "@jupyter-widgets/controls"
          }
        },
        "ee6d04ea0c9148479a4717263f8b15b3": {
          "model_module": "@jupyter-widgets/base",
          "model_name": "LayoutModel",
          "state": {
            "_view_name": "LayoutView",
            "grid_template_rows": null,
            "right": null,
            "justify_content": null,
            "_view_module": "@jupyter-widgets/base",
            "overflow": null,
            "_model_module_version": "1.2.0",
            "_view_count": null,
            "flex_flow": null,
            "width": null,
            "min_width": null,
            "border": null,
            "align_items": null,
            "bottom": null,
            "_model_module": "@jupyter-widgets/base",
            "top": null,
            "grid_column": null,
            "overflow_y": null,
            "overflow_x": null,
            "grid_auto_flow": null,
            "grid_area": null,
            "grid_template_columns": null,
            "flex": null,
            "_model_name": "LayoutModel",
            "justify_items": null,
            "grid_row": null,
            "max_height": null,
            "align_content": null,
            "visibility": null,
            "align_self": null,
            "height": null,
            "min_height": null,
            "padding": null,
            "grid_auto_rows": null,
            "grid_gap": null,
            "max_width": null,
            "order": null,
            "_view_module_version": "1.2.0",
            "grid_template_areas": null,
            "object_position": null,
            "object_fit": null,
            "grid_auto_columns": null,
            "margin": null,
            "display": null,
            "left": null
          }
        },
        "1c05b8c695094f0280663e912f43d1ff": {
          "model_module": "@jupyter-widgets/controls",
          "model_name": "ProgressStyleModel",
          "state": {
            "_view_name": "StyleView",
            "_model_name": "ProgressStyleModel",
            "description_width": "",
            "_view_module": "@jupyter-widgets/base",
            "_model_module_version": "1.5.0",
            "_view_count": null,
            "_view_module_version": "1.2.0",
            "bar_color": null,
            "_model_module": "@jupyter-widgets/controls"
          }
        },
        "452fd24621fb4456a791d46409614d89": {
          "model_module": "@jupyter-widgets/base",
          "model_name": "LayoutModel",
          "state": {
            "_view_name": "LayoutView",
            "grid_template_rows": null,
            "right": null,
            "justify_content": null,
            "_view_module": "@jupyter-widgets/base",
            "overflow": null,
            "_model_module_version": "1.2.0",
            "_view_count": null,
            "flex_flow": null,
            "width": null,
            "min_width": null,
            "border": null,
            "align_items": null,
            "bottom": null,
            "_model_module": "@jupyter-widgets/base",
            "top": null,
            "grid_column": null,
            "overflow_y": null,
            "overflow_x": null,
            "grid_auto_flow": null,
            "grid_area": null,
            "grid_template_columns": null,
            "flex": null,
            "_model_name": "LayoutModel",
            "justify_items": null,
            "grid_row": null,
            "max_height": null,
            "align_content": null,
            "visibility": null,
            "align_self": null,
            "height": null,
            "min_height": null,
            "padding": null,
            "grid_auto_rows": null,
            "grid_gap": null,
            "max_width": null,
            "order": null,
            "_view_module_version": "1.2.0",
            "grid_template_areas": null,
            "object_position": null,
            "object_fit": null,
            "grid_auto_columns": null,
            "margin": null,
            "display": null,
            "left": null
          }
        },
        "1fa1c54e34f54d45b9d9da7744ca2828": {
          "model_module": "@jupyter-widgets/controls",
          "model_name": "VBoxModel",
          "state": {
            "_view_name": "VBoxView",
            "_dom_classes": [],
            "_model_name": "VBoxModel",
            "_view_module": "@jupyter-widgets/controls",
            "_model_module_version": "1.5.0",
            "_view_count": null,
            "_view_module_version": "1.5.0",
            "box_style": "",
            "layout": "IPY_MODEL_9ac194e593b14a9883ab7d5ac3650fd8",
            "_model_module": "@jupyter-widgets/controls",
            "children": [
              "IPY_MODEL_d9c22b9e9dac431a9a704cc216fee52e",
              "IPY_MODEL_7df7d3ecd47945c4b8d1676c31efadb9"
            ]
          }
        },
        "9ac194e593b14a9883ab7d5ac3650fd8": {
          "model_module": "@jupyter-widgets/base",
          "model_name": "LayoutModel",
          "state": {
            "_view_name": "LayoutView",
            "grid_template_rows": null,
            "right": null,
            "justify_content": null,
            "_view_module": "@jupyter-widgets/base",
            "overflow": null,
            "_model_module_version": "1.2.0",
            "_view_count": null,
            "flex_flow": null,
            "width": null,
            "min_width": null,
            "border": null,
            "align_items": null,
            "bottom": null,
            "_model_module": "@jupyter-widgets/base",
            "top": null,
            "grid_column": null,
            "overflow_y": null,
            "overflow_x": null,
            "grid_auto_flow": null,
            "grid_area": null,
            "grid_template_columns": null,
            "flex": null,
            "_model_name": "LayoutModel",
            "justify_items": null,
            "grid_row": null,
            "max_height": null,
            "align_content": null,
            "visibility": null,
            "align_self": null,
            "height": null,
            "min_height": null,
            "padding": null,
            "grid_auto_rows": null,
            "grid_gap": null,
            "max_width": null,
            "order": null,
            "_view_module_version": "1.2.0",
            "grid_template_areas": null,
            "object_position": null,
            "object_fit": null,
            "grid_auto_columns": null,
            "margin": null,
            "display": null,
            "left": null
          }
        },
        "d9c22b9e9dac431a9a704cc216fee52e": {
          "model_module": "@jupyter-widgets/controls",
          "model_name": "LabelModel",
          "state": {
            "_view_name": "LabelView",
            "style": "IPY_MODEL_e8edf0e03ecd488ab14ff4479e23bc2c",
            "_dom_classes": [],
            "description": "",
            "_model_name": "LabelModel",
            "placeholder": "​",
            "_view_module": "@jupyter-widgets/controls",
            "_model_module_version": "1.5.0",
            "value": " 0.01MB of 0.01MB uploaded (0.00MB deduped)\r",
            "_view_count": null,
            "_view_module_version": "1.5.0",
            "description_tooltip": null,
            "_model_module": "@jupyter-widgets/controls",
            "layout": "IPY_MODEL_1b372238bb194f679b684a57c40ddbad"
          }
        },
        "7df7d3ecd47945c4b8d1676c31efadb9": {
          "model_module": "@jupyter-widgets/controls",
          "model_name": "FloatProgressModel",
          "state": {
            "_view_name": "ProgressView",
            "style": "IPY_MODEL_f4ba5d14d7824c5395805800c08ad804",
            "_dom_classes": [],
            "description": "",
            "_model_name": "FloatProgressModel",
            "bar_style": "",
            "max": 1,
            "_view_module": "@jupyter-widgets/controls",
            "_model_module_version": "1.5.0",
            "value": 1,
            "_view_count": null,
            "_view_module_version": "1.5.0",
            "orientation": "horizontal",
            "min": 0,
            "description_tooltip": null,
            "_model_module": "@jupyter-widgets/controls",
            "layout": "IPY_MODEL_88a5226494f04a9fb65f88b139f7053a"
          }
        },
        "e8edf0e03ecd488ab14ff4479e23bc2c": {
          "model_module": "@jupyter-widgets/controls",
          "model_name": "DescriptionStyleModel",
          "state": {
            "_view_name": "StyleView",
            "_model_name": "DescriptionStyleModel",
            "description_width": "",
            "_view_module": "@jupyter-widgets/base",
            "_model_module_version": "1.5.0",
            "_view_count": null,
            "_view_module_version": "1.2.0",
            "_model_module": "@jupyter-widgets/controls"
          }
        },
        "1b372238bb194f679b684a57c40ddbad": {
          "model_module": "@jupyter-widgets/base",
          "model_name": "LayoutModel",
          "state": {
            "_view_name": "LayoutView",
            "grid_template_rows": null,
            "right": null,
            "justify_content": null,
            "_view_module": "@jupyter-widgets/base",
            "overflow": null,
            "_model_module_version": "1.2.0",
            "_view_count": null,
            "flex_flow": null,
            "width": null,
            "min_width": null,
            "border": null,
            "align_items": null,
            "bottom": null,
            "_model_module": "@jupyter-widgets/base",
            "top": null,
            "grid_column": null,
            "overflow_y": null,
            "overflow_x": null,
            "grid_auto_flow": null,
            "grid_area": null,
            "grid_template_columns": null,
            "flex": null,
            "_model_name": "LayoutModel",
            "justify_items": null,
            "grid_row": null,
            "max_height": null,
            "align_content": null,
            "visibility": null,
            "align_self": null,
            "height": null,
            "min_height": null,
            "padding": null,
            "grid_auto_rows": null,
            "grid_gap": null,
            "max_width": null,
            "order": null,
            "_view_module_version": "1.2.0",
            "grid_template_areas": null,
            "object_position": null,
            "object_fit": null,
            "grid_auto_columns": null,
            "margin": null,
            "display": null,
            "left": null
          }
        },
        "f4ba5d14d7824c5395805800c08ad804": {
          "model_module": "@jupyter-widgets/controls",
          "model_name": "ProgressStyleModel",
          "state": {
            "_view_name": "StyleView",
            "_model_name": "ProgressStyleModel",
            "description_width": "",
            "_view_module": "@jupyter-widgets/base",
            "_model_module_version": "1.5.0",
            "_view_count": null,
            "_view_module_version": "1.2.0",
            "bar_color": null,
            "_model_module": "@jupyter-widgets/controls"
          }
        },
        "88a5226494f04a9fb65f88b139f7053a": {
          "model_module": "@jupyter-widgets/base",
          "model_name": "LayoutModel",
          "state": {
            "_view_name": "LayoutView",
            "grid_template_rows": null,
            "right": null,
            "justify_content": null,
            "_view_module": "@jupyter-widgets/base",
            "overflow": null,
            "_model_module_version": "1.2.0",
            "_view_count": null,
            "flex_flow": null,
            "width": null,
            "min_width": null,
            "border": null,
            "align_items": null,
            "bottom": null,
            "_model_module": "@jupyter-widgets/base",
            "top": null,
            "grid_column": null,
            "overflow_y": null,
            "overflow_x": null,
            "grid_auto_flow": null,
            "grid_area": null,
            "grid_template_columns": null,
            "flex": null,
            "_model_name": "LayoutModel",
            "justify_items": null,
            "grid_row": null,
            "max_height": null,
            "align_content": null,
            "visibility": null,
            "align_self": null,
            "height": null,
            "min_height": null,
            "padding": null,
            "grid_auto_rows": null,
            "grid_gap": null,
            "max_width": null,
            "order": null,
            "_view_module_version": "1.2.0",
            "grid_template_areas": null,
            "object_position": null,
            "object_fit": null,
            "grid_auto_columns": null,
            "margin": null,
            "display": null,
            "left": null
          }
        },
        "adecf641fa5449d49849ebcead0327a5": {
          "model_module": "@jupyter-widgets/controls",
          "model_name": "VBoxModel",
          "state": {
            "_view_name": "VBoxView",
            "_dom_classes": [],
            "_model_name": "VBoxModel",
            "_view_module": "@jupyter-widgets/controls",
            "_model_module_version": "1.5.0",
            "_view_count": null,
            "_view_module_version": "1.5.0",
            "box_style": "",
            "layout": "IPY_MODEL_cf2c8ac5e512433cbc8fb1ad208add8e",
            "_model_module": "@jupyter-widgets/controls",
            "children": [
              "IPY_MODEL_b70e3ec9815c4ed58979e88ad61273c0",
              "IPY_MODEL_174689e468f048f988be99a6eabf994c"
            ]
          }
        },
        "cf2c8ac5e512433cbc8fb1ad208add8e": {
          "model_module": "@jupyter-widgets/base",
          "model_name": "LayoutModel",
          "state": {
            "_view_name": "LayoutView",
            "grid_template_rows": null,
            "right": null,
            "justify_content": null,
            "_view_module": "@jupyter-widgets/base",
            "overflow": null,
            "_model_module_version": "1.2.0",
            "_view_count": null,
            "flex_flow": null,
            "width": null,
            "min_width": null,
            "border": null,
            "align_items": null,
            "bottom": null,
            "_model_module": "@jupyter-widgets/base",
            "top": null,
            "grid_column": null,
            "overflow_y": null,
            "overflow_x": null,
            "grid_auto_flow": null,
            "grid_area": null,
            "grid_template_columns": null,
            "flex": null,
            "_model_name": "LayoutModel",
            "justify_items": null,
            "grid_row": null,
            "max_height": null,
            "align_content": null,
            "visibility": null,
            "align_self": null,
            "height": null,
            "min_height": null,
            "padding": null,
            "grid_auto_rows": null,
            "grid_gap": null,
            "max_width": null,
            "order": null,
            "_view_module_version": "1.2.0",
            "grid_template_areas": null,
            "object_position": null,
            "object_fit": null,
            "grid_auto_columns": null,
            "margin": null,
            "display": null,
            "left": null
          }
        },
        "b70e3ec9815c4ed58979e88ad61273c0": {
          "model_module": "@jupyter-widgets/controls",
          "model_name": "LabelModel",
          "state": {
            "_view_name": "LabelView",
            "style": "IPY_MODEL_24060872328c49a8bee53f5953872d44",
            "_dom_classes": [],
            "description": "",
            "_model_name": "LabelModel",
            "placeholder": "​",
            "_view_module": "@jupyter-widgets/controls",
            "_model_module_version": "1.5.0",
            "value": " 0.01MB of 0.01MB uploaded (0.00MB deduped)\r",
            "_view_count": null,
            "_view_module_version": "1.5.0",
            "description_tooltip": null,
            "_model_module": "@jupyter-widgets/controls",
            "layout": "IPY_MODEL_c683addd966248b88d71d75b30e2717a"
          }
        },
        "174689e468f048f988be99a6eabf994c": {
          "model_module": "@jupyter-widgets/controls",
          "model_name": "FloatProgressModel",
          "state": {
            "_view_name": "ProgressView",
            "style": "IPY_MODEL_a92a37432824450eaa4f5d031dc65880",
            "_dom_classes": [],
            "description": "",
            "_model_name": "FloatProgressModel",
            "bar_style": "",
            "max": 1,
            "_view_module": "@jupyter-widgets/controls",
            "_model_module_version": "1.5.0",
            "value": 1,
            "_view_count": null,
            "_view_module_version": "1.5.0",
            "orientation": "horizontal",
            "min": 0,
            "description_tooltip": null,
            "_model_module": "@jupyter-widgets/controls",
            "layout": "IPY_MODEL_050f36b4a4cd4ecd9626a7738751d2ec"
          }
        },
        "24060872328c49a8bee53f5953872d44": {
          "model_module": "@jupyter-widgets/controls",
          "model_name": "DescriptionStyleModel",
          "state": {
            "_view_name": "StyleView",
            "_model_name": "DescriptionStyleModel",
            "description_width": "",
            "_view_module": "@jupyter-widgets/base",
            "_model_module_version": "1.5.0",
            "_view_count": null,
            "_view_module_version": "1.2.0",
            "_model_module": "@jupyter-widgets/controls"
          }
        },
        "c683addd966248b88d71d75b30e2717a": {
          "model_module": "@jupyter-widgets/base",
          "model_name": "LayoutModel",
          "state": {
            "_view_name": "LayoutView",
            "grid_template_rows": null,
            "right": null,
            "justify_content": null,
            "_view_module": "@jupyter-widgets/base",
            "overflow": null,
            "_model_module_version": "1.2.0",
            "_view_count": null,
            "flex_flow": null,
            "width": null,
            "min_width": null,
            "border": null,
            "align_items": null,
            "bottom": null,
            "_model_module": "@jupyter-widgets/base",
            "top": null,
            "grid_column": null,
            "overflow_y": null,
            "overflow_x": null,
            "grid_auto_flow": null,
            "grid_area": null,
            "grid_template_columns": null,
            "flex": null,
            "_model_name": "LayoutModel",
            "justify_items": null,
            "grid_row": null,
            "max_height": null,
            "align_content": null,
            "visibility": null,
            "align_self": null,
            "height": null,
            "min_height": null,
            "padding": null,
            "grid_auto_rows": null,
            "grid_gap": null,
            "max_width": null,
            "order": null,
            "_view_module_version": "1.2.0",
            "grid_template_areas": null,
            "object_position": null,
            "object_fit": null,
            "grid_auto_columns": null,
            "margin": null,
            "display": null,
            "left": null
          }
        },
        "a92a37432824450eaa4f5d031dc65880": {
          "model_module": "@jupyter-widgets/controls",
          "model_name": "ProgressStyleModel",
          "state": {
            "_view_name": "StyleView",
            "_model_name": "ProgressStyleModel",
            "description_width": "",
            "_view_module": "@jupyter-widgets/base",
            "_model_module_version": "1.5.0",
            "_view_count": null,
            "_view_module_version": "1.2.0",
            "bar_color": null,
            "_model_module": "@jupyter-widgets/controls"
          }
        },
        "050f36b4a4cd4ecd9626a7738751d2ec": {
          "model_module": "@jupyter-widgets/base",
          "model_name": "LayoutModel",
          "state": {
            "_view_name": "LayoutView",
            "grid_template_rows": null,
            "right": null,
            "justify_content": null,
            "_view_module": "@jupyter-widgets/base",
            "overflow": null,
            "_model_module_version": "1.2.0",
            "_view_count": null,
            "flex_flow": null,
            "width": null,
            "min_width": null,
            "border": null,
            "align_items": null,
            "bottom": null,
            "_model_module": "@jupyter-widgets/base",
            "top": null,
            "grid_column": null,
            "overflow_y": null,
            "overflow_x": null,
            "grid_auto_flow": null,
            "grid_area": null,
            "grid_template_columns": null,
            "flex": null,
            "_model_name": "LayoutModel",
            "justify_items": null,
            "grid_row": null,
            "max_height": null,
            "align_content": null,
            "visibility": null,
            "align_self": null,
            "height": null,
            "min_height": null,
            "padding": null,
            "grid_auto_rows": null,
            "grid_gap": null,
            "max_width": null,
            "order": null,
            "_view_module_version": "1.2.0",
            "grid_template_areas": null,
            "object_position": null,
            "object_fit": null,
            "grid_auto_columns": null,
            "margin": null,
            "display": null,
            "left": null
          }
        },
        "ec7584eee9dd4d27b26068f1ed57c841": {
          "model_module": "@jupyter-widgets/controls",
          "model_name": "VBoxModel",
          "state": {
            "_view_name": "VBoxView",
            "_dom_classes": [],
            "_model_name": "VBoxModel",
            "_view_module": "@jupyter-widgets/controls",
            "_model_module_version": "1.5.0",
            "_view_count": null,
            "_view_module_version": "1.5.0",
            "box_style": "",
            "layout": "IPY_MODEL_9cb7b20b3fb54920a858f4667caea3a3",
            "_model_module": "@jupyter-widgets/controls",
            "children": [
              "IPY_MODEL_6e2bd207061741ee92260821a3e85f34",
              "IPY_MODEL_aa18e4389ea949729675cfe2d8afcd3e"
            ]
          }
        },
        "9cb7b20b3fb54920a858f4667caea3a3": {
          "model_module": "@jupyter-widgets/base",
          "model_name": "LayoutModel",
          "state": {
            "_view_name": "LayoutView",
            "grid_template_rows": null,
            "right": null,
            "justify_content": null,
            "_view_module": "@jupyter-widgets/base",
            "overflow": null,
            "_model_module_version": "1.2.0",
            "_view_count": null,
            "flex_flow": null,
            "width": null,
            "min_width": null,
            "border": null,
            "align_items": null,
            "bottom": null,
            "_model_module": "@jupyter-widgets/base",
            "top": null,
            "grid_column": null,
            "overflow_y": null,
            "overflow_x": null,
            "grid_auto_flow": null,
            "grid_area": null,
            "grid_template_columns": null,
            "flex": null,
            "_model_name": "LayoutModel",
            "justify_items": null,
            "grid_row": null,
            "max_height": null,
            "align_content": null,
            "visibility": null,
            "align_self": null,
            "height": null,
            "min_height": null,
            "padding": null,
            "grid_auto_rows": null,
            "grid_gap": null,
            "max_width": null,
            "order": null,
            "_view_module_version": "1.2.0",
            "grid_template_areas": null,
            "object_position": null,
            "object_fit": null,
            "grid_auto_columns": null,
            "margin": null,
            "display": null,
            "left": null
          }
        },
        "6e2bd207061741ee92260821a3e85f34": {
          "model_module": "@jupyter-widgets/controls",
          "model_name": "LabelModel",
          "state": {
            "_view_name": "LabelView",
            "style": "IPY_MODEL_40551550dfe74e7489bb0a96c88fb7e4",
            "_dom_classes": [],
            "description": "",
            "_model_name": "LabelModel",
            "placeholder": "​",
            "_view_module": "@jupyter-widgets/controls",
            "_model_module_version": "1.5.0",
            "value": " 0.01MB of 0.01MB uploaded (0.00MB deduped)\r",
            "_view_count": null,
            "_view_module_version": "1.5.0",
            "description_tooltip": null,
            "_model_module": "@jupyter-widgets/controls",
            "layout": "IPY_MODEL_a517b88e47234b359b8ec4c736a94215"
          }
        },
        "aa18e4389ea949729675cfe2d8afcd3e": {
          "model_module": "@jupyter-widgets/controls",
          "model_name": "FloatProgressModel",
          "state": {
            "_view_name": "ProgressView",
            "style": "IPY_MODEL_06dd3cc8cfef4a3db3b618121f8ed397",
            "_dom_classes": [],
            "description": "",
            "_model_name": "FloatProgressModel",
            "bar_style": "",
            "max": 1,
            "_view_module": "@jupyter-widgets/controls",
            "_model_module_version": "1.5.0",
            "value": 1,
            "_view_count": null,
            "_view_module_version": "1.5.0",
            "orientation": "horizontal",
            "min": 0,
            "description_tooltip": null,
            "_model_module": "@jupyter-widgets/controls",
            "layout": "IPY_MODEL_a6e9b167c4aa44a1990ffb5940a3fed2"
          }
        },
        "40551550dfe74e7489bb0a96c88fb7e4": {
          "model_module": "@jupyter-widgets/controls",
          "model_name": "DescriptionStyleModel",
          "state": {
            "_view_name": "StyleView",
            "_model_name": "DescriptionStyleModel",
            "description_width": "",
            "_view_module": "@jupyter-widgets/base",
            "_model_module_version": "1.5.0",
            "_view_count": null,
            "_view_module_version": "1.2.0",
            "_model_module": "@jupyter-widgets/controls"
          }
        },
        "a517b88e47234b359b8ec4c736a94215": {
          "model_module": "@jupyter-widgets/base",
          "model_name": "LayoutModel",
          "state": {
            "_view_name": "LayoutView",
            "grid_template_rows": null,
            "right": null,
            "justify_content": null,
            "_view_module": "@jupyter-widgets/base",
            "overflow": null,
            "_model_module_version": "1.2.0",
            "_view_count": null,
            "flex_flow": null,
            "width": null,
            "min_width": null,
            "border": null,
            "align_items": null,
            "bottom": null,
            "_model_module": "@jupyter-widgets/base",
            "top": null,
            "grid_column": null,
            "overflow_y": null,
            "overflow_x": null,
            "grid_auto_flow": null,
            "grid_area": null,
            "grid_template_columns": null,
            "flex": null,
            "_model_name": "LayoutModel",
            "justify_items": null,
            "grid_row": null,
            "max_height": null,
            "align_content": null,
            "visibility": null,
            "align_self": null,
            "height": null,
            "min_height": null,
            "padding": null,
            "grid_auto_rows": null,
            "grid_gap": null,
            "max_width": null,
            "order": null,
            "_view_module_version": "1.2.0",
            "grid_template_areas": null,
            "object_position": null,
            "object_fit": null,
            "grid_auto_columns": null,
            "margin": null,
            "display": null,
            "left": null
          }
        },
        "06dd3cc8cfef4a3db3b618121f8ed397": {
          "model_module": "@jupyter-widgets/controls",
          "model_name": "ProgressStyleModel",
          "state": {
            "_view_name": "StyleView",
            "_model_name": "ProgressStyleModel",
            "description_width": "",
            "_view_module": "@jupyter-widgets/base",
            "_model_module_version": "1.5.0",
            "_view_count": null,
            "_view_module_version": "1.2.0",
            "bar_color": null,
            "_model_module": "@jupyter-widgets/controls"
          }
        },
        "a6e9b167c4aa44a1990ffb5940a3fed2": {
          "model_module": "@jupyter-widgets/base",
          "model_name": "LayoutModel",
          "state": {
            "_view_name": "LayoutView",
            "grid_template_rows": null,
            "right": null,
            "justify_content": null,
            "_view_module": "@jupyter-widgets/base",
            "overflow": null,
            "_model_module_version": "1.2.0",
            "_view_count": null,
            "flex_flow": null,
            "width": null,
            "min_width": null,
            "border": null,
            "align_items": null,
            "bottom": null,
            "_model_module": "@jupyter-widgets/base",
            "top": null,
            "grid_column": null,
            "overflow_y": null,
            "overflow_x": null,
            "grid_auto_flow": null,
            "grid_area": null,
            "grid_template_columns": null,
            "flex": null,
            "_model_name": "LayoutModel",
            "justify_items": null,
            "grid_row": null,
            "max_height": null,
            "align_content": null,
            "visibility": null,
            "align_self": null,
            "height": null,
            "min_height": null,
            "padding": null,
            "grid_auto_rows": null,
            "grid_gap": null,
            "max_width": null,
            "order": null,
            "_view_module_version": "1.2.0",
            "grid_template_areas": null,
            "object_position": null,
            "object_fit": null,
            "grid_auto_columns": null,
            "margin": null,
            "display": null,
            "left": null
          }
        },
        "23db631fbb8f4d3d9cf17b18d1953974": {
          "model_module": "@jupyter-widgets/controls",
          "model_name": "VBoxModel",
          "state": {
            "_view_name": "VBoxView",
            "_dom_classes": [],
            "_model_name": "VBoxModel",
            "_view_module": "@jupyter-widgets/controls",
            "_model_module_version": "1.5.0",
            "_view_count": null,
            "_view_module_version": "1.5.0",
            "box_style": "",
            "layout": "IPY_MODEL_4bb4e8c3325f41d8968ea22e0fccb748",
            "_model_module": "@jupyter-widgets/controls",
            "children": [
              "IPY_MODEL_a352e33980b44af8b7b13a94547d132f",
              "IPY_MODEL_1e4a2a001b7048c08446e36062d1af35"
            ]
          }
        },
        "4bb4e8c3325f41d8968ea22e0fccb748": {
          "model_module": "@jupyter-widgets/base",
          "model_name": "LayoutModel",
          "state": {
            "_view_name": "LayoutView",
            "grid_template_rows": null,
            "right": null,
            "justify_content": null,
            "_view_module": "@jupyter-widgets/base",
            "overflow": null,
            "_model_module_version": "1.2.0",
            "_view_count": null,
            "flex_flow": null,
            "width": null,
            "min_width": null,
            "border": null,
            "align_items": null,
            "bottom": null,
            "_model_module": "@jupyter-widgets/base",
            "top": null,
            "grid_column": null,
            "overflow_y": null,
            "overflow_x": null,
            "grid_auto_flow": null,
            "grid_area": null,
            "grid_template_columns": null,
            "flex": null,
            "_model_name": "LayoutModel",
            "justify_items": null,
            "grid_row": null,
            "max_height": null,
            "align_content": null,
            "visibility": null,
            "align_self": null,
            "height": null,
            "min_height": null,
            "padding": null,
            "grid_auto_rows": null,
            "grid_gap": null,
            "max_width": null,
            "order": null,
            "_view_module_version": "1.2.0",
            "grid_template_areas": null,
            "object_position": null,
            "object_fit": null,
            "grid_auto_columns": null,
            "margin": null,
            "display": null,
            "left": null
          }
        },
        "a352e33980b44af8b7b13a94547d132f": {
          "model_module": "@jupyter-widgets/controls",
          "model_name": "LabelModel",
          "state": {
            "_view_name": "LabelView",
            "style": "IPY_MODEL_be88510f3d8a4f8eb7993f3ff64aa9e8",
            "_dom_classes": [],
            "description": "",
            "_model_name": "LabelModel",
            "placeholder": "​",
            "_view_module": "@jupyter-widgets/controls",
            "_model_module_version": "1.5.0",
            "value": " 0.01MB of 0.01MB uploaded (0.00MB deduped)\r",
            "_view_count": null,
            "_view_module_version": "1.5.0",
            "description_tooltip": null,
            "_model_module": "@jupyter-widgets/controls",
            "layout": "IPY_MODEL_30c4acaafceb40bf831c8c2c2270daf4"
          }
        },
        "1e4a2a001b7048c08446e36062d1af35": {
          "model_module": "@jupyter-widgets/controls",
          "model_name": "FloatProgressModel",
          "state": {
            "_view_name": "ProgressView",
            "style": "IPY_MODEL_2bddd146bfce49d581728a9c55a5df2e",
            "_dom_classes": [],
            "description": "",
            "_model_name": "FloatProgressModel",
            "bar_style": "",
            "max": 1,
            "_view_module": "@jupyter-widgets/controls",
            "_model_module_version": "1.5.0",
            "value": 1,
            "_view_count": null,
            "_view_module_version": "1.5.0",
            "orientation": "horizontal",
            "min": 0,
            "description_tooltip": null,
            "_model_module": "@jupyter-widgets/controls",
            "layout": "IPY_MODEL_28c3ca006dbd4aa9be29a793417d8258"
          }
        },
        "be88510f3d8a4f8eb7993f3ff64aa9e8": {
          "model_module": "@jupyter-widgets/controls",
          "model_name": "DescriptionStyleModel",
          "state": {
            "_view_name": "StyleView",
            "_model_name": "DescriptionStyleModel",
            "description_width": "",
            "_view_module": "@jupyter-widgets/base",
            "_model_module_version": "1.5.0",
            "_view_count": null,
            "_view_module_version": "1.2.0",
            "_model_module": "@jupyter-widgets/controls"
          }
        },
        "30c4acaafceb40bf831c8c2c2270daf4": {
          "model_module": "@jupyter-widgets/base",
          "model_name": "LayoutModel",
          "state": {
            "_view_name": "LayoutView",
            "grid_template_rows": null,
            "right": null,
            "justify_content": null,
            "_view_module": "@jupyter-widgets/base",
            "overflow": null,
            "_model_module_version": "1.2.0",
            "_view_count": null,
            "flex_flow": null,
            "width": null,
            "min_width": null,
            "border": null,
            "align_items": null,
            "bottom": null,
            "_model_module": "@jupyter-widgets/base",
            "top": null,
            "grid_column": null,
            "overflow_y": null,
            "overflow_x": null,
            "grid_auto_flow": null,
            "grid_area": null,
            "grid_template_columns": null,
            "flex": null,
            "_model_name": "LayoutModel",
            "justify_items": null,
            "grid_row": null,
            "max_height": null,
            "align_content": null,
            "visibility": null,
            "align_self": null,
            "height": null,
            "min_height": null,
            "padding": null,
            "grid_auto_rows": null,
            "grid_gap": null,
            "max_width": null,
            "order": null,
            "_view_module_version": "1.2.0",
            "grid_template_areas": null,
            "object_position": null,
            "object_fit": null,
            "grid_auto_columns": null,
            "margin": null,
            "display": null,
            "left": null
          }
        },
        "2bddd146bfce49d581728a9c55a5df2e": {
          "model_module": "@jupyter-widgets/controls",
          "model_name": "ProgressStyleModel",
          "state": {
            "_view_name": "StyleView",
            "_model_name": "ProgressStyleModel",
            "description_width": "",
            "_view_module": "@jupyter-widgets/base",
            "_model_module_version": "1.5.0",
            "_view_count": null,
            "_view_module_version": "1.2.0",
            "bar_color": null,
            "_model_module": "@jupyter-widgets/controls"
          }
        },
        "28c3ca006dbd4aa9be29a793417d8258": {
          "model_module": "@jupyter-widgets/base",
          "model_name": "LayoutModel",
          "state": {
            "_view_name": "LayoutView",
            "grid_template_rows": null,
            "right": null,
            "justify_content": null,
            "_view_module": "@jupyter-widgets/base",
            "overflow": null,
            "_model_module_version": "1.2.0",
            "_view_count": null,
            "flex_flow": null,
            "width": null,
            "min_width": null,
            "border": null,
            "align_items": null,
            "bottom": null,
            "_model_module": "@jupyter-widgets/base",
            "top": null,
            "grid_column": null,
            "overflow_y": null,
            "overflow_x": null,
            "grid_auto_flow": null,
            "grid_area": null,
            "grid_template_columns": null,
            "flex": null,
            "_model_name": "LayoutModel",
            "justify_items": null,
            "grid_row": null,
            "max_height": null,
            "align_content": null,
            "visibility": null,
            "align_self": null,
            "height": null,
            "min_height": null,
            "padding": null,
            "grid_auto_rows": null,
            "grid_gap": null,
            "max_width": null,
            "order": null,
            "_view_module_version": "1.2.0",
            "grid_template_areas": null,
            "object_position": null,
            "object_fit": null,
            "grid_auto_columns": null,
            "margin": null,
            "display": null,
            "left": null
          }
        },
        "03dd1b60a779482facd70befc55c2a1c": {
          "model_module": "@jupyter-widgets/controls",
          "model_name": "VBoxModel",
          "state": {
            "_view_name": "VBoxView",
            "_dom_classes": [],
            "_model_name": "VBoxModel",
            "_view_module": "@jupyter-widgets/controls",
            "_model_module_version": "1.5.0",
            "_view_count": null,
            "_view_module_version": "1.5.0",
            "box_style": "",
            "layout": "IPY_MODEL_8d34052e0b35451aa1572b075d663bbb",
            "_model_module": "@jupyter-widgets/controls",
            "children": [
              "IPY_MODEL_04e428bdad404725bd2ff7200a97e5a0",
              "IPY_MODEL_99b3e8b3f7634321889ff1cfca6d4d39"
            ]
          }
        },
        "8d34052e0b35451aa1572b075d663bbb": {
          "model_module": "@jupyter-widgets/base",
          "model_name": "LayoutModel",
          "state": {
            "_view_name": "LayoutView",
            "grid_template_rows": null,
            "right": null,
            "justify_content": null,
            "_view_module": "@jupyter-widgets/base",
            "overflow": null,
            "_model_module_version": "1.2.0",
            "_view_count": null,
            "flex_flow": null,
            "width": null,
            "min_width": null,
            "border": null,
            "align_items": null,
            "bottom": null,
            "_model_module": "@jupyter-widgets/base",
            "top": null,
            "grid_column": null,
            "overflow_y": null,
            "overflow_x": null,
            "grid_auto_flow": null,
            "grid_area": null,
            "grid_template_columns": null,
            "flex": null,
            "_model_name": "LayoutModel",
            "justify_items": null,
            "grid_row": null,
            "max_height": null,
            "align_content": null,
            "visibility": null,
            "align_self": null,
            "height": null,
            "min_height": null,
            "padding": null,
            "grid_auto_rows": null,
            "grid_gap": null,
            "max_width": null,
            "order": null,
            "_view_module_version": "1.2.0",
            "grid_template_areas": null,
            "object_position": null,
            "object_fit": null,
            "grid_auto_columns": null,
            "margin": null,
            "display": null,
            "left": null
          }
        },
        "04e428bdad404725bd2ff7200a97e5a0": {
          "model_module": "@jupyter-widgets/controls",
          "model_name": "LabelModel",
          "state": {
            "_view_name": "LabelView",
            "style": "IPY_MODEL_76eb770750d046fdbac4f429690bd7c8",
            "_dom_classes": [],
            "description": "",
            "_model_name": "LabelModel",
            "placeholder": "​",
            "_view_module": "@jupyter-widgets/controls",
            "_model_module_version": "1.5.0",
            "value": " 0.01MB of 0.01MB uploaded (0.00MB deduped)\r",
            "_view_count": null,
            "_view_module_version": "1.5.0",
            "description_tooltip": null,
            "_model_module": "@jupyter-widgets/controls",
            "layout": "IPY_MODEL_a596714b2966406fa3b100828c5092fa"
          }
        },
        "99b3e8b3f7634321889ff1cfca6d4d39": {
          "model_module": "@jupyter-widgets/controls",
          "model_name": "FloatProgressModel",
          "state": {
            "_view_name": "ProgressView",
            "style": "IPY_MODEL_2a64ed1afe6d480aa31f998d5e0ed58d",
            "_dom_classes": [],
            "description": "",
            "_model_name": "FloatProgressModel",
            "bar_style": "",
            "max": 1,
            "_view_module": "@jupyter-widgets/controls",
            "_model_module_version": "1.5.0",
            "value": 1,
            "_view_count": null,
            "_view_module_version": "1.5.0",
            "orientation": "horizontal",
            "min": 0,
            "description_tooltip": null,
            "_model_module": "@jupyter-widgets/controls",
            "layout": "IPY_MODEL_db50d69ef62d4cf085a83e2c7e5c53af"
          }
        },
        "76eb770750d046fdbac4f429690bd7c8": {
          "model_module": "@jupyter-widgets/controls",
          "model_name": "DescriptionStyleModel",
          "state": {
            "_view_name": "StyleView",
            "_model_name": "DescriptionStyleModel",
            "description_width": "",
            "_view_module": "@jupyter-widgets/base",
            "_model_module_version": "1.5.0",
            "_view_count": null,
            "_view_module_version": "1.2.0",
            "_model_module": "@jupyter-widgets/controls"
          }
        },
        "a596714b2966406fa3b100828c5092fa": {
          "model_module": "@jupyter-widgets/base",
          "model_name": "LayoutModel",
          "state": {
            "_view_name": "LayoutView",
            "grid_template_rows": null,
            "right": null,
            "justify_content": null,
            "_view_module": "@jupyter-widgets/base",
            "overflow": null,
            "_model_module_version": "1.2.0",
            "_view_count": null,
            "flex_flow": null,
            "width": null,
            "min_width": null,
            "border": null,
            "align_items": null,
            "bottom": null,
            "_model_module": "@jupyter-widgets/base",
            "top": null,
            "grid_column": null,
            "overflow_y": null,
            "overflow_x": null,
            "grid_auto_flow": null,
            "grid_area": null,
            "grid_template_columns": null,
            "flex": null,
            "_model_name": "LayoutModel",
            "justify_items": null,
            "grid_row": null,
            "max_height": null,
            "align_content": null,
            "visibility": null,
            "align_self": null,
            "height": null,
            "min_height": null,
            "padding": null,
            "grid_auto_rows": null,
            "grid_gap": null,
            "max_width": null,
            "order": null,
            "_view_module_version": "1.2.0",
            "grid_template_areas": null,
            "object_position": null,
            "object_fit": null,
            "grid_auto_columns": null,
            "margin": null,
            "display": null,
            "left": null
          }
        },
        "2a64ed1afe6d480aa31f998d5e0ed58d": {
          "model_module": "@jupyter-widgets/controls",
          "model_name": "ProgressStyleModel",
          "state": {
            "_view_name": "StyleView",
            "_model_name": "ProgressStyleModel",
            "description_width": "",
            "_view_module": "@jupyter-widgets/base",
            "_model_module_version": "1.5.0",
            "_view_count": null,
            "_view_module_version": "1.2.0",
            "bar_color": null,
            "_model_module": "@jupyter-widgets/controls"
          }
        },
        "db50d69ef62d4cf085a83e2c7e5c53af": {
          "model_module": "@jupyter-widgets/base",
          "model_name": "LayoutModel",
          "state": {
            "_view_name": "LayoutView",
            "grid_template_rows": null,
            "right": null,
            "justify_content": null,
            "_view_module": "@jupyter-widgets/base",
            "overflow": null,
            "_model_module_version": "1.2.0",
            "_view_count": null,
            "flex_flow": null,
            "width": null,
            "min_width": null,
            "border": null,
            "align_items": null,
            "bottom": null,
            "_model_module": "@jupyter-widgets/base",
            "top": null,
            "grid_column": null,
            "overflow_y": null,
            "overflow_x": null,
            "grid_auto_flow": null,
            "grid_area": null,
            "grid_template_columns": null,
            "flex": null,
            "_model_name": "LayoutModel",
            "justify_items": null,
            "grid_row": null,
            "max_height": null,
            "align_content": null,
            "visibility": null,
            "align_self": null,
            "height": null,
            "min_height": null,
            "padding": null,
            "grid_auto_rows": null,
            "grid_gap": null,
            "max_width": null,
            "order": null,
            "_view_module_version": "1.2.0",
            "grid_template_areas": null,
            "object_position": null,
            "object_fit": null,
            "grid_auto_columns": null,
            "margin": null,
            "display": null,
            "left": null
          }
        },
        "f20aa569ed7b453ca0e6d8e852ff6c35": {
          "model_module": "@jupyter-widgets/controls",
          "model_name": "VBoxModel",
          "state": {
            "_view_name": "VBoxView",
            "_dom_classes": [],
            "_model_name": "VBoxModel",
            "_view_module": "@jupyter-widgets/controls",
            "_model_module_version": "1.5.0",
            "_view_count": null,
            "_view_module_version": "1.5.0",
            "box_style": "",
            "layout": "IPY_MODEL_e95ac13e9d294a6ea11c475bfc65477c",
            "_model_module": "@jupyter-widgets/controls",
            "children": [
              "IPY_MODEL_645319c2935d435f83bc320871d2c78e",
              "IPY_MODEL_fbe21732a2524619a5ac07227e343dd6"
            ]
          }
        },
        "e95ac13e9d294a6ea11c475bfc65477c": {
          "model_module": "@jupyter-widgets/base",
          "model_name": "LayoutModel",
          "state": {
            "_view_name": "LayoutView",
            "grid_template_rows": null,
            "right": null,
            "justify_content": null,
            "_view_module": "@jupyter-widgets/base",
            "overflow": null,
            "_model_module_version": "1.2.0",
            "_view_count": null,
            "flex_flow": null,
            "width": null,
            "min_width": null,
            "border": null,
            "align_items": null,
            "bottom": null,
            "_model_module": "@jupyter-widgets/base",
            "top": null,
            "grid_column": null,
            "overflow_y": null,
            "overflow_x": null,
            "grid_auto_flow": null,
            "grid_area": null,
            "grid_template_columns": null,
            "flex": null,
            "_model_name": "LayoutModel",
            "justify_items": null,
            "grid_row": null,
            "max_height": null,
            "align_content": null,
            "visibility": null,
            "align_self": null,
            "height": null,
            "min_height": null,
            "padding": null,
            "grid_auto_rows": null,
            "grid_gap": null,
            "max_width": null,
            "order": null,
            "_view_module_version": "1.2.0",
            "grid_template_areas": null,
            "object_position": null,
            "object_fit": null,
            "grid_auto_columns": null,
            "margin": null,
            "display": null,
            "left": null
          }
        },
        "645319c2935d435f83bc320871d2c78e": {
          "model_module": "@jupyter-widgets/controls",
          "model_name": "LabelModel",
          "state": {
            "_view_name": "LabelView",
            "style": "IPY_MODEL_ec4c53ad25b243e1938c9ab1f33a3ec9",
            "_dom_classes": [],
            "description": "",
            "_model_name": "LabelModel",
            "placeholder": "​",
            "_view_module": "@jupyter-widgets/controls",
            "_model_module_version": "1.5.0",
            "value": " 0.01MB of 0.01MB uploaded (0.00MB deduped)\r",
            "_view_count": null,
            "_view_module_version": "1.5.0",
            "description_tooltip": null,
            "_model_module": "@jupyter-widgets/controls",
            "layout": "IPY_MODEL_78acc7f6ccb9487f8f3dc782c409b711"
          }
        },
        "fbe21732a2524619a5ac07227e343dd6": {
          "model_module": "@jupyter-widgets/controls",
          "model_name": "FloatProgressModel",
          "state": {
            "_view_name": "ProgressView",
            "style": "IPY_MODEL_9bc6b1a0717d4ce78eec1fae57f5d9f0",
            "_dom_classes": [],
            "description": "",
            "_model_name": "FloatProgressModel",
            "bar_style": "",
            "max": 1,
            "_view_module": "@jupyter-widgets/controls",
            "_model_module_version": "1.5.0",
            "value": 1,
            "_view_count": null,
            "_view_module_version": "1.5.0",
            "orientation": "horizontal",
            "min": 0,
            "description_tooltip": null,
            "_model_module": "@jupyter-widgets/controls",
            "layout": "IPY_MODEL_6f8f6d92b802461ca4f1a95c11bbf426"
          }
        },
        "ec4c53ad25b243e1938c9ab1f33a3ec9": {
          "model_module": "@jupyter-widgets/controls",
          "model_name": "DescriptionStyleModel",
          "state": {
            "_view_name": "StyleView",
            "_model_name": "DescriptionStyleModel",
            "description_width": "",
            "_view_module": "@jupyter-widgets/base",
            "_model_module_version": "1.5.0",
            "_view_count": null,
            "_view_module_version": "1.2.0",
            "_model_module": "@jupyter-widgets/controls"
          }
        },
        "78acc7f6ccb9487f8f3dc782c409b711": {
          "model_module": "@jupyter-widgets/base",
          "model_name": "LayoutModel",
          "state": {
            "_view_name": "LayoutView",
            "grid_template_rows": null,
            "right": null,
            "justify_content": null,
            "_view_module": "@jupyter-widgets/base",
            "overflow": null,
            "_model_module_version": "1.2.0",
            "_view_count": null,
            "flex_flow": null,
            "width": null,
            "min_width": null,
            "border": null,
            "align_items": null,
            "bottom": null,
            "_model_module": "@jupyter-widgets/base",
            "top": null,
            "grid_column": null,
            "overflow_y": null,
            "overflow_x": null,
            "grid_auto_flow": null,
            "grid_area": null,
            "grid_template_columns": null,
            "flex": null,
            "_model_name": "LayoutModel",
            "justify_items": null,
            "grid_row": null,
            "max_height": null,
            "align_content": null,
            "visibility": null,
            "align_self": null,
            "height": null,
            "min_height": null,
            "padding": null,
            "grid_auto_rows": null,
            "grid_gap": null,
            "max_width": null,
            "order": null,
            "_view_module_version": "1.2.0",
            "grid_template_areas": null,
            "object_position": null,
            "object_fit": null,
            "grid_auto_columns": null,
            "margin": null,
            "display": null,
            "left": null
          }
        },
        "9bc6b1a0717d4ce78eec1fae57f5d9f0": {
          "model_module": "@jupyter-widgets/controls",
          "model_name": "ProgressStyleModel",
          "state": {
            "_view_name": "StyleView",
            "_model_name": "ProgressStyleModel",
            "description_width": "",
            "_view_module": "@jupyter-widgets/base",
            "_model_module_version": "1.5.0",
            "_view_count": null,
            "_view_module_version": "1.2.0",
            "bar_color": null,
            "_model_module": "@jupyter-widgets/controls"
          }
        },
        "6f8f6d92b802461ca4f1a95c11bbf426": {
          "model_module": "@jupyter-widgets/base",
          "model_name": "LayoutModel",
          "state": {
            "_view_name": "LayoutView",
            "grid_template_rows": null,
            "right": null,
            "justify_content": null,
            "_view_module": "@jupyter-widgets/base",
            "overflow": null,
            "_model_module_version": "1.2.0",
            "_view_count": null,
            "flex_flow": null,
            "width": null,
            "min_width": null,
            "border": null,
            "align_items": null,
            "bottom": null,
            "_model_module": "@jupyter-widgets/base",
            "top": null,
            "grid_column": null,
            "overflow_y": null,
            "overflow_x": null,
            "grid_auto_flow": null,
            "grid_area": null,
            "grid_template_columns": null,
            "flex": null,
            "_model_name": "LayoutModel",
            "justify_items": null,
            "grid_row": null,
            "max_height": null,
            "align_content": null,
            "visibility": null,
            "align_self": null,
            "height": null,
            "min_height": null,
            "padding": null,
            "grid_auto_rows": null,
            "grid_gap": null,
            "max_width": null,
            "order": null,
            "_view_module_version": "1.2.0",
            "grid_template_areas": null,
            "object_position": null,
            "object_fit": null,
            "grid_auto_columns": null,
            "margin": null,
            "display": null,
            "left": null
          }
        },
        "6c70e65bdff743899dc329801e19b9a3": {
          "model_module": "@jupyter-widgets/controls",
          "model_name": "VBoxModel",
          "state": {
            "_view_name": "VBoxView",
            "_dom_classes": [],
            "_model_name": "VBoxModel",
            "_view_module": "@jupyter-widgets/controls",
            "_model_module_version": "1.5.0",
            "_view_count": null,
            "_view_module_version": "1.5.0",
            "box_style": "",
            "layout": "IPY_MODEL_b744e5fe37b54b99b8b223179e475293",
            "_model_module": "@jupyter-widgets/controls",
            "children": [
              "IPY_MODEL_53ef7b7de10f4524baf578446d898374",
              "IPY_MODEL_4fc6a6665d624db09d655108716705af"
            ]
          }
        },
        "b744e5fe37b54b99b8b223179e475293": {
          "model_module": "@jupyter-widgets/base",
          "model_name": "LayoutModel",
          "state": {
            "_view_name": "LayoutView",
            "grid_template_rows": null,
            "right": null,
            "justify_content": null,
            "_view_module": "@jupyter-widgets/base",
            "overflow": null,
            "_model_module_version": "1.2.0",
            "_view_count": null,
            "flex_flow": null,
            "width": null,
            "min_width": null,
            "border": null,
            "align_items": null,
            "bottom": null,
            "_model_module": "@jupyter-widgets/base",
            "top": null,
            "grid_column": null,
            "overflow_y": null,
            "overflow_x": null,
            "grid_auto_flow": null,
            "grid_area": null,
            "grid_template_columns": null,
            "flex": null,
            "_model_name": "LayoutModel",
            "justify_items": null,
            "grid_row": null,
            "max_height": null,
            "align_content": null,
            "visibility": null,
            "align_self": null,
            "height": null,
            "min_height": null,
            "padding": null,
            "grid_auto_rows": null,
            "grid_gap": null,
            "max_width": null,
            "order": null,
            "_view_module_version": "1.2.0",
            "grid_template_areas": null,
            "object_position": null,
            "object_fit": null,
            "grid_auto_columns": null,
            "margin": null,
            "display": null,
            "left": null
          }
        },
        "53ef7b7de10f4524baf578446d898374": {
          "model_module": "@jupyter-widgets/controls",
          "model_name": "LabelModel",
          "state": {
            "_view_name": "LabelView",
            "style": "IPY_MODEL_7d06d2dcf2ab45e2936c2ed41b32b248",
            "_dom_classes": [],
            "description": "",
            "_model_name": "LabelModel",
            "placeholder": "​",
            "_view_module": "@jupyter-widgets/controls",
            "_model_module_version": "1.5.0",
            "value": " 0.01MB of 0.01MB uploaded (0.00MB deduped)\r",
            "_view_count": null,
            "_view_module_version": "1.5.0",
            "description_tooltip": null,
            "_model_module": "@jupyter-widgets/controls",
            "layout": "IPY_MODEL_0a294ad94e3147689b8a2f9a80ae3344"
          }
        },
        "4fc6a6665d624db09d655108716705af": {
          "model_module": "@jupyter-widgets/controls",
          "model_name": "FloatProgressModel",
          "state": {
            "_view_name": "ProgressView",
            "style": "IPY_MODEL_b46b3d7608984577ae16ed2713989714",
            "_dom_classes": [],
            "description": "",
            "_model_name": "FloatProgressModel",
            "bar_style": "",
            "max": 1,
            "_view_module": "@jupyter-widgets/controls",
            "_model_module_version": "1.5.0",
            "value": 1,
            "_view_count": null,
            "_view_module_version": "1.5.0",
            "orientation": "horizontal",
            "min": 0,
            "description_tooltip": null,
            "_model_module": "@jupyter-widgets/controls",
            "layout": "IPY_MODEL_2f3d4498185e46f286dc6f211d3da53c"
          }
        },
        "7d06d2dcf2ab45e2936c2ed41b32b248": {
          "model_module": "@jupyter-widgets/controls",
          "model_name": "DescriptionStyleModel",
          "state": {
            "_view_name": "StyleView",
            "_model_name": "DescriptionStyleModel",
            "description_width": "",
            "_view_module": "@jupyter-widgets/base",
            "_model_module_version": "1.5.0",
            "_view_count": null,
            "_view_module_version": "1.2.0",
            "_model_module": "@jupyter-widgets/controls"
          }
        },
        "0a294ad94e3147689b8a2f9a80ae3344": {
          "model_module": "@jupyter-widgets/base",
          "model_name": "LayoutModel",
          "state": {
            "_view_name": "LayoutView",
            "grid_template_rows": null,
            "right": null,
            "justify_content": null,
            "_view_module": "@jupyter-widgets/base",
            "overflow": null,
            "_model_module_version": "1.2.0",
            "_view_count": null,
            "flex_flow": null,
            "width": null,
            "min_width": null,
            "border": null,
            "align_items": null,
            "bottom": null,
            "_model_module": "@jupyter-widgets/base",
            "top": null,
            "grid_column": null,
            "overflow_y": null,
            "overflow_x": null,
            "grid_auto_flow": null,
            "grid_area": null,
            "grid_template_columns": null,
            "flex": null,
            "_model_name": "LayoutModel",
            "justify_items": null,
            "grid_row": null,
            "max_height": null,
            "align_content": null,
            "visibility": null,
            "align_self": null,
            "height": null,
            "min_height": null,
            "padding": null,
            "grid_auto_rows": null,
            "grid_gap": null,
            "max_width": null,
            "order": null,
            "_view_module_version": "1.2.0",
            "grid_template_areas": null,
            "object_position": null,
            "object_fit": null,
            "grid_auto_columns": null,
            "margin": null,
            "display": null,
            "left": null
          }
        },
        "b46b3d7608984577ae16ed2713989714": {
          "model_module": "@jupyter-widgets/controls",
          "model_name": "ProgressStyleModel",
          "state": {
            "_view_name": "StyleView",
            "_model_name": "ProgressStyleModel",
            "description_width": "",
            "_view_module": "@jupyter-widgets/base",
            "_model_module_version": "1.5.0",
            "_view_count": null,
            "_view_module_version": "1.2.0",
            "bar_color": null,
            "_model_module": "@jupyter-widgets/controls"
          }
        },
        "2f3d4498185e46f286dc6f211d3da53c": {
          "model_module": "@jupyter-widgets/base",
          "model_name": "LayoutModel",
          "state": {
            "_view_name": "LayoutView",
            "grid_template_rows": null,
            "right": null,
            "justify_content": null,
            "_view_module": "@jupyter-widgets/base",
            "overflow": null,
            "_model_module_version": "1.2.0",
            "_view_count": null,
            "flex_flow": null,
            "width": null,
            "min_width": null,
            "border": null,
            "align_items": null,
            "bottom": null,
            "_model_module": "@jupyter-widgets/base",
            "top": null,
            "grid_column": null,
            "overflow_y": null,
            "overflow_x": null,
            "grid_auto_flow": null,
            "grid_area": null,
            "grid_template_columns": null,
            "flex": null,
            "_model_name": "LayoutModel",
            "justify_items": null,
            "grid_row": null,
            "max_height": null,
            "align_content": null,
            "visibility": null,
            "align_self": null,
            "height": null,
            "min_height": null,
            "padding": null,
            "grid_auto_rows": null,
            "grid_gap": null,
            "max_width": null,
            "order": null,
            "_view_module_version": "1.2.0",
            "grid_template_areas": null,
            "object_position": null,
            "object_fit": null,
            "grid_auto_columns": null,
            "margin": null,
            "display": null,
            "left": null
          }
        },
        "1a840010169b4dd5907bfcfafe85ccce": {
          "model_module": "@jupyter-widgets/controls",
          "model_name": "VBoxModel",
          "state": {
            "_view_name": "VBoxView",
            "_dom_classes": [],
            "_model_name": "VBoxModel",
            "_view_module": "@jupyter-widgets/controls",
            "_model_module_version": "1.5.0",
            "_view_count": null,
            "_view_module_version": "1.5.0",
            "box_style": "",
            "layout": "IPY_MODEL_916203ac6db2446c9c0bde9fcba2d074",
            "_model_module": "@jupyter-widgets/controls",
            "children": [
              "IPY_MODEL_a47ac0588a944d168c8837b8b48cf6da",
              "IPY_MODEL_c851d0c10a024771892cedc0d4a01ed9"
            ]
          }
        },
        "916203ac6db2446c9c0bde9fcba2d074": {
          "model_module": "@jupyter-widgets/base",
          "model_name": "LayoutModel",
          "state": {
            "_view_name": "LayoutView",
            "grid_template_rows": null,
            "right": null,
            "justify_content": null,
            "_view_module": "@jupyter-widgets/base",
            "overflow": null,
            "_model_module_version": "1.2.0",
            "_view_count": null,
            "flex_flow": null,
            "width": null,
            "min_width": null,
            "border": null,
            "align_items": null,
            "bottom": null,
            "_model_module": "@jupyter-widgets/base",
            "top": null,
            "grid_column": null,
            "overflow_y": null,
            "overflow_x": null,
            "grid_auto_flow": null,
            "grid_area": null,
            "grid_template_columns": null,
            "flex": null,
            "_model_name": "LayoutModel",
            "justify_items": null,
            "grid_row": null,
            "max_height": null,
            "align_content": null,
            "visibility": null,
            "align_self": null,
            "height": null,
            "min_height": null,
            "padding": null,
            "grid_auto_rows": null,
            "grid_gap": null,
            "max_width": null,
            "order": null,
            "_view_module_version": "1.2.0",
            "grid_template_areas": null,
            "object_position": null,
            "object_fit": null,
            "grid_auto_columns": null,
            "margin": null,
            "display": null,
            "left": null
          }
        },
        "a47ac0588a944d168c8837b8b48cf6da": {
          "model_module": "@jupyter-widgets/controls",
          "model_name": "LabelModel",
          "state": {
            "_view_name": "LabelView",
            "style": "IPY_MODEL_87cf8fd4769e476f803f62e1c795f278",
            "_dom_classes": [],
            "description": "",
            "_model_name": "LabelModel",
            "placeholder": "​",
            "_view_module": "@jupyter-widgets/controls",
            "_model_module_version": "1.5.0",
            "value": " 0.01MB of 0.01MB uploaded (0.00MB deduped)\r",
            "_view_count": null,
            "_view_module_version": "1.5.0",
            "description_tooltip": null,
            "_model_module": "@jupyter-widgets/controls",
            "layout": "IPY_MODEL_75b1ce33b0ee4c82b54feeaf8b798a3e"
          }
        },
        "c851d0c10a024771892cedc0d4a01ed9": {
          "model_module": "@jupyter-widgets/controls",
          "model_name": "FloatProgressModel",
          "state": {
            "_view_name": "ProgressView",
            "style": "IPY_MODEL_395a812f681849158012e8fa19627e9d",
            "_dom_classes": [],
            "description": "",
            "_model_name": "FloatProgressModel",
            "bar_style": "",
            "max": 1,
            "_view_module": "@jupyter-widgets/controls",
            "_model_module_version": "1.5.0",
            "value": 1,
            "_view_count": null,
            "_view_module_version": "1.5.0",
            "orientation": "horizontal",
            "min": 0,
            "description_tooltip": null,
            "_model_module": "@jupyter-widgets/controls",
            "layout": "IPY_MODEL_f550b02c65c54d66a085317352979093"
          }
        },
        "87cf8fd4769e476f803f62e1c795f278": {
          "model_module": "@jupyter-widgets/controls",
          "model_name": "DescriptionStyleModel",
          "state": {
            "_view_name": "StyleView",
            "_model_name": "DescriptionStyleModel",
            "description_width": "",
            "_view_module": "@jupyter-widgets/base",
            "_model_module_version": "1.5.0",
            "_view_count": null,
            "_view_module_version": "1.2.0",
            "_model_module": "@jupyter-widgets/controls"
          }
        },
        "75b1ce33b0ee4c82b54feeaf8b798a3e": {
          "model_module": "@jupyter-widgets/base",
          "model_name": "LayoutModel",
          "state": {
            "_view_name": "LayoutView",
            "grid_template_rows": null,
            "right": null,
            "justify_content": null,
            "_view_module": "@jupyter-widgets/base",
            "overflow": null,
            "_model_module_version": "1.2.0",
            "_view_count": null,
            "flex_flow": null,
            "width": null,
            "min_width": null,
            "border": null,
            "align_items": null,
            "bottom": null,
            "_model_module": "@jupyter-widgets/base",
            "top": null,
            "grid_column": null,
            "overflow_y": null,
            "overflow_x": null,
            "grid_auto_flow": null,
            "grid_area": null,
            "grid_template_columns": null,
            "flex": null,
            "_model_name": "LayoutModel",
            "justify_items": null,
            "grid_row": null,
            "max_height": null,
            "align_content": null,
            "visibility": null,
            "align_self": null,
            "height": null,
            "min_height": null,
            "padding": null,
            "grid_auto_rows": null,
            "grid_gap": null,
            "max_width": null,
            "order": null,
            "_view_module_version": "1.2.0",
            "grid_template_areas": null,
            "object_position": null,
            "object_fit": null,
            "grid_auto_columns": null,
            "margin": null,
            "display": null,
            "left": null
          }
        },
        "395a812f681849158012e8fa19627e9d": {
          "model_module": "@jupyter-widgets/controls",
          "model_name": "ProgressStyleModel",
          "state": {
            "_view_name": "StyleView",
            "_model_name": "ProgressStyleModel",
            "description_width": "",
            "_view_module": "@jupyter-widgets/base",
            "_model_module_version": "1.5.0",
            "_view_count": null,
            "_view_module_version": "1.2.0",
            "bar_color": null,
            "_model_module": "@jupyter-widgets/controls"
          }
        },
        "f550b02c65c54d66a085317352979093": {
          "model_module": "@jupyter-widgets/base",
          "model_name": "LayoutModel",
          "state": {
            "_view_name": "LayoutView",
            "grid_template_rows": null,
            "right": null,
            "justify_content": null,
            "_view_module": "@jupyter-widgets/base",
            "overflow": null,
            "_model_module_version": "1.2.0",
            "_view_count": null,
            "flex_flow": null,
            "width": null,
            "min_width": null,
            "border": null,
            "align_items": null,
            "bottom": null,
            "_model_module": "@jupyter-widgets/base",
            "top": null,
            "grid_column": null,
            "overflow_y": null,
            "overflow_x": null,
            "grid_auto_flow": null,
            "grid_area": null,
            "grid_template_columns": null,
            "flex": null,
            "_model_name": "LayoutModel",
            "justify_items": null,
            "grid_row": null,
            "max_height": null,
            "align_content": null,
            "visibility": null,
            "align_self": null,
            "height": null,
            "min_height": null,
            "padding": null,
            "grid_auto_rows": null,
            "grid_gap": null,
            "max_width": null,
            "order": null,
            "_view_module_version": "1.2.0",
            "grid_template_areas": null,
            "object_position": null,
            "object_fit": null,
            "grid_auto_columns": null,
            "margin": null,
            "display": null,
            "left": null
          }
        },
        "3311e5872539414299257a4fc31bd5ec": {
          "model_module": "@jupyter-widgets/controls",
          "model_name": "VBoxModel",
          "state": {
            "_view_name": "VBoxView",
            "_dom_classes": [],
            "_model_name": "VBoxModel",
            "_view_module": "@jupyter-widgets/controls",
            "_model_module_version": "1.5.0",
            "_view_count": null,
            "_view_module_version": "1.5.0",
            "box_style": "",
            "layout": "IPY_MODEL_50fdd6d6f970458f881753f3115d2cd0",
            "_model_module": "@jupyter-widgets/controls",
            "children": [
              "IPY_MODEL_8085cd181a3f4342a36e81751526ea19",
              "IPY_MODEL_d9b9030c22ef4c9394dd5213cb56044e"
            ]
          }
        },
        "50fdd6d6f970458f881753f3115d2cd0": {
          "model_module": "@jupyter-widgets/base",
          "model_name": "LayoutModel",
          "state": {
            "_view_name": "LayoutView",
            "grid_template_rows": null,
            "right": null,
            "justify_content": null,
            "_view_module": "@jupyter-widgets/base",
            "overflow": null,
            "_model_module_version": "1.2.0",
            "_view_count": null,
            "flex_flow": null,
            "width": null,
            "min_width": null,
            "border": null,
            "align_items": null,
            "bottom": null,
            "_model_module": "@jupyter-widgets/base",
            "top": null,
            "grid_column": null,
            "overflow_y": null,
            "overflow_x": null,
            "grid_auto_flow": null,
            "grid_area": null,
            "grid_template_columns": null,
            "flex": null,
            "_model_name": "LayoutModel",
            "justify_items": null,
            "grid_row": null,
            "max_height": null,
            "align_content": null,
            "visibility": null,
            "align_self": null,
            "height": null,
            "min_height": null,
            "padding": null,
            "grid_auto_rows": null,
            "grid_gap": null,
            "max_width": null,
            "order": null,
            "_view_module_version": "1.2.0",
            "grid_template_areas": null,
            "object_position": null,
            "object_fit": null,
            "grid_auto_columns": null,
            "margin": null,
            "display": null,
            "left": null
          }
        },
        "8085cd181a3f4342a36e81751526ea19": {
          "model_module": "@jupyter-widgets/controls",
          "model_name": "LabelModel",
          "state": {
            "_view_name": "LabelView",
            "style": "IPY_MODEL_a33f29848b1d4cada75a37d01954b385",
            "_dom_classes": [],
            "description": "",
            "_model_name": "LabelModel",
            "placeholder": "​",
            "_view_module": "@jupyter-widgets/controls",
            "_model_module_version": "1.5.0",
            "value": " 0.01MB of 0.01MB uploaded (0.00MB deduped)\r",
            "_view_count": null,
            "_view_module_version": "1.5.0",
            "description_tooltip": null,
            "_model_module": "@jupyter-widgets/controls",
            "layout": "IPY_MODEL_6383f6ba29994d33967a608a273a6316"
          }
        },
        "d9b9030c22ef4c9394dd5213cb56044e": {
          "model_module": "@jupyter-widgets/controls",
          "model_name": "FloatProgressModel",
          "state": {
            "_view_name": "ProgressView",
            "style": "IPY_MODEL_d16eaae87e934c9297ffefc4497e27eb",
            "_dom_classes": [],
            "description": "",
            "_model_name": "FloatProgressModel",
            "bar_style": "",
            "max": 1,
            "_view_module": "@jupyter-widgets/controls",
            "_model_module_version": "1.5.0",
            "value": 1,
            "_view_count": null,
            "_view_module_version": "1.5.0",
            "orientation": "horizontal",
            "min": 0,
            "description_tooltip": null,
            "_model_module": "@jupyter-widgets/controls",
            "layout": "IPY_MODEL_18cfa8b7461843e4875c8dda6ab7a6df"
          }
        },
        "a33f29848b1d4cada75a37d01954b385": {
          "model_module": "@jupyter-widgets/controls",
          "model_name": "DescriptionStyleModel",
          "state": {
            "_view_name": "StyleView",
            "_model_name": "DescriptionStyleModel",
            "description_width": "",
            "_view_module": "@jupyter-widgets/base",
            "_model_module_version": "1.5.0",
            "_view_count": null,
            "_view_module_version": "1.2.0",
            "_model_module": "@jupyter-widgets/controls"
          }
        },
        "6383f6ba29994d33967a608a273a6316": {
          "model_module": "@jupyter-widgets/base",
          "model_name": "LayoutModel",
          "state": {
            "_view_name": "LayoutView",
            "grid_template_rows": null,
            "right": null,
            "justify_content": null,
            "_view_module": "@jupyter-widgets/base",
            "overflow": null,
            "_model_module_version": "1.2.0",
            "_view_count": null,
            "flex_flow": null,
            "width": null,
            "min_width": null,
            "border": null,
            "align_items": null,
            "bottom": null,
            "_model_module": "@jupyter-widgets/base",
            "top": null,
            "grid_column": null,
            "overflow_y": null,
            "overflow_x": null,
            "grid_auto_flow": null,
            "grid_area": null,
            "grid_template_columns": null,
            "flex": null,
            "_model_name": "LayoutModel",
            "justify_items": null,
            "grid_row": null,
            "max_height": null,
            "align_content": null,
            "visibility": null,
            "align_self": null,
            "height": null,
            "min_height": null,
            "padding": null,
            "grid_auto_rows": null,
            "grid_gap": null,
            "max_width": null,
            "order": null,
            "_view_module_version": "1.2.0",
            "grid_template_areas": null,
            "object_position": null,
            "object_fit": null,
            "grid_auto_columns": null,
            "margin": null,
            "display": null,
            "left": null
          }
        },
        "d16eaae87e934c9297ffefc4497e27eb": {
          "model_module": "@jupyter-widgets/controls",
          "model_name": "ProgressStyleModel",
          "state": {
            "_view_name": "StyleView",
            "_model_name": "ProgressStyleModel",
            "description_width": "",
            "_view_module": "@jupyter-widgets/base",
            "_model_module_version": "1.5.0",
            "_view_count": null,
            "_view_module_version": "1.2.0",
            "bar_color": null,
            "_model_module": "@jupyter-widgets/controls"
          }
        },
        "18cfa8b7461843e4875c8dda6ab7a6df": {
          "model_module": "@jupyter-widgets/base",
          "model_name": "LayoutModel",
          "state": {
            "_view_name": "LayoutView",
            "grid_template_rows": null,
            "right": null,
            "justify_content": null,
            "_view_module": "@jupyter-widgets/base",
            "overflow": null,
            "_model_module_version": "1.2.0",
            "_view_count": null,
            "flex_flow": null,
            "width": null,
            "min_width": null,
            "border": null,
            "align_items": null,
            "bottom": null,
            "_model_module": "@jupyter-widgets/base",
            "top": null,
            "grid_column": null,
            "overflow_y": null,
            "overflow_x": null,
            "grid_auto_flow": null,
            "grid_area": null,
            "grid_template_columns": null,
            "flex": null,
            "_model_name": "LayoutModel",
            "justify_items": null,
            "grid_row": null,
            "max_height": null,
            "align_content": null,
            "visibility": null,
            "align_self": null,
            "height": null,
            "min_height": null,
            "padding": null,
            "grid_auto_rows": null,
            "grid_gap": null,
            "max_width": null,
            "order": null,
            "_view_module_version": "1.2.0",
            "grid_template_areas": null,
            "object_position": null,
            "object_fit": null,
            "grid_auto_columns": null,
            "margin": null,
            "display": null,
            "left": null
          }
        },
        "e1aa3e863c83426c8c8e2937ae4a61d5": {
          "model_module": "@jupyter-widgets/controls",
          "model_name": "VBoxModel",
          "state": {
            "_view_name": "VBoxView",
            "_dom_classes": [],
            "_model_name": "VBoxModel",
            "_view_module": "@jupyter-widgets/controls",
            "_model_module_version": "1.5.0",
            "_view_count": null,
            "_view_module_version": "1.5.0",
            "box_style": "",
            "layout": "IPY_MODEL_4fa12c4441334bb0931e1fd87c2c8477",
            "_model_module": "@jupyter-widgets/controls",
            "children": [
              "IPY_MODEL_411bbc04d686484a812ebfba88bdc4c3",
              "IPY_MODEL_6486efde34b6407284cd860de809bf7b"
            ]
          }
        },
        "4fa12c4441334bb0931e1fd87c2c8477": {
          "model_module": "@jupyter-widgets/base",
          "model_name": "LayoutModel",
          "state": {
            "_view_name": "LayoutView",
            "grid_template_rows": null,
            "right": null,
            "justify_content": null,
            "_view_module": "@jupyter-widgets/base",
            "overflow": null,
            "_model_module_version": "1.2.0",
            "_view_count": null,
            "flex_flow": null,
            "width": null,
            "min_width": null,
            "border": null,
            "align_items": null,
            "bottom": null,
            "_model_module": "@jupyter-widgets/base",
            "top": null,
            "grid_column": null,
            "overflow_y": null,
            "overflow_x": null,
            "grid_auto_flow": null,
            "grid_area": null,
            "grid_template_columns": null,
            "flex": null,
            "_model_name": "LayoutModel",
            "justify_items": null,
            "grid_row": null,
            "max_height": null,
            "align_content": null,
            "visibility": null,
            "align_self": null,
            "height": null,
            "min_height": null,
            "padding": null,
            "grid_auto_rows": null,
            "grid_gap": null,
            "max_width": null,
            "order": null,
            "_view_module_version": "1.2.0",
            "grid_template_areas": null,
            "object_position": null,
            "object_fit": null,
            "grid_auto_columns": null,
            "margin": null,
            "display": null,
            "left": null
          }
        },
        "411bbc04d686484a812ebfba88bdc4c3": {
          "model_module": "@jupyter-widgets/controls",
          "model_name": "LabelModel",
          "state": {
            "_view_name": "LabelView",
            "style": "IPY_MODEL_17227da7cef3453da80e022d526b0b09",
            "_dom_classes": [],
            "description": "",
            "_model_name": "LabelModel",
            "placeholder": "​",
            "_view_module": "@jupyter-widgets/controls",
            "_model_module_version": "1.5.0",
            "value": " 0.01MB of 0.01MB uploaded (0.00MB deduped)\r",
            "_view_count": null,
            "_view_module_version": "1.5.0",
            "description_tooltip": null,
            "_model_module": "@jupyter-widgets/controls",
            "layout": "IPY_MODEL_c2e7b72e8686492bb015ed99174910fa"
          }
        },
        "6486efde34b6407284cd860de809bf7b": {
          "model_module": "@jupyter-widgets/controls",
          "model_name": "FloatProgressModel",
          "state": {
            "_view_name": "ProgressView",
            "style": "IPY_MODEL_dfab6247132c4d84ab7992edae9fcd55",
            "_dom_classes": [],
            "description": "",
            "_model_name": "FloatProgressModel",
            "bar_style": "",
            "max": 1,
            "_view_module": "@jupyter-widgets/controls",
            "_model_module_version": "1.5.0",
            "value": 1,
            "_view_count": null,
            "_view_module_version": "1.5.0",
            "orientation": "horizontal",
            "min": 0,
            "description_tooltip": null,
            "_model_module": "@jupyter-widgets/controls",
            "layout": "IPY_MODEL_8481fa451595406682f1599d76422c79"
          }
        },
        "17227da7cef3453da80e022d526b0b09": {
          "model_module": "@jupyter-widgets/controls",
          "model_name": "DescriptionStyleModel",
          "state": {
            "_view_name": "StyleView",
            "_model_name": "DescriptionStyleModel",
            "description_width": "",
            "_view_module": "@jupyter-widgets/base",
            "_model_module_version": "1.5.0",
            "_view_count": null,
            "_view_module_version": "1.2.0",
            "_model_module": "@jupyter-widgets/controls"
          }
        },
        "c2e7b72e8686492bb015ed99174910fa": {
          "model_module": "@jupyter-widgets/base",
          "model_name": "LayoutModel",
          "state": {
            "_view_name": "LayoutView",
            "grid_template_rows": null,
            "right": null,
            "justify_content": null,
            "_view_module": "@jupyter-widgets/base",
            "overflow": null,
            "_model_module_version": "1.2.0",
            "_view_count": null,
            "flex_flow": null,
            "width": null,
            "min_width": null,
            "border": null,
            "align_items": null,
            "bottom": null,
            "_model_module": "@jupyter-widgets/base",
            "top": null,
            "grid_column": null,
            "overflow_y": null,
            "overflow_x": null,
            "grid_auto_flow": null,
            "grid_area": null,
            "grid_template_columns": null,
            "flex": null,
            "_model_name": "LayoutModel",
            "justify_items": null,
            "grid_row": null,
            "max_height": null,
            "align_content": null,
            "visibility": null,
            "align_self": null,
            "height": null,
            "min_height": null,
            "padding": null,
            "grid_auto_rows": null,
            "grid_gap": null,
            "max_width": null,
            "order": null,
            "_view_module_version": "1.2.0",
            "grid_template_areas": null,
            "object_position": null,
            "object_fit": null,
            "grid_auto_columns": null,
            "margin": null,
            "display": null,
            "left": null
          }
        },
        "dfab6247132c4d84ab7992edae9fcd55": {
          "model_module": "@jupyter-widgets/controls",
          "model_name": "ProgressStyleModel",
          "state": {
            "_view_name": "StyleView",
            "_model_name": "ProgressStyleModel",
            "description_width": "",
            "_view_module": "@jupyter-widgets/base",
            "_model_module_version": "1.5.0",
            "_view_count": null,
            "_view_module_version": "1.2.0",
            "bar_color": null,
            "_model_module": "@jupyter-widgets/controls"
          }
        },
        "8481fa451595406682f1599d76422c79": {
          "model_module": "@jupyter-widgets/base",
          "model_name": "LayoutModel",
          "state": {
            "_view_name": "LayoutView",
            "grid_template_rows": null,
            "right": null,
            "justify_content": null,
            "_view_module": "@jupyter-widgets/base",
            "overflow": null,
            "_model_module_version": "1.2.0",
            "_view_count": null,
            "flex_flow": null,
            "width": null,
            "min_width": null,
            "border": null,
            "align_items": null,
            "bottom": null,
            "_model_module": "@jupyter-widgets/base",
            "top": null,
            "grid_column": null,
            "overflow_y": null,
            "overflow_x": null,
            "grid_auto_flow": null,
            "grid_area": null,
            "grid_template_columns": null,
            "flex": null,
            "_model_name": "LayoutModel",
            "justify_items": null,
            "grid_row": null,
            "max_height": null,
            "align_content": null,
            "visibility": null,
            "align_self": null,
            "height": null,
            "min_height": null,
            "padding": null,
            "grid_auto_rows": null,
            "grid_gap": null,
            "max_width": null,
            "order": null,
            "_view_module_version": "1.2.0",
            "grid_template_areas": null,
            "object_position": null,
            "object_fit": null,
            "grid_auto_columns": null,
            "margin": null,
            "display": null,
            "left": null
          }
        },
        "610f776f32f54df19b8abdb42add0a84": {
          "model_module": "@jupyter-widgets/controls",
          "model_name": "VBoxModel",
          "state": {
            "_view_name": "VBoxView",
            "_dom_classes": [],
            "_model_name": "VBoxModel",
            "_view_module": "@jupyter-widgets/controls",
            "_model_module_version": "1.5.0",
            "_view_count": null,
            "_view_module_version": "1.5.0",
            "box_style": "",
            "layout": "IPY_MODEL_9cd90a4153cf4dbdb246c66200ac100a",
            "_model_module": "@jupyter-widgets/controls",
            "children": [
              "IPY_MODEL_3e8c80d85c574e09915c6789139eeb5b",
              "IPY_MODEL_58e190d73ef348ed8cdf8168b4b0cb03"
            ]
          }
        },
        "9cd90a4153cf4dbdb246c66200ac100a": {
          "model_module": "@jupyter-widgets/base",
          "model_name": "LayoutModel",
          "state": {
            "_view_name": "LayoutView",
            "grid_template_rows": null,
            "right": null,
            "justify_content": null,
            "_view_module": "@jupyter-widgets/base",
            "overflow": null,
            "_model_module_version": "1.2.0",
            "_view_count": null,
            "flex_flow": null,
            "width": null,
            "min_width": null,
            "border": null,
            "align_items": null,
            "bottom": null,
            "_model_module": "@jupyter-widgets/base",
            "top": null,
            "grid_column": null,
            "overflow_y": null,
            "overflow_x": null,
            "grid_auto_flow": null,
            "grid_area": null,
            "grid_template_columns": null,
            "flex": null,
            "_model_name": "LayoutModel",
            "justify_items": null,
            "grid_row": null,
            "max_height": null,
            "align_content": null,
            "visibility": null,
            "align_self": null,
            "height": null,
            "min_height": null,
            "padding": null,
            "grid_auto_rows": null,
            "grid_gap": null,
            "max_width": null,
            "order": null,
            "_view_module_version": "1.2.0",
            "grid_template_areas": null,
            "object_position": null,
            "object_fit": null,
            "grid_auto_columns": null,
            "margin": null,
            "display": null,
            "left": null
          }
        },
        "3e8c80d85c574e09915c6789139eeb5b": {
          "model_module": "@jupyter-widgets/controls",
          "model_name": "LabelModel",
          "state": {
            "_view_name": "LabelView",
            "style": "IPY_MODEL_1f5ecfdff22e4c19b23eea3a857d920b",
            "_dom_classes": [],
            "description": "",
            "_model_name": "LabelModel",
            "placeholder": "​",
            "_view_module": "@jupyter-widgets/controls",
            "_model_module_version": "1.5.0",
            "value": " 0.01MB of 0.01MB uploaded (0.00MB deduped)\r",
            "_view_count": null,
            "_view_module_version": "1.5.0",
            "description_tooltip": null,
            "_model_module": "@jupyter-widgets/controls",
            "layout": "IPY_MODEL_2373c8feda6f49178f7e514e521daeb3"
          }
        },
        "58e190d73ef348ed8cdf8168b4b0cb03": {
          "model_module": "@jupyter-widgets/controls",
          "model_name": "FloatProgressModel",
          "state": {
            "_view_name": "ProgressView",
            "style": "IPY_MODEL_217795a5ec384175b97823f048b00504",
            "_dom_classes": [],
            "description": "",
            "_model_name": "FloatProgressModel",
            "bar_style": "",
            "max": 1,
            "_view_module": "@jupyter-widgets/controls",
            "_model_module_version": "1.5.0",
            "value": 1,
            "_view_count": null,
            "_view_module_version": "1.5.0",
            "orientation": "horizontal",
            "min": 0,
            "description_tooltip": null,
            "_model_module": "@jupyter-widgets/controls",
            "layout": "IPY_MODEL_1caffc561c3e47acbe449734463e1049"
          }
        },
        "1f5ecfdff22e4c19b23eea3a857d920b": {
          "model_module": "@jupyter-widgets/controls",
          "model_name": "DescriptionStyleModel",
          "state": {
            "_view_name": "StyleView",
            "_model_name": "DescriptionStyleModel",
            "description_width": "",
            "_view_module": "@jupyter-widgets/base",
            "_model_module_version": "1.5.0",
            "_view_count": null,
            "_view_module_version": "1.2.0",
            "_model_module": "@jupyter-widgets/controls"
          }
        },
        "2373c8feda6f49178f7e514e521daeb3": {
          "model_module": "@jupyter-widgets/base",
          "model_name": "LayoutModel",
          "state": {
            "_view_name": "LayoutView",
            "grid_template_rows": null,
            "right": null,
            "justify_content": null,
            "_view_module": "@jupyter-widgets/base",
            "overflow": null,
            "_model_module_version": "1.2.0",
            "_view_count": null,
            "flex_flow": null,
            "width": null,
            "min_width": null,
            "border": null,
            "align_items": null,
            "bottom": null,
            "_model_module": "@jupyter-widgets/base",
            "top": null,
            "grid_column": null,
            "overflow_y": null,
            "overflow_x": null,
            "grid_auto_flow": null,
            "grid_area": null,
            "grid_template_columns": null,
            "flex": null,
            "_model_name": "LayoutModel",
            "justify_items": null,
            "grid_row": null,
            "max_height": null,
            "align_content": null,
            "visibility": null,
            "align_self": null,
            "height": null,
            "min_height": null,
            "padding": null,
            "grid_auto_rows": null,
            "grid_gap": null,
            "max_width": null,
            "order": null,
            "_view_module_version": "1.2.0",
            "grid_template_areas": null,
            "object_position": null,
            "object_fit": null,
            "grid_auto_columns": null,
            "margin": null,
            "display": null,
            "left": null
          }
        },
        "217795a5ec384175b97823f048b00504": {
          "model_module": "@jupyter-widgets/controls",
          "model_name": "ProgressStyleModel",
          "state": {
            "_view_name": "StyleView",
            "_model_name": "ProgressStyleModel",
            "description_width": "",
            "_view_module": "@jupyter-widgets/base",
            "_model_module_version": "1.5.0",
            "_view_count": null,
            "_view_module_version": "1.2.0",
            "bar_color": null,
            "_model_module": "@jupyter-widgets/controls"
          }
        },
        "1caffc561c3e47acbe449734463e1049": {
          "model_module": "@jupyter-widgets/base",
          "model_name": "LayoutModel",
          "state": {
            "_view_name": "LayoutView",
            "grid_template_rows": null,
            "right": null,
            "justify_content": null,
            "_view_module": "@jupyter-widgets/base",
            "overflow": null,
            "_model_module_version": "1.2.0",
            "_view_count": null,
            "flex_flow": null,
            "width": null,
            "min_width": null,
            "border": null,
            "align_items": null,
            "bottom": null,
            "_model_module": "@jupyter-widgets/base",
            "top": null,
            "grid_column": null,
            "overflow_y": null,
            "overflow_x": null,
            "grid_auto_flow": null,
            "grid_area": null,
            "grid_template_columns": null,
            "flex": null,
            "_model_name": "LayoutModel",
            "justify_items": null,
            "grid_row": null,
            "max_height": null,
            "align_content": null,
            "visibility": null,
            "align_self": null,
            "height": null,
            "min_height": null,
            "padding": null,
            "grid_auto_rows": null,
            "grid_gap": null,
            "max_width": null,
            "order": null,
            "_view_module_version": "1.2.0",
            "grid_template_areas": null,
            "object_position": null,
            "object_fit": null,
            "grid_auto_columns": null,
            "margin": null,
            "display": null,
            "left": null
          }
        },
        "a3848965cd55493fa4eeb7a926b1f768": {
          "model_module": "@jupyter-widgets/controls",
          "model_name": "VBoxModel",
          "state": {
            "_view_name": "VBoxView",
            "_dom_classes": [],
            "_model_name": "VBoxModel",
            "_view_module": "@jupyter-widgets/controls",
            "_model_module_version": "1.5.0",
            "_view_count": null,
            "_view_module_version": "1.5.0",
            "box_style": "",
            "layout": "IPY_MODEL_d0ca296dfeb44718b84a838b296440de",
            "_model_module": "@jupyter-widgets/controls",
            "children": [
              "IPY_MODEL_0327dc35f9f94d699e3cd1b90e86821e",
              "IPY_MODEL_ab06283526164c2eb021c48aa2a8b637"
            ]
          }
        },
        "d0ca296dfeb44718b84a838b296440de": {
          "model_module": "@jupyter-widgets/base",
          "model_name": "LayoutModel",
          "state": {
            "_view_name": "LayoutView",
            "grid_template_rows": null,
            "right": null,
            "justify_content": null,
            "_view_module": "@jupyter-widgets/base",
            "overflow": null,
            "_model_module_version": "1.2.0",
            "_view_count": null,
            "flex_flow": null,
            "width": null,
            "min_width": null,
            "border": null,
            "align_items": null,
            "bottom": null,
            "_model_module": "@jupyter-widgets/base",
            "top": null,
            "grid_column": null,
            "overflow_y": null,
            "overflow_x": null,
            "grid_auto_flow": null,
            "grid_area": null,
            "grid_template_columns": null,
            "flex": null,
            "_model_name": "LayoutModel",
            "justify_items": null,
            "grid_row": null,
            "max_height": null,
            "align_content": null,
            "visibility": null,
            "align_self": null,
            "height": null,
            "min_height": null,
            "padding": null,
            "grid_auto_rows": null,
            "grid_gap": null,
            "max_width": null,
            "order": null,
            "_view_module_version": "1.2.0",
            "grid_template_areas": null,
            "object_position": null,
            "object_fit": null,
            "grid_auto_columns": null,
            "margin": null,
            "display": null,
            "left": null
          }
        },
        "0327dc35f9f94d699e3cd1b90e86821e": {
          "model_module": "@jupyter-widgets/controls",
          "model_name": "LabelModel",
          "state": {
            "_view_name": "LabelView",
            "style": "IPY_MODEL_4afc21fcf02044269674e78c994a214d",
            "_dom_classes": [],
            "description": "",
            "_model_name": "LabelModel",
            "placeholder": "​",
            "_view_module": "@jupyter-widgets/controls",
            "_model_module_version": "1.5.0",
            "value": " 0.01MB of 0.01MB uploaded (0.00MB deduped)\r",
            "_view_count": null,
            "_view_module_version": "1.5.0",
            "description_tooltip": null,
            "_model_module": "@jupyter-widgets/controls",
            "layout": "IPY_MODEL_fc5873ebb7604f76816f089bf6e759c5"
          }
        },
        "ab06283526164c2eb021c48aa2a8b637": {
          "model_module": "@jupyter-widgets/controls",
          "model_name": "FloatProgressModel",
          "state": {
            "_view_name": "ProgressView",
            "style": "IPY_MODEL_e8ca3c2f6f284626aa240f911526a1aa",
            "_dom_classes": [],
            "description": "",
            "_model_name": "FloatProgressModel",
            "bar_style": "",
            "max": 1,
            "_view_module": "@jupyter-widgets/controls",
            "_model_module_version": "1.5.0",
            "value": 1,
            "_view_count": null,
            "_view_module_version": "1.5.0",
            "orientation": "horizontal",
            "min": 0,
            "description_tooltip": null,
            "_model_module": "@jupyter-widgets/controls",
            "layout": "IPY_MODEL_52d9b3832c4643e3b2982f855d8737ee"
          }
        },
        "4afc21fcf02044269674e78c994a214d": {
          "model_module": "@jupyter-widgets/controls",
          "model_name": "DescriptionStyleModel",
          "state": {
            "_view_name": "StyleView",
            "_model_name": "DescriptionStyleModel",
            "description_width": "",
            "_view_module": "@jupyter-widgets/base",
            "_model_module_version": "1.5.0",
            "_view_count": null,
            "_view_module_version": "1.2.0",
            "_model_module": "@jupyter-widgets/controls"
          }
        },
        "fc5873ebb7604f76816f089bf6e759c5": {
          "model_module": "@jupyter-widgets/base",
          "model_name": "LayoutModel",
          "state": {
            "_view_name": "LayoutView",
            "grid_template_rows": null,
            "right": null,
            "justify_content": null,
            "_view_module": "@jupyter-widgets/base",
            "overflow": null,
            "_model_module_version": "1.2.0",
            "_view_count": null,
            "flex_flow": null,
            "width": null,
            "min_width": null,
            "border": null,
            "align_items": null,
            "bottom": null,
            "_model_module": "@jupyter-widgets/base",
            "top": null,
            "grid_column": null,
            "overflow_y": null,
            "overflow_x": null,
            "grid_auto_flow": null,
            "grid_area": null,
            "grid_template_columns": null,
            "flex": null,
            "_model_name": "LayoutModel",
            "justify_items": null,
            "grid_row": null,
            "max_height": null,
            "align_content": null,
            "visibility": null,
            "align_self": null,
            "height": null,
            "min_height": null,
            "padding": null,
            "grid_auto_rows": null,
            "grid_gap": null,
            "max_width": null,
            "order": null,
            "_view_module_version": "1.2.0",
            "grid_template_areas": null,
            "object_position": null,
            "object_fit": null,
            "grid_auto_columns": null,
            "margin": null,
            "display": null,
            "left": null
          }
        },
        "e8ca3c2f6f284626aa240f911526a1aa": {
          "model_module": "@jupyter-widgets/controls",
          "model_name": "ProgressStyleModel",
          "state": {
            "_view_name": "StyleView",
            "_model_name": "ProgressStyleModel",
            "description_width": "",
            "_view_module": "@jupyter-widgets/base",
            "_model_module_version": "1.5.0",
            "_view_count": null,
            "_view_module_version": "1.2.0",
            "bar_color": null,
            "_model_module": "@jupyter-widgets/controls"
          }
        },
        "52d9b3832c4643e3b2982f855d8737ee": {
          "model_module": "@jupyter-widgets/base",
          "model_name": "LayoutModel",
          "state": {
            "_view_name": "LayoutView",
            "grid_template_rows": null,
            "right": null,
            "justify_content": null,
            "_view_module": "@jupyter-widgets/base",
            "overflow": null,
            "_model_module_version": "1.2.0",
            "_view_count": null,
            "flex_flow": null,
            "width": null,
            "min_width": null,
            "border": null,
            "align_items": null,
            "bottom": null,
            "_model_module": "@jupyter-widgets/base",
            "top": null,
            "grid_column": null,
            "overflow_y": null,
            "overflow_x": null,
            "grid_auto_flow": null,
            "grid_area": null,
            "grid_template_columns": null,
            "flex": null,
            "_model_name": "LayoutModel",
            "justify_items": null,
            "grid_row": null,
            "max_height": null,
            "align_content": null,
            "visibility": null,
            "align_self": null,
            "height": null,
            "min_height": null,
            "padding": null,
            "grid_auto_rows": null,
            "grid_gap": null,
            "max_width": null,
            "order": null,
            "_view_module_version": "1.2.0",
            "grid_template_areas": null,
            "object_position": null,
            "object_fit": null,
            "grid_auto_columns": null,
            "margin": null,
            "display": null,
            "left": null
          }
        },
        "532c3b696deb4ba2891627dff2551538": {
          "model_module": "@jupyter-widgets/controls",
          "model_name": "VBoxModel",
          "state": {
            "_view_name": "VBoxView",
            "_dom_classes": [],
            "_model_name": "VBoxModel",
            "_view_module": "@jupyter-widgets/controls",
            "_model_module_version": "1.5.0",
            "_view_count": null,
            "_view_module_version": "1.5.0",
            "box_style": "",
            "layout": "IPY_MODEL_b9796bc7c97745a986af2d981a4a5ff9",
            "_model_module": "@jupyter-widgets/controls",
            "children": [
              "IPY_MODEL_b3e8ea1250c2439e8f523f6a490d9151",
              "IPY_MODEL_efa4108410d946149ca332dd6ff047f6"
            ]
          }
        },
        "b9796bc7c97745a986af2d981a4a5ff9": {
          "model_module": "@jupyter-widgets/base",
          "model_name": "LayoutModel",
          "state": {
            "_view_name": "LayoutView",
            "grid_template_rows": null,
            "right": null,
            "justify_content": null,
            "_view_module": "@jupyter-widgets/base",
            "overflow": null,
            "_model_module_version": "1.2.0",
            "_view_count": null,
            "flex_flow": null,
            "width": null,
            "min_width": null,
            "border": null,
            "align_items": null,
            "bottom": null,
            "_model_module": "@jupyter-widgets/base",
            "top": null,
            "grid_column": null,
            "overflow_y": null,
            "overflow_x": null,
            "grid_auto_flow": null,
            "grid_area": null,
            "grid_template_columns": null,
            "flex": null,
            "_model_name": "LayoutModel",
            "justify_items": null,
            "grid_row": null,
            "max_height": null,
            "align_content": null,
            "visibility": null,
            "align_self": null,
            "height": null,
            "min_height": null,
            "padding": null,
            "grid_auto_rows": null,
            "grid_gap": null,
            "max_width": null,
            "order": null,
            "_view_module_version": "1.2.0",
            "grid_template_areas": null,
            "object_position": null,
            "object_fit": null,
            "grid_auto_columns": null,
            "margin": null,
            "display": null,
            "left": null
          }
        },
        "b3e8ea1250c2439e8f523f6a490d9151": {
          "model_module": "@jupyter-widgets/controls",
          "model_name": "LabelModel",
          "state": {
            "_view_name": "LabelView",
            "style": "IPY_MODEL_105abff240c54b988ad52209623c33d5",
            "_dom_classes": [],
            "description": "",
            "_model_name": "LabelModel",
            "placeholder": "​",
            "_view_module": "@jupyter-widgets/controls",
            "_model_module_version": "1.5.0",
            "value": " 0.01MB of 0.01MB uploaded (0.00MB deduped)\r",
            "_view_count": null,
            "_view_module_version": "1.5.0",
            "description_tooltip": null,
            "_model_module": "@jupyter-widgets/controls",
            "layout": "IPY_MODEL_15765456c55e4c7a99604e3af32ec113"
          }
        },
        "efa4108410d946149ca332dd6ff047f6": {
          "model_module": "@jupyter-widgets/controls",
          "model_name": "FloatProgressModel",
          "state": {
            "_view_name": "ProgressView",
            "style": "IPY_MODEL_3ba9588cdade47be8a44b6432be47089",
            "_dom_classes": [],
            "description": "",
            "_model_name": "FloatProgressModel",
            "bar_style": "",
            "max": 1,
            "_view_module": "@jupyter-widgets/controls",
            "_model_module_version": "1.5.0",
            "value": 1,
            "_view_count": null,
            "_view_module_version": "1.5.0",
            "orientation": "horizontal",
            "min": 0,
            "description_tooltip": null,
            "_model_module": "@jupyter-widgets/controls",
            "layout": "IPY_MODEL_4ce9a082f5ff4644a16617a53a867678"
          }
        },
        "105abff240c54b988ad52209623c33d5": {
          "model_module": "@jupyter-widgets/controls",
          "model_name": "DescriptionStyleModel",
          "state": {
            "_view_name": "StyleView",
            "_model_name": "DescriptionStyleModel",
            "description_width": "",
            "_view_module": "@jupyter-widgets/base",
            "_model_module_version": "1.5.0",
            "_view_count": null,
            "_view_module_version": "1.2.0",
            "_model_module": "@jupyter-widgets/controls"
          }
        },
        "15765456c55e4c7a99604e3af32ec113": {
          "model_module": "@jupyter-widgets/base",
          "model_name": "LayoutModel",
          "state": {
            "_view_name": "LayoutView",
            "grid_template_rows": null,
            "right": null,
            "justify_content": null,
            "_view_module": "@jupyter-widgets/base",
            "overflow": null,
            "_model_module_version": "1.2.0",
            "_view_count": null,
            "flex_flow": null,
            "width": null,
            "min_width": null,
            "border": null,
            "align_items": null,
            "bottom": null,
            "_model_module": "@jupyter-widgets/base",
            "top": null,
            "grid_column": null,
            "overflow_y": null,
            "overflow_x": null,
            "grid_auto_flow": null,
            "grid_area": null,
            "grid_template_columns": null,
            "flex": null,
            "_model_name": "LayoutModel",
            "justify_items": null,
            "grid_row": null,
            "max_height": null,
            "align_content": null,
            "visibility": null,
            "align_self": null,
            "height": null,
            "min_height": null,
            "padding": null,
            "grid_auto_rows": null,
            "grid_gap": null,
            "max_width": null,
            "order": null,
            "_view_module_version": "1.2.0",
            "grid_template_areas": null,
            "object_position": null,
            "object_fit": null,
            "grid_auto_columns": null,
            "margin": null,
            "display": null,
            "left": null
          }
        },
        "3ba9588cdade47be8a44b6432be47089": {
          "model_module": "@jupyter-widgets/controls",
          "model_name": "ProgressStyleModel",
          "state": {
            "_view_name": "StyleView",
            "_model_name": "ProgressStyleModel",
            "description_width": "",
            "_view_module": "@jupyter-widgets/base",
            "_model_module_version": "1.5.0",
            "_view_count": null,
            "_view_module_version": "1.2.0",
            "bar_color": null,
            "_model_module": "@jupyter-widgets/controls"
          }
        },
        "4ce9a082f5ff4644a16617a53a867678": {
          "model_module": "@jupyter-widgets/base",
          "model_name": "LayoutModel",
          "state": {
            "_view_name": "LayoutView",
            "grid_template_rows": null,
            "right": null,
            "justify_content": null,
            "_view_module": "@jupyter-widgets/base",
            "overflow": null,
            "_model_module_version": "1.2.0",
            "_view_count": null,
            "flex_flow": null,
            "width": null,
            "min_width": null,
            "border": null,
            "align_items": null,
            "bottom": null,
            "_model_module": "@jupyter-widgets/base",
            "top": null,
            "grid_column": null,
            "overflow_y": null,
            "overflow_x": null,
            "grid_auto_flow": null,
            "grid_area": null,
            "grid_template_columns": null,
            "flex": null,
            "_model_name": "LayoutModel",
            "justify_items": null,
            "grid_row": null,
            "max_height": null,
            "align_content": null,
            "visibility": null,
            "align_self": null,
            "height": null,
            "min_height": null,
            "padding": null,
            "grid_auto_rows": null,
            "grid_gap": null,
            "max_width": null,
            "order": null,
            "_view_module_version": "1.2.0",
            "grid_template_areas": null,
            "object_position": null,
            "object_fit": null,
            "grid_auto_columns": null,
            "margin": null,
            "display": null,
            "left": null
          }
        },
        "3645e158ce3d43b2ad6c0f3a6b599fee": {
          "model_module": "@jupyter-widgets/controls",
          "model_name": "VBoxModel",
          "state": {
            "_view_name": "VBoxView",
            "_dom_classes": [],
            "_model_name": "VBoxModel",
            "_view_module": "@jupyter-widgets/controls",
            "_model_module_version": "1.5.0",
            "_view_count": null,
            "_view_module_version": "1.5.0",
            "box_style": "",
            "layout": "IPY_MODEL_f6c8fd68ecfd49809564f5731d470614",
            "_model_module": "@jupyter-widgets/controls",
            "children": [
              "IPY_MODEL_b7f3393ca6c24e869dd782e68ac0fcce",
              "IPY_MODEL_b47fc7a7f7604e30994efad19a09f8de"
            ]
          }
        },
        "f6c8fd68ecfd49809564f5731d470614": {
          "model_module": "@jupyter-widgets/base",
          "model_name": "LayoutModel",
          "state": {
            "_view_name": "LayoutView",
            "grid_template_rows": null,
            "right": null,
            "justify_content": null,
            "_view_module": "@jupyter-widgets/base",
            "overflow": null,
            "_model_module_version": "1.2.0",
            "_view_count": null,
            "flex_flow": null,
            "width": null,
            "min_width": null,
            "border": null,
            "align_items": null,
            "bottom": null,
            "_model_module": "@jupyter-widgets/base",
            "top": null,
            "grid_column": null,
            "overflow_y": null,
            "overflow_x": null,
            "grid_auto_flow": null,
            "grid_area": null,
            "grid_template_columns": null,
            "flex": null,
            "_model_name": "LayoutModel",
            "justify_items": null,
            "grid_row": null,
            "max_height": null,
            "align_content": null,
            "visibility": null,
            "align_self": null,
            "height": null,
            "min_height": null,
            "padding": null,
            "grid_auto_rows": null,
            "grid_gap": null,
            "max_width": null,
            "order": null,
            "_view_module_version": "1.2.0",
            "grid_template_areas": null,
            "object_position": null,
            "object_fit": null,
            "grid_auto_columns": null,
            "margin": null,
            "display": null,
            "left": null
          }
        },
        "b7f3393ca6c24e869dd782e68ac0fcce": {
          "model_module": "@jupyter-widgets/controls",
          "model_name": "LabelModel",
          "state": {
            "_view_name": "LabelView",
            "style": "IPY_MODEL_6af33e01cff94c48bceece86fc236b3c",
            "_dom_classes": [],
            "description": "",
            "_model_name": "LabelModel",
            "placeholder": "​",
            "_view_module": "@jupyter-widgets/controls",
            "_model_module_version": "1.5.0",
            "value": " 0.01MB of 0.01MB uploaded (0.00MB deduped)\r",
            "_view_count": null,
            "_view_module_version": "1.5.0",
            "description_tooltip": null,
            "_model_module": "@jupyter-widgets/controls",
            "layout": "IPY_MODEL_4d940224ab8d40d18a5ce326ae3ad91f"
          }
        },
        "b47fc7a7f7604e30994efad19a09f8de": {
          "model_module": "@jupyter-widgets/controls",
          "model_name": "FloatProgressModel",
          "state": {
            "_view_name": "ProgressView",
            "style": "IPY_MODEL_c6031beaf9574bf086a79392f5d6e66e",
            "_dom_classes": [],
            "description": "",
            "_model_name": "FloatProgressModel",
            "bar_style": "",
            "max": 1,
            "_view_module": "@jupyter-widgets/controls",
            "_model_module_version": "1.5.0",
            "value": 1,
            "_view_count": null,
            "_view_module_version": "1.5.0",
            "orientation": "horizontal",
            "min": 0,
            "description_tooltip": null,
            "_model_module": "@jupyter-widgets/controls",
            "layout": "IPY_MODEL_d407082ed805424a9457742d5837d20e"
          }
        },
        "6af33e01cff94c48bceece86fc236b3c": {
          "model_module": "@jupyter-widgets/controls",
          "model_name": "DescriptionStyleModel",
          "state": {
            "_view_name": "StyleView",
            "_model_name": "DescriptionStyleModel",
            "description_width": "",
            "_view_module": "@jupyter-widgets/base",
            "_model_module_version": "1.5.0",
            "_view_count": null,
            "_view_module_version": "1.2.0",
            "_model_module": "@jupyter-widgets/controls"
          }
        },
        "4d940224ab8d40d18a5ce326ae3ad91f": {
          "model_module": "@jupyter-widgets/base",
          "model_name": "LayoutModel",
          "state": {
            "_view_name": "LayoutView",
            "grid_template_rows": null,
            "right": null,
            "justify_content": null,
            "_view_module": "@jupyter-widgets/base",
            "overflow": null,
            "_model_module_version": "1.2.0",
            "_view_count": null,
            "flex_flow": null,
            "width": null,
            "min_width": null,
            "border": null,
            "align_items": null,
            "bottom": null,
            "_model_module": "@jupyter-widgets/base",
            "top": null,
            "grid_column": null,
            "overflow_y": null,
            "overflow_x": null,
            "grid_auto_flow": null,
            "grid_area": null,
            "grid_template_columns": null,
            "flex": null,
            "_model_name": "LayoutModel",
            "justify_items": null,
            "grid_row": null,
            "max_height": null,
            "align_content": null,
            "visibility": null,
            "align_self": null,
            "height": null,
            "min_height": null,
            "padding": null,
            "grid_auto_rows": null,
            "grid_gap": null,
            "max_width": null,
            "order": null,
            "_view_module_version": "1.2.0",
            "grid_template_areas": null,
            "object_position": null,
            "object_fit": null,
            "grid_auto_columns": null,
            "margin": null,
            "display": null,
            "left": null
          }
        },
        "c6031beaf9574bf086a79392f5d6e66e": {
          "model_module": "@jupyter-widgets/controls",
          "model_name": "ProgressStyleModel",
          "state": {
            "_view_name": "StyleView",
            "_model_name": "ProgressStyleModel",
            "description_width": "",
            "_view_module": "@jupyter-widgets/base",
            "_model_module_version": "1.5.0",
            "_view_count": null,
            "_view_module_version": "1.2.0",
            "bar_color": null,
            "_model_module": "@jupyter-widgets/controls"
          }
        },
        "d407082ed805424a9457742d5837d20e": {
          "model_module": "@jupyter-widgets/base",
          "model_name": "LayoutModel",
          "state": {
            "_view_name": "LayoutView",
            "grid_template_rows": null,
            "right": null,
            "justify_content": null,
            "_view_module": "@jupyter-widgets/base",
            "overflow": null,
            "_model_module_version": "1.2.0",
            "_view_count": null,
            "flex_flow": null,
            "width": null,
            "min_width": null,
            "border": null,
            "align_items": null,
            "bottom": null,
            "_model_module": "@jupyter-widgets/base",
            "top": null,
            "grid_column": null,
            "overflow_y": null,
            "overflow_x": null,
            "grid_auto_flow": null,
            "grid_area": null,
            "grid_template_columns": null,
            "flex": null,
            "_model_name": "LayoutModel",
            "justify_items": null,
            "grid_row": null,
            "max_height": null,
            "align_content": null,
            "visibility": null,
            "align_self": null,
            "height": null,
            "min_height": null,
            "padding": null,
            "grid_auto_rows": null,
            "grid_gap": null,
            "max_width": null,
            "order": null,
            "_view_module_version": "1.2.0",
            "grid_template_areas": null,
            "object_position": null,
            "object_fit": null,
            "grid_auto_columns": null,
            "margin": null,
            "display": null,
            "left": null
          }
        },
        "e77892fdb70b44efb9fe0820d2f8b48a": {
          "model_module": "@jupyter-widgets/controls",
          "model_name": "VBoxModel",
          "state": {
            "_view_name": "VBoxView",
            "_dom_classes": [],
            "_model_name": "VBoxModel",
            "_view_module": "@jupyter-widgets/controls",
            "_model_module_version": "1.5.0",
            "_view_count": null,
            "_view_module_version": "1.5.0",
            "box_style": "",
            "layout": "IPY_MODEL_dd0d55df1a1b47399fc6015fef7ddc3e",
            "_model_module": "@jupyter-widgets/controls",
            "children": [
              "IPY_MODEL_6115f72bd1d248b8af725d4e2c12525d",
              "IPY_MODEL_f1be126360ea4af9958672f47375b3b3"
            ]
          }
        },
        "dd0d55df1a1b47399fc6015fef7ddc3e": {
          "model_module": "@jupyter-widgets/base",
          "model_name": "LayoutModel",
          "state": {
            "_view_name": "LayoutView",
            "grid_template_rows": null,
            "right": null,
            "justify_content": null,
            "_view_module": "@jupyter-widgets/base",
            "overflow": null,
            "_model_module_version": "1.2.0",
            "_view_count": null,
            "flex_flow": null,
            "width": null,
            "min_width": null,
            "border": null,
            "align_items": null,
            "bottom": null,
            "_model_module": "@jupyter-widgets/base",
            "top": null,
            "grid_column": null,
            "overflow_y": null,
            "overflow_x": null,
            "grid_auto_flow": null,
            "grid_area": null,
            "grid_template_columns": null,
            "flex": null,
            "_model_name": "LayoutModel",
            "justify_items": null,
            "grid_row": null,
            "max_height": null,
            "align_content": null,
            "visibility": null,
            "align_self": null,
            "height": null,
            "min_height": null,
            "padding": null,
            "grid_auto_rows": null,
            "grid_gap": null,
            "max_width": null,
            "order": null,
            "_view_module_version": "1.2.0",
            "grid_template_areas": null,
            "object_position": null,
            "object_fit": null,
            "grid_auto_columns": null,
            "margin": null,
            "display": null,
            "left": null
          }
        },
        "6115f72bd1d248b8af725d4e2c12525d": {
          "model_module": "@jupyter-widgets/controls",
          "model_name": "LabelModel",
          "state": {
            "_view_name": "LabelView",
            "style": "IPY_MODEL_c9077db5052446a7bf6e0e06dd1a7331",
            "_dom_classes": [],
            "description": "",
            "_model_name": "LabelModel",
            "placeholder": "​",
            "_view_module": "@jupyter-widgets/controls",
            "_model_module_version": "1.5.0",
            "value": " 0.01MB of 0.01MB uploaded (0.00MB deduped)\r",
            "_view_count": null,
            "_view_module_version": "1.5.0",
            "description_tooltip": null,
            "_model_module": "@jupyter-widgets/controls",
            "layout": "IPY_MODEL_e2ec910c38a24faab9489a36569f3e47"
          }
        },
        "f1be126360ea4af9958672f47375b3b3": {
          "model_module": "@jupyter-widgets/controls",
          "model_name": "FloatProgressModel",
          "state": {
            "_view_name": "ProgressView",
            "style": "IPY_MODEL_b0731a3c81434f05948b9d9203ddcf22",
            "_dom_classes": [],
            "description": "",
            "_model_name": "FloatProgressModel",
            "bar_style": "",
            "max": 1,
            "_view_module": "@jupyter-widgets/controls",
            "_model_module_version": "1.5.0",
            "value": 1,
            "_view_count": null,
            "_view_module_version": "1.5.0",
            "orientation": "horizontal",
            "min": 0,
            "description_tooltip": null,
            "_model_module": "@jupyter-widgets/controls",
            "layout": "IPY_MODEL_0704b033638b4048a34045ca1024c224"
          }
        },
        "c9077db5052446a7bf6e0e06dd1a7331": {
          "model_module": "@jupyter-widgets/controls",
          "model_name": "DescriptionStyleModel",
          "state": {
            "_view_name": "StyleView",
            "_model_name": "DescriptionStyleModel",
            "description_width": "",
            "_view_module": "@jupyter-widgets/base",
            "_model_module_version": "1.5.0",
            "_view_count": null,
            "_view_module_version": "1.2.0",
            "_model_module": "@jupyter-widgets/controls"
          }
        },
        "e2ec910c38a24faab9489a36569f3e47": {
          "model_module": "@jupyter-widgets/base",
          "model_name": "LayoutModel",
          "state": {
            "_view_name": "LayoutView",
            "grid_template_rows": null,
            "right": null,
            "justify_content": null,
            "_view_module": "@jupyter-widgets/base",
            "overflow": null,
            "_model_module_version": "1.2.0",
            "_view_count": null,
            "flex_flow": null,
            "width": null,
            "min_width": null,
            "border": null,
            "align_items": null,
            "bottom": null,
            "_model_module": "@jupyter-widgets/base",
            "top": null,
            "grid_column": null,
            "overflow_y": null,
            "overflow_x": null,
            "grid_auto_flow": null,
            "grid_area": null,
            "grid_template_columns": null,
            "flex": null,
            "_model_name": "LayoutModel",
            "justify_items": null,
            "grid_row": null,
            "max_height": null,
            "align_content": null,
            "visibility": null,
            "align_self": null,
            "height": null,
            "min_height": null,
            "padding": null,
            "grid_auto_rows": null,
            "grid_gap": null,
            "max_width": null,
            "order": null,
            "_view_module_version": "1.2.0",
            "grid_template_areas": null,
            "object_position": null,
            "object_fit": null,
            "grid_auto_columns": null,
            "margin": null,
            "display": null,
            "left": null
          }
        },
        "b0731a3c81434f05948b9d9203ddcf22": {
          "model_module": "@jupyter-widgets/controls",
          "model_name": "ProgressStyleModel",
          "state": {
            "_view_name": "StyleView",
            "_model_name": "ProgressStyleModel",
            "description_width": "",
            "_view_module": "@jupyter-widgets/base",
            "_model_module_version": "1.5.0",
            "_view_count": null,
            "_view_module_version": "1.2.0",
            "bar_color": null,
            "_model_module": "@jupyter-widgets/controls"
          }
        },
        "0704b033638b4048a34045ca1024c224": {
          "model_module": "@jupyter-widgets/base",
          "model_name": "LayoutModel",
          "state": {
            "_view_name": "LayoutView",
            "grid_template_rows": null,
            "right": null,
            "justify_content": null,
            "_view_module": "@jupyter-widgets/base",
            "overflow": null,
            "_model_module_version": "1.2.0",
            "_view_count": null,
            "flex_flow": null,
            "width": null,
            "min_width": null,
            "border": null,
            "align_items": null,
            "bottom": null,
            "_model_module": "@jupyter-widgets/base",
            "top": null,
            "grid_column": null,
            "overflow_y": null,
            "overflow_x": null,
            "grid_auto_flow": null,
            "grid_area": null,
            "grid_template_columns": null,
            "flex": null,
            "_model_name": "LayoutModel",
            "justify_items": null,
            "grid_row": null,
            "max_height": null,
            "align_content": null,
            "visibility": null,
            "align_self": null,
            "height": null,
            "min_height": null,
            "padding": null,
            "grid_auto_rows": null,
            "grid_gap": null,
            "max_width": null,
            "order": null,
            "_view_module_version": "1.2.0",
            "grid_template_areas": null,
            "object_position": null,
            "object_fit": null,
            "grid_auto_columns": null,
            "margin": null,
            "display": null,
            "left": null
          }
        },
        "7f73ddaa74e04c5f89a43fd68b9e589d": {
          "model_module": "@jupyter-widgets/controls",
          "model_name": "VBoxModel",
          "state": {
            "_view_name": "VBoxView",
            "_dom_classes": [],
            "_model_name": "VBoxModel",
            "_view_module": "@jupyter-widgets/controls",
            "_model_module_version": "1.5.0",
            "_view_count": null,
            "_view_module_version": "1.5.0",
            "box_style": "",
            "layout": "IPY_MODEL_db3d1e90e28a4a9c94c755eb5544deff",
            "_model_module": "@jupyter-widgets/controls",
            "children": [
              "IPY_MODEL_86a97c014ec647bcb81d217985bfe6dc",
              "IPY_MODEL_8b696760f78f4cfeab292939638a87cf"
            ]
          }
        },
        "db3d1e90e28a4a9c94c755eb5544deff": {
          "model_module": "@jupyter-widgets/base",
          "model_name": "LayoutModel",
          "state": {
            "_view_name": "LayoutView",
            "grid_template_rows": null,
            "right": null,
            "justify_content": null,
            "_view_module": "@jupyter-widgets/base",
            "overflow": null,
            "_model_module_version": "1.2.0",
            "_view_count": null,
            "flex_flow": null,
            "width": null,
            "min_width": null,
            "border": null,
            "align_items": null,
            "bottom": null,
            "_model_module": "@jupyter-widgets/base",
            "top": null,
            "grid_column": null,
            "overflow_y": null,
            "overflow_x": null,
            "grid_auto_flow": null,
            "grid_area": null,
            "grid_template_columns": null,
            "flex": null,
            "_model_name": "LayoutModel",
            "justify_items": null,
            "grid_row": null,
            "max_height": null,
            "align_content": null,
            "visibility": null,
            "align_self": null,
            "height": null,
            "min_height": null,
            "padding": null,
            "grid_auto_rows": null,
            "grid_gap": null,
            "max_width": null,
            "order": null,
            "_view_module_version": "1.2.0",
            "grid_template_areas": null,
            "object_position": null,
            "object_fit": null,
            "grid_auto_columns": null,
            "margin": null,
            "display": null,
            "left": null
          }
        },
        "86a97c014ec647bcb81d217985bfe6dc": {
          "model_module": "@jupyter-widgets/controls",
          "model_name": "LabelModel",
          "state": {
            "_view_name": "LabelView",
            "style": "IPY_MODEL_e75e3e450f1f4b9396a36c9682648139",
            "_dom_classes": [],
            "description": "",
            "_model_name": "LabelModel",
            "placeholder": "​",
            "_view_module": "@jupyter-widgets/controls",
            "_model_module_version": "1.5.0",
            "value": " 0.01MB of 0.01MB uploaded (0.00MB deduped)\r",
            "_view_count": null,
            "_view_module_version": "1.5.0",
            "description_tooltip": null,
            "_model_module": "@jupyter-widgets/controls",
            "layout": "IPY_MODEL_1d3912be2f094309bc29d6605418ae74"
          }
        },
        "8b696760f78f4cfeab292939638a87cf": {
          "model_module": "@jupyter-widgets/controls",
          "model_name": "FloatProgressModel",
          "state": {
            "_view_name": "ProgressView",
            "style": "IPY_MODEL_3384ede61b094427bba785dd9aab79b4",
            "_dom_classes": [],
            "description": "",
            "_model_name": "FloatProgressModel",
            "bar_style": "",
            "max": 1,
            "_view_module": "@jupyter-widgets/controls",
            "_model_module_version": "1.5.0",
            "value": 1,
            "_view_count": null,
            "_view_module_version": "1.5.0",
            "orientation": "horizontal",
            "min": 0,
            "description_tooltip": null,
            "_model_module": "@jupyter-widgets/controls",
            "layout": "IPY_MODEL_708892c9da654736a81675d1945b29d4"
          }
        },
        "e75e3e450f1f4b9396a36c9682648139": {
          "model_module": "@jupyter-widgets/controls",
          "model_name": "DescriptionStyleModel",
          "state": {
            "_view_name": "StyleView",
            "_model_name": "DescriptionStyleModel",
            "description_width": "",
            "_view_module": "@jupyter-widgets/base",
            "_model_module_version": "1.5.0",
            "_view_count": null,
            "_view_module_version": "1.2.0",
            "_model_module": "@jupyter-widgets/controls"
          }
        },
        "1d3912be2f094309bc29d6605418ae74": {
          "model_module": "@jupyter-widgets/base",
          "model_name": "LayoutModel",
          "state": {
            "_view_name": "LayoutView",
            "grid_template_rows": null,
            "right": null,
            "justify_content": null,
            "_view_module": "@jupyter-widgets/base",
            "overflow": null,
            "_model_module_version": "1.2.0",
            "_view_count": null,
            "flex_flow": null,
            "width": null,
            "min_width": null,
            "border": null,
            "align_items": null,
            "bottom": null,
            "_model_module": "@jupyter-widgets/base",
            "top": null,
            "grid_column": null,
            "overflow_y": null,
            "overflow_x": null,
            "grid_auto_flow": null,
            "grid_area": null,
            "grid_template_columns": null,
            "flex": null,
            "_model_name": "LayoutModel",
            "justify_items": null,
            "grid_row": null,
            "max_height": null,
            "align_content": null,
            "visibility": null,
            "align_self": null,
            "height": null,
            "min_height": null,
            "padding": null,
            "grid_auto_rows": null,
            "grid_gap": null,
            "max_width": null,
            "order": null,
            "_view_module_version": "1.2.0",
            "grid_template_areas": null,
            "object_position": null,
            "object_fit": null,
            "grid_auto_columns": null,
            "margin": null,
            "display": null,
            "left": null
          }
        },
        "3384ede61b094427bba785dd9aab79b4": {
          "model_module": "@jupyter-widgets/controls",
          "model_name": "ProgressStyleModel",
          "state": {
            "_view_name": "StyleView",
            "_model_name": "ProgressStyleModel",
            "description_width": "",
            "_view_module": "@jupyter-widgets/base",
            "_model_module_version": "1.5.0",
            "_view_count": null,
            "_view_module_version": "1.2.0",
            "bar_color": null,
            "_model_module": "@jupyter-widgets/controls"
          }
        },
        "708892c9da654736a81675d1945b29d4": {
          "model_module": "@jupyter-widgets/base",
          "model_name": "LayoutModel",
          "state": {
            "_view_name": "LayoutView",
            "grid_template_rows": null,
            "right": null,
            "justify_content": null,
            "_view_module": "@jupyter-widgets/base",
            "overflow": null,
            "_model_module_version": "1.2.0",
            "_view_count": null,
            "flex_flow": null,
            "width": null,
            "min_width": null,
            "border": null,
            "align_items": null,
            "bottom": null,
            "_model_module": "@jupyter-widgets/base",
            "top": null,
            "grid_column": null,
            "overflow_y": null,
            "overflow_x": null,
            "grid_auto_flow": null,
            "grid_area": null,
            "grid_template_columns": null,
            "flex": null,
            "_model_name": "LayoutModel",
            "justify_items": null,
            "grid_row": null,
            "max_height": null,
            "align_content": null,
            "visibility": null,
            "align_self": null,
            "height": null,
            "min_height": null,
            "padding": null,
            "grid_auto_rows": null,
            "grid_gap": null,
            "max_width": null,
            "order": null,
            "_view_module_version": "1.2.0",
            "grid_template_areas": null,
            "object_position": null,
            "object_fit": null,
            "grid_auto_columns": null,
            "margin": null,
            "display": null,
            "left": null
          }
        },
        "e4c12149d3ff4045bdcde589864504a8": {
          "model_module": "@jupyter-widgets/controls",
          "model_name": "VBoxModel",
          "state": {
            "_view_name": "VBoxView",
            "_dom_classes": [],
            "_model_name": "VBoxModel",
            "_view_module": "@jupyter-widgets/controls",
            "_model_module_version": "1.5.0",
            "_view_count": null,
            "_view_module_version": "1.5.0",
            "box_style": "",
            "layout": "IPY_MODEL_f3c19391d7734ed08b45f3c64abfc02d",
            "_model_module": "@jupyter-widgets/controls",
            "children": [
              "IPY_MODEL_0d15ff54cde2403194c89ffd0e98cf44",
              "IPY_MODEL_5011404672054c2c8d0440c7b16f3e03"
            ]
          }
        },
        "f3c19391d7734ed08b45f3c64abfc02d": {
          "model_module": "@jupyter-widgets/base",
          "model_name": "LayoutModel",
          "state": {
            "_view_name": "LayoutView",
            "grid_template_rows": null,
            "right": null,
            "justify_content": null,
            "_view_module": "@jupyter-widgets/base",
            "overflow": null,
            "_model_module_version": "1.2.0",
            "_view_count": null,
            "flex_flow": null,
            "width": null,
            "min_width": null,
            "border": null,
            "align_items": null,
            "bottom": null,
            "_model_module": "@jupyter-widgets/base",
            "top": null,
            "grid_column": null,
            "overflow_y": null,
            "overflow_x": null,
            "grid_auto_flow": null,
            "grid_area": null,
            "grid_template_columns": null,
            "flex": null,
            "_model_name": "LayoutModel",
            "justify_items": null,
            "grid_row": null,
            "max_height": null,
            "align_content": null,
            "visibility": null,
            "align_self": null,
            "height": null,
            "min_height": null,
            "padding": null,
            "grid_auto_rows": null,
            "grid_gap": null,
            "max_width": null,
            "order": null,
            "_view_module_version": "1.2.0",
            "grid_template_areas": null,
            "object_position": null,
            "object_fit": null,
            "grid_auto_columns": null,
            "margin": null,
            "display": null,
            "left": null
          }
        },
        "0d15ff54cde2403194c89ffd0e98cf44": {
          "model_module": "@jupyter-widgets/controls",
          "model_name": "LabelModel",
          "state": {
            "_view_name": "LabelView",
            "style": "IPY_MODEL_050a08b47b9e4795839967d0e5be5876",
            "_dom_classes": [],
            "description": "",
            "_model_name": "LabelModel",
            "placeholder": "​",
            "_view_module": "@jupyter-widgets/controls",
            "_model_module_version": "1.5.0",
            "value": " 0.01MB of 0.01MB uploaded (0.00MB deduped)\r",
            "_view_count": null,
            "_view_module_version": "1.5.0",
            "description_tooltip": null,
            "_model_module": "@jupyter-widgets/controls",
            "layout": "IPY_MODEL_4ba9798036284821b51d799ff89466f7"
          }
        },
        "5011404672054c2c8d0440c7b16f3e03": {
          "model_module": "@jupyter-widgets/controls",
          "model_name": "FloatProgressModel",
          "state": {
            "_view_name": "ProgressView",
            "style": "IPY_MODEL_16f21654d9c04f8098721d03ea04865e",
            "_dom_classes": [],
            "description": "",
            "_model_name": "FloatProgressModel",
            "bar_style": "",
            "max": 1,
            "_view_module": "@jupyter-widgets/controls",
            "_model_module_version": "1.5.0",
            "value": 1,
            "_view_count": null,
            "_view_module_version": "1.5.0",
            "orientation": "horizontal",
            "min": 0,
            "description_tooltip": null,
            "_model_module": "@jupyter-widgets/controls",
            "layout": "IPY_MODEL_782b9d4350c0497a97f4a99c4615db0d"
          }
        },
        "050a08b47b9e4795839967d0e5be5876": {
          "model_module": "@jupyter-widgets/controls",
          "model_name": "DescriptionStyleModel",
          "state": {
            "_view_name": "StyleView",
            "_model_name": "DescriptionStyleModel",
            "description_width": "",
            "_view_module": "@jupyter-widgets/base",
            "_model_module_version": "1.5.0",
            "_view_count": null,
            "_view_module_version": "1.2.0",
            "_model_module": "@jupyter-widgets/controls"
          }
        },
        "4ba9798036284821b51d799ff89466f7": {
          "model_module": "@jupyter-widgets/base",
          "model_name": "LayoutModel",
          "state": {
            "_view_name": "LayoutView",
            "grid_template_rows": null,
            "right": null,
            "justify_content": null,
            "_view_module": "@jupyter-widgets/base",
            "overflow": null,
            "_model_module_version": "1.2.0",
            "_view_count": null,
            "flex_flow": null,
            "width": null,
            "min_width": null,
            "border": null,
            "align_items": null,
            "bottom": null,
            "_model_module": "@jupyter-widgets/base",
            "top": null,
            "grid_column": null,
            "overflow_y": null,
            "overflow_x": null,
            "grid_auto_flow": null,
            "grid_area": null,
            "grid_template_columns": null,
            "flex": null,
            "_model_name": "LayoutModel",
            "justify_items": null,
            "grid_row": null,
            "max_height": null,
            "align_content": null,
            "visibility": null,
            "align_self": null,
            "height": null,
            "min_height": null,
            "padding": null,
            "grid_auto_rows": null,
            "grid_gap": null,
            "max_width": null,
            "order": null,
            "_view_module_version": "1.2.0",
            "grid_template_areas": null,
            "object_position": null,
            "object_fit": null,
            "grid_auto_columns": null,
            "margin": null,
            "display": null,
            "left": null
          }
        },
        "16f21654d9c04f8098721d03ea04865e": {
          "model_module": "@jupyter-widgets/controls",
          "model_name": "ProgressStyleModel",
          "state": {
            "_view_name": "StyleView",
            "_model_name": "ProgressStyleModel",
            "description_width": "",
            "_view_module": "@jupyter-widgets/base",
            "_model_module_version": "1.5.0",
            "_view_count": null,
            "_view_module_version": "1.2.0",
            "bar_color": null,
            "_model_module": "@jupyter-widgets/controls"
          }
        },
        "782b9d4350c0497a97f4a99c4615db0d": {
          "model_module": "@jupyter-widgets/base",
          "model_name": "LayoutModel",
          "state": {
            "_view_name": "LayoutView",
            "grid_template_rows": null,
            "right": null,
            "justify_content": null,
            "_view_module": "@jupyter-widgets/base",
            "overflow": null,
            "_model_module_version": "1.2.0",
            "_view_count": null,
            "flex_flow": null,
            "width": null,
            "min_width": null,
            "border": null,
            "align_items": null,
            "bottom": null,
            "_model_module": "@jupyter-widgets/base",
            "top": null,
            "grid_column": null,
            "overflow_y": null,
            "overflow_x": null,
            "grid_auto_flow": null,
            "grid_area": null,
            "grid_template_columns": null,
            "flex": null,
            "_model_name": "LayoutModel",
            "justify_items": null,
            "grid_row": null,
            "max_height": null,
            "align_content": null,
            "visibility": null,
            "align_self": null,
            "height": null,
            "min_height": null,
            "padding": null,
            "grid_auto_rows": null,
            "grid_gap": null,
            "max_width": null,
            "order": null,
            "_view_module_version": "1.2.0",
            "grid_template_areas": null,
            "object_position": null,
            "object_fit": null,
            "grid_auto_columns": null,
            "margin": null,
            "display": null,
            "left": null
          }
        },
        "be8cdaa039714ecfa7305bb0bcfb8b57": {
          "model_module": "@jupyter-widgets/controls",
          "model_name": "VBoxModel",
          "state": {
            "_view_name": "VBoxView",
            "_dom_classes": [],
            "_model_name": "VBoxModel",
            "_view_module": "@jupyter-widgets/controls",
            "_model_module_version": "1.5.0",
            "_view_count": null,
            "_view_module_version": "1.5.0",
            "box_style": "",
            "layout": "IPY_MODEL_08a48aaeae6a430791a6fc000eddd8da",
            "_model_module": "@jupyter-widgets/controls",
            "children": [
              "IPY_MODEL_e35c2deca8e84547a6a96b3d8f32c4e1",
              "IPY_MODEL_e6a2bf98d5504dc0b37c147136f7cb30"
            ]
          }
        },
        "08a48aaeae6a430791a6fc000eddd8da": {
          "model_module": "@jupyter-widgets/base",
          "model_name": "LayoutModel",
          "state": {
            "_view_name": "LayoutView",
            "grid_template_rows": null,
            "right": null,
            "justify_content": null,
            "_view_module": "@jupyter-widgets/base",
            "overflow": null,
            "_model_module_version": "1.2.0",
            "_view_count": null,
            "flex_flow": null,
            "width": null,
            "min_width": null,
            "border": null,
            "align_items": null,
            "bottom": null,
            "_model_module": "@jupyter-widgets/base",
            "top": null,
            "grid_column": null,
            "overflow_y": null,
            "overflow_x": null,
            "grid_auto_flow": null,
            "grid_area": null,
            "grid_template_columns": null,
            "flex": null,
            "_model_name": "LayoutModel",
            "justify_items": null,
            "grid_row": null,
            "max_height": null,
            "align_content": null,
            "visibility": null,
            "align_self": null,
            "height": null,
            "min_height": null,
            "padding": null,
            "grid_auto_rows": null,
            "grid_gap": null,
            "max_width": null,
            "order": null,
            "_view_module_version": "1.2.0",
            "grid_template_areas": null,
            "object_position": null,
            "object_fit": null,
            "grid_auto_columns": null,
            "margin": null,
            "display": null,
            "left": null
          }
        },
        "e35c2deca8e84547a6a96b3d8f32c4e1": {
          "model_module": "@jupyter-widgets/controls",
          "model_name": "LabelModel",
          "state": {
            "_view_name": "LabelView",
            "style": "IPY_MODEL_eb98258428ff4a04b86e2112a961f041",
            "_dom_classes": [],
            "description": "",
            "_model_name": "LabelModel",
            "placeholder": "​",
            "_view_module": "@jupyter-widgets/controls",
            "_model_module_version": "1.5.0",
            "value": " 0.01MB of 0.01MB uploaded (0.00MB deduped)\r",
            "_view_count": null,
            "_view_module_version": "1.5.0",
            "description_tooltip": null,
            "_model_module": "@jupyter-widgets/controls",
            "layout": "IPY_MODEL_89aa1743595e476180f152e049764b28"
          }
        },
        "e6a2bf98d5504dc0b37c147136f7cb30": {
          "model_module": "@jupyter-widgets/controls",
          "model_name": "FloatProgressModel",
          "state": {
            "_view_name": "ProgressView",
            "style": "IPY_MODEL_196d804056304d078d83aa1485ffa5f9",
            "_dom_classes": [],
            "description": "",
            "_model_name": "FloatProgressModel",
            "bar_style": "",
            "max": 1,
            "_view_module": "@jupyter-widgets/controls",
            "_model_module_version": "1.5.0",
            "value": 1,
            "_view_count": null,
            "_view_module_version": "1.5.0",
            "orientation": "horizontal",
            "min": 0,
            "description_tooltip": null,
            "_model_module": "@jupyter-widgets/controls",
            "layout": "IPY_MODEL_0fb825c2639c4fac83e8a16b299cd3bb"
          }
        },
        "eb98258428ff4a04b86e2112a961f041": {
          "model_module": "@jupyter-widgets/controls",
          "model_name": "DescriptionStyleModel",
          "state": {
            "_view_name": "StyleView",
            "_model_name": "DescriptionStyleModel",
            "description_width": "",
            "_view_module": "@jupyter-widgets/base",
            "_model_module_version": "1.5.0",
            "_view_count": null,
            "_view_module_version": "1.2.0",
            "_model_module": "@jupyter-widgets/controls"
          }
        },
        "89aa1743595e476180f152e049764b28": {
          "model_module": "@jupyter-widgets/base",
          "model_name": "LayoutModel",
          "state": {
            "_view_name": "LayoutView",
            "grid_template_rows": null,
            "right": null,
            "justify_content": null,
            "_view_module": "@jupyter-widgets/base",
            "overflow": null,
            "_model_module_version": "1.2.0",
            "_view_count": null,
            "flex_flow": null,
            "width": null,
            "min_width": null,
            "border": null,
            "align_items": null,
            "bottom": null,
            "_model_module": "@jupyter-widgets/base",
            "top": null,
            "grid_column": null,
            "overflow_y": null,
            "overflow_x": null,
            "grid_auto_flow": null,
            "grid_area": null,
            "grid_template_columns": null,
            "flex": null,
            "_model_name": "LayoutModel",
            "justify_items": null,
            "grid_row": null,
            "max_height": null,
            "align_content": null,
            "visibility": null,
            "align_self": null,
            "height": null,
            "min_height": null,
            "padding": null,
            "grid_auto_rows": null,
            "grid_gap": null,
            "max_width": null,
            "order": null,
            "_view_module_version": "1.2.0",
            "grid_template_areas": null,
            "object_position": null,
            "object_fit": null,
            "grid_auto_columns": null,
            "margin": null,
            "display": null,
            "left": null
          }
        },
        "196d804056304d078d83aa1485ffa5f9": {
          "model_module": "@jupyter-widgets/controls",
          "model_name": "ProgressStyleModel",
          "state": {
            "_view_name": "StyleView",
            "_model_name": "ProgressStyleModel",
            "description_width": "",
            "_view_module": "@jupyter-widgets/base",
            "_model_module_version": "1.5.0",
            "_view_count": null,
            "_view_module_version": "1.2.0",
            "bar_color": null,
            "_model_module": "@jupyter-widgets/controls"
          }
        },
        "0fb825c2639c4fac83e8a16b299cd3bb": {
          "model_module": "@jupyter-widgets/base",
          "model_name": "LayoutModel",
          "state": {
            "_view_name": "LayoutView",
            "grid_template_rows": null,
            "right": null,
            "justify_content": null,
            "_view_module": "@jupyter-widgets/base",
            "overflow": null,
            "_model_module_version": "1.2.0",
            "_view_count": null,
            "flex_flow": null,
            "width": null,
            "min_width": null,
            "border": null,
            "align_items": null,
            "bottom": null,
            "_model_module": "@jupyter-widgets/base",
            "top": null,
            "grid_column": null,
            "overflow_y": null,
            "overflow_x": null,
            "grid_auto_flow": null,
            "grid_area": null,
            "grid_template_columns": null,
            "flex": null,
            "_model_name": "LayoutModel",
            "justify_items": null,
            "grid_row": null,
            "max_height": null,
            "align_content": null,
            "visibility": null,
            "align_self": null,
            "height": null,
            "min_height": null,
            "padding": null,
            "grid_auto_rows": null,
            "grid_gap": null,
            "max_width": null,
            "order": null,
            "_view_module_version": "1.2.0",
            "grid_template_areas": null,
            "object_position": null,
            "object_fit": null,
            "grid_auto_columns": null,
            "margin": null,
            "display": null,
            "left": null
          }
        },
        "d7eec64506d34345842bd9ff540ccba5": {
          "model_module": "@jupyter-widgets/controls",
          "model_name": "VBoxModel",
          "state": {
            "_view_name": "VBoxView",
            "_dom_classes": [],
            "_model_name": "VBoxModel",
            "_view_module": "@jupyter-widgets/controls",
            "_model_module_version": "1.5.0",
            "_view_count": null,
            "_view_module_version": "1.5.0",
            "box_style": "",
            "layout": "IPY_MODEL_4b78768f1d00450182f41a2c2fdee106",
            "_model_module": "@jupyter-widgets/controls",
            "children": [
              "IPY_MODEL_b9185224a1cb4882b5c0e3b3e7fcc145",
              "IPY_MODEL_c1ee17d0c1754c7b858aedfe98d01056"
            ]
          }
        },
        "4b78768f1d00450182f41a2c2fdee106": {
          "model_module": "@jupyter-widgets/base",
          "model_name": "LayoutModel",
          "state": {
            "_view_name": "LayoutView",
            "grid_template_rows": null,
            "right": null,
            "justify_content": null,
            "_view_module": "@jupyter-widgets/base",
            "overflow": null,
            "_model_module_version": "1.2.0",
            "_view_count": null,
            "flex_flow": null,
            "width": null,
            "min_width": null,
            "border": null,
            "align_items": null,
            "bottom": null,
            "_model_module": "@jupyter-widgets/base",
            "top": null,
            "grid_column": null,
            "overflow_y": null,
            "overflow_x": null,
            "grid_auto_flow": null,
            "grid_area": null,
            "grid_template_columns": null,
            "flex": null,
            "_model_name": "LayoutModel",
            "justify_items": null,
            "grid_row": null,
            "max_height": null,
            "align_content": null,
            "visibility": null,
            "align_self": null,
            "height": null,
            "min_height": null,
            "padding": null,
            "grid_auto_rows": null,
            "grid_gap": null,
            "max_width": null,
            "order": null,
            "_view_module_version": "1.2.0",
            "grid_template_areas": null,
            "object_position": null,
            "object_fit": null,
            "grid_auto_columns": null,
            "margin": null,
            "display": null,
            "left": null
          }
        },
        "b9185224a1cb4882b5c0e3b3e7fcc145": {
          "model_module": "@jupyter-widgets/controls",
          "model_name": "LabelModel",
          "state": {
            "_view_name": "LabelView",
            "style": "IPY_MODEL_35fe5abdbedf4c6b8f6f0af0504396d1",
            "_dom_classes": [],
            "description": "",
            "_model_name": "LabelModel",
            "placeholder": "​",
            "_view_module": "@jupyter-widgets/controls",
            "_model_module_version": "1.5.0",
            "value": " 0.01MB of 0.01MB uploaded (0.00MB deduped)\r",
            "_view_count": null,
            "_view_module_version": "1.5.0",
            "description_tooltip": null,
            "_model_module": "@jupyter-widgets/controls",
            "layout": "IPY_MODEL_303b36505cb94fb9b509bad96fdbfc90"
          }
        },
        "c1ee17d0c1754c7b858aedfe98d01056": {
          "model_module": "@jupyter-widgets/controls",
          "model_name": "FloatProgressModel",
          "state": {
            "_view_name": "ProgressView",
            "style": "IPY_MODEL_d73519920bab43db81f8ba0220dbabd4",
            "_dom_classes": [],
            "description": "",
            "_model_name": "FloatProgressModel",
            "bar_style": "",
            "max": 1,
            "_view_module": "@jupyter-widgets/controls",
            "_model_module_version": "1.5.0",
            "value": 1,
            "_view_count": null,
            "_view_module_version": "1.5.0",
            "orientation": "horizontal",
            "min": 0,
            "description_tooltip": null,
            "_model_module": "@jupyter-widgets/controls",
            "layout": "IPY_MODEL_09570baab4f3445baa469399d775e3a5"
          }
        },
        "35fe5abdbedf4c6b8f6f0af0504396d1": {
          "model_module": "@jupyter-widgets/controls",
          "model_name": "DescriptionStyleModel",
          "state": {
            "_view_name": "StyleView",
            "_model_name": "DescriptionStyleModel",
            "description_width": "",
            "_view_module": "@jupyter-widgets/base",
            "_model_module_version": "1.5.0",
            "_view_count": null,
            "_view_module_version": "1.2.0",
            "_model_module": "@jupyter-widgets/controls"
          }
        },
        "303b36505cb94fb9b509bad96fdbfc90": {
          "model_module": "@jupyter-widgets/base",
          "model_name": "LayoutModel",
          "state": {
            "_view_name": "LayoutView",
            "grid_template_rows": null,
            "right": null,
            "justify_content": null,
            "_view_module": "@jupyter-widgets/base",
            "overflow": null,
            "_model_module_version": "1.2.0",
            "_view_count": null,
            "flex_flow": null,
            "width": null,
            "min_width": null,
            "border": null,
            "align_items": null,
            "bottom": null,
            "_model_module": "@jupyter-widgets/base",
            "top": null,
            "grid_column": null,
            "overflow_y": null,
            "overflow_x": null,
            "grid_auto_flow": null,
            "grid_area": null,
            "grid_template_columns": null,
            "flex": null,
            "_model_name": "LayoutModel",
            "justify_items": null,
            "grid_row": null,
            "max_height": null,
            "align_content": null,
            "visibility": null,
            "align_self": null,
            "height": null,
            "min_height": null,
            "padding": null,
            "grid_auto_rows": null,
            "grid_gap": null,
            "max_width": null,
            "order": null,
            "_view_module_version": "1.2.0",
            "grid_template_areas": null,
            "object_position": null,
            "object_fit": null,
            "grid_auto_columns": null,
            "margin": null,
            "display": null,
            "left": null
          }
        },
        "d73519920bab43db81f8ba0220dbabd4": {
          "model_module": "@jupyter-widgets/controls",
          "model_name": "ProgressStyleModel",
          "state": {
            "_view_name": "StyleView",
            "_model_name": "ProgressStyleModel",
            "description_width": "",
            "_view_module": "@jupyter-widgets/base",
            "_model_module_version": "1.5.0",
            "_view_count": null,
            "_view_module_version": "1.2.0",
            "bar_color": null,
            "_model_module": "@jupyter-widgets/controls"
          }
        },
        "09570baab4f3445baa469399d775e3a5": {
          "model_module": "@jupyter-widgets/base",
          "model_name": "LayoutModel",
          "state": {
            "_view_name": "LayoutView",
            "grid_template_rows": null,
            "right": null,
            "justify_content": null,
            "_view_module": "@jupyter-widgets/base",
            "overflow": null,
            "_model_module_version": "1.2.0",
            "_view_count": null,
            "flex_flow": null,
            "width": null,
            "min_width": null,
            "border": null,
            "align_items": null,
            "bottom": null,
            "_model_module": "@jupyter-widgets/base",
            "top": null,
            "grid_column": null,
            "overflow_y": null,
            "overflow_x": null,
            "grid_auto_flow": null,
            "grid_area": null,
            "grid_template_columns": null,
            "flex": null,
            "_model_name": "LayoutModel",
            "justify_items": null,
            "grid_row": null,
            "max_height": null,
            "align_content": null,
            "visibility": null,
            "align_self": null,
            "height": null,
            "min_height": null,
            "padding": null,
            "grid_auto_rows": null,
            "grid_gap": null,
            "max_width": null,
            "order": null,
            "_view_module_version": "1.2.0",
            "grid_template_areas": null,
            "object_position": null,
            "object_fit": null,
            "grid_auto_columns": null,
            "margin": null,
            "display": null,
            "left": null
          }
        },
        "b4e7479818fc4b1aaaeb5ca4afd01421": {
          "model_module": "@jupyter-widgets/controls",
          "model_name": "VBoxModel",
          "state": {
            "_view_name": "VBoxView",
            "_dom_classes": [],
            "_model_name": "VBoxModel",
            "_view_module": "@jupyter-widgets/controls",
            "_model_module_version": "1.5.0",
            "_view_count": null,
            "_view_module_version": "1.5.0",
            "box_style": "",
            "layout": "IPY_MODEL_a809c29e6bce40ceae7bac6d51093c7b",
            "_model_module": "@jupyter-widgets/controls",
            "children": [
              "IPY_MODEL_1193324fb5e24d63867772e7c6c352ce",
              "IPY_MODEL_663eccf68438486f97d84dd6e61129a6"
            ]
          }
        },
        "a809c29e6bce40ceae7bac6d51093c7b": {
          "model_module": "@jupyter-widgets/base",
          "model_name": "LayoutModel",
          "state": {
            "_view_name": "LayoutView",
            "grid_template_rows": null,
            "right": null,
            "justify_content": null,
            "_view_module": "@jupyter-widgets/base",
            "overflow": null,
            "_model_module_version": "1.2.0",
            "_view_count": null,
            "flex_flow": null,
            "width": null,
            "min_width": null,
            "border": null,
            "align_items": null,
            "bottom": null,
            "_model_module": "@jupyter-widgets/base",
            "top": null,
            "grid_column": null,
            "overflow_y": null,
            "overflow_x": null,
            "grid_auto_flow": null,
            "grid_area": null,
            "grid_template_columns": null,
            "flex": null,
            "_model_name": "LayoutModel",
            "justify_items": null,
            "grid_row": null,
            "max_height": null,
            "align_content": null,
            "visibility": null,
            "align_self": null,
            "height": null,
            "min_height": null,
            "padding": null,
            "grid_auto_rows": null,
            "grid_gap": null,
            "max_width": null,
            "order": null,
            "_view_module_version": "1.2.0",
            "grid_template_areas": null,
            "object_position": null,
            "object_fit": null,
            "grid_auto_columns": null,
            "margin": null,
            "display": null,
            "left": null
          }
        },
        "1193324fb5e24d63867772e7c6c352ce": {
          "model_module": "@jupyter-widgets/controls",
          "model_name": "LabelModel",
          "state": {
            "_view_name": "LabelView",
            "style": "IPY_MODEL_b2b1fc5853f74cd3bb01a66417e1d550",
            "_dom_classes": [],
            "description": "",
            "_model_name": "LabelModel",
            "placeholder": "​",
            "_view_module": "@jupyter-widgets/controls",
            "_model_module_version": "1.5.0",
            "value": " 0.01MB of 0.01MB uploaded (0.00MB deduped)\r",
            "_view_count": null,
            "_view_module_version": "1.5.0",
            "description_tooltip": null,
            "_model_module": "@jupyter-widgets/controls",
            "layout": "IPY_MODEL_e0f80fc0877b48b98e2ed0c21fd8e7ca"
          }
        },
        "663eccf68438486f97d84dd6e61129a6": {
          "model_module": "@jupyter-widgets/controls",
          "model_name": "FloatProgressModel",
          "state": {
            "_view_name": "ProgressView",
            "style": "IPY_MODEL_367f8ba7fc5e49cdbab3c342d207aa93",
            "_dom_classes": [],
            "description": "",
            "_model_name": "FloatProgressModel",
            "bar_style": "",
            "max": 1,
            "_view_module": "@jupyter-widgets/controls",
            "_model_module_version": "1.5.0",
            "value": 1,
            "_view_count": null,
            "_view_module_version": "1.5.0",
            "orientation": "horizontal",
            "min": 0,
            "description_tooltip": null,
            "_model_module": "@jupyter-widgets/controls",
            "layout": "IPY_MODEL_bb2e5a29d08f4bf1843b723ac6996d34"
          }
        },
        "b2b1fc5853f74cd3bb01a66417e1d550": {
          "model_module": "@jupyter-widgets/controls",
          "model_name": "DescriptionStyleModel",
          "state": {
            "_view_name": "StyleView",
            "_model_name": "DescriptionStyleModel",
            "description_width": "",
            "_view_module": "@jupyter-widgets/base",
            "_model_module_version": "1.5.0",
            "_view_count": null,
            "_view_module_version": "1.2.0",
            "_model_module": "@jupyter-widgets/controls"
          }
        },
        "e0f80fc0877b48b98e2ed0c21fd8e7ca": {
          "model_module": "@jupyter-widgets/base",
          "model_name": "LayoutModel",
          "state": {
            "_view_name": "LayoutView",
            "grid_template_rows": null,
            "right": null,
            "justify_content": null,
            "_view_module": "@jupyter-widgets/base",
            "overflow": null,
            "_model_module_version": "1.2.0",
            "_view_count": null,
            "flex_flow": null,
            "width": null,
            "min_width": null,
            "border": null,
            "align_items": null,
            "bottom": null,
            "_model_module": "@jupyter-widgets/base",
            "top": null,
            "grid_column": null,
            "overflow_y": null,
            "overflow_x": null,
            "grid_auto_flow": null,
            "grid_area": null,
            "grid_template_columns": null,
            "flex": null,
            "_model_name": "LayoutModel",
            "justify_items": null,
            "grid_row": null,
            "max_height": null,
            "align_content": null,
            "visibility": null,
            "align_self": null,
            "height": null,
            "min_height": null,
            "padding": null,
            "grid_auto_rows": null,
            "grid_gap": null,
            "max_width": null,
            "order": null,
            "_view_module_version": "1.2.0",
            "grid_template_areas": null,
            "object_position": null,
            "object_fit": null,
            "grid_auto_columns": null,
            "margin": null,
            "display": null,
            "left": null
          }
        },
        "367f8ba7fc5e49cdbab3c342d207aa93": {
          "model_module": "@jupyter-widgets/controls",
          "model_name": "ProgressStyleModel",
          "state": {
            "_view_name": "StyleView",
            "_model_name": "ProgressStyleModel",
            "description_width": "",
            "_view_module": "@jupyter-widgets/base",
            "_model_module_version": "1.5.0",
            "_view_count": null,
            "_view_module_version": "1.2.0",
            "bar_color": null,
            "_model_module": "@jupyter-widgets/controls"
          }
        },
        "bb2e5a29d08f4bf1843b723ac6996d34": {
          "model_module": "@jupyter-widgets/base",
          "model_name": "LayoutModel",
          "state": {
            "_view_name": "LayoutView",
            "grid_template_rows": null,
            "right": null,
            "justify_content": null,
            "_view_module": "@jupyter-widgets/base",
            "overflow": null,
            "_model_module_version": "1.2.0",
            "_view_count": null,
            "flex_flow": null,
            "width": null,
            "min_width": null,
            "border": null,
            "align_items": null,
            "bottom": null,
            "_model_module": "@jupyter-widgets/base",
            "top": null,
            "grid_column": null,
            "overflow_y": null,
            "overflow_x": null,
            "grid_auto_flow": null,
            "grid_area": null,
            "grid_template_columns": null,
            "flex": null,
            "_model_name": "LayoutModel",
            "justify_items": null,
            "grid_row": null,
            "max_height": null,
            "align_content": null,
            "visibility": null,
            "align_self": null,
            "height": null,
            "min_height": null,
            "padding": null,
            "grid_auto_rows": null,
            "grid_gap": null,
            "max_width": null,
            "order": null,
            "_view_module_version": "1.2.0",
            "grid_template_areas": null,
            "object_position": null,
            "object_fit": null,
            "grid_auto_columns": null,
            "margin": null,
            "display": null,
            "left": null
          }
        },
        "abf20e9aea9342ff9d4ba52fea36aa8b": {
          "model_module": "@jupyter-widgets/controls",
          "model_name": "VBoxModel",
          "state": {
            "_view_name": "VBoxView",
            "_dom_classes": [],
            "_model_name": "VBoxModel",
            "_view_module": "@jupyter-widgets/controls",
            "_model_module_version": "1.5.0",
            "_view_count": null,
            "_view_module_version": "1.5.0",
            "box_style": "",
            "layout": "IPY_MODEL_ff4fa713db0e4df7a3be59233a37dae2",
            "_model_module": "@jupyter-widgets/controls",
            "children": [
              "IPY_MODEL_f136e8a4d4234f4fb3ff0d9bb697fbb3",
              "IPY_MODEL_db489b8c5d9347d28c6a54b41709ed03"
            ]
          }
        },
        "ff4fa713db0e4df7a3be59233a37dae2": {
          "model_module": "@jupyter-widgets/base",
          "model_name": "LayoutModel",
          "state": {
            "_view_name": "LayoutView",
            "grid_template_rows": null,
            "right": null,
            "justify_content": null,
            "_view_module": "@jupyter-widgets/base",
            "overflow": null,
            "_model_module_version": "1.2.0",
            "_view_count": null,
            "flex_flow": null,
            "width": null,
            "min_width": null,
            "border": null,
            "align_items": null,
            "bottom": null,
            "_model_module": "@jupyter-widgets/base",
            "top": null,
            "grid_column": null,
            "overflow_y": null,
            "overflow_x": null,
            "grid_auto_flow": null,
            "grid_area": null,
            "grid_template_columns": null,
            "flex": null,
            "_model_name": "LayoutModel",
            "justify_items": null,
            "grid_row": null,
            "max_height": null,
            "align_content": null,
            "visibility": null,
            "align_self": null,
            "height": null,
            "min_height": null,
            "padding": null,
            "grid_auto_rows": null,
            "grid_gap": null,
            "max_width": null,
            "order": null,
            "_view_module_version": "1.2.0",
            "grid_template_areas": null,
            "object_position": null,
            "object_fit": null,
            "grid_auto_columns": null,
            "margin": null,
            "display": null,
            "left": null
          }
        },
        "f136e8a4d4234f4fb3ff0d9bb697fbb3": {
          "model_module": "@jupyter-widgets/controls",
          "model_name": "LabelModel",
          "state": {
            "_view_name": "LabelView",
            "style": "IPY_MODEL_779c95cd981f46d2aa00aa3491bb25e3",
            "_dom_classes": [],
            "description": "",
            "_model_name": "LabelModel",
            "placeholder": "​",
            "_view_module": "@jupyter-widgets/controls",
            "_model_module_version": "1.5.0",
            "value": " 0.01MB of 0.01MB uploaded (0.00MB deduped)\r",
            "_view_count": null,
            "_view_module_version": "1.5.0",
            "description_tooltip": null,
            "_model_module": "@jupyter-widgets/controls",
            "layout": "IPY_MODEL_1850b4d169464252b4f5e62680c3c3f3"
          }
        },
        "db489b8c5d9347d28c6a54b41709ed03": {
          "model_module": "@jupyter-widgets/controls",
          "model_name": "FloatProgressModel",
          "state": {
            "_view_name": "ProgressView",
            "style": "IPY_MODEL_b341a9472774442296f295fff16e2560",
            "_dom_classes": [],
            "description": "",
            "_model_name": "FloatProgressModel",
            "bar_style": "",
            "max": 1,
            "_view_module": "@jupyter-widgets/controls",
            "_model_module_version": "1.5.0",
            "value": 1,
            "_view_count": null,
            "_view_module_version": "1.5.0",
            "orientation": "horizontal",
            "min": 0,
            "description_tooltip": null,
            "_model_module": "@jupyter-widgets/controls",
            "layout": "IPY_MODEL_0c0a02b2ab3349c1be15e40f33599eae"
          }
        },
        "779c95cd981f46d2aa00aa3491bb25e3": {
          "model_module": "@jupyter-widgets/controls",
          "model_name": "DescriptionStyleModel",
          "state": {
            "_view_name": "StyleView",
            "_model_name": "DescriptionStyleModel",
            "description_width": "",
            "_view_module": "@jupyter-widgets/base",
            "_model_module_version": "1.5.0",
            "_view_count": null,
            "_view_module_version": "1.2.0",
            "_model_module": "@jupyter-widgets/controls"
          }
        },
        "1850b4d169464252b4f5e62680c3c3f3": {
          "model_module": "@jupyter-widgets/base",
          "model_name": "LayoutModel",
          "state": {
            "_view_name": "LayoutView",
            "grid_template_rows": null,
            "right": null,
            "justify_content": null,
            "_view_module": "@jupyter-widgets/base",
            "overflow": null,
            "_model_module_version": "1.2.0",
            "_view_count": null,
            "flex_flow": null,
            "width": null,
            "min_width": null,
            "border": null,
            "align_items": null,
            "bottom": null,
            "_model_module": "@jupyter-widgets/base",
            "top": null,
            "grid_column": null,
            "overflow_y": null,
            "overflow_x": null,
            "grid_auto_flow": null,
            "grid_area": null,
            "grid_template_columns": null,
            "flex": null,
            "_model_name": "LayoutModel",
            "justify_items": null,
            "grid_row": null,
            "max_height": null,
            "align_content": null,
            "visibility": null,
            "align_self": null,
            "height": null,
            "min_height": null,
            "padding": null,
            "grid_auto_rows": null,
            "grid_gap": null,
            "max_width": null,
            "order": null,
            "_view_module_version": "1.2.0",
            "grid_template_areas": null,
            "object_position": null,
            "object_fit": null,
            "grid_auto_columns": null,
            "margin": null,
            "display": null,
            "left": null
          }
        },
        "b341a9472774442296f295fff16e2560": {
          "model_module": "@jupyter-widgets/controls",
          "model_name": "ProgressStyleModel",
          "state": {
            "_view_name": "StyleView",
            "_model_name": "ProgressStyleModel",
            "description_width": "",
            "_view_module": "@jupyter-widgets/base",
            "_model_module_version": "1.5.0",
            "_view_count": null,
            "_view_module_version": "1.2.0",
            "bar_color": null,
            "_model_module": "@jupyter-widgets/controls"
          }
        },
        "0c0a02b2ab3349c1be15e40f33599eae": {
          "model_module": "@jupyter-widgets/base",
          "model_name": "LayoutModel",
          "state": {
            "_view_name": "LayoutView",
            "grid_template_rows": null,
            "right": null,
            "justify_content": null,
            "_view_module": "@jupyter-widgets/base",
            "overflow": null,
            "_model_module_version": "1.2.0",
            "_view_count": null,
            "flex_flow": null,
            "width": null,
            "min_width": null,
            "border": null,
            "align_items": null,
            "bottom": null,
            "_model_module": "@jupyter-widgets/base",
            "top": null,
            "grid_column": null,
            "overflow_y": null,
            "overflow_x": null,
            "grid_auto_flow": null,
            "grid_area": null,
            "grid_template_columns": null,
            "flex": null,
            "_model_name": "LayoutModel",
            "justify_items": null,
            "grid_row": null,
            "max_height": null,
            "align_content": null,
            "visibility": null,
            "align_self": null,
            "height": null,
            "min_height": null,
            "padding": null,
            "grid_auto_rows": null,
            "grid_gap": null,
            "max_width": null,
            "order": null,
            "_view_module_version": "1.2.0",
            "grid_template_areas": null,
            "object_position": null,
            "object_fit": null,
            "grid_auto_columns": null,
            "margin": null,
            "display": null,
            "left": null
          }
        },
        "b08fe9837d1645c8ac7b052aa1f6c157": {
          "model_module": "@jupyter-widgets/controls",
          "model_name": "VBoxModel",
          "state": {
            "_view_name": "VBoxView",
            "_dom_classes": [],
            "_model_name": "VBoxModel",
            "_view_module": "@jupyter-widgets/controls",
            "_model_module_version": "1.5.0",
            "_view_count": null,
            "_view_module_version": "1.5.0",
            "box_style": "",
            "layout": "IPY_MODEL_91d75e79d8c242fd8614d4e54e6cdb86",
            "_model_module": "@jupyter-widgets/controls",
            "children": [
              "IPY_MODEL_933751aaa02744c9bc847606fe1e316a",
              "IPY_MODEL_e8cfb8098e01475698ff7967eb25fdcb"
            ]
          }
        },
        "91d75e79d8c242fd8614d4e54e6cdb86": {
          "model_module": "@jupyter-widgets/base",
          "model_name": "LayoutModel",
          "state": {
            "_view_name": "LayoutView",
            "grid_template_rows": null,
            "right": null,
            "justify_content": null,
            "_view_module": "@jupyter-widgets/base",
            "overflow": null,
            "_model_module_version": "1.2.0",
            "_view_count": null,
            "flex_flow": null,
            "width": null,
            "min_width": null,
            "border": null,
            "align_items": null,
            "bottom": null,
            "_model_module": "@jupyter-widgets/base",
            "top": null,
            "grid_column": null,
            "overflow_y": null,
            "overflow_x": null,
            "grid_auto_flow": null,
            "grid_area": null,
            "grid_template_columns": null,
            "flex": null,
            "_model_name": "LayoutModel",
            "justify_items": null,
            "grid_row": null,
            "max_height": null,
            "align_content": null,
            "visibility": null,
            "align_self": null,
            "height": null,
            "min_height": null,
            "padding": null,
            "grid_auto_rows": null,
            "grid_gap": null,
            "max_width": null,
            "order": null,
            "_view_module_version": "1.2.0",
            "grid_template_areas": null,
            "object_position": null,
            "object_fit": null,
            "grid_auto_columns": null,
            "margin": null,
            "display": null,
            "left": null
          }
        },
        "933751aaa02744c9bc847606fe1e316a": {
          "model_module": "@jupyter-widgets/controls",
          "model_name": "LabelModel",
          "state": {
            "_view_name": "LabelView",
            "style": "IPY_MODEL_710ebab02d07456e8266af9eb38c3949",
            "_dom_classes": [],
            "description": "",
            "_model_name": "LabelModel",
            "placeholder": "​",
            "_view_module": "@jupyter-widgets/controls",
            "_model_module_version": "1.5.0",
            "value": " 0.01MB of 0.01MB uploaded (0.00MB deduped)\r",
            "_view_count": null,
            "_view_module_version": "1.5.0",
            "description_tooltip": null,
            "_model_module": "@jupyter-widgets/controls",
            "layout": "IPY_MODEL_75e9be871d1b4d27b2f0f8b7eb515258"
          }
        },
        "e8cfb8098e01475698ff7967eb25fdcb": {
          "model_module": "@jupyter-widgets/controls",
          "model_name": "FloatProgressModel",
          "state": {
            "_view_name": "ProgressView",
            "style": "IPY_MODEL_87c2e897d02a4761af6ab385459fbe95",
            "_dom_classes": [],
            "description": "",
            "_model_name": "FloatProgressModel",
            "bar_style": "",
            "max": 1,
            "_view_module": "@jupyter-widgets/controls",
            "_model_module_version": "1.5.0",
            "value": 1,
            "_view_count": null,
            "_view_module_version": "1.5.0",
            "orientation": "horizontal",
            "min": 0,
            "description_tooltip": null,
            "_model_module": "@jupyter-widgets/controls",
            "layout": "IPY_MODEL_ff518701fd7849c486f1340ad4310890"
          }
        },
        "710ebab02d07456e8266af9eb38c3949": {
          "model_module": "@jupyter-widgets/controls",
          "model_name": "DescriptionStyleModel",
          "state": {
            "_view_name": "StyleView",
            "_model_name": "DescriptionStyleModel",
            "description_width": "",
            "_view_module": "@jupyter-widgets/base",
            "_model_module_version": "1.5.0",
            "_view_count": null,
            "_view_module_version": "1.2.0",
            "_model_module": "@jupyter-widgets/controls"
          }
        },
        "75e9be871d1b4d27b2f0f8b7eb515258": {
          "model_module": "@jupyter-widgets/base",
          "model_name": "LayoutModel",
          "state": {
            "_view_name": "LayoutView",
            "grid_template_rows": null,
            "right": null,
            "justify_content": null,
            "_view_module": "@jupyter-widgets/base",
            "overflow": null,
            "_model_module_version": "1.2.0",
            "_view_count": null,
            "flex_flow": null,
            "width": null,
            "min_width": null,
            "border": null,
            "align_items": null,
            "bottom": null,
            "_model_module": "@jupyter-widgets/base",
            "top": null,
            "grid_column": null,
            "overflow_y": null,
            "overflow_x": null,
            "grid_auto_flow": null,
            "grid_area": null,
            "grid_template_columns": null,
            "flex": null,
            "_model_name": "LayoutModel",
            "justify_items": null,
            "grid_row": null,
            "max_height": null,
            "align_content": null,
            "visibility": null,
            "align_self": null,
            "height": null,
            "min_height": null,
            "padding": null,
            "grid_auto_rows": null,
            "grid_gap": null,
            "max_width": null,
            "order": null,
            "_view_module_version": "1.2.0",
            "grid_template_areas": null,
            "object_position": null,
            "object_fit": null,
            "grid_auto_columns": null,
            "margin": null,
            "display": null,
            "left": null
          }
        },
        "87c2e897d02a4761af6ab385459fbe95": {
          "model_module": "@jupyter-widgets/controls",
          "model_name": "ProgressStyleModel",
          "state": {
            "_view_name": "StyleView",
            "_model_name": "ProgressStyleModel",
            "description_width": "",
            "_view_module": "@jupyter-widgets/base",
            "_model_module_version": "1.5.0",
            "_view_count": null,
            "_view_module_version": "1.2.0",
            "bar_color": null,
            "_model_module": "@jupyter-widgets/controls"
          }
        },
        "ff518701fd7849c486f1340ad4310890": {
          "model_module": "@jupyter-widgets/base",
          "model_name": "LayoutModel",
          "state": {
            "_view_name": "LayoutView",
            "grid_template_rows": null,
            "right": null,
            "justify_content": null,
            "_view_module": "@jupyter-widgets/base",
            "overflow": null,
            "_model_module_version": "1.2.0",
            "_view_count": null,
            "flex_flow": null,
            "width": null,
            "min_width": null,
            "border": null,
            "align_items": null,
            "bottom": null,
            "_model_module": "@jupyter-widgets/base",
            "top": null,
            "grid_column": null,
            "overflow_y": null,
            "overflow_x": null,
            "grid_auto_flow": null,
            "grid_area": null,
            "grid_template_columns": null,
            "flex": null,
            "_model_name": "LayoutModel",
            "justify_items": null,
            "grid_row": null,
            "max_height": null,
            "align_content": null,
            "visibility": null,
            "align_self": null,
            "height": null,
            "min_height": null,
            "padding": null,
            "grid_auto_rows": null,
            "grid_gap": null,
            "max_width": null,
            "order": null,
            "_view_module_version": "1.2.0",
            "grid_template_areas": null,
            "object_position": null,
            "object_fit": null,
            "grid_auto_columns": null,
            "margin": null,
            "display": null,
            "left": null
          }
        },
        "ecf64252b3534eb18214832ee8f84b73": {
          "model_module": "@jupyter-widgets/controls",
          "model_name": "VBoxModel",
          "state": {
            "_view_name": "VBoxView",
            "_dom_classes": [],
            "_model_name": "VBoxModel",
            "_view_module": "@jupyter-widgets/controls",
            "_model_module_version": "1.5.0",
            "_view_count": null,
            "_view_module_version": "1.5.0",
            "box_style": "",
            "layout": "IPY_MODEL_f421f3a08f4943ad801071d11708d165",
            "_model_module": "@jupyter-widgets/controls",
            "children": [
              "IPY_MODEL_566200f9fd684a99b918f9790dff0e97",
              "IPY_MODEL_494c3ae6d741466eb1d34cd92818bec2"
            ]
          }
        },
        "f421f3a08f4943ad801071d11708d165": {
          "model_module": "@jupyter-widgets/base",
          "model_name": "LayoutModel",
          "state": {
            "_view_name": "LayoutView",
            "grid_template_rows": null,
            "right": null,
            "justify_content": null,
            "_view_module": "@jupyter-widgets/base",
            "overflow": null,
            "_model_module_version": "1.2.0",
            "_view_count": null,
            "flex_flow": null,
            "width": null,
            "min_width": null,
            "border": null,
            "align_items": null,
            "bottom": null,
            "_model_module": "@jupyter-widgets/base",
            "top": null,
            "grid_column": null,
            "overflow_y": null,
            "overflow_x": null,
            "grid_auto_flow": null,
            "grid_area": null,
            "grid_template_columns": null,
            "flex": null,
            "_model_name": "LayoutModel",
            "justify_items": null,
            "grid_row": null,
            "max_height": null,
            "align_content": null,
            "visibility": null,
            "align_self": null,
            "height": null,
            "min_height": null,
            "padding": null,
            "grid_auto_rows": null,
            "grid_gap": null,
            "max_width": null,
            "order": null,
            "_view_module_version": "1.2.0",
            "grid_template_areas": null,
            "object_position": null,
            "object_fit": null,
            "grid_auto_columns": null,
            "margin": null,
            "display": null,
            "left": null
          }
        },
        "566200f9fd684a99b918f9790dff0e97": {
          "model_module": "@jupyter-widgets/controls",
          "model_name": "LabelModel",
          "state": {
            "_view_name": "LabelView",
            "style": "IPY_MODEL_02846974a0b244fea5b813a94a1e05ec",
            "_dom_classes": [],
            "description": "",
            "_model_name": "LabelModel",
            "placeholder": "​",
            "_view_module": "@jupyter-widgets/controls",
            "_model_module_version": "1.5.0",
            "value": " 0.01MB of 0.01MB uploaded (0.00MB deduped)\r",
            "_view_count": null,
            "_view_module_version": "1.5.0",
            "description_tooltip": null,
            "_model_module": "@jupyter-widgets/controls",
            "layout": "IPY_MODEL_f0f4013c780d4971b2074575de6cfcbd"
          }
        },
        "494c3ae6d741466eb1d34cd92818bec2": {
          "model_module": "@jupyter-widgets/controls",
          "model_name": "FloatProgressModel",
          "state": {
            "_view_name": "ProgressView",
            "style": "IPY_MODEL_5682e3d11c5d4119ad555bb85575d637",
            "_dom_classes": [],
            "description": "",
            "_model_name": "FloatProgressModel",
            "bar_style": "",
            "max": 1,
            "_view_module": "@jupyter-widgets/controls",
            "_model_module_version": "1.5.0",
            "value": 1,
            "_view_count": null,
            "_view_module_version": "1.5.0",
            "orientation": "horizontal",
            "min": 0,
            "description_tooltip": null,
            "_model_module": "@jupyter-widgets/controls",
            "layout": "IPY_MODEL_7ffc018de5cb4545a2a825500aebf762"
          }
        },
        "02846974a0b244fea5b813a94a1e05ec": {
          "model_module": "@jupyter-widgets/controls",
          "model_name": "DescriptionStyleModel",
          "state": {
            "_view_name": "StyleView",
            "_model_name": "DescriptionStyleModel",
            "description_width": "",
            "_view_module": "@jupyter-widgets/base",
            "_model_module_version": "1.5.0",
            "_view_count": null,
            "_view_module_version": "1.2.0",
            "_model_module": "@jupyter-widgets/controls"
          }
        },
        "f0f4013c780d4971b2074575de6cfcbd": {
          "model_module": "@jupyter-widgets/base",
          "model_name": "LayoutModel",
          "state": {
            "_view_name": "LayoutView",
            "grid_template_rows": null,
            "right": null,
            "justify_content": null,
            "_view_module": "@jupyter-widgets/base",
            "overflow": null,
            "_model_module_version": "1.2.0",
            "_view_count": null,
            "flex_flow": null,
            "width": null,
            "min_width": null,
            "border": null,
            "align_items": null,
            "bottom": null,
            "_model_module": "@jupyter-widgets/base",
            "top": null,
            "grid_column": null,
            "overflow_y": null,
            "overflow_x": null,
            "grid_auto_flow": null,
            "grid_area": null,
            "grid_template_columns": null,
            "flex": null,
            "_model_name": "LayoutModel",
            "justify_items": null,
            "grid_row": null,
            "max_height": null,
            "align_content": null,
            "visibility": null,
            "align_self": null,
            "height": null,
            "min_height": null,
            "padding": null,
            "grid_auto_rows": null,
            "grid_gap": null,
            "max_width": null,
            "order": null,
            "_view_module_version": "1.2.0",
            "grid_template_areas": null,
            "object_position": null,
            "object_fit": null,
            "grid_auto_columns": null,
            "margin": null,
            "display": null,
            "left": null
          }
        },
        "5682e3d11c5d4119ad555bb85575d637": {
          "model_module": "@jupyter-widgets/controls",
          "model_name": "ProgressStyleModel",
          "state": {
            "_view_name": "StyleView",
            "_model_name": "ProgressStyleModel",
            "description_width": "",
            "_view_module": "@jupyter-widgets/base",
            "_model_module_version": "1.5.0",
            "_view_count": null,
            "_view_module_version": "1.2.0",
            "bar_color": null,
            "_model_module": "@jupyter-widgets/controls"
          }
        },
        "7ffc018de5cb4545a2a825500aebf762": {
          "model_module": "@jupyter-widgets/base",
          "model_name": "LayoutModel",
          "state": {
            "_view_name": "LayoutView",
            "grid_template_rows": null,
            "right": null,
            "justify_content": null,
            "_view_module": "@jupyter-widgets/base",
            "overflow": null,
            "_model_module_version": "1.2.0",
            "_view_count": null,
            "flex_flow": null,
            "width": null,
            "min_width": null,
            "border": null,
            "align_items": null,
            "bottom": null,
            "_model_module": "@jupyter-widgets/base",
            "top": null,
            "grid_column": null,
            "overflow_y": null,
            "overflow_x": null,
            "grid_auto_flow": null,
            "grid_area": null,
            "grid_template_columns": null,
            "flex": null,
            "_model_name": "LayoutModel",
            "justify_items": null,
            "grid_row": null,
            "max_height": null,
            "align_content": null,
            "visibility": null,
            "align_self": null,
            "height": null,
            "min_height": null,
            "padding": null,
            "grid_auto_rows": null,
            "grid_gap": null,
            "max_width": null,
            "order": null,
            "_view_module_version": "1.2.0",
            "grid_template_areas": null,
            "object_position": null,
            "object_fit": null,
            "grid_auto_columns": null,
            "margin": null,
            "display": null,
            "left": null
          }
        },
        "7abaeb78c3a4436ebdf5d51ef87d58f2": {
          "model_module": "@jupyter-widgets/controls",
          "model_name": "VBoxModel",
          "state": {
            "_view_name": "VBoxView",
            "_dom_classes": [],
            "_model_name": "VBoxModel",
            "_view_module": "@jupyter-widgets/controls",
            "_model_module_version": "1.5.0",
            "_view_count": null,
            "_view_module_version": "1.5.0",
            "box_style": "",
            "layout": "IPY_MODEL_827c68750e9544a586ba54e0d53a7f07",
            "_model_module": "@jupyter-widgets/controls",
            "children": [
              "IPY_MODEL_e5a0c41d1e84486a96366e7e566f2d63",
              "IPY_MODEL_5b2ea8092d2a4054aee4a4e064021bb3"
            ]
          }
        },
        "827c68750e9544a586ba54e0d53a7f07": {
          "model_module": "@jupyter-widgets/base",
          "model_name": "LayoutModel",
          "state": {
            "_view_name": "LayoutView",
            "grid_template_rows": null,
            "right": null,
            "justify_content": null,
            "_view_module": "@jupyter-widgets/base",
            "overflow": null,
            "_model_module_version": "1.2.0",
            "_view_count": null,
            "flex_flow": null,
            "width": null,
            "min_width": null,
            "border": null,
            "align_items": null,
            "bottom": null,
            "_model_module": "@jupyter-widgets/base",
            "top": null,
            "grid_column": null,
            "overflow_y": null,
            "overflow_x": null,
            "grid_auto_flow": null,
            "grid_area": null,
            "grid_template_columns": null,
            "flex": null,
            "_model_name": "LayoutModel",
            "justify_items": null,
            "grid_row": null,
            "max_height": null,
            "align_content": null,
            "visibility": null,
            "align_self": null,
            "height": null,
            "min_height": null,
            "padding": null,
            "grid_auto_rows": null,
            "grid_gap": null,
            "max_width": null,
            "order": null,
            "_view_module_version": "1.2.0",
            "grid_template_areas": null,
            "object_position": null,
            "object_fit": null,
            "grid_auto_columns": null,
            "margin": null,
            "display": null,
            "left": null
          }
        },
        "e5a0c41d1e84486a96366e7e566f2d63": {
          "model_module": "@jupyter-widgets/controls",
          "model_name": "LabelModel",
          "state": {
            "_view_name": "LabelView",
            "style": "IPY_MODEL_de436cf7e966494195bb04ef1e5fd14b",
            "_dom_classes": [],
            "description": "",
            "_model_name": "LabelModel",
            "placeholder": "​",
            "_view_module": "@jupyter-widgets/controls",
            "_model_module_version": "1.5.0",
            "value": " 0.01MB of 0.01MB uploaded (0.00MB deduped)\r",
            "_view_count": null,
            "_view_module_version": "1.5.0",
            "description_tooltip": null,
            "_model_module": "@jupyter-widgets/controls",
            "layout": "IPY_MODEL_18868fa7cac74789918d66cab786321f"
          }
        },
        "5b2ea8092d2a4054aee4a4e064021bb3": {
          "model_module": "@jupyter-widgets/controls",
          "model_name": "FloatProgressModel",
          "state": {
            "_view_name": "ProgressView",
            "style": "IPY_MODEL_7e8bf5aba15d4b7095873024a16b80d8",
            "_dom_classes": [],
            "description": "",
            "_model_name": "FloatProgressModel",
            "bar_style": "",
            "max": 1,
            "_view_module": "@jupyter-widgets/controls",
            "_model_module_version": "1.5.0",
            "value": 1,
            "_view_count": null,
            "_view_module_version": "1.5.0",
            "orientation": "horizontal",
            "min": 0,
            "description_tooltip": null,
            "_model_module": "@jupyter-widgets/controls",
            "layout": "IPY_MODEL_746251726db54db2a70931bae3857f6d"
          }
        },
        "de436cf7e966494195bb04ef1e5fd14b": {
          "model_module": "@jupyter-widgets/controls",
          "model_name": "DescriptionStyleModel",
          "state": {
            "_view_name": "StyleView",
            "_model_name": "DescriptionStyleModel",
            "description_width": "",
            "_view_module": "@jupyter-widgets/base",
            "_model_module_version": "1.5.0",
            "_view_count": null,
            "_view_module_version": "1.2.0",
            "_model_module": "@jupyter-widgets/controls"
          }
        },
        "18868fa7cac74789918d66cab786321f": {
          "model_module": "@jupyter-widgets/base",
          "model_name": "LayoutModel",
          "state": {
            "_view_name": "LayoutView",
            "grid_template_rows": null,
            "right": null,
            "justify_content": null,
            "_view_module": "@jupyter-widgets/base",
            "overflow": null,
            "_model_module_version": "1.2.0",
            "_view_count": null,
            "flex_flow": null,
            "width": null,
            "min_width": null,
            "border": null,
            "align_items": null,
            "bottom": null,
            "_model_module": "@jupyter-widgets/base",
            "top": null,
            "grid_column": null,
            "overflow_y": null,
            "overflow_x": null,
            "grid_auto_flow": null,
            "grid_area": null,
            "grid_template_columns": null,
            "flex": null,
            "_model_name": "LayoutModel",
            "justify_items": null,
            "grid_row": null,
            "max_height": null,
            "align_content": null,
            "visibility": null,
            "align_self": null,
            "height": null,
            "min_height": null,
            "padding": null,
            "grid_auto_rows": null,
            "grid_gap": null,
            "max_width": null,
            "order": null,
            "_view_module_version": "1.2.0",
            "grid_template_areas": null,
            "object_position": null,
            "object_fit": null,
            "grid_auto_columns": null,
            "margin": null,
            "display": null,
            "left": null
          }
        },
        "7e8bf5aba15d4b7095873024a16b80d8": {
          "model_module": "@jupyter-widgets/controls",
          "model_name": "ProgressStyleModel",
          "state": {
            "_view_name": "StyleView",
            "_model_name": "ProgressStyleModel",
            "description_width": "",
            "_view_module": "@jupyter-widgets/base",
            "_model_module_version": "1.5.0",
            "_view_count": null,
            "_view_module_version": "1.2.0",
            "bar_color": null,
            "_model_module": "@jupyter-widgets/controls"
          }
        },
        "746251726db54db2a70931bae3857f6d": {
          "model_module": "@jupyter-widgets/base",
          "model_name": "LayoutModel",
          "state": {
            "_view_name": "LayoutView",
            "grid_template_rows": null,
            "right": null,
            "justify_content": null,
            "_view_module": "@jupyter-widgets/base",
            "overflow": null,
            "_model_module_version": "1.2.0",
            "_view_count": null,
            "flex_flow": null,
            "width": null,
            "min_width": null,
            "border": null,
            "align_items": null,
            "bottom": null,
            "_model_module": "@jupyter-widgets/base",
            "top": null,
            "grid_column": null,
            "overflow_y": null,
            "overflow_x": null,
            "grid_auto_flow": null,
            "grid_area": null,
            "grid_template_columns": null,
            "flex": null,
            "_model_name": "LayoutModel",
            "justify_items": null,
            "grid_row": null,
            "max_height": null,
            "align_content": null,
            "visibility": null,
            "align_self": null,
            "height": null,
            "min_height": null,
            "padding": null,
            "grid_auto_rows": null,
            "grid_gap": null,
            "max_width": null,
            "order": null,
            "_view_module_version": "1.2.0",
            "grid_template_areas": null,
            "object_position": null,
            "object_fit": null,
            "grid_auto_columns": null,
            "margin": null,
            "display": null,
            "left": null
          }
        },
        "0c4f132b9db94b55a95d70c63e3e8e5b": {
          "model_module": "@jupyter-widgets/controls",
          "model_name": "VBoxModel",
          "state": {
            "_view_name": "VBoxView",
            "_dom_classes": [],
            "_model_name": "VBoxModel",
            "_view_module": "@jupyter-widgets/controls",
            "_model_module_version": "1.5.0",
            "_view_count": null,
            "_view_module_version": "1.5.0",
            "box_style": "",
            "layout": "IPY_MODEL_3927877a2ba244b0966e5d5f78b31279",
            "_model_module": "@jupyter-widgets/controls",
            "children": [
              "IPY_MODEL_d60fb69ac0d8401bb41966b6c0ba5eac",
              "IPY_MODEL_adcf488ecd6d422197a69048434a59a9"
            ]
          }
        },
        "3927877a2ba244b0966e5d5f78b31279": {
          "model_module": "@jupyter-widgets/base",
          "model_name": "LayoutModel",
          "state": {
            "_view_name": "LayoutView",
            "grid_template_rows": null,
            "right": null,
            "justify_content": null,
            "_view_module": "@jupyter-widgets/base",
            "overflow": null,
            "_model_module_version": "1.2.0",
            "_view_count": null,
            "flex_flow": null,
            "width": null,
            "min_width": null,
            "border": null,
            "align_items": null,
            "bottom": null,
            "_model_module": "@jupyter-widgets/base",
            "top": null,
            "grid_column": null,
            "overflow_y": null,
            "overflow_x": null,
            "grid_auto_flow": null,
            "grid_area": null,
            "grid_template_columns": null,
            "flex": null,
            "_model_name": "LayoutModel",
            "justify_items": null,
            "grid_row": null,
            "max_height": null,
            "align_content": null,
            "visibility": null,
            "align_self": null,
            "height": null,
            "min_height": null,
            "padding": null,
            "grid_auto_rows": null,
            "grid_gap": null,
            "max_width": null,
            "order": null,
            "_view_module_version": "1.2.0",
            "grid_template_areas": null,
            "object_position": null,
            "object_fit": null,
            "grid_auto_columns": null,
            "margin": null,
            "display": null,
            "left": null
          }
        },
        "d60fb69ac0d8401bb41966b6c0ba5eac": {
          "model_module": "@jupyter-widgets/controls",
          "model_name": "LabelModel",
          "state": {
            "_view_name": "LabelView",
            "style": "IPY_MODEL_cbbb61ce21f54e9892b4ec9fef03d3fb",
            "_dom_classes": [],
            "description": "",
            "_model_name": "LabelModel",
            "placeholder": "​",
            "_view_module": "@jupyter-widgets/controls",
            "_model_module_version": "1.5.0",
            "value": " 0.01MB of 0.01MB uploaded (0.00MB deduped)\r",
            "_view_count": null,
            "_view_module_version": "1.5.0",
            "description_tooltip": null,
            "_model_module": "@jupyter-widgets/controls",
            "layout": "IPY_MODEL_a43e40fa9d344cc989e3813069b25810"
          }
        },
        "adcf488ecd6d422197a69048434a59a9": {
          "model_module": "@jupyter-widgets/controls",
          "model_name": "FloatProgressModel",
          "state": {
            "_view_name": "ProgressView",
            "style": "IPY_MODEL_bab5ae3dc8d74d79aa3af9998b411d0b",
            "_dom_classes": [],
            "description": "",
            "_model_name": "FloatProgressModel",
            "bar_style": "",
            "max": 1,
            "_view_module": "@jupyter-widgets/controls",
            "_model_module_version": "1.5.0",
            "value": 1,
            "_view_count": null,
            "_view_module_version": "1.5.0",
            "orientation": "horizontal",
            "min": 0,
            "description_tooltip": null,
            "_model_module": "@jupyter-widgets/controls",
            "layout": "IPY_MODEL_f4849c7479334ff6b19291809c762f47"
          }
        },
        "cbbb61ce21f54e9892b4ec9fef03d3fb": {
          "model_module": "@jupyter-widgets/controls",
          "model_name": "DescriptionStyleModel",
          "state": {
            "_view_name": "StyleView",
            "_model_name": "DescriptionStyleModel",
            "description_width": "",
            "_view_module": "@jupyter-widgets/base",
            "_model_module_version": "1.5.0",
            "_view_count": null,
            "_view_module_version": "1.2.0",
            "_model_module": "@jupyter-widgets/controls"
          }
        },
        "a43e40fa9d344cc989e3813069b25810": {
          "model_module": "@jupyter-widgets/base",
          "model_name": "LayoutModel",
          "state": {
            "_view_name": "LayoutView",
            "grid_template_rows": null,
            "right": null,
            "justify_content": null,
            "_view_module": "@jupyter-widgets/base",
            "overflow": null,
            "_model_module_version": "1.2.0",
            "_view_count": null,
            "flex_flow": null,
            "width": null,
            "min_width": null,
            "border": null,
            "align_items": null,
            "bottom": null,
            "_model_module": "@jupyter-widgets/base",
            "top": null,
            "grid_column": null,
            "overflow_y": null,
            "overflow_x": null,
            "grid_auto_flow": null,
            "grid_area": null,
            "grid_template_columns": null,
            "flex": null,
            "_model_name": "LayoutModel",
            "justify_items": null,
            "grid_row": null,
            "max_height": null,
            "align_content": null,
            "visibility": null,
            "align_self": null,
            "height": null,
            "min_height": null,
            "padding": null,
            "grid_auto_rows": null,
            "grid_gap": null,
            "max_width": null,
            "order": null,
            "_view_module_version": "1.2.0",
            "grid_template_areas": null,
            "object_position": null,
            "object_fit": null,
            "grid_auto_columns": null,
            "margin": null,
            "display": null,
            "left": null
          }
        },
        "bab5ae3dc8d74d79aa3af9998b411d0b": {
          "model_module": "@jupyter-widgets/controls",
          "model_name": "ProgressStyleModel",
          "state": {
            "_view_name": "StyleView",
            "_model_name": "ProgressStyleModel",
            "description_width": "",
            "_view_module": "@jupyter-widgets/base",
            "_model_module_version": "1.5.0",
            "_view_count": null,
            "_view_module_version": "1.2.0",
            "bar_color": null,
            "_model_module": "@jupyter-widgets/controls"
          }
        },
        "f4849c7479334ff6b19291809c762f47": {
          "model_module": "@jupyter-widgets/base",
          "model_name": "LayoutModel",
          "state": {
            "_view_name": "LayoutView",
            "grid_template_rows": null,
            "right": null,
            "justify_content": null,
            "_view_module": "@jupyter-widgets/base",
            "overflow": null,
            "_model_module_version": "1.2.0",
            "_view_count": null,
            "flex_flow": null,
            "width": null,
            "min_width": null,
            "border": null,
            "align_items": null,
            "bottom": null,
            "_model_module": "@jupyter-widgets/base",
            "top": null,
            "grid_column": null,
            "overflow_y": null,
            "overflow_x": null,
            "grid_auto_flow": null,
            "grid_area": null,
            "grid_template_columns": null,
            "flex": null,
            "_model_name": "LayoutModel",
            "justify_items": null,
            "grid_row": null,
            "max_height": null,
            "align_content": null,
            "visibility": null,
            "align_self": null,
            "height": null,
            "min_height": null,
            "padding": null,
            "grid_auto_rows": null,
            "grid_gap": null,
            "max_width": null,
            "order": null,
            "_view_module_version": "1.2.0",
            "grid_template_areas": null,
            "object_position": null,
            "object_fit": null,
            "grid_auto_columns": null,
            "margin": null,
            "display": null,
            "left": null
          }
        },
        "ed2f8a13549b4470aa137bb7b40930c8": {
          "model_module": "@jupyter-widgets/controls",
          "model_name": "VBoxModel",
          "state": {
            "_view_name": "VBoxView",
            "_dom_classes": [],
            "_model_name": "VBoxModel",
            "_view_module": "@jupyter-widgets/controls",
            "_model_module_version": "1.5.0",
            "_view_count": null,
            "_view_module_version": "1.5.0",
            "box_style": "",
            "layout": "IPY_MODEL_1672f30fbb2e4275a334e77d4ad86201",
            "_model_module": "@jupyter-widgets/controls",
            "children": [
              "IPY_MODEL_d5981eeaeae94f85a1ad97ababa7e334",
              "IPY_MODEL_778069635af04b11841a664947f34956"
            ]
          }
        },
        "1672f30fbb2e4275a334e77d4ad86201": {
          "model_module": "@jupyter-widgets/base",
          "model_name": "LayoutModel",
          "state": {
            "_view_name": "LayoutView",
            "grid_template_rows": null,
            "right": null,
            "justify_content": null,
            "_view_module": "@jupyter-widgets/base",
            "overflow": null,
            "_model_module_version": "1.2.0",
            "_view_count": null,
            "flex_flow": null,
            "width": null,
            "min_width": null,
            "border": null,
            "align_items": null,
            "bottom": null,
            "_model_module": "@jupyter-widgets/base",
            "top": null,
            "grid_column": null,
            "overflow_y": null,
            "overflow_x": null,
            "grid_auto_flow": null,
            "grid_area": null,
            "grid_template_columns": null,
            "flex": null,
            "_model_name": "LayoutModel",
            "justify_items": null,
            "grid_row": null,
            "max_height": null,
            "align_content": null,
            "visibility": null,
            "align_self": null,
            "height": null,
            "min_height": null,
            "padding": null,
            "grid_auto_rows": null,
            "grid_gap": null,
            "max_width": null,
            "order": null,
            "_view_module_version": "1.2.0",
            "grid_template_areas": null,
            "object_position": null,
            "object_fit": null,
            "grid_auto_columns": null,
            "margin": null,
            "display": null,
            "left": null
          }
        },
        "d5981eeaeae94f85a1ad97ababa7e334": {
          "model_module": "@jupyter-widgets/controls",
          "model_name": "LabelModel",
          "state": {
            "_view_name": "LabelView",
            "style": "IPY_MODEL_823b1c3fc27740e4b80660ff50e22fbf",
            "_dom_classes": [],
            "description": "",
            "_model_name": "LabelModel",
            "placeholder": "​",
            "_view_module": "@jupyter-widgets/controls",
            "_model_module_version": "1.5.0",
            "value": " 0.01MB of 0.01MB uploaded (0.00MB deduped)\r",
            "_view_count": null,
            "_view_module_version": "1.5.0",
            "description_tooltip": null,
            "_model_module": "@jupyter-widgets/controls",
            "layout": "IPY_MODEL_cc29130198854c6f8a6ab98f3b37f8f3"
          }
        },
        "778069635af04b11841a664947f34956": {
          "model_module": "@jupyter-widgets/controls",
          "model_name": "FloatProgressModel",
          "state": {
            "_view_name": "ProgressView",
            "style": "IPY_MODEL_de36419c9fc7434f810746a8a7a4d834",
            "_dom_classes": [],
            "description": "",
            "_model_name": "FloatProgressModel",
            "bar_style": "",
            "max": 1,
            "_view_module": "@jupyter-widgets/controls",
            "_model_module_version": "1.5.0",
            "value": 1,
            "_view_count": null,
            "_view_module_version": "1.5.0",
            "orientation": "horizontal",
            "min": 0,
            "description_tooltip": null,
            "_model_module": "@jupyter-widgets/controls",
            "layout": "IPY_MODEL_cd5493d2b4a84691bfa3842021e8c11d"
          }
        },
        "823b1c3fc27740e4b80660ff50e22fbf": {
          "model_module": "@jupyter-widgets/controls",
          "model_name": "DescriptionStyleModel",
          "state": {
            "_view_name": "StyleView",
            "_model_name": "DescriptionStyleModel",
            "description_width": "",
            "_view_module": "@jupyter-widgets/base",
            "_model_module_version": "1.5.0",
            "_view_count": null,
            "_view_module_version": "1.2.0",
            "_model_module": "@jupyter-widgets/controls"
          }
        },
        "cc29130198854c6f8a6ab98f3b37f8f3": {
          "model_module": "@jupyter-widgets/base",
          "model_name": "LayoutModel",
          "state": {
            "_view_name": "LayoutView",
            "grid_template_rows": null,
            "right": null,
            "justify_content": null,
            "_view_module": "@jupyter-widgets/base",
            "overflow": null,
            "_model_module_version": "1.2.0",
            "_view_count": null,
            "flex_flow": null,
            "width": null,
            "min_width": null,
            "border": null,
            "align_items": null,
            "bottom": null,
            "_model_module": "@jupyter-widgets/base",
            "top": null,
            "grid_column": null,
            "overflow_y": null,
            "overflow_x": null,
            "grid_auto_flow": null,
            "grid_area": null,
            "grid_template_columns": null,
            "flex": null,
            "_model_name": "LayoutModel",
            "justify_items": null,
            "grid_row": null,
            "max_height": null,
            "align_content": null,
            "visibility": null,
            "align_self": null,
            "height": null,
            "min_height": null,
            "padding": null,
            "grid_auto_rows": null,
            "grid_gap": null,
            "max_width": null,
            "order": null,
            "_view_module_version": "1.2.0",
            "grid_template_areas": null,
            "object_position": null,
            "object_fit": null,
            "grid_auto_columns": null,
            "margin": null,
            "display": null,
            "left": null
          }
        },
        "de36419c9fc7434f810746a8a7a4d834": {
          "model_module": "@jupyter-widgets/controls",
          "model_name": "ProgressStyleModel",
          "state": {
            "_view_name": "StyleView",
            "_model_name": "ProgressStyleModel",
            "description_width": "",
            "_view_module": "@jupyter-widgets/base",
            "_model_module_version": "1.5.0",
            "_view_count": null,
            "_view_module_version": "1.2.0",
            "bar_color": null,
            "_model_module": "@jupyter-widgets/controls"
          }
        },
        "cd5493d2b4a84691bfa3842021e8c11d": {
          "model_module": "@jupyter-widgets/base",
          "model_name": "LayoutModel",
          "state": {
            "_view_name": "LayoutView",
            "grid_template_rows": null,
            "right": null,
            "justify_content": null,
            "_view_module": "@jupyter-widgets/base",
            "overflow": null,
            "_model_module_version": "1.2.0",
            "_view_count": null,
            "flex_flow": null,
            "width": null,
            "min_width": null,
            "border": null,
            "align_items": null,
            "bottom": null,
            "_model_module": "@jupyter-widgets/base",
            "top": null,
            "grid_column": null,
            "overflow_y": null,
            "overflow_x": null,
            "grid_auto_flow": null,
            "grid_area": null,
            "grid_template_columns": null,
            "flex": null,
            "_model_name": "LayoutModel",
            "justify_items": null,
            "grid_row": null,
            "max_height": null,
            "align_content": null,
            "visibility": null,
            "align_self": null,
            "height": null,
            "min_height": null,
            "padding": null,
            "grid_auto_rows": null,
            "grid_gap": null,
            "max_width": null,
            "order": null,
            "_view_module_version": "1.2.0",
            "grid_template_areas": null,
            "object_position": null,
            "object_fit": null,
            "grid_auto_columns": null,
            "margin": null,
            "display": null,
            "left": null
          }
        },
        "3d388c98ebec4b70955abf6e11ef93df": {
          "model_module": "@jupyter-widgets/controls",
          "model_name": "VBoxModel",
          "state": {
            "_view_name": "VBoxView",
            "_dom_classes": [],
            "_model_name": "VBoxModel",
            "_view_module": "@jupyter-widgets/controls",
            "_model_module_version": "1.5.0",
            "_view_count": null,
            "_view_module_version": "1.5.0",
            "box_style": "",
            "layout": "IPY_MODEL_fcf4c4c8cf3f4e1f8af4acbfee9312ae",
            "_model_module": "@jupyter-widgets/controls",
            "children": [
              "IPY_MODEL_97ad68296b9a465f942d08f06f804640",
              "IPY_MODEL_c73b6051589d4ad8accebdba7ba54931"
            ]
          }
        },
        "fcf4c4c8cf3f4e1f8af4acbfee9312ae": {
          "model_module": "@jupyter-widgets/base",
          "model_name": "LayoutModel",
          "state": {
            "_view_name": "LayoutView",
            "grid_template_rows": null,
            "right": null,
            "justify_content": null,
            "_view_module": "@jupyter-widgets/base",
            "overflow": null,
            "_model_module_version": "1.2.0",
            "_view_count": null,
            "flex_flow": null,
            "width": null,
            "min_width": null,
            "border": null,
            "align_items": null,
            "bottom": null,
            "_model_module": "@jupyter-widgets/base",
            "top": null,
            "grid_column": null,
            "overflow_y": null,
            "overflow_x": null,
            "grid_auto_flow": null,
            "grid_area": null,
            "grid_template_columns": null,
            "flex": null,
            "_model_name": "LayoutModel",
            "justify_items": null,
            "grid_row": null,
            "max_height": null,
            "align_content": null,
            "visibility": null,
            "align_self": null,
            "height": null,
            "min_height": null,
            "padding": null,
            "grid_auto_rows": null,
            "grid_gap": null,
            "max_width": null,
            "order": null,
            "_view_module_version": "1.2.0",
            "grid_template_areas": null,
            "object_position": null,
            "object_fit": null,
            "grid_auto_columns": null,
            "margin": null,
            "display": null,
            "left": null
          }
        },
        "97ad68296b9a465f942d08f06f804640": {
          "model_module": "@jupyter-widgets/controls",
          "model_name": "LabelModel",
          "state": {
            "_view_name": "LabelView",
            "style": "IPY_MODEL_f5bf5b7b7e6e452fb46e03f5a2dc1448",
            "_dom_classes": [],
            "description": "",
            "_model_name": "LabelModel",
            "placeholder": "​",
            "_view_module": "@jupyter-widgets/controls",
            "_model_module_version": "1.5.0",
            "value": " 0.01MB of 0.01MB uploaded (0.00MB deduped)\r",
            "_view_count": null,
            "_view_module_version": "1.5.0",
            "description_tooltip": null,
            "_model_module": "@jupyter-widgets/controls",
            "layout": "IPY_MODEL_7ee603e34ebf46178ca26954792ba644"
          }
        },
        "c73b6051589d4ad8accebdba7ba54931": {
          "model_module": "@jupyter-widgets/controls",
          "model_name": "FloatProgressModel",
          "state": {
            "_view_name": "ProgressView",
            "style": "IPY_MODEL_3f1f3d6e62284bcd87af46ff1346de37",
            "_dom_classes": [],
            "description": "",
            "_model_name": "FloatProgressModel",
            "bar_style": "",
            "max": 1,
            "_view_module": "@jupyter-widgets/controls",
            "_model_module_version": "1.5.0",
            "value": 1,
            "_view_count": null,
            "_view_module_version": "1.5.0",
            "orientation": "horizontal",
            "min": 0,
            "description_tooltip": null,
            "_model_module": "@jupyter-widgets/controls",
            "layout": "IPY_MODEL_805fb060a2004e9a891b2be9a6c0bcc9"
          }
        },
        "f5bf5b7b7e6e452fb46e03f5a2dc1448": {
          "model_module": "@jupyter-widgets/controls",
          "model_name": "DescriptionStyleModel",
          "state": {
            "_view_name": "StyleView",
            "_model_name": "DescriptionStyleModel",
            "description_width": "",
            "_view_module": "@jupyter-widgets/base",
            "_model_module_version": "1.5.0",
            "_view_count": null,
            "_view_module_version": "1.2.0",
            "_model_module": "@jupyter-widgets/controls"
          }
        },
        "7ee603e34ebf46178ca26954792ba644": {
          "model_module": "@jupyter-widgets/base",
          "model_name": "LayoutModel",
          "state": {
            "_view_name": "LayoutView",
            "grid_template_rows": null,
            "right": null,
            "justify_content": null,
            "_view_module": "@jupyter-widgets/base",
            "overflow": null,
            "_model_module_version": "1.2.0",
            "_view_count": null,
            "flex_flow": null,
            "width": null,
            "min_width": null,
            "border": null,
            "align_items": null,
            "bottom": null,
            "_model_module": "@jupyter-widgets/base",
            "top": null,
            "grid_column": null,
            "overflow_y": null,
            "overflow_x": null,
            "grid_auto_flow": null,
            "grid_area": null,
            "grid_template_columns": null,
            "flex": null,
            "_model_name": "LayoutModel",
            "justify_items": null,
            "grid_row": null,
            "max_height": null,
            "align_content": null,
            "visibility": null,
            "align_self": null,
            "height": null,
            "min_height": null,
            "padding": null,
            "grid_auto_rows": null,
            "grid_gap": null,
            "max_width": null,
            "order": null,
            "_view_module_version": "1.2.0",
            "grid_template_areas": null,
            "object_position": null,
            "object_fit": null,
            "grid_auto_columns": null,
            "margin": null,
            "display": null,
            "left": null
          }
        },
        "3f1f3d6e62284bcd87af46ff1346de37": {
          "model_module": "@jupyter-widgets/controls",
          "model_name": "ProgressStyleModel",
          "state": {
            "_view_name": "StyleView",
            "_model_name": "ProgressStyleModel",
            "description_width": "",
            "_view_module": "@jupyter-widgets/base",
            "_model_module_version": "1.5.0",
            "_view_count": null,
            "_view_module_version": "1.2.0",
            "bar_color": null,
            "_model_module": "@jupyter-widgets/controls"
          }
        },
        "805fb060a2004e9a891b2be9a6c0bcc9": {
          "model_module": "@jupyter-widgets/base",
          "model_name": "LayoutModel",
          "state": {
            "_view_name": "LayoutView",
            "grid_template_rows": null,
            "right": null,
            "justify_content": null,
            "_view_module": "@jupyter-widgets/base",
            "overflow": null,
            "_model_module_version": "1.2.0",
            "_view_count": null,
            "flex_flow": null,
            "width": null,
            "min_width": null,
            "border": null,
            "align_items": null,
            "bottom": null,
            "_model_module": "@jupyter-widgets/base",
            "top": null,
            "grid_column": null,
            "overflow_y": null,
            "overflow_x": null,
            "grid_auto_flow": null,
            "grid_area": null,
            "grid_template_columns": null,
            "flex": null,
            "_model_name": "LayoutModel",
            "justify_items": null,
            "grid_row": null,
            "max_height": null,
            "align_content": null,
            "visibility": null,
            "align_self": null,
            "height": null,
            "min_height": null,
            "padding": null,
            "grid_auto_rows": null,
            "grid_gap": null,
            "max_width": null,
            "order": null,
            "_view_module_version": "1.2.0",
            "grid_template_areas": null,
            "object_position": null,
            "object_fit": null,
            "grid_auto_columns": null,
            "margin": null,
            "display": null,
            "left": null
          }
        },
        "f85bb37df5a042b5aeebf6edee6f559d": {
          "model_module": "@jupyter-widgets/controls",
          "model_name": "VBoxModel",
          "state": {
            "_view_name": "VBoxView",
            "_dom_classes": [],
            "_model_name": "VBoxModel",
            "_view_module": "@jupyter-widgets/controls",
            "_model_module_version": "1.5.0",
            "_view_count": null,
            "_view_module_version": "1.5.0",
            "box_style": "",
            "layout": "IPY_MODEL_f685d4ffad9749b5acb853c465857211",
            "_model_module": "@jupyter-widgets/controls",
            "children": [
              "IPY_MODEL_1f655c64aa6140b8b7361678f4bfc0dc",
              "IPY_MODEL_c434fd843a744bbc986f6da361008ebe"
            ]
          }
        },
        "f685d4ffad9749b5acb853c465857211": {
          "model_module": "@jupyter-widgets/base",
          "model_name": "LayoutModel",
          "state": {
            "_view_name": "LayoutView",
            "grid_template_rows": null,
            "right": null,
            "justify_content": null,
            "_view_module": "@jupyter-widgets/base",
            "overflow": null,
            "_model_module_version": "1.2.0",
            "_view_count": null,
            "flex_flow": null,
            "width": null,
            "min_width": null,
            "border": null,
            "align_items": null,
            "bottom": null,
            "_model_module": "@jupyter-widgets/base",
            "top": null,
            "grid_column": null,
            "overflow_y": null,
            "overflow_x": null,
            "grid_auto_flow": null,
            "grid_area": null,
            "grid_template_columns": null,
            "flex": null,
            "_model_name": "LayoutModel",
            "justify_items": null,
            "grid_row": null,
            "max_height": null,
            "align_content": null,
            "visibility": null,
            "align_self": null,
            "height": null,
            "min_height": null,
            "padding": null,
            "grid_auto_rows": null,
            "grid_gap": null,
            "max_width": null,
            "order": null,
            "_view_module_version": "1.2.0",
            "grid_template_areas": null,
            "object_position": null,
            "object_fit": null,
            "grid_auto_columns": null,
            "margin": null,
            "display": null,
            "left": null
          }
        },
        "1f655c64aa6140b8b7361678f4bfc0dc": {
          "model_module": "@jupyter-widgets/controls",
          "model_name": "LabelModel",
          "state": {
            "_view_name": "LabelView",
            "style": "IPY_MODEL_2cca72f815b744a996c201832db29872",
            "_dom_classes": [],
            "description": "",
            "_model_name": "LabelModel",
            "placeholder": "​",
            "_view_module": "@jupyter-widgets/controls",
            "_model_module_version": "1.5.0",
            "value": " 0.01MB of 0.01MB uploaded (0.00MB deduped)\r",
            "_view_count": null,
            "_view_module_version": "1.5.0",
            "description_tooltip": null,
            "_model_module": "@jupyter-widgets/controls",
            "layout": "IPY_MODEL_5f91b9cbfd8a4eed82f9de0436c1a0a8"
          }
        },
        "c434fd843a744bbc986f6da361008ebe": {
          "model_module": "@jupyter-widgets/controls",
          "model_name": "FloatProgressModel",
          "state": {
            "_view_name": "ProgressView",
            "style": "IPY_MODEL_9e73b9f72da44021a202dc2ced64982d",
            "_dom_classes": [],
            "description": "",
            "_model_name": "FloatProgressModel",
            "bar_style": "",
            "max": 1,
            "_view_module": "@jupyter-widgets/controls",
            "_model_module_version": "1.5.0",
            "value": 1,
            "_view_count": null,
            "_view_module_version": "1.5.0",
            "orientation": "horizontal",
            "min": 0,
            "description_tooltip": null,
            "_model_module": "@jupyter-widgets/controls",
            "layout": "IPY_MODEL_9c0832dba51845abb08ab167ef502b66"
          }
        },
        "2cca72f815b744a996c201832db29872": {
          "model_module": "@jupyter-widgets/controls",
          "model_name": "DescriptionStyleModel",
          "state": {
            "_view_name": "StyleView",
            "_model_name": "DescriptionStyleModel",
            "description_width": "",
            "_view_module": "@jupyter-widgets/base",
            "_model_module_version": "1.5.0",
            "_view_count": null,
            "_view_module_version": "1.2.0",
            "_model_module": "@jupyter-widgets/controls"
          }
        },
        "5f91b9cbfd8a4eed82f9de0436c1a0a8": {
          "model_module": "@jupyter-widgets/base",
          "model_name": "LayoutModel",
          "state": {
            "_view_name": "LayoutView",
            "grid_template_rows": null,
            "right": null,
            "justify_content": null,
            "_view_module": "@jupyter-widgets/base",
            "overflow": null,
            "_model_module_version": "1.2.0",
            "_view_count": null,
            "flex_flow": null,
            "width": null,
            "min_width": null,
            "border": null,
            "align_items": null,
            "bottom": null,
            "_model_module": "@jupyter-widgets/base",
            "top": null,
            "grid_column": null,
            "overflow_y": null,
            "overflow_x": null,
            "grid_auto_flow": null,
            "grid_area": null,
            "grid_template_columns": null,
            "flex": null,
            "_model_name": "LayoutModel",
            "justify_items": null,
            "grid_row": null,
            "max_height": null,
            "align_content": null,
            "visibility": null,
            "align_self": null,
            "height": null,
            "min_height": null,
            "padding": null,
            "grid_auto_rows": null,
            "grid_gap": null,
            "max_width": null,
            "order": null,
            "_view_module_version": "1.2.0",
            "grid_template_areas": null,
            "object_position": null,
            "object_fit": null,
            "grid_auto_columns": null,
            "margin": null,
            "display": null,
            "left": null
          }
        },
        "9e73b9f72da44021a202dc2ced64982d": {
          "model_module": "@jupyter-widgets/controls",
          "model_name": "ProgressStyleModel",
          "state": {
            "_view_name": "StyleView",
            "_model_name": "ProgressStyleModel",
            "description_width": "",
            "_view_module": "@jupyter-widgets/base",
            "_model_module_version": "1.5.0",
            "_view_count": null,
            "_view_module_version": "1.2.0",
            "bar_color": null,
            "_model_module": "@jupyter-widgets/controls"
          }
        },
        "9c0832dba51845abb08ab167ef502b66": {
          "model_module": "@jupyter-widgets/base",
          "model_name": "LayoutModel",
          "state": {
            "_view_name": "LayoutView",
            "grid_template_rows": null,
            "right": null,
            "justify_content": null,
            "_view_module": "@jupyter-widgets/base",
            "overflow": null,
            "_model_module_version": "1.2.0",
            "_view_count": null,
            "flex_flow": null,
            "width": null,
            "min_width": null,
            "border": null,
            "align_items": null,
            "bottom": null,
            "_model_module": "@jupyter-widgets/base",
            "top": null,
            "grid_column": null,
            "overflow_y": null,
            "overflow_x": null,
            "grid_auto_flow": null,
            "grid_area": null,
            "grid_template_columns": null,
            "flex": null,
            "_model_name": "LayoutModel",
            "justify_items": null,
            "grid_row": null,
            "max_height": null,
            "align_content": null,
            "visibility": null,
            "align_self": null,
            "height": null,
            "min_height": null,
            "padding": null,
            "grid_auto_rows": null,
            "grid_gap": null,
            "max_width": null,
            "order": null,
            "_view_module_version": "1.2.0",
            "grid_template_areas": null,
            "object_position": null,
            "object_fit": null,
            "grid_auto_columns": null,
            "margin": null,
            "display": null,
            "left": null
          }
        },
        "dcd2275bba6b41208c4547dcf78df0b9": {
          "model_module": "@jupyter-widgets/controls",
          "model_name": "VBoxModel",
          "state": {
            "_view_name": "VBoxView",
            "_dom_classes": [],
            "_model_name": "VBoxModel",
            "_view_module": "@jupyter-widgets/controls",
            "_model_module_version": "1.5.0",
            "_view_count": null,
            "_view_module_version": "1.5.0",
            "box_style": "",
            "layout": "IPY_MODEL_e9ea2f2ff3b14d21b86239037c91cd33",
            "_model_module": "@jupyter-widgets/controls",
            "children": [
              "IPY_MODEL_71b53394f4474f8d8b76573f265f065e",
              "IPY_MODEL_9cc90e7267634a488ec16d14386b1475"
            ]
          }
        },
        "e9ea2f2ff3b14d21b86239037c91cd33": {
          "model_module": "@jupyter-widgets/base",
          "model_name": "LayoutModel",
          "state": {
            "_view_name": "LayoutView",
            "grid_template_rows": null,
            "right": null,
            "justify_content": null,
            "_view_module": "@jupyter-widgets/base",
            "overflow": null,
            "_model_module_version": "1.2.0",
            "_view_count": null,
            "flex_flow": null,
            "width": null,
            "min_width": null,
            "border": null,
            "align_items": null,
            "bottom": null,
            "_model_module": "@jupyter-widgets/base",
            "top": null,
            "grid_column": null,
            "overflow_y": null,
            "overflow_x": null,
            "grid_auto_flow": null,
            "grid_area": null,
            "grid_template_columns": null,
            "flex": null,
            "_model_name": "LayoutModel",
            "justify_items": null,
            "grid_row": null,
            "max_height": null,
            "align_content": null,
            "visibility": null,
            "align_self": null,
            "height": null,
            "min_height": null,
            "padding": null,
            "grid_auto_rows": null,
            "grid_gap": null,
            "max_width": null,
            "order": null,
            "_view_module_version": "1.2.0",
            "grid_template_areas": null,
            "object_position": null,
            "object_fit": null,
            "grid_auto_columns": null,
            "margin": null,
            "display": null,
            "left": null
          }
        },
        "71b53394f4474f8d8b76573f265f065e": {
          "model_module": "@jupyter-widgets/controls",
          "model_name": "LabelModel",
          "state": {
            "_view_name": "LabelView",
            "style": "IPY_MODEL_b9f1af5a11be4b679c1501e8300cc860",
            "_dom_classes": [],
            "description": "",
            "_model_name": "LabelModel",
            "placeholder": "​",
            "_view_module": "@jupyter-widgets/controls",
            "_model_module_version": "1.5.0",
            "value": " 0.01MB of 0.01MB uploaded (0.00MB deduped)\r",
            "_view_count": null,
            "_view_module_version": "1.5.0",
            "description_tooltip": null,
            "_model_module": "@jupyter-widgets/controls",
            "layout": "IPY_MODEL_1fc20931a00f4cd59b38c0e0602013a9"
          }
        },
        "9cc90e7267634a488ec16d14386b1475": {
          "model_module": "@jupyter-widgets/controls",
          "model_name": "FloatProgressModel",
          "state": {
            "_view_name": "ProgressView",
            "style": "IPY_MODEL_47cc3816a4b04450880af0597e27587c",
            "_dom_classes": [],
            "description": "",
            "_model_name": "FloatProgressModel",
            "bar_style": "",
            "max": 1,
            "_view_module": "@jupyter-widgets/controls",
            "_model_module_version": "1.5.0",
            "value": 1,
            "_view_count": null,
            "_view_module_version": "1.5.0",
            "orientation": "horizontal",
            "min": 0,
            "description_tooltip": null,
            "_model_module": "@jupyter-widgets/controls",
            "layout": "IPY_MODEL_a95c8511fd1944358757b7fd8bfc6aae"
          }
        },
        "b9f1af5a11be4b679c1501e8300cc860": {
          "model_module": "@jupyter-widgets/controls",
          "model_name": "DescriptionStyleModel",
          "state": {
            "_view_name": "StyleView",
            "_model_name": "DescriptionStyleModel",
            "description_width": "",
            "_view_module": "@jupyter-widgets/base",
            "_model_module_version": "1.5.0",
            "_view_count": null,
            "_view_module_version": "1.2.0",
            "_model_module": "@jupyter-widgets/controls"
          }
        },
        "1fc20931a00f4cd59b38c0e0602013a9": {
          "model_module": "@jupyter-widgets/base",
          "model_name": "LayoutModel",
          "state": {
            "_view_name": "LayoutView",
            "grid_template_rows": null,
            "right": null,
            "justify_content": null,
            "_view_module": "@jupyter-widgets/base",
            "overflow": null,
            "_model_module_version": "1.2.0",
            "_view_count": null,
            "flex_flow": null,
            "width": null,
            "min_width": null,
            "border": null,
            "align_items": null,
            "bottom": null,
            "_model_module": "@jupyter-widgets/base",
            "top": null,
            "grid_column": null,
            "overflow_y": null,
            "overflow_x": null,
            "grid_auto_flow": null,
            "grid_area": null,
            "grid_template_columns": null,
            "flex": null,
            "_model_name": "LayoutModel",
            "justify_items": null,
            "grid_row": null,
            "max_height": null,
            "align_content": null,
            "visibility": null,
            "align_self": null,
            "height": null,
            "min_height": null,
            "padding": null,
            "grid_auto_rows": null,
            "grid_gap": null,
            "max_width": null,
            "order": null,
            "_view_module_version": "1.2.0",
            "grid_template_areas": null,
            "object_position": null,
            "object_fit": null,
            "grid_auto_columns": null,
            "margin": null,
            "display": null,
            "left": null
          }
        },
        "47cc3816a4b04450880af0597e27587c": {
          "model_module": "@jupyter-widgets/controls",
          "model_name": "ProgressStyleModel",
          "state": {
            "_view_name": "StyleView",
            "_model_name": "ProgressStyleModel",
            "description_width": "",
            "_view_module": "@jupyter-widgets/base",
            "_model_module_version": "1.5.0",
            "_view_count": null,
            "_view_module_version": "1.2.0",
            "bar_color": null,
            "_model_module": "@jupyter-widgets/controls"
          }
        },
        "a95c8511fd1944358757b7fd8bfc6aae": {
          "model_module": "@jupyter-widgets/base",
          "model_name": "LayoutModel",
          "state": {
            "_view_name": "LayoutView",
            "grid_template_rows": null,
            "right": null,
            "justify_content": null,
            "_view_module": "@jupyter-widgets/base",
            "overflow": null,
            "_model_module_version": "1.2.0",
            "_view_count": null,
            "flex_flow": null,
            "width": null,
            "min_width": null,
            "border": null,
            "align_items": null,
            "bottom": null,
            "_model_module": "@jupyter-widgets/base",
            "top": null,
            "grid_column": null,
            "overflow_y": null,
            "overflow_x": null,
            "grid_auto_flow": null,
            "grid_area": null,
            "grid_template_columns": null,
            "flex": null,
            "_model_name": "LayoutModel",
            "justify_items": null,
            "grid_row": null,
            "max_height": null,
            "align_content": null,
            "visibility": null,
            "align_self": null,
            "height": null,
            "min_height": null,
            "padding": null,
            "grid_auto_rows": null,
            "grid_gap": null,
            "max_width": null,
            "order": null,
            "_view_module_version": "1.2.0",
            "grid_template_areas": null,
            "object_position": null,
            "object_fit": null,
            "grid_auto_columns": null,
            "margin": null,
            "display": null,
            "left": null
          }
        },
        "2c0f1281d0214643a9c1d7e233423989": {
          "model_module": "@jupyter-widgets/controls",
          "model_name": "VBoxModel",
          "state": {
            "_view_name": "VBoxView",
            "_dom_classes": [],
            "_model_name": "VBoxModel",
            "_view_module": "@jupyter-widgets/controls",
            "_model_module_version": "1.5.0",
            "_view_count": null,
            "_view_module_version": "1.5.0",
            "box_style": "",
            "layout": "IPY_MODEL_670a8afb267f4080880f1d9c4cf5383c",
            "_model_module": "@jupyter-widgets/controls",
            "children": [
              "IPY_MODEL_ee407bb2c31d4594bc748eb3bb9e0bc2",
              "IPY_MODEL_df2a8fdb3a224286a2b8e82ae4a5cd5e"
            ]
          }
        },
        "670a8afb267f4080880f1d9c4cf5383c": {
          "model_module": "@jupyter-widgets/base",
          "model_name": "LayoutModel",
          "state": {
            "_view_name": "LayoutView",
            "grid_template_rows": null,
            "right": null,
            "justify_content": null,
            "_view_module": "@jupyter-widgets/base",
            "overflow": null,
            "_model_module_version": "1.2.0",
            "_view_count": null,
            "flex_flow": null,
            "width": null,
            "min_width": null,
            "border": null,
            "align_items": null,
            "bottom": null,
            "_model_module": "@jupyter-widgets/base",
            "top": null,
            "grid_column": null,
            "overflow_y": null,
            "overflow_x": null,
            "grid_auto_flow": null,
            "grid_area": null,
            "grid_template_columns": null,
            "flex": null,
            "_model_name": "LayoutModel",
            "justify_items": null,
            "grid_row": null,
            "max_height": null,
            "align_content": null,
            "visibility": null,
            "align_self": null,
            "height": null,
            "min_height": null,
            "padding": null,
            "grid_auto_rows": null,
            "grid_gap": null,
            "max_width": null,
            "order": null,
            "_view_module_version": "1.2.0",
            "grid_template_areas": null,
            "object_position": null,
            "object_fit": null,
            "grid_auto_columns": null,
            "margin": null,
            "display": null,
            "left": null
          }
        },
        "ee407bb2c31d4594bc748eb3bb9e0bc2": {
          "model_module": "@jupyter-widgets/controls",
          "model_name": "LabelModel",
          "state": {
            "_view_name": "LabelView",
            "style": "IPY_MODEL_d795a31546d243448c3b00228510ca17",
            "_dom_classes": [],
            "description": "",
            "_model_name": "LabelModel",
            "placeholder": "​",
            "_view_module": "@jupyter-widgets/controls",
            "_model_module_version": "1.5.0",
            "value": " 0.01MB of 0.01MB uploaded (0.00MB deduped)\r",
            "_view_count": null,
            "_view_module_version": "1.5.0",
            "description_tooltip": null,
            "_model_module": "@jupyter-widgets/controls",
            "layout": "IPY_MODEL_a302d0e33a4f4001a2823c440ed9d018"
          }
        },
        "df2a8fdb3a224286a2b8e82ae4a5cd5e": {
          "model_module": "@jupyter-widgets/controls",
          "model_name": "FloatProgressModel",
          "state": {
            "_view_name": "ProgressView",
            "style": "IPY_MODEL_90131578a74944b8bc8e8b563a77e7f3",
            "_dom_classes": [],
            "description": "",
            "_model_name": "FloatProgressModel",
            "bar_style": "",
            "max": 1,
            "_view_module": "@jupyter-widgets/controls",
            "_model_module_version": "1.5.0",
            "value": 1,
            "_view_count": null,
            "_view_module_version": "1.5.0",
            "orientation": "horizontal",
            "min": 0,
            "description_tooltip": null,
            "_model_module": "@jupyter-widgets/controls",
            "layout": "IPY_MODEL_04e28945e6ed4d5ca0f6f209ab777498"
          }
        },
        "d795a31546d243448c3b00228510ca17": {
          "model_module": "@jupyter-widgets/controls",
          "model_name": "DescriptionStyleModel",
          "state": {
            "_view_name": "StyleView",
            "_model_name": "DescriptionStyleModel",
            "description_width": "",
            "_view_module": "@jupyter-widgets/base",
            "_model_module_version": "1.5.0",
            "_view_count": null,
            "_view_module_version": "1.2.0",
            "_model_module": "@jupyter-widgets/controls"
          }
        },
        "a302d0e33a4f4001a2823c440ed9d018": {
          "model_module": "@jupyter-widgets/base",
          "model_name": "LayoutModel",
          "state": {
            "_view_name": "LayoutView",
            "grid_template_rows": null,
            "right": null,
            "justify_content": null,
            "_view_module": "@jupyter-widgets/base",
            "overflow": null,
            "_model_module_version": "1.2.0",
            "_view_count": null,
            "flex_flow": null,
            "width": null,
            "min_width": null,
            "border": null,
            "align_items": null,
            "bottom": null,
            "_model_module": "@jupyter-widgets/base",
            "top": null,
            "grid_column": null,
            "overflow_y": null,
            "overflow_x": null,
            "grid_auto_flow": null,
            "grid_area": null,
            "grid_template_columns": null,
            "flex": null,
            "_model_name": "LayoutModel",
            "justify_items": null,
            "grid_row": null,
            "max_height": null,
            "align_content": null,
            "visibility": null,
            "align_self": null,
            "height": null,
            "min_height": null,
            "padding": null,
            "grid_auto_rows": null,
            "grid_gap": null,
            "max_width": null,
            "order": null,
            "_view_module_version": "1.2.0",
            "grid_template_areas": null,
            "object_position": null,
            "object_fit": null,
            "grid_auto_columns": null,
            "margin": null,
            "display": null,
            "left": null
          }
        },
        "90131578a74944b8bc8e8b563a77e7f3": {
          "model_module": "@jupyter-widgets/controls",
          "model_name": "ProgressStyleModel",
          "state": {
            "_view_name": "StyleView",
            "_model_name": "ProgressStyleModel",
            "description_width": "",
            "_view_module": "@jupyter-widgets/base",
            "_model_module_version": "1.5.0",
            "_view_count": null,
            "_view_module_version": "1.2.0",
            "bar_color": null,
            "_model_module": "@jupyter-widgets/controls"
          }
        },
        "04e28945e6ed4d5ca0f6f209ab777498": {
          "model_module": "@jupyter-widgets/base",
          "model_name": "LayoutModel",
          "state": {
            "_view_name": "LayoutView",
            "grid_template_rows": null,
            "right": null,
            "justify_content": null,
            "_view_module": "@jupyter-widgets/base",
            "overflow": null,
            "_model_module_version": "1.2.0",
            "_view_count": null,
            "flex_flow": null,
            "width": null,
            "min_width": null,
            "border": null,
            "align_items": null,
            "bottom": null,
            "_model_module": "@jupyter-widgets/base",
            "top": null,
            "grid_column": null,
            "overflow_y": null,
            "overflow_x": null,
            "grid_auto_flow": null,
            "grid_area": null,
            "grid_template_columns": null,
            "flex": null,
            "_model_name": "LayoutModel",
            "justify_items": null,
            "grid_row": null,
            "max_height": null,
            "align_content": null,
            "visibility": null,
            "align_self": null,
            "height": null,
            "min_height": null,
            "padding": null,
            "grid_auto_rows": null,
            "grid_gap": null,
            "max_width": null,
            "order": null,
            "_view_module_version": "1.2.0",
            "grid_template_areas": null,
            "object_position": null,
            "object_fit": null,
            "grid_auto_columns": null,
            "margin": null,
            "display": null,
            "left": null
          }
        }
      }
    }
  },
  "cells": [
    {
      "cell_type": "markdown",
      "metadata": {
        "id": "view-in-github",
        "colab_type": "text"
      },
      "source": [
        "<a href=\"https://colab.research.google.com/github/RahulSundar/CS6910-DeepLearningFundamentals/blob/main/Assignment1/Assignment1_training_sweep_Fashion_MNIST.ipynb\" target=\"_parent\"><img src=\"https://colab.research.google.com/assets/colab-badge.svg\" alt=\"Open In Colab\"/></a>"
      ]
    },
    {
      "cell_type": "code",
      "metadata": {
        "colab": {
          "base_uri": "https://localhost:8080/"
        },
        "id": "AABknAuK_8UD",
        "outputId": "c3b3b834-8776-483a-9fdf-b34f778a7094"
      },
      "source": [
        "!pip install wandb\n"
      ],
      "execution_count": 1,
      "outputs": [
        {
          "output_type": "stream",
          "text": [
            "Requirement already satisfied: wandb in /usr/local/lib/python3.7/dist-packages (0.10.22)\n",
            "Requirement already satisfied: subprocess32>=3.5.3 in /usr/local/lib/python3.7/dist-packages (from wandb) (3.5.4)\n",
            "Requirement already satisfied: configparser>=3.8.1 in /usr/local/lib/python3.7/dist-packages (from wandb) (5.0.2)\n",
            "Requirement already satisfied: sentry-sdk>=0.4.0 in /usr/local/lib/python3.7/dist-packages (from wandb) (1.0.0)\n",
            "Requirement already satisfied: protobuf>=3.12.0 in /usr/local/lib/python3.7/dist-packages (from wandb) (3.12.4)\n",
            "Requirement already satisfied: Click>=7.0 in /usr/local/lib/python3.7/dist-packages (from wandb) (7.1.2)\n",
            "Requirement already satisfied: shortuuid>=0.5.0 in /usr/local/lib/python3.7/dist-packages (from wandb) (1.0.1)\n",
            "Requirement already satisfied: docker-pycreds>=0.4.0 in /usr/local/lib/python3.7/dist-packages (from wandb) (0.4.0)\n",
            "Requirement already satisfied: pathtools in /usr/local/lib/python3.7/dist-packages (from wandb) (0.1.2)\n",
            "Requirement already satisfied: python-dateutil>=2.6.1 in /usr/local/lib/python3.7/dist-packages (from wandb) (2.8.1)\n",
            "Requirement already satisfied: six>=1.13.0 in /usr/local/lib/python3.7/dist-packages (from wandb) (1.15.0)\n",
            "Requirement already satisfied: PyYAML in /usr/local/lib/python3.7/dist-packages (from wandb) (3.13)\n",
            "Requirement already satisfied: GitPython>=1.0.0 in /usr/local/lib/python3.7/dist-packages (from wandb) (3.1.14)\n",
            "Requirement already satisfied: psutil>=5.0.0 in /usr/local/lib/python3.7/dist-packages (from wandb) (5.4.8)\n",
            "Requirement already satisfied: promise<3,>=2.0 in /usr/local/lib/python3.7/dist-packages (from wandb) (2.3)\n",
            "Requirement already satisfied: requests<3,>=2.0.0 in /usr/local/lib/python3.7/dist-packages (from wandb) (2.23.0)\n",
            "Requirement already satisfied: certifi in /usr/local/lib/python3.7/dist-packages (from sentry-sdk>=0.4.0->wandb) (2020.12.5)\n",
            "Requirement already satisfied: urllib3>=1.10.0 in /usr/local/lib/python3.7/dist-packages (from sentry-sdk>=0.4.0->wandb) (1.24.3)\n",
            "Requirement already satisfied: setuptools in /usr/local/lib/python3.7/dist-packages (from protobuf>=3.12.0->wandb) (54.0.0)\n",
            "Requirement already satisfied: gitdb<5,>=4.0.1 in /usr/local/lib/python3.7/dist-packages (from GitPython>=1.0.0->wandb) (4.0.5)\n",
            "Requirement already satisfied: idna<3,>=2.5 in /usr/local/lib/python3.7/dist-packages (from requests<3,>=2.0.0->wandb) (2.10)\n",
            "Requirement already satisfied: chardet<4,>=3.0.2 in /usr/local/lib/python3.7/dist-packages (from requests<3,>=2.0.0->wandb) (3.0.4)\n",
            "Requirement already satisfied: smmap<4,>=3.0.1 in /usr/local/lib/python3.7/dist-packages (from gitdb<5,>=4.0.1->GitPython>=1.0.0->wandb) (3.0.5)\n"
          ],
          "name": "stdout"
        }
      ]
    },
    {
      "cell_type": "code",
      "metadata": {
        "id": "3vuMLV7jAhpo"
      },
      "source": [
        "import numpy as np\n",
        "\n",
        "\n",
        "def sigmoid(z):\n",
        "    return 1.0 / (1 + np.exp(-(z)))\n",
        "\n",
        "\n",
        "def tanh(z):\n",
        "    return np.tanh(z)\n",
        "\n",
        "\n",
        "def sin(z):\n",
        "    return np.sin(z)\n",
        "\n",
        "\n",
        "def relu(z):\n",
        "    return (z>0)*(z) + ((z<0)*(z)*0.01)\n",
        "    #return np.maximum(z,0)\n",
        "    #return np.where(z<0, 0.01*z, z)\n",
        "\n",
        "def softmax(Z):\n",
        "    return np.exp(Z) / np.sum(np.exp(Z))\n",
        "\n",
        "\n",
        "def der_sigmoid(z):\n",
        "    return  (1.0 / (1 + np.exp(-(z))))*(1 -  1.0 / (1 + np.exp(-(z))))\n",
        "\n",
        "def der_tanh(z):\n",
        "    return 1 - np.tanh(z) ** 2\n",
        "\n",
        "\n",
        "def der_relu(z):\n",
        "    return (z>0)*np.ones(z.shape) + (z<0)*(0.01*np.ones(z.shape) )"
      ],
      "execution_count": 3,
      "outputs": []
    },
    {
      "cell_type": "code",
      "metadata": {
        "id": "1Rcbw2UiAs_M"
      },
      "source": [
        "import numpy as np\n",
        "import scipy as sp\n",
        "import wandb\n",
        "import time\n",
        "\n",
        "#import tensorflow.keras as tfkeras\n",
        "\n",
        "class FeedForwardNeuralNetwork:\n",
        "    def __init__(\n",
        "        self, \n",
        "        num_hidden_layers, \n",
        "        num_hidden_neurons, \n",
        "        X_train_raw, \n",
        "        Y_train_raw,  \n",
        "        N_train, \n",
        "        X_val_raw, \n",
        "        Y_val_raw, \n",
        "        N_val,\n",
        "        X_test_raw, \n",
        "        Y_test_raw, \n",
        "        N_test,        \n",
        "        optimizer,\n",
        "        batch_size,\n",
        "        weight_decay,\n",
        "        learning_rate,\n",
        "        max_epochs,\n",
        "        activation,\n",
        "        initializer,\n",
        "        loss\n",
        "\n",
        "    ):\n",
        "\n",
        "        \"\"\"\n",
        "        Here, we initialize the FeedForwardNeuralNetwork class with the number of hidden layers, number of hidden neurons, raw training data. \n",
        "        \"\"\"\n",
        "        \n",
        "        self.num_classes = np.max(Y_train_raw) + 1  # NUM_CLASSES\n",
        "        self.num_hidden_layers = num_hidden_layers\n",
        "        self.num_hidden_neurons = num_hidden_neurons\n",
        "        self.output_layer_size = self.num_classes\n",
        "        self.img_height = X_train_raw.shape[1]\n",
        "        self.img_width = X_train_raw.shape[2]\n",
        "        self.img_flattened_size = self.img_height * self.img_width\n",
        "\n",
        "        # self.layers = layers\n",
        "        self.layers = (\n",
        "            [self.img_flattened_size]\n",
        "            + num_hidden_layers * [num_hidden_neurons]\n",
        "            + [self.output_layer_size]\n",
        "        )\n",
        "\n",
        "        self.N_train = N_train\n",
        "        self.N_val = N_val\n",
        "        self.N_test = N_test\n",
        "        \n",
        "\n",
        "\n",
        "        self.X_train = np.transpose(\n",
        "            X_train_raw.reshape(\n",
        "                X_train_raw.shape[0], X_train_raw.shape[1] * X_train_raw.shape[2]\n",
        "            )\n",
        "        )  # [IMG_HEIGHT*IMG_WIDTH X NTRAIN]\n",
        "        self.X_test = np.transpose(\n",
        "            X_test_raw.reshape(\n",
        "                X_test_raw.shape[0], X_test_raw.shape[1] * X_test_raw.shape[2]\n",
        "            )\n",
        "        )  # [IMG_HEIGHT*IMG_WIDTH X NTRAIN]\n",
        "        self.X_val = np.transpose(\n",
        "            X_val_raw.reshape(\n",
        "                X_val_raw.shape[0], X_val_raw.shape[1] * X_val_raw.shape[2]\n",
        "            )\n",
        "        )  # [IMG_HEIGHT*IMG_WIDTH X NTRAIN]\n",
        "\n",
        "\n",
        "        self.X_train = self.X_train / 255\n",
        "        self.X_test = self.X_test / 255\n",
        "        self.X_val = self.X_val / 255\n",
        "        \n",
        "        self.Y_train = self.oneHotEncode(Y_train_raw)  # [NUM_CLASSES X NTRAIN]\n",
        "        self.Y_val = self.oneHotEncode(Y_val_raw)\n",
        "        self.Y_test = self.oneHotEncode(Y_test_raw)\n",
        "        #self.Y_shape = self.Y_train.shape\n",
        "\n",
        "\n",
        "\n",
        "\n",
        "        # self.weights, self.biases = self.initializeNeuralNet(self.layers)\n",
        "\n",
        "\n",
        "\n",
        "        self.Activations_dict = {\"SIGMOID\": sigmoid, \"TANH\": tanh, \"RELU\": relu}\n",
        "        self.DerActivation_dict = {\n",
        "            \"SIGMOID\": der_sigmoid,\n",
        "            \"TANH\": der_tanh,\n",
        "            \"RELU\": der_relu,\n",
        "        }\n",
        "\n",
        "        self.Initializer_dict = {\n",
        "            \"XAVIER\": self.Xavier_initializer,\n",
        "            \"RANDOM\": self.random_initializer,\n",
        "            \"HE\": self.He_initializer\n",
        "        }\n",
        "\n",
        "        self.Optimizer_dict = {\n",
        "            \"SGD\": self.sgdMiniBatch,\n",
        "            \"MGD\": self.mgd,\n",
        "            \"NAG\": self.nag,\n",
        "            \"RMSPROP\": self.rmsProp,\n",
        "            \"ADAM\": self.adam,\n",
        "            \"NADAM\": self.nadam,\n",
        "        }\n",
        "        \n",
        "        self.activation = self.Activations_dict[activation]\n",
        "        \n",
        "        self.der_activation = self.DerActivation_dict[activation]\n",
        "        \n",
        "        self.optimizer = self.Optimizer_dict[optimizer]\n",
        "        self.initializer = self.Initializer_dict[initializer]\n",
        "        self.loss_function = loss\n",
        "        self.max_epochs = max_epochs\n",
        "        self.batch_size = batch_size\n",
        "        self.learning_rate = learning_rate\n",
        "        \n",
        "        self.weights, self.biases = self.initializeNeuralNet(self.layers)\n",
        "\n",
        "\n",
        "        \n",
        "        \n",
        "    # helper functions\n",
        "    def oneHotEncode(self, Y_train_raw):\n",
        "        Ydata = np.zeros((self.num_classes, Y_train_raw.shape[0]))\n",
        "        for i in range(Y_train_raw.shape[0]):\n",
        "            value = Y_train_raw[i]\n",
        "            Ydata[int(value)][i] = 1.0\n",
        "        return Ydata\n",
        "\n",
        "    # Loss functions\n",
        "    def meanSquaredErrorLoss(self, Y_true, Y_pred):\n",
        "        MSE = np.mean((Y_true - Y_pred) ** 2)\n",
        "        return MSE\n",
        "\n",
        "    def crossEntropyLoss(self, Y_true, Y_pred):\n",
        "        CE = [-Y_true[i] * np.log(Y_pred[i]) for i in range(len(Y_pred))]\n",
        "        crossEntropy = np.mean(CE)\n",
        "        return crossEntropy\n",
        "\n",
        "    def L2RegularisationLoss(self, weight_decay):\n",
        "        ALPHA = weight_decay\n",
        "        return ALPHA * np.sum(\n",
        "            [\n",
        "                np.linalg.norm(self.weights[str(i + 1)]) ** 2\n",
        "                for i in range(len(self.weights))\n",
        "            ]\n",
        "        )\n",
        "\n",
        "\n",
        "    def accuracy(self, Y_true, Y_pred, data_size):\n",
        "        Y_true_label = []\n",
        "        Y_pred_label = []\n",
        "        ctr = 0\n",
        "        for i in range(data_size):\n",
        "            Y_true_label.append(np.argmax(Y_true[:, i]))\n",
        "            Y_pred_label.append(np.argmax(Y_pred[:, i]))\n",
        "            if Y_true_label[i] == Y_pred_label[i]:\n",
        "                ctr += 1\n",
        "        accuracy = ctr / data_size\n",
        "        return accuracy, Y_true_label, Y_pred_label\n",
        "\n",
        "    def Xavier_initializer(self, size):\n",
        "        in_dim = size[1]\n",
        "        out_dim = size[0]\n",
        "        xavier_stddev = np.sqrt(2 / (in_dim + out_dim))\n",
        "        return np.random.normal(0, xavier_stddev, size=(out_dim, in_dim))\n",
        "\n",
        "    #def Xavier_initializer(self, size):\n",
        "    #    in_dim = size[1]\n",
        "    #    out_dim = size[0]\n",
        "    #    #xavier_stddev = np.sqrt(2 / (in_dim + out_dim))\n",
        "    #    initializer = tfkeras.initializers.GlorotNormal()\n",
        "    #    return initializer(shape=(out_dim, in_dim)).numpy()\n",
        "\n",
        "    #def random_initializer(self, size):\n",
        "    #    in_dim = size[1]\n",
        "    #    out_dim = size[0]\n",
        "    #    #xavier_stddev = np.sqrt(2 / (in_dim + out_dim))\n",
        "    #    initializer = tfkeras.initializers.RandomNormal()\n",
        "    #    return initializer(shape=(out_dim, in_dim)).numpy()\n",
        "\n",
        "    def random_initializer(self, size):\n",
        "        in_dim = size[1]\n",
        "        out_dim = size[0]\n",
        "        return np.random.normal(0, 1, size=(out_dim, in_dim))\n",
        "\n",
        "\n",
        "    def He_initializer(self,size):\n",
        "        in_dim = size[1]\n",
        "        out_dim = size[0]\n",
        "        He_stddev = np.sqrt(2 / (in_dim))\n",
        "        return np.random.normal(0, 1, size=(out_dim, in_dim)) * He_stddev\n",
        "\n",
        "\n",
        "    def initializeNeuralNet(self, layers):\n",
        "        weights = {}\n",
        "        biases = {}\n",
        "        num_layers = len(layers)\n",
        "        for l in range(0, num_layers - 1):\n",
        "            W = self.initializer(size=[layers[l + 1], layers[l]])\n",
        "            b = np.zeros((layers[l + 1], 1))\n",
        "            weights[str(l + 1)] = W\n",
        "            biases[str(l + 1)] = b\n",
        "        return weights, biases\n",
        "\n",
        "    def forwardPropagate(self, X_train_batch, weights, biases):\n",
        "        \"\"\"\n",
        "        Returns the neural network given input data, weights, biases.\n",
        "        Arguments:\n",
        "                 : X - input matrix\n",
        "                 : Weights  - Weights matrix\n",
        "                 : biases - Bias vectors \n",
        "        \"\"\"\n",
        "        # Number of layers = length of weight matrix + 1\n",
        "        num_layers = len(weights) + 1\n",
        "        # A - Preactivations\n",
        "        # H - Activations\n",
        "        X = X_train_batch\n",
        "        H = {}\n",
        "        A = {}\n",
        "        H[\"0\"] = X\n",
        "        A[\"0\"] = X\n",
        "        for l in range(0, num_layers - 2):\n",
        "            if l == 0:\n",
        "                W = weights[str(l + 1)]\n",
        "                b = biases[str(l + 1)]\n",
        "                A[str(l + 1)] = np.add(np.matmul(W, X), b)\n",
        "                H[str(l + 1)] = self.activation(A[str(l + 1)])\n",
        "            else:\n",
        "                W = weights[str(l + 1)]\n",
        "                b = biases[str(l + 1)]\n",
        "                A[str(l + 1)] = np.add(np.matmul(W, H[str(l)]), b)\n",
        "                H[str(l + 1)] = self.activation(A[str(l + 1)])\n",
        "\n",
        "        # Here the last layer is not activated as it is a regression problem\n",
        "        W = weights[str(num_layers - 1)]\n",
        "        b = biases[str(num_layers - 1)]\n",
        "        A[str(num_layers - 1)] = np.add(np.matmul(W, H[str(num_layers - 2)]), b)\n",
        "        # Y = softmax(A[-1])\n",
        "        Y = softmax(A[str(num_layers - 1)])\n",
        "        H[str(num_layers - 1)] = Y\n",
        "        return Y, H, A\n",
        "\n",
        "    def backPropagate(\n",
        "        self, Y, H, A, Y_train_batch, weight_decay=0\n",
        "    ):\n",
        "\n",
        "        ALPHA = weight_decay\n",
        "        gradients_weights = []\n",
        "        gradients_biases = []\n",
        "        num_layers = len(self.layers)\n",
        "\n",
        "        # Gradient with respect to the output layer is absolutely fine.\n",
        "        if self.loss_function == \"CROSS\":\n",
        "            globals()[\"grad_a\" + str(num_layers - 1)] = -(Y_train_batch - Y)\n",
        "        elif self.loss_function == \"MSE\":\n",
        "            globals()[\"grad_a\" + str(num_layers - 1)] = np.multiply(\n",
        "                2 * (Y - Y_train_batch), np.multiply(Y, (1 - Y))\n",
        "            )\n",
        "\n",
        "        for l in range(num_layers - 2, -1, -1):\n",
        "\n",
        "            if ALPHA != 0:\n",
        "                globals()[\"grad_W\" + str(l + 1)] = (\n",
        "                    np.outer(globals()[\"grad_a\" + str(l + 1)], H[str(l)])\n",
        "                    + ALPHA * self.weights[str(l + 1)]\n",
        "                )\n",
        "            elif ALPHA == 0:\n",
        "                globals()[\"grad_W\" + str(l + 1)] = np.outer(\n",
        "                    globals()[\"grad_a\" + str(l + 1)], H[str(l)]\n",
        "                )\n",
        "            globals()[\"grad_b\" + str(l + 1)] = globals()[\"grad_a\" + str(l + 1)]\n",
        "            gradients_weights.append(globals()[\"grad_W\" + str(l + 1)])\n",
        "            gradients_biases.append(globals()[\"grad_b\" + str(l + 1)])\n",
        "            if l != 0:\n",
        "                globals()[\"grad_h\" + str(l)] = np.matmul(\n",
        "                    self.weights[str(l + 1)].transpose(),\n",
        "                    globals()[\"grad_a\" + str(l + 1)],\n",
        "                )\n",
        "                globals()[\"grad_a\" + str(l)] = np.multiply(\n",
        "                    globals()[\"grad_h\" + str(l)], self.der_activation(A[str(l)])\n",
        "                )\n",
        "            elif l == 0:\n",
        "\n",
        "                globals()[\"grad_h\" + str(l)] = np.matmul(\n",
        "                    self.weights[str(l + 1)].transpose(),\n",
        "                    globals()[\"grad_a\" + str(l + 1)],\n",
        "                )\n",
        "                globals()[\"grad_a\" + str(l)] = np.multiply(\n",
        "                    globals()[\"grad_h\" + str(l)], (A[str(l)])\n",
        "                )\n",
        "        return gradients_weights, gradients_biases\n",
        "\n",
        "\n",
        "    def predict(self,X,length_dataset):\n",
        "        Y_pred = []        \n",
        "        for i in range(length_dataset):\n",
        "\n",
        "            Y, H, A = self.forwardPropagate(\n",
        "                X[:, i].reshape(self.img_flattened_size, 1),\n",
        "                self.weights,\n",
        "                self.biases,\n",
        "            )\n",
        "\n",
        "            Y_pred.append(Y.reshape(self.num_classes,))\n",
        "        Y_pred = np.array(Y_pred).transpose()\n",
        "        return Y_pred\n",
        "\n",
        "    def sgd(self, epochs, length_dataset, learning_rate, weight_decay=0):\n",
        "        \n",
        "        trainingloss = []\n",
        "        trainingaccuracy = []\n",
        "        validationaccuracy = []\n",
        "        \n",
        "        num_layers = len(self.layers)\n",
        "\n",
        "        X_train = self.X_train[:, :length_dataset]\n",
        "        Y_train = self.Y_train[:, :length_dataset]\n",
        "\n",
        "        for epoch in range(epochs):\n",
        "            start_time = time.time()\n",
        "            # perm = np.random.permutation(N)\n",
        "            idx = np.random.shuffle(np.arange(length_dataset))\n",
        "            X_train = X_train[:, idx].reshape(self.img_flattened_size, length_dataset)\n",
        "            Y_train = Y_train[:, idx].reshape(self.num_classes, length_dataset)\n",
        "\n",
        "            CE = []\n",
        "            #Y_pred = []\n",
        "            deltaw = [\n",
        "                np.zeros((self.layers[l + 1], self.layers[l]))\n",
        "                for l in range(0, len(self.layers) - 1)\n",
        "            ]\n",
        "            deltab = [\n",
        "                np.zeros((self.layers[l + 1], 1))\n",
        "                for l in range(0, len(self.layers) - 1)\n",
        "            ]\n",
        "\n",
        "            for i in range(length_dataset):\n",
        "\n",
        "                Y, H, A = self.forwardPropagate(\n",
        "                    X_train[:, i].reshape(self.img_flattened_size, 1),\n",
        "                    self.weights,\n",
        "                    self.biases,\n",
        "                )\n",
        "                grad_weights, grad_biases = self.backPropagate(\n",
        "                    Y, H, A, Y_train[:, i].reshape(self.num_classes, 1)\n",
        "                )\n",
        "                deltaw = [\n",
        "                    grad_weights[num_layers - 2 - i] for i in range(num_layers - 1)\n",
        "                ]\n",
        "                deltab = [\n",
        "                    grad_biases[num_layers - 2 - i] for i in range(num_layers - 1)\n",
        "                ]\n",
        "\n",
        "                #Y_pred.append(Y.reshape(self.num_classes,))\n",
        "\n",
        "                CE.append(\n",
        "                    self.crossEntropyLoss(\n",
        "                        self.Y_train[:, i].reshape(self.num_classes, 1), Y\n",
        "                    )\n",
        "                    + self.L2RegularisationLoss(weight_decay)\n",
        "                )\n",
        "\n",
        "                # print(num_points_seen)\n",
        "                self.weights = {\n",
        "                    str(i + 1): (self.weights[str(i + 1)] - learning_rate * deltaw[i])\n",
        "                    for i in range(len(self.weights))\n",
        "                }\n",
        "                self.biases = {\n",
        "                    str(i + 1): (self.biases[str(i + 1)] - learning_rate * deltab[i])\n",
        "                    for i in range(len(self.biases))\n",
        "                }\n",
        "\n",
        "            elapsed = time.time() - start_time\n",
        "            #Y_pred = np.array(Y_pred).transpose()\n",
        "            Y_pred = self.predict(self.X_train, self.N_train)\n",
        "            trainingloss.append(np.mean(CE))\n",
        "            trainingaccuracy.append(self.accuracy(Y_train, Y_pred, length_dataset)[0])\n",
        "            validationaccuracy.append(self.accuracy(self.Y_val, self.predict(self.X_val, self.N_val), self.N_val)[0])\n",
        "            \n",
        "            print(\n",
        "                        \"Epoch: %d, Loss: %.3e, Training accuracy:%.2f, Validation Accuracy: %.2f, Time: %.2f, Learning Rate: %.3e\"\n",
        "                        % (\n",
        "                            epoch,\n",
        "                            trainingloss[epoch],\n",
        "                            trainingaccuracy[epoch],\n",
        "                            validationaccuracy[epoch],\n",
        "                            elapsed,\n",
        "                            self.learning_rate,\n",
        "                        )\n",
        "                    )\n",
        "\n",
        "            wandb.log({'loss':np.mean(CE), 'trainingaccuracy':trainingaccuracy[epoch], 'validationaccuracy':validationaccuracy[epoch],'epoch':epoch, })\n",
        "        # data = [[epoch, loss[epoch]] for epoch in range(epochs)]\n",
        "        # table = wandb.Table(data=data, columns = [\"Epoch\", \"Loss\"])\n",
        "        # wandb.log({'loss':wandb.plot.line(table, \"Epoch\", \"Loss\", title=\"Loss vs Epoch Line Plot\")})\n",
        "        return trainingloss, trainingaccuracy, validationaccuracy, Y_pred\n",
        "\n",
        "\n",
        "      \n",
        "    def sgdMiniBatch(self, epochs,length_dataset, batch_size, learning_rate, weight_decay = 0):\n",
        "\n",
        "        X_train = self.X_train[:, :length_dataset]\n",
        "        Y_train = self.Y_train[:, :length_dataset]        \n",
        "\n",
        "        trainingloss = []\n",
        "        trainingaccuracy = []\n",
        "        validationaccuracy = []\n",
        "        \n",
        "        num_layers = len(self.layers)\n",
        "        num_points_seen = 0\n",
        "\n",
        "\n",
        "        for epoch in range(epochs):\n",
        "            start_time = time.time()\n",
        "            idx = np.random.shuffle(np.arange(length_dataset))\n",
        "            X_train = X_train[:, idx].reshape(self.img_flattened_size, length_dataset)\n",
        "            Y_train = Y_train[:, idx].reshape(self.num_classes, length_dataset)\n",
        "            \n",
        "            CE = []\n",
        "            #Y_pred = []\n",
        "            \n",
        "            deltaw = [np.zeros((self.layers[l+1], self.layers[l])) for l in range(0, len(self.layers)-1)]\n",
        "            deltab = [np.zeros((self.layers[l+1], 1)) for l in range(0, len(self.layers)-1)]\n",
        "\n",
        "            for i in range(length_dataset):\n",
        "                \n",
        "                Y,H,A = self.forwardPropagate(X_train[:,i].reshape(self.img_flattened_size,1), self.weights, self.biases) \n",
        "                grad_weights, grad_biases = self.backPropagate(Y,H,A,Y_train[:,i].reshape(self.num_classes,1))\n",
        "                \n",
        "                deltaw = [grad_weights[num_layers-2 - i] + deltaw[i] for i in range(num_layers - 1)]\n",
        "                deltab = [grad_biases[num_layers-2 - i] + deltab[i] for i in range(num_layers - 1)]\n",
        "                \n",
        "                #Y_pred.append(Y.reshape(self.num_classes,))\n",
        "                CE.append(self.crossEntropyLoss(self.Y_train[:,i].reshape(self.num_classes,1), Y) + self.L2RegularisationLoss(weight_decay))\n",
        "                \n",
        "                num_points_seen +=1\n",
        "                \n",
        "                if int(num_points_seen) % batch_size == 0:\n",
        "                    \n",
        "                    \n",
        "                    self.weights = {str(i+1):(self.weights[str(i+1)] - learning_rate*deltaw[i]/batch_size) for i in range(len(self.weights))} \n",
        "                    self.biases = {str(i+1):(self.biases[str(i+1)] - learning_rate*deltab[i]) for i in range(len(self.biases))}\n",
        "                    \n",
        "                    #resetting gradient updates\n",
        "                    deltaw = [np.zeros((self.layers[l+1], self.layers[l])) for l in range(0, len(self.layers)-1)]\n",
        "                    deltab = [np.zeros((self.layers[l+1], 1)) for l in range(0, len(self.layers)-1)]\n",
        "            \n",
        "            elapsed = time.time() - start_time\n",
        "            #Y_pred = np.array(Y_pred).transpose()\n",
        "            Y_pred = self.predict(self.X_train, self.N_train)\n",
        "            trainingloss.append(np.mean(CE))\n",
        "            trainingaccuracy.append(self.accuracy(Y_train, Y_pred, length_dataset)[0])\n",
        "            validationaccuracy.append(self.accuracy(self.Y_val, self.predict(self.X_val, self.N_val), self.N_val)[0])\n",
        "\n",
        "            print(\n",
        "                        \"Epoch: %d, Loss: %.3e, Training accuracy:%.2f, Validation Accuracy: %.2f, Time: %.2f, Learning Rate: %.3e\"\n",
        "                        % (\n",
        "                            epoch,\n",
        "                            trainingloss[epoch],\n",
        "                            trainingaccuracy[epoch],\n",
        "                            validationaccuracy[epoch],\n",
        "                            elapsed,\n",
        "                            self.learning_rate,\n",
        "                        )\n",
        "                    )\n",
        "                    \n",
        "            wandb.log({'loss':np.mean(CE), 'trainingaccuracy':trainingaccuracy[epoch], 'validationaccuracy':validationaccuracy[epoch],'epoch':epoch })\n",
        "            \n",
        "        return trainingloss, trainingaccuracy, validationaccuracy, Y_pred\n",
        "\n",
        "\n",
        "\n",
        "    def mgd(self, epochs,length_dataset, batch_size, learning_rate, weight_decay = 0):\n",
        "        GAMMA = 0.9\n",
        "\n",
        "        X_train = self.X_train[:, :length_dataset]\n",
        "        Y_train = self.Y_train[:, :length_dataset]        \n",
        "\n",
        "        \n",
        "        trainingloss = []\n",
        "        trainingaccuracy = []\n",
        "        validationaccuracy = []\n",
        "        \n",
        "        num_layers = len(self.layers)\n",
        "        prev_v_w = [np.zeros((self.layers[l+1], self.layers[l])) for l in range(0, len(self.layers)-1)]\n",
        "        prev_v_b = [np.zeros((self.layers[l+1], 1)) for l in range(0, len(self.layers)-1)]\n",
        "        num_points_seen = 0\n",
        "        for epoch in range(epochs):\n",
        "            start_time = time.time()\n",
        "            idx = np.random.shuffle(np.arange(length_dataset))\n",
        "            X_train = X_train[:, idx].reshape(self.img_flattened_size, length_dataset)\n",
        "            Y_train = Y_train[:, idx].reshape(self.num_classes, length_dataset)\n",
        "\n",
        "            CE = []\n",
        "            #Y_pred = []\n",
        "            deltaw = [np.zeros((self.layers[l+1], self.layers[l])) for l in range(0, len(self.layers)-1)]\n",
        "            deltab = [np.zeros((self.layers[l+1], 1)) for l in range(0, len(self.layers)-1)]\n",
        "            \n",
        "\n",
        "            for i in range(length_dataset):\n",
        "                Y,H,A = self.forwardPropagate(self.X_train[:,i].reshape(self.img_flattened_size,1), self.weights, self.biases) \n",
        "                grad_weights, grad_biases = self.backPropagate(Y,H,A,self.Y_train[:,i].reshape(self.num_classes,1))\n",
        "                \n",
        "                deltaw = [grad_weights[num_layers-2 - i] + deltaw[i] for i in range(num_layers - 1)]\n",
        "                deltab = [grad_biases[num_layers-2 - i] + deltab[i] for i in range(num_layers - 1)]\n",
        "\n",
        "                #Y_pred.append(Y.reshape(self.num_classes,))\n",
        "                CE.append(self.crossEntropyLoss(self.Y_train[:,i].reshape(self.num_classes,1), Y) + self.L2RegularisationLoss(weight_decay))\n",
        "                \n",
        "                num_points_seen +=1\n",
        "                \n",
        "                if int(num_points_seen) % batch_size == 0:\n",
        "\n",
        "                    v_w = [GAMMA*prev_v_w[i] + learning_rate*deltaw[i]/batch_size for i in range(num_layers - 1)]\n",
        "                    v_b = [GAMMA*prev_v_b[i] + learning_rate*deltab[i]/batch_size for i in range(num_layers - 1)]\n",
        "                    \n",
        "                    self.weights = {str(i+1) : (self.weights[str(i+1)] - v_w[i]) for i in range(len(self.weights))}\n",
        "                    self.biases = {str(i+1): (self.biases[str(i+1)] - v_b[i]) for i in range(len(self.biases))}\n",
        "\n",
        "                    prev_v_w = v_w\n",
        "                    prev_v_b = v_b\n",
        "\n",
        "                    #resetting gradient updates\n",
        "                    deltaw = [np.zeros((self.layers[l+1], self.layers[l])) for l in range(0, len(self.layers)-1)]\n",
        "                    deltab = [np.zeros((self.layers[l+1], 1)) for l in range(0, len(self.layers)-1)]\n",
        "\n",
        "            elapsed = time.time() - start_time\n",
        "            #Y_pred = np.array(Y_pred).transpose()\n",
        "            Y_pred = self.predict(self.X_train, self.N_train)\n",
        "            trainingloss.append(np.mean(CE))\n",
        "            trainingaccuracy.append(self.accuracy(Y_train, Y_pred, length_dataset)[0])\n",
        "            validationaccuracy.append(self.accuracy(self.Y_val, self.predict(self.X_val, self.N_val), self.N_val)[0])\n",
        "\n",
        "            print(\n",
        "                        \"Epoch: %d, Loss: %.3e, Training accuracy:%.2f, Validation Accuracy: %.2f, Time: %.2f, Learning Rate: %.3e\"\n",
        "                        % (\n",
        "                            epoch,\n",
        "                            trainingloss[epoch],\n",
        "                            trainingaccuracy[epoch],\n",
        "                            validationaccuracy[epoch],\n",
        "                            elapsed,\n",
        "                            self.learning_rate,\n",
        "                        )\n",
        "                    )\n",
        "\n",
        "            wandb.log({'loss':np.mean(CE), 'trainingaccuracy':trainingaccuracy[epoch], 'validationaccuracy':validationaccuracy[epoch],'epoch':epoch })\n",
        "\n",
        "\n",
        "        return trainingloss, trainingaccuracy, validationaccuracy, Y_pred\n",
        "\n",
        "\n",
        " \n",
        " \n",
        "    def stochasticNag(self,epochs,length_dataset, learning_rate, weight_decay = 0):\n",
        "        GAMMA = 0.9\n",
        "\n",
        "        X_train = self.X_train[:, :length_dataset]\n",
        "        Y_train = self.Y_train[:, :length_dataset]        \n",
        "\n",
        "        trainingloss = []\n",
        "        trainingaccuracy = []\n",
        "        validationaccuracy = []\n",
        "        \n",
        "        num_layers = len(self.layers)\n",
        "        \n",
        "        prev_v_w = [np.zeros((self.layers[l+1], self.layers[l])) for l in range(0, len(self.layers)-1)]\n",
        "        prev_v_b = [np.zeros((self.layers[l+1], 1)) for l in range(0, len(self.layers)-1)]\n",
        "        \n",
        "        for epoch in range(epochs):\n",
        "            start_time = time.time()\n",
        "            idx = np.random.shuffle(np.arange(length_dataset))\n",
        "            X_train = X_train[:, idx].reshape(self.img_flattened_size, length_dataset)\n",
        "            Y_train = Y_train[:, idx].reshape(self.num_classes, length_dataset)\n",
        "\n",
        "            CE = []\n",
        "            #Y_pred = []  \n",
        "            \n",
        "            deltaw = [np.zeros((self.layers[l+1], self.layers[l])) for l in range(0, len(self.layers)-1)]\n",
        "            deltab = [np.zeros((self.layers[l+1], 1)) for l in range(0, len(self.layers)-1)]\n",
        "            \n",
        "            v_w = [GAMMA*prev_v_w[i] for i in range(0, len(self.layers)-1)]  \n",
        "            v_b = [GAMMA*prev_v_b[i] for i in range(0, len(self.layers)-1)]\n",
        "                        \n",
        "            for i in range(length_dataset):\n",
        "                winter = {str(i+1) : self.weights[str(i+1)] - v_w[i] for i in range(0, len(self.layers)-1)}\n",
        "                binter = {str(i+1) : self.biases[str(i+1)] - v_b[i] for i in range(0, len(self.layers)-1)}\n",
        "                \n",
        "                Y,H,A = self.forwardPropagate(self.X_train[:,i].reshape(self.img_flattened_size,1), winter, binter) \n",
        "                grad_weights, grad_biases = self.backPropagate(Y,H,A,self.Y_train[:,i].reshape(self.num_classes,1))\n",
        "                \n",
        "                deltaw = [grad_weights[num_layers-2 - i] for i in range(num_layers - 1)]\n",
        "                deltab = [grad_biases[num_layers-2 - i] for i in range(num_layers - 1)]\n",
        "\n",
        "                #Y_pred.append(Y.reshape(self.num_classes,))\n",
        "                CE.append(self.crossEntropyLoss(self.Y_train[:,i].reshape(self.num_classes,1), Y) + self.L2RegularisationLoss(weight_decay))\n",
        "                            \n",
        "                v_w = [GAMMA*prev_v_w[i] + learning_rate*deltaw[i] for i in range(num_layers - 1)]\n",
        "                v_b = [GAMMA*prev_v_b[i] + learning_rate*deltab[i] for i in range(num_layers - 1)]\n",
        "        \n",
        "                self.weights = {str(i+1):self.weights[str(i+1)] - v_w[i] for i in range(len(self.weights))} \n",
        "                self.biases = {str(i+1):self.biases[str(i+1)] - v_b[i] for i in range(len(self.biases))}\n",
        "                \n",
        "                prev_v_w = v_w\n",
        "                prev_v_b = v_b\n",
        "    \n",
        "            \n",
        "            elapsed = time.time() - start_time\n",
        "            #Y_pred = np.array(Y_pred).transpose()\n",
        "            Y_pred = self.predict(self.X_train, self.N_train)\n",
        "            trainingloss.append(np.mean(CE))\n",
        "            trainingaccuracy.append(self.accuracy(Y_train, Y_pred, length_dataset)[0])\n",
        "            validationaccuracy.append(self.accuracy(self.Y_val, self.predict(self.X_val, self.N_val), self.N_val)[0])\n",
        "\n",
        "            print(\n",
        "                        \"Epoch: %d, Loss: %.3e, Training accuracy:%.2f, Validation Accuracy: %.2f, Time: %.2f, Learning Rate: %.3e\"\n",
        "                        % (\n",
        "                            epoch,\n",
        "                            trainingloss[epoch],\n",
        "                            trainingaccuracy[epoch],\n",
        "                            validationaccuracy[epoch],\n",
        "                            elapsed,\n",
        "                            self.learning_rate,\n",
        "                        )\n",
        "                    )\n",
        "                    \n",
        "            wandb.log({'loss':np.mean(CE), 'trainingaccuracy':trainingaccuracy[epoch], 'validationaccuracy':validationaccuracy[epoch],'epoch':epoch })\n",
        "        \n",
        "        return trainingloss, trainingaccuracy, validationaccuracy, Y_pred\n",
        "    \n",
        "\n",
        "    def nag(self,epochs,length_dataset, batch_size,learning_rate, weight_decay = 0):\n",
        "        GAMMA = 0.9\n",
        "\n",
        "        X_train = self.X_train[:, :length_dataset]\n",
        "        Y_train = self.Y_train[:, :length_dataset]        \n",
        "\n",
        "\n",
        "        trainingloss = []\n",
        "        trainingaccuracy = []\n",
        "        validationaccuracy = []\n",
        "        \n",
        "        num_layers = len(self.layers)\n",
        "        \n",
        "        prev_v_w = [np.zeros((self.layers[l+1], self.layers[l])) for l in range(0, len(self.layers)-1)]\n",
        "        prev_v_b = [np.zeros((self.layers[l+1], 1)) for l in range(0, len(self.layers)-1)]\n",
        "        \n",
        "        num_points_seen = 0\n",
        "        for epoch in range(epochs):\n",
        "            start_time = time.time()\n",
        "            idx = np.random.shuffle(np.arange(length_dataset))\n",
        "            X_train = X_train[:, idx].reshape(self.img_flattened_size, length_dataset)\n",
        "            Y_train = Y_train[:, idx].reshape(self.num_classes, length_dataset)\n",
        "\n",
        "            CE = []\n",
        "            #Y_pred = []  \n",
        "            \n",
        "            deltaw = [np.zeros((self.layers[l+1], self.layers[l])) for l in range(0, len(self.layers)-1)]\n",
        "            deltab = [np.zeros((self.layers[l+1], 1)) for l in range(0, len(self.layers)-1)]\n",
        "            \n",
        "            v_w = [GAMMA*prev_v_w[i] for i in range(0, len(self.layers)-1)]  \n",
        "            v_b = [GAMMA*prev_v_b[i] for i in range(0, len(self.layers)-1)]\n",
        "\n",
        "            for i in range(length_dataset):\n",
        "                winter = {str(i+1) : self.weights[str(i+1)] - v_w[i] for i in range(0, len(self.layers)-1)}\n",
        "                binter = {str(i+1) : self.biases[str(i+1)] - v_b[i] for i in range(0, len(self.layers)-1)}\n",
        "                \n",
        "                Y,H,A = self.forwardPropagate(self.X_train[:,i].reshape(self.img_flattened_size,1), winter, binter) \n",
        "                grad_weights, grad_biases = self.backPropagate(Y,H,A,self.Y_train[:,i].reshape(self.num_classes,1))\n",
        "                \n",
        "                deltaw = [grad_weights[num_layers-2 - i] + deltaw[i] for i in range(num_layers - 1)]\n",
        "                deltab = [grad_biases[num_layers-2 - i] + deltab[i] for i in range(num_layers - 1)]\n",
        "\n",
        "                #Y_pred.append(Y.reshape(self.num_classes,))\n",
        "                CE.append(self.crossEntropyLoss(self.Y_train[:,i].reshape(self.num_classes,1), Y) + self.L2RegularisationLoss(weight_decay))\n",
        "\n",
        "                num_points_seen +=1\n",
        "                \n",
        "                if int(num_points_seen) % batch_size == 0:                            \n",
        "\n",
        "                    v_w = [GAMMA*prev_v_w[i] + learning_rate*deltaw[i]/batch_size for i in range(num_layers - 1)]\n",
        "                    v_b = [GAMMA*prev_v_b[i] + learning_rate*deltab[i]/batch_size for i in range(num_layers - 1)]\n",
        "        \n",
        "                    self.weights ={str(i+1):self.weights[str(i+1)]  - v_w[i] for i in range(len(self.weights))}\n",
        "                    self.biases = {str(i+1):self.biases[str(i+1)]  - v_b[i] for i in range(len(self.biases))}\n",
        "                \n",
        "                    prev_v_w = v_w\n",
        "                    prev_v_b = v_b\n",
        "\n",
        "                    deltaw = [np.zeros((self.layers[l+1], self.layers[l])) for l in range(0, len(self.layers)-1)]\n",
        "                    deltab = [np.zeros((self.layers[l+1], 1)) for l in range(0, len(self.layers)-1)]\n",
        "\n",
        "    \n",
        "            \n",
        "            elapsed = time.time() - start_time\n",
        "            #Y_pred = np.array(Y_pred).transpose()\n",
        "            Y_pred = self.predict(self.X_train, self.N_train)\n",
        "            trainingloss.append(np.mean(CE))\n",
        "            trainingaccuracy.append(self.accuracy(Y_train, Y_pred, length_dataset)[0])\n",
        "            validationaccuracy.append(self.accuracy(self.Y_val, self.predict(self.X_val, self.N_val), self.N_val)[0])\n",
        "\n",
        "            print(\n",
        "                        \"Epoch: %d, Loss: %.3e, Training accuracy:%.2f, Validation Accuracy: %.2f, Time: %.2f, Learning Rate: %.3e\"\n",
        "                        % (\n",
        "                            epoch,\n",
        "                            trainingloss[epoch],\n",
        "                            trainingaccuracy[epoch],\n",
        "                            validationaccuracy[epoch],\n",
        "                            elapsed,\n",
        "                            self.learning_rate,\n",
        "                        )\n",
        "                    )\n",
        "\n",
        "            wandb.log({'loss':np.mean(CE), 'trainingaccuracy':trainingaccuracy[epoch], 'validationaccuracy':validationaccuracy[epoch],'epoch':epoch })\n",
        "        \n",
        "        return trainingloss, trainingaccuracy, validationaccuracy, Y_pred\n",
        "    \n",
        "\n",
        "    \n",
        "    def rmsProp(self, epochs,length_dataset, batch_size, learning_rate, weight_decay = 0):\n",
        "\n",
        "\n",
        "        X_train = self.X_train[:, :length_dataset]\n",
        "        Y_train = self.Y_train[:, :length_dataset]        \n",
        "\n",
        "        \n",
        "        trainingloss = []\n",
        "        trainingaccuracy = []\n",
        "        validationaccuracy = []\n",
        "        \n",
        "        num_layers = len(self.layers)\n",
        "        EPS, BETA = 1e-8, 0.9\n",
        "        \n",
        "        v_w = [np.zeros((self.layers[l+1], self.layers[l])) for l in range(0, len(self.layers)-1)]\n",
        "        v_b = [np.zeros((self.layers[l+1], 1)) for l in range(0, len(self.layers)-1)]\n",
        "        \n",
        "        num_points_seen = 0        \n",
        "        for epoch in range(epochs):\n",
        "            start_time = time.time()\n",
        "            idx = np.random.shuffle(np.arange(length_dataset))\n",
        "            X_train = X_train[:, idx].reshape(self.img_flattened_size, length_dataset)\n",
        "            Y_train = Y_train[:, idx].reshape(self.num_classes, length_dataset)\n",
        "\n",
        "\n",
        "            CE = []\n",
        "            #Y_pred = []\n",
        "                        \n",
        "            deltaw = [np.zeros((self.layers[l+1], self.layers[l])) for l in range(0, len(self.layers)-1)]\n",
        "            deltab = [np.zeros((self.layers[l+1], 1)) for l in range(0, len(self.layers)-1)]\n",
        "\n",
        "            for i in range(length_dataset):\n",
        "            \n",
        "                Y,H,A = self.forwardPropagate(self.X_train[:,i].reshape(self.img_flattened_size,1), self.weights, self.biases) \n",
        "                grad_weights, grad_biases = self.backPropagate(Y,H,A,self.Y_train[:,i].reshape(self.num_classes,1))\n",
        "            \n",
        "                deltaw = [grad_weights[num_layers-2 - i] + deltaw[i] for i in range(num_layers - 1)]\n",
        "                deltab = [grad_biases[num_layers-2 - i] + deltab[i] for i in range(num_layers - 1)]\n",
        "                \n",
        "                #Y_pred.append(Y.reshape(self.num_classes,))\n",
        "                CE.append(self.crossEntropyLoss(self.Y_train[:,i].reshape(self.num_classes,1), Y) + self.L2RegularisationLoss(weight_decay))            \n",
        "                num_points_seen +=1\n",
        "                \n",
        "                if int(num_points_seen) % batch_size == 0:\n",
        "                \n",
        "                    v_w = [BETA*v_w[i] + (1-BETA)*(deltaw[i])**2 for i in range(num_layers - 1)]\n",
        "                    v_b = [BETA*v_b[i] + (1-BETA)*(deltab[i])**2 for i in range(num_layers - 1)]\n",
        "\n",
        "                    self.weights = {str(i+1):self.weights[str(i+1)]  - deltaw[i]*(learning_rate/np.sqrt(v_w[i]+EPS)) for i in range(len(self.weights))} \n",
        "                    self.biases = {str(i+1):self.biases[str(i+1)]  - deltab[i]*(learning_rate/np.sqrt(v_b[i]+EPS)) for i in range(len(self.biases))}\n",
        "\n",
        "                    deltaw = [np.zeros((self.layers[l+1], self.layers[l])) for l in range(0, len(self.layers)-1)]\n",
        "                    deltab = [np.zeros((self.layers[l+1], 1)) for l in range(0, len(self.layers)-1)]\n",
        "    \n",
        "            \n",
        "            elapsed = time.time() - start_time\n",
        "            #Y_pred = np.array(Y_pred).transpose()\n",
        "            Y_pred = self.predict(self.X_train, self.N_train)\n",
        "            trainingloss.append(np.mean(CE))\n",
        "            trainingaccuracy.append(self.accuracy(Y_train, Y_pred, length_dataset)[0])\n",
        "            validationaccuracy.append(self.accuracy(self.Y_val, self.predict(self.X_val, self.N_val), self.N_val)[0])\n",
        "\n",
        "            print(\n",
        "                        \"Epoch: %d, Loss: %.3e, Training accuracy:%.2f, Validation Accuracy: %.2f, Time: %.2f, Learning Rate: %.3e\"\n",
        "                        % (\n",
        "                            epoch,\n",
        "                            trainingloss[epoch],\n",
        "                            trainingaccuracy[epoch],\n",
        "                            validationaccuracy[epoch],\n",
        "                            elapsed,\n",
        "                            self.learning_rate,\n",
        "                        )\n",
        "                    )\n",
        "                    \n",
        "            wandb.log({'loss':np.mean(CE), 'trainingaccuracy':trainingaccuracy[epoch], 'validationaccuracy':validationaccuracy[epoch],'epoch':epoch })\n",
        "        \n",
        "        return trainingloss, trainingaccuracy, validationaccuracy, Y_pred  \n",
        "\n",
        "\n",
        "\n",
        "    def adam(self, epochs,length_dataset, batch_size, learning_rate, weight_decay = 0):\n",
        "        \n",
        "        X_train = self.X_train[:, :length_dataset]\n",
        "        Y_train = self.Y_train[:, :length_dataset]        \n",
        "\n",
        "        trainingloss = []\n",
        "        trainingaccuracy = []\n",
        "        validationaccuracy = []\n",
        "        num_layers = len(self.layers)\n",
        "        EPS, BETA1, BETA2 = 1e-8, 0.9, 0.99\n",
        "        \n",
        "        m_w = [np.zeros((self.layers[l+1], self.layers[l])) for l in range(0, len(self.layers)-1)]\n",
        "        m_b = [np.zeros((self.layers[l+1], 1)) for l in range(0, len(self.layers)-1)]\n",
        "        \n",
        "        v_w = [np.zeros((self.layers[l+1], self.layers[l])) for l in range(0, len(self.layers)-1)]\n",
        "        v_b = [np.zeros((self.layers[l+1], 1)) for l in range(0, len(self.layers)-1)]        \n",
        "        \n",
        "        m_w_hat = [np.zeros((self.layers[l+1], self.layers[l])) for l in range(0, len(self.layers)-1)]\n",
        "        m_b_hat = [np.zeros((self.layers[l+1], 1)) for l in range(0, len(self.layers)-1)]\n",
        "        \n",
        "        v_w_hat = [np.zeros((self.layers[l+1], self.layers[l])) for l in range(0, len(self.layers)-1)]\n",
        "        v_b_hat = [np.zeros((self.layers[l+1], 1)) for l in range(0, len(self.layers)-1)]   \n",
        "        \n",
        "        num_points_seen = 0 \n",
        "        for epoch in range(epochs):\n",
        "            start_time = time.time()\n",
        "            idx = np.random.shuffle(np.arange(length_dataset))\n",
        "            X_train = X_train[:, idx].reshape(self.img_flattened_size, length_dataset)\n",
        "            Y_train = Y_train[:, idx].reshape(self.num_classes, length_dataset)\n",
        "\n",
        "\n",
        "            CE = []\n",
        "            #Y_pred = []\n",
        "            \n",
        "            deltaw = [np.zeros((self.layers[l+1], self.layers[l])) for l in range(0, len(self.layers)-1)]\n",
        "            deltab = [np.zeros((self.layers[l+1], 1)) for l in range(0, len(self.layers)-1)]\n",
        "            \n",
        "           \n",
        "            for i in range(length_dataset):\n",
        "                Y,H,A = self.forwardPropagate(self.X_train[:,i].reshape(self.img_flattened_size,1), self.weights, self.biases) \n",
        "                grad_weights, grad_biases = self.backPropagate(Y,H,A,self.Y_train[:,i].reshape(self.num_classes,1))\n",
        "                \n",
        "                deltaw = [grad_weights[num_layers-2 - i] + deltaw[i] for i in range(num_layers - 1)]\n",
        "                deltab = [grad_biases[num_layers-2 - i] + deltab[i] for i in range(num_layers - 1)]\n",
        "\n",
        "                #Y_pred.append(Y.reshape(self.num_classes,))\n",
        "                CE.append(self.crossEntropyLoss(self.Y_train[:,i].reshape(self.num_classes,1), Y) + self.L2RegularisationLoss(weight_decay))                 \n",
        "\n",
        "                num_points_seen += 1\n",
        "                ctr = 0\n",
        "                if int(num_points_seen) % batch_size == 0:\n",
        "                    ctr += 1\n",
        "                \n",
        "                    m_w = [BETA1*m_w[i] + (1-BETA1)*deltaw[i] for i in range(num_layers - 1)]\n",
        "                    m_b = [BETA1*m_b[i] + (1-BETA1)*deltab[i] for i in range(num_layers - 1)]\n",
        "                \n",
        "                    v_w = [BETA2*v_w[i] + (1-BETA2)*(deltaw[i])**2 for i in range(num_layers - 1)]\n",
        "                    v_b = [BETA2*v_b[i] + (1-BETA2)*(deltab[i])**2 for i in range(num_layers - 1)]\n",
        "                    \n",
        "                    m_w_hat = [m_w[i]/(1-BETA1**(epoch+1)) for i in range(num_layers - 1)]\n",
        "                    m_b_hat = [m_b[i]/(1-BETA1**(epoch+1)) for i in range(num_layers - 1)]            \n",
        "                \n",
        "                    v_w_hat = [v_w[i]/(1-BETA2**(epoch+1)) for i in range(num_layers - 1)]\n",
        "                    v_b_hat = [v_b[i]/(1-BETA2**(epoch+1)) for i in range(num_layers - 1)]\n",
        "                \n",
        "                    self.weights = {str(i+1):self.weights[str(i+1)] - (learning_rate/np.sqrt(v_w[i]+EPS))*m_w_hat[i] for i in range(len(self.weights))} \n",
        "                    self.biases = {str(i+1):self.biases[str(i+1)] - (learning_rate/np.sqrt(v_b[i]+EPS))*m_b_hat[i] for i in range(len(self.biases))}\n",
        "\n",
        "                    deltaw = [np.zeros((self.layers[l+1], self.layers[l])) for l in range(0, len(self.layers)-1)]\n",
        "                    deltab = [np.zeros((self.layers[l+1], 1)) for l in range(0, len(self.layers)-1)]\n",
        "\n",
        "\n",
        "            elapsed = time.time() - start_time\n",
        "            #Y_pred = np.array(Y_pred).transpose()\n",
        "            Y_pred = self.predict(self.X_train, self.N_train)\n",
        "            trainingloss.append(np.mean(CE))\n",
        "            trainingaccuracy.append(self.accuracy(Y_train, Y_pred, length_dataset)[0])\n",
        "            validationaccuracy.append(self.accuracy(self.Y_val, self.predict(self.X_val, self.N_val), self.N_val)[0])\n",
        "\n",
        "            print(\n",
        "                        \"Epoch: %d, Loss: %.3e, Training accuracy:%.2f, Validation Accuracy: %.2f, Time: %.2f, Learning Rate: %.3e\"\n",
        "                        % (\n",
        "                            epoch,\n",
        "                            trainingloss[epoch],\n",
        "                            trainingaccuracy[epoch],\n",
        "                            validationaccuracy[epoch],\n",
        "                            elapsed,\n",
        "                            self.learning_rate,\n",
        "                        )\n",
        "                    )\n",
        "                    \n",
        "            wandb.log({'loss':np.mean(CE), 'trainingaccuracy':trainingaccuracy[epoch], 'validationaccuracy':validationaccuracy[epoch],'epoch':epoch })\n",
        "        \n",
        "        return trainingloss, trainingaccuracy, validationaccuracy, Y_pred\n",
        "\n",
        "\n",
        "    \n",
        "    def nadam(self, epochs,length_dataset, batch_size, learning_rate, weight_decay = 0):\n",
        "\n",
        "        X_train = self.X_train[:, :length_dataset]\n",
        "        Y_train = self.Y_train[:, :length_dataset]        \n",
        "\n",
        "        \n",
        "        trainingloss = []\n",
        "        trainingaccuracy = []\n",
        "        validationaccuracy = []\n",
        "        num_layers = len(self.layers)\n",
        "        \n",
        "        GAMMA, EPS, BETA1, BETA2 = 0.9, 1e-8, 0.9, 0.99\n",
        "\n",
        "        m_w = [np.zeros((self.layers[l+1], self.layers[l])) for l in range(0, len(self.layers)-1)]\n",
        "        m_b = [np.zeros((self.layers[l+1], 1)) for l in range(0, len(self.layers)-1)]\n",
        "        \n",
        "        v_w = [np.zeros((self.layers[l+1], self.layers[l])) for l in range(0, len(self.layers)-1)]\n",
        "        v_b = [np.zeros((self.layers[l+1], 1)) for l in range(0, len(self.layers)-1)]        \n",
        "\n",
        "        m_w_hat = [np.zeros((self.layers[l+1], self.layers[l])) for l in range(0, len(self.layers)-1)]\n",
        "        m_b_hat = [np.zeros((self.layers[l+1], 1)) for l in range(0, len(self.layers)-1)]\n",
        "        \n",
        "        v_w_hat = [np.zeros((self.layers[l+1], self.layers[l])) for l in range(0, len(self.layers)-1)]\n",
        "        v_b_hat = [np.zeros((self.layers[l+1], 1)) for l in range(0, len(self.layers)-1)] \n",
        "\n",
        "        num_points_seen = 0 \n",
        "        \n",
        "        \n",
        "        for epoch in range(epochs):\n",
        "            start_time = time.time()\n",
        "            idx = np.random.shuffle(np.arange(length_dataset))\n",
        "            X_train = X_train[:, idx].reshape(self.img_flattened_size, length_dataset)\n",
        "            Y_train = Y_train[:, idx].reshape(self.num_classes, length_dataset)\n",
        "\n",
        "            CE = []\n",
        "            #Y_pred = []\n",
        "\n",
        "            deltaw = [np.zeros((self.layers[l+1], self.layers[l])) for l in range(0, len(self.layers)-1)]\n",
        "            deltab = [np.zeros((self.layers[l+1], 1)) for l in range(0, len(self.layers)-1)]\n",
        "\n",
        "            for i in range(length_dataset):\n",
        "\n",
        "                Y,H,A = self.forwardPropagate(self.X_train[:,i].reshape(self.img_flattened_size,1), self.weights, self.biases) \n",
        "                grad_weights, grad_biases = self.backPropagate(Y,H,A,self.Y_train[:,i].reshape(self.num_classes,1))\n",
        "\n",
        "                deltaw = [grad_weights[num_layers-2 - i] + deltaw[i] for i in range(num_layers - 1)]\n",
        "                deltab = [grad_biases[num_layers-2 - i] + deltab[i] for i in range(num_layers - 1)]\n",
        "\n",
        "                #Y_pred.append(Y.reshape(self.num_classes,))\n",
        "                CE.append(self.crossEntropyLoss(self.Y_train[:,i].reshape(self.num_classes,1), Y) + self.L2RegularisationLoss(weight_decay))   \n",
        "                num_points_seen += 1\n",
        "                \n",
        "                if num_points_seen % batch_size == 0:\n",
        "                    \n",
        "                    m_w = [BETA1*m_w[i] + (1-BETA1)*deltaw[i] for i in range(num_layers - 1)]\n",
        "                    m_b = [BETA1*m_b[i] + (1-BETA1)*deltab[i] for i in range(num_layers - 1)]\n",
        "                    \n",
        "                    v_w = [BETA2*v_w[i] + (1-BETA2)*(deltaw[i])**2 for i in range(num_layers - 1)]\n",
        "                    v_b = [BETA2*v_b[i] + (1-BETA2)*(deltab[i])**2 for i in range(num_layers - 1)]\n",
        "                    \n",
        "                    m_w_hat = [m_w[i]/(1-BETA1**(epoch+1)) for i in range(num_layers - 1)]\n",
        "                    m_b_hat = [m_b[i]/(1-BETA1**(epoch+1)) for i in range(num_layers - 1)]            \n",
        "                    \n",
        "                    v_w_hat = [v_w[i]/(1-BETA2**(epoch+1)) for i in range(num_layers - 1)]\n",
        "                    v_b_hat = [v_b[i]/(1-BETA2**(epoch+1)) for i in range(num_layers - 1)]\n",
        "                    \n",
        "                    self.weights = {str(i+1):self.weights[str(i+1)] - (learning_rate/(np.sqrt(v_w_hat[i])+EPS))*(BETA1*m_w_hat[i]+ (1-BETA1)*deltaw[i]) for i in range(len(self.weights))} \n",
        "                    self.biases = {str(i+1):self.biases[str(i+1)] - (learning_rate/(np.sqrt(v_b_hat[i])+EPS))*(BETA1*m_b_hat[i] + (1-BETA1)*deltab[i]) for i in range(len(self.biases))}\n",
        "\n",
        "                    deltaw = [np.zeros((self.layers[l+1], self.layers[l])) for l in range(0, len(self.layers)-1)]\n",
        "                    deltab = [np.zeros((self.layers[l+1], 1)) for l in range(0, len(self.layers)-1)]\n",
        "             \n",
        "            elapsed = time.time() - start_time\n",
        "\n",
        "            #Y_pred = np.array(Y_pred).transpose()\n",
        "            Y_pred = self.predict(self.X_train, self.N_train)\n",
        "            trainingloss.append(np.mean(CE))\n",
        "            trainingaccuracy.append(self.accuracy(Y_train, Y_pred, length_dataset)[0])\n",
        "            validationaccuracy.append(self.accuracy(self.Y_val, self.predict(self.X_val, self.N_val), self.N_val)[0])\n",
        "\n",
        "            print(\n",
        "                        \"Epoch: %d, Loss: %.3e, Training accuracy:%.2f, Validation Accuracy: %.2f, Time: %.2f, Learning Rate: %.3e\"\n",
        "                        % (\n",
        "                            epoch,\n",
        "                            trainingloss[epoch],\n",
        "                            trainingaccuracy[epoch],\n",
        "                            validationaccuracy[epoch],\n",
        "                            elapsed,\n",
        "                            self.learning_rate,\n",
        "                        )\n",
        "                    )\n",
        "            wandb.log({'loss':np.mean(CE), 'trainingaccuracy':trainingaccuracy[epoch], 'validationaccuracy':validationaccuracy[epoch],'epoch':epoch })\n",
        "            \n",
        "        return trainingloss, trainingaccuracy, validationaccuracy, Y_pred  \n"
      ],
      "execution_count": 9,
      "outputs": []
    },
    {
      "cell_type": "code",
      "metadata": {
        "colab": {
          "base_uri": "https://localhost:8080/"
        },
        "id": "Z_3tVRXJA8Rv",
        "outputId": "7f370664-5257-457c-9b92-faafd4dde75a"
      },
      "source": [
        "import wandb\n",
        "\n",
        "import numpy as np\n",
        "import matplotlib.pyplot as plt\n",
        "from keras.datasets import fashion_mnist\n",
        "\n",
        "\n",
        "(trainIn, trainOut), (testIn, testOut) = fashion_mnist.load_data()\n",
        "\n",
        "N_train_full = trainOut.shape[0]\n",
        "N_train = int(0.9*N_train_full)\n",
        "N_validation = int(0.1 * trainOut.shape[0])\n",
        "N_test = testOut.shape[0]\n",
        "\n",
        "\n",
        "idx  = np.random.choice(trainOut.shape[0], N_train_full, replace=False)\n",
        "idx2 = np.random.choice(testOut.shape[0], N_test, replace=False)\n",
        "\n",
        "trainInFull = trainIn[idx, :]\n",
        "trainOutFull = trainOut[idx]\n",
        "\n",
        "trainIn = trainInFull[:N_train,:]\n",
        "trainOut = trainOutFull[:N_train]\n",
        "\n",
        "validIn = trainInFull[N_train:, :]\n",
        "validOut = trainOutFull[N_train:]    \n",
        "\n",
        "testIn = testIn[idx2, :]\n",
        "testOut = testOut[idx2]\n",
        "\n",
        "\n",
        "sweep_config = {\n",
        "  \"name\": \"Bayesian Sweep\",\n",
        "  \"method\": \"bayes\",\n",
        "  \"metric\":{\n",
        "  \"name\": \"validationaccuracy\",\n",
        "  \"goal\": \"maximize\"\n",
        "  },\n",
        "  \"parameters\": {\n",
        "        \"max_epochs\": {\n",
        "            \"values\": [5, 10]\n",
        "        },\n",
        "\n",
        "        \"initializer\": {\n",
        "            \"values\": [\"RANDOM\", \"XAVIER\", \"HE\"]\n",
        "        },\n",
        "\n",
        "        \"num_layers\": {\n",
        "            \"values\": [2, 3, 4]\n",
        "        },\n",
        "        \n",
        "        \n",
        "        \"num_hidden_neurons\": {\n",
        "            \"values\": [32, 64, 128]\n",
        "        },\n",
        "        \n",
        "        \"activation\": {\n",
        "            \"values\": [ 'TANH',  'SIGMOID', 'RELU']\n",
        "        },\n",
        "        \n",
        "        \"learning_rate\": {\n",
        "            \"values\": [0.001, 0.0001]\n",
        "        },\n",
        "        \n",
        "        \n",
        "        \"weight_decay\": {\n",
        "            \"values\": [0, 0.0005,0.5]\n",
        "        },\n",
        "        \n",
        "        \"optimizer\": {\n",
        "            \"values\": [\"SGD\", \"MGD\", \"NAG\", \"RMSPROP\", \"ADAM\",\"NADAM\"]\n",
        "        },\n",
        "                    \n",
        "        \"batch_size\": {\n",
        "            \"values\": [16, 32, 64]\n",
        "        }\n",
        "        \n",
        "        \n",
        "    }\n",
        "}\n",
        "\n",
        "sweep_id = wandb.sweep(sweep_config,project='CS6910-DeepLearningFundamentals-Assignment1', entity='rahulsundar')\n",
        "\n"
      ],
      "execution_count": 10,
      "outputs": [
        {
          "output_type": "stream",
          "text": [
            "Create sweep with ID: vny2mdtz\n",
            "Sweep URL: https://wandb.ai/rahulsundar/CS6910-DeepLearningFundamentals-Assignment1/sweeps/vny2mdtz\n"
          ],
          "name": "stdout"
        }
      ]
    },
    {
      "cell_type": "code",
      "metadata": {
        "id": "FyC4fPR8Cwgp"
      },
      "source": [
        "def train():    \n",
        "    config_defaults = dict(\n",
        "            max_epochs=5,\n",
        "            num_hidden_layers=3,\n",
        "            num_hidden_neurons=32,\n",
        "            weight_decay=0,\n",
        "            learning_rate=1e-3,\n",
        "            optimizer=\"MGD\",\n",
        "            batch_size=16,\n",
        "            activation=\"TANH\",\n",
        "            initializer=\"XAVIER\",\n",
        "            loss=\"CROSS\",\n",
        "        )\n",
        "        \n",
        "    wandb.init(config = config_defaults)\n",
        "    #wandb.init(project='CS6910-DeepLearningFundamentals-Assignment1', entity='rahulsundar',config = config_defaults)\n",
        "\n",
        "\n",
        "    wandb.run.name = \"hl_\" + str(wandb.config.num_hidden_layers) + \"_hn_\" + str(wandb.config.num_hidden_neurons) + \"_opt_\" + wandb.config.optimizer + \"_act_\" + wandb.config.activation + \"_lr_\" + str(wandb.config.learning_rate) + \"_bs_\"+str(wandb.config.batch_size) + \"_init_\" + wandb.config.initializer + \"_ep_\"+ str(wandb.config.max_epochs)+ \"_l2_\" + str(wandb.config.weight_decay) \n",
        "    CONFIG = wandb.config\n",
        "\n",
        "\n",
        "    \n",
        "    #sweep_id = wandb.sweep(sweep_config)\n",
        "  \n",
        "\n",
        "    FFNN = FeedForwardNeuralNetwork(\n",
        "        num_hidden_layers=CONFIG.num_hidden_layers,\n",
        "        num_hidden_neurons=CONFIG.num_hidden_neurons,\n",
        "        X_train_raw=trainIn,\n",
        "        Y_train_raw=trainOut,\n",
        "        N_train = N_train,\n",
        "        X_val_raw = validIn,\n",
        "        Y_val_raw = validOut,\n",
        "        N_val = N_validation,\n",
        "        X_test_raw = testIn,\n",
        "        Y_test_raw = testOut,\n",
        "        N_test = N_test,\n",
        "        optimizer = CONFIG.optimizer,\n",
        "        batch_size = CONFIG.batch_size,\n",
        "        weight_decay = CONFIG.weight_decay,\n",
        "        learning_rate = CONFIG.learning_rate,\n",
        "        max_epochs = CONFIG.max_epochs,\n",
        "        activation = CONFIG.activation,\n",
        "        initializer = CONFIG.initializer,\n",
        "        loss = CONFIG.loss\n",
        "        )\n",
        "\n",
        "\n",
        "\n",
        "    training_loss, trainingaccuracy, validationaccuracy, Y_pred_train = FFNN.optimizer(FFNN.max_epochs, FFNN.N_train, FFNN.batch_size, FFNN.learning_rate)\n",
        " "
      ],
      "execution_count": 11,
      "outputs": []
    },
    {
      "cell_type": "code",
      "metadata": {
        "colab": {
          "base_uri": "https://localhost:8080/",
          "height": 1000,
          "referenced_widgets": [
            "4799016969ab464e84bedd41b786b1d0",
            "56fd411bb73b4ded95ea6494ee806298",
            "6f50418fc96442edbbf2c50dbf4eaccf",
            "4eac2e8f60974e15b8693dc9db08a4a0",
            "0570c4c5863443c188d5d42b168936e4",
            "ee6d04ea0c9148479a4717263f8b15b3",
            "1c05b8c695094f0280663e912f43d1ff",
            "452fd24621fb4456a791d46409614d89",
            "1fa1c54e34f54d45b9d9da7744ca2828",
            "9ac194e593b14a9883ab7d5ac3650fd8",
            "d9c22b9e9dac431a9a704cc216fee52e",
            "7df7d3ecd47945c4b8d1676c31efadb9",
            "e8edf0e03ecd488ab14ff4479e23bc2c",
            "1b372238bb194f679b684a57c40ddbad",
            "f4ba5d14d7824c5395805800c08ad804",
            "88a5226494f04a9fb65f88b139f7053a",
            "adecf641fa5449d49849ebcead0327a5",
            "cf2c8ac5e512433cbc8fb1ad208add8e",
            "b70e3ec9815c4ed58979e88ad61273c0",
            "174689e468f048f988be99a6eabf994c",
            "24060872328c49a8bee53f5953872d44",
            "c683addd966248b88d71d75b30e2717a",
            "a92a37432824450eaa4f5d031dc65880",
            "050f36b4a4cd4ecd9626a7738751d2ec",
            "ec7584eee9dd4d27b26068f1ed57c841",
            "9cb7b20b3fb54920a858f4667caea3a3",
            "6e2bd207061741ee92260821a3e85f34",
            "aa18e4389ea949729675cfe2d8afcd3e",
            "40551550dfe74e7489bb0a96c88fb7e4",
            "a517b88e47234b359b8ec4c736a94215",
            "06dd3cc8cfef4a3db3b618121f8ed397",
            "a6e9b167c4aa44a1990ffb5940a3fed2",
            "23db631fbb8f4d3d9cf17b18d1953974",
            "4bb4e8c3325f41d8968ea22e0fccb748",
            "a352e33980b44af8b7b13a94547d132f",
            "1e4a2a001b7048c08446e36062d1af35",
            "be88510f3d8a4f8eb7993f3ff64aa9e8",
            "30c4acaafceb40bf831c8c2c2270daf4",
            "2bddd146bfce49d581728a9c55a5df2e",
            "28c3ca006dbd4aa9be29a793417d8258",
            "03dd1b60a779482facd70befc55c2a1c",
            "8d34052e0b35451aa1572b075d663bbb",
            "04e428bdad404725bd2ff7200a97e5a0",
            "99b3e8b3f7634321889ff1cfca6d4d39",
            "76eb770750d046fdbac4f429690bd7c8",
            "a596714b2966406fa3b100828c5092fa",
            "2a64ed1afe6d480aa31f998d5e0ed58d",
            "db50d69ef62d4cf085a83e2c7e5c53af",
            "f20aa569ed7b453ca0e6d8e852ff6c35",
            "e95ac13e9d294a6ea11c475bfc65477c",
            "645319c2935d435f83bc320871d2c78e",
            "fbe21732a2524619a5ac07227e343dd6",
            "ec4c53ad25b243e1938c9ab1f33a3ec9",
            "78acc7f6ccb9487f8f3dc782c409b711",
            "9bc6b1a0717d4ce78eec1fae57f5d9f0",
            "6f8f6d92b802461ca4f1a95c11bbf426",
            "6c70e65bdff743899dc329801e19b9a3",
            "b744e5fe37b54b99b8b223179e475293",
            "53ef7b7de10f4524baf578446d898374",
            "4fc6a6665d624db09d655108716705af",
            "7d06d2dcf2ab45e2936c2ed41b32b248",
            "0a294ad94e3147689b8a2f9a80ae3344",
            "b46b3d7608984577ae16ed2713989714",
            "2f3d4498185e46f286dc6f211d3da53c",
            "1a840010169b4dd5907bfcfafe85ccce",
            "916203ac6db2446c9c0bde9fcba2d074",
            "a47ac0588a944d168c8837b8b48cf6da",
            "c851d0c10a024771892cedc0d4a01ed9",
            "87cf8fd4769e476f803f62e1c795f278",
            "75b1ce33b0ee4c82b54feeaf8b798a3e",
            "395a812f681849158012e8fa19627e9d",
            "f550b02c65c54d66a085317352979093",
            "3311e5872539414299257a4fc31bd5ec",
            "50fdd6d6f970458f881753f3115d2cd0",
            "8085cd181a3f4342a36e81751526ea19",
            "d9b9030c22ef4c9394dd5213cb56044e",
            "a33f29848b1d4cada75a37d01954b385",
            "6383f6ba29994d33967a608a273a6316",
            "d16eaae87e934c9297ffefc4497e27eb",
            "18cfa8b7461843e4875c8dda6ab7a6df",
            "e1aa3e863c83426c8c8e2937ae4a61d5",
            "4fa12c4441334bb0931e1fd87c2c8477",
            "411bbc04d686484a812ebfba88bdc4c3",
            "6486efde34b6407284cd860de809bf7b",
            "17227da7cef3453da80e022d526b0b09",
            "c2e7b72e8686492bb015ed99174910fa",
            "dfab6247132c4d84ab7992edae9fcd55",
            "8481fa451595406682f1599d76422c79",
            "610f776f32f54df19b8abdb42add0a84",
            "9cd90a4153cf4dbdb246c66200ac100a",
            "3e8c80d85c574e09915c6789139eeb5b",
            "58e190d73ef348ed8cdf8168b4b0cb03",
            "1f5ecfdff22e4c19b23eea3a857d920b",
            "2373c8feda6f49178f7e514e521daeb3",
            "217795a5ec384175b97823f048b00504",
            "1caffc561c3e47acbe449734463e1049",
            "a3848965cd55493fa4eeb7a926b1f768",
            "d0ca296dfeb44718b84a838b296440de",
            "0327dc35f9f94d699e3cd1b90e86821e",
            "ab06283526164c2eb021c48aa2a8b637",
            "4afc21fcf02044269674e78c994a214d",
            "fc5873ebb7604f76816f089bf6e759c5",
            "e8ca3c2f6f284626aa240f911526a1aa",
            "52d9b3832c4643e3b2982f855d8737ee",
            "532c3b696deb4ba2891627dff2551538",
            "b9796bc7c97745a986af2d981a4a5ff9",
            "b3e8ea1250c2439e8f523f6a490d9151",
            "efa4108410d946149ca332dd6ff047f6",
            "105abff240c54b988ad52209623c33d5",
            "15765456c55e4c7a99604e3af32ec113",
            "3ba9588cdade47be8a44b6432be47089",
            "4ce9a082f5ff4644a16617a53a867678",
            "3645e158ce3d43b2ad6c0f3a6b599fee",
            "f6c8fd68ecfd49809564f5731d470614",
            "b7f3393ca6c24e869dd782e68ac0fcce",
            "b47fc7a7f7604e30994efad19a09f8de",
            "6af33e01cff94c48bceece86fc236b3c",
            "4d940224ab8d40d18a5ce326ae3ad91f",
            "c6031beaf9574bf086a79392f5d6e66e",
            "d407082ed805424a9457742d5837d20e",
            "e77892fdb70b44efb9fe0820d2f8b48a",
            "dd0d55df1a1b47399fc6015fef7ddc3e",
            "6115f72bd1d248b8af725d4e2c12525d",
            "f1be126360ea4af9958672f47375b3b3",
            "c9077db5052446a7bf6e0e06dd1a7331",
            "e2ec910c38a24faab9489a36569f3e47",
            "b0731a3c81434f05948b9d9203ddcf22",
            "0704b033638b4048a34045ca1024c224",
            "7f73ddaa74e04c5f89a43fd68b9e589d",
            "db3d1e90e28a4a9c94c755eb5544deff",
            "86a97c014ec647bcb81d217985bfe6dc",
            "8b696760f78f4cfeab292939638a87cf",
            "e75e3e450f1f4b9396a36c9682648139",
            "1d3912be2f094309bc29d6605418ae74",
            "3384ede61b094427bba785dd9aab79b4",
            "708892c9da654736a81675d1945b29d4",
            "e4c12149d3ff4045bdcde589864504a8",
            "f3c19391d7734ed08b45f3c64abfc02d",
            "0d15ff54cde2403194c89ffd0e98cf44",
            "5011404672054c2c8d0440c7b16f3e03",
            "050a08b47b9e4795839967d0e5be5876",
            "4ba9798036284821b51d799ff89466f7",
            "16f21654d9c04f8098721d03ea04865e",
            "782b9d4350c0497a97f4a99c4615db0d",
            "be8cdaa039714ecfa7305bb0bcfb8b57",
            "08a48aaeae6a430791a6fc000eddd8da",
            "e35c2deca8e84547a6a96b3d8f32c4e1",
            "e6a2bf98d5504dc0b37c147136f7cb30",
            "eb98258428ff4a04b86e2112a961f041",
            "89aa1743595e476180f152e049764b28",
            "196d804056304d078d83aa1485ffa5f9",
            "0fb825c2639c4fac83e8a16b299cd3bb",
            "d7eec64506d34345842bd9ff540ccba5",
            "4b78768f1d00450182f41a2c2fdee106",
            "b9185224a1cb4882b5c0e3b3e7fcc145",
            "c1ee17d0c1754c7b858aedfe98d01056",
            "35fe5abdbedf4c6b8f6f0af0504396d1",
            "303b36505cb94fb9b509bad96fdbfc90",
            "d73519920bab43db81f8ba0220dbabd4",
            "09570baab4f3445baa469399d775e3a5",
            "b4e7479818fc4b1aaaeb5ca4afd01421",
            "a809c29e6bce40ceae7bac6d51093c7b",
            "1193324fb5e24d63867772e7c6c352ce",
            "663eccf68438486f97d84dd6e61129a6",
            "b2b1fc5853f74cd3bb01a66417e1d550",
            "e0f80fc0877b48b98e2ed0c21fd8e7ca",
            "367f8ba7fc5e49cdbab3c342d207aa93",
            "bb2e5a29d08f4bf1843b723ac6996d34",
            "abf20e9aea9342ff9d4ba52fea36aa8b",
            "ff4fa713db0e4df7a3be59233a37dae2",
            "f136e8a4d4234f4fb3ff0d9bb697fbb3",
            "db489b8c5d9347d28c6a54b41709ed03",
            "779c95cd981f46d2aa00aa3491bb25e3",
            "1850b4d169464252b4f5e62680c3c3f3",
            "b341a9472774442296f295fff16e2560",
            "0c0a02b2ab3349c1be15e40f33599eae",
            "b08fe9837d1645c8ac7b052aa1f6c157",
            "91d75e79d8c242fd8614d4e54e6cdb86",
            "933751aaa02744c9bc847606fe1e316a",
            "e8cfb8098e01475698ff7967eb25fdcb",
            "710ebab02d07456e8266af9eb38c3949",
            "75e9be871d1b4d27b2f0f8b7eb515258",
            "87c2e897d02a4761af6ab385459fbe95",
            "ff518701fd7849c486f1340ad4310890",
            "ecf64252b3534eb18214832ee8f84b73",
            "f421f3a08f4943ad801071d11708d165",
            "566200f9fd684a99b918f9790dff0e97",
            "494c3ae6d741466eb1d34cd92818bec2",
            "02846974a0b244fea5b813a94a1e05ec",
            "f0f4013c780d4971b2074575de6cfcbd",
            "5682e3d11c5d4119ad555bb85575d637",
            "7ffc018de5cb4545a2a825500aebf762",
            "7abaeb78c3a4436ebdf5d51ef87d58f2",
            "827c68750e9544a586ba54e0d53a7f07",
            "e5a0c41d1e84486a96366e7e566f2d63",
            "5b2ea8092d2a4054aee4a4e064021bb3",
            "de436cf7e966494195bb04ef1e5fd14b",
            "18868fa7cac74789918d66cab786321f",
            "7e8bf5aba15d4b7095873024a16b80d8",
            "746251726db54db2a70931bae3857f6d",
            "0c4f132b9db94b55a95d70c63e3e8e5b",
            "3927877a2ba244b0966e5d5f78b31279",
            "d60fb69ac0d8401bb41966b6c0ba5eac",
            "adcf488ecd6d422197a69048434a59a9",
            "cbbb61ce21f54e9892b4ec9fef03d3fb",
            "a43e40fa9d344cc989e3813069b25810",
            "bab5ae3dc8d74d79aa3af9998b411d0b",
            "f4849c7479334ff6b19291809c762f47",
            "ed2f8a13549b4470aa137bb7b40930c8",
            "1672f30fbb2e4275a334e77d4ad86201",
            "d5981eeaeae94f85a1ad97ababa7e334",
            "778069635af04b11841a664947f34956",
            "823b1c3fc27740e4b80660ff50e22fbf",
            "cc29130198854c6f8a6ab98f3b37f8f3",
            "de36419c9fc7434f810746a8a7a4d834",
            "cd5493d2b4a84691bfa3842021e8c11d",
            "3d388c98ebec4b70955abf6e11ef93df",
            "fcf4c4c8cf3f4e1f8af4acbfee9312ae",
            "97ad68296b9a465f942d08f06f804640",
            "c73b6051589d4ad8accebdba7ba54931",
            "f5bf5b7b7e6e452fb46e03f5a2dc1448",
            "7ee603e34ebf46178ca26954792ba644",
            "3f1f3d6e62284bcd87af46ff1346de37",
            "805fb060a2004e9a891b2be9a6c0bcc9",
            "f85bb37df5a042b5aeebf6edee6f559d",
            "f685d4ffad9749b5acb853c465857211",
            "1f655c64aa6140b8b7361678f4bfc0dc",
            "c434fd843a744bbc986f6da361008ebe",
            "2cca72f815b744a996c201832db29872",
            "5f91b9cbfd8a4eed82f9de0436c1a0a8",
            "9e73b9f72da44021a202dc2ced64982d",
            "9c0832dba51845abb08ab167ef502b66",
            "dcd2275bba6b41208c4547dcf78df0b9",
            "e9ea2f2ff3b14d21b86239037c91cd33",
            "71b53394f4474f8d8b76573f265f065e",
            "9cc90e7267634a488ec16d14386b1475",
            "b9f1af5a11be4b679c1501e8300cc860",
            "1fc20931a00f4cd59b38c0e0602013a9",
            "47cc3816a4b04450880af0597e27587c",
            "a95c8511fd1944358757b7fd8bfc6aae",
            "2c0f1281d0214643a9c1d7e233423989",
            "670a8afb267f4080880f1d9c4cf5383c",
            "ee407bb2c31d4594bc748eb3bb9e0bc2",
            "df2a8fdb3a224286a2b8e82ae4a5cd5e",
            "d795a31546d243448c3b00228510ca17",
            "a302d0e33a4f4001a2823c440ed9d018",
            "90131578a74944b8bc8e8b563a77e7f3",
            "04e28945e6ed4d5ca0f6f209ab777498"
          ]
        },
        "id": "z4EENrgtDTnu",
        "outputId": "c0169593-efac-496d-fde3-0600f6139bf9"
      },
      "source": [
        "wandb.agent(sweep_id, train, count = 100)"
      ],
      "execution_count": null,
      "outputs": [
        {
          "output_type": "stream",
          "text": [
            "\u001b[34m\u001b[1mwandb\u001b[0m: Agent Starting Run: coxe11jq with config:\n",
            "\u001b[34m\u001b[1mwandb\u001b[0m: \tactivation: TANH\n",
            "\u001b[34m\u001b[1mwandb\u001b[0m: \tbatch_size: 16\n",
            "\u001b[34m\u001b[1mwandb\u001b[0m: \tinitializer: XAVIER\n",
            "\u001b[34m\u001b[1mwandb\u001b[0m: \tlearning_rate: 0.001\n",
            "\u001b[34m\u001b[1mwandb\u001b[0m: \tmax_epochs: 10\n",
            "\u001b[34m\u001b[1mwandb\u001b[0m: \tnum_hidden_neurons: 128\n",
            "\u001b[34m\u001b[1mwandb\u001b[0m: \tnum_layers: 2\n",
            "\u001b[34m\u001b[1mwandb\u001b[0m: \toptimizer: NADAM\n",
            "\u001b[34m\u001b[1mwandb\u001b[0m: \tweight_decay: 0\n"
          ],
          "name": "stderr"
        },
        {
          "output_type": "display_data",
          "data": {
            "text/html": [
              "\n",
              "                Tracking run with wandb version 0.10.22<br/>\n",
              "                Syncing run <strong style=\"color:#cdcd00\">fiery-sweep-1</strong> to <a href=\"https://wandb.ai\" target=\"_blank\">Weights & Biases</a> <a href=\"https://docs.wandb.com/integrations/jupyter.html\" target=\"_blank\">(Documentation)</a>.<br/>\n",
              "                Project page: <a href=\"https://wandb.ai/rahulsundar/CS6910-DeepLearningFundamentals-Assignment1\" target=\"_blank\">https://wandb.ai/rahulsundar/CS6910-DeepLearningFundamentals-Assignment1</a><br/>\n",
              "                Sweep page: <a href=\"https://wandb.ai/rahulsundar/CS6910-DeepLearningFundamentals-Assignment1/sweeps/vny2mdtz\" target=\"_blank\">https://wandb.ai/rahulsundar/CS6910-DeepLearningFundamentals-Assignment1/sweeps/vny2mdtz</a><br/>\n",
              "Run page: <a href=\"https://wandb.ai/rahulsundar/CS6910-DeepLearningFundamentals-Assignment1/runs/coxe11jq\" target=\"_blank\">https://wandb.ai/rahulsundar/CS6910-DeepLearningFundamentals-Assignment1/runs/coxe11jq</a><br/>\n",
              "                Run data is saved locally in <code>/content/wandb/run-20210314_115449-coxe11jq</code><br/><br/>\n",
              "            "
            ],
            "text/plain": [
              "<IPython.core.display.HTML object>"
            ]
          },
          "metadata": {
            "tags": []
          }
        },
        {
          "output_type": "stream",
          "text": [
            "Epoch: 0, Loss: 4.748e-02, Training accuracy:0.86, Validation Accuracy: 0.85, Time: 125.35, Learning Rate: 1.000e-03\n",
            "Epoch: 1, Loss: 3.568e-02, Training accuracy:0.89, Validation Accuracy: 0.87, Time: 124.21, Learning Rate: 1.000e-03\n",
            "Epoch: 2, Loss: 3.140e-02, Training accuracy:0.90, Validation Accuracy: 0.88, Time: 125.99, Learning Rate: 1.000e-03\n",
            "Epoch: 3, Loss: 2.854e-02, Training accuracy:0.90, Validation Accuracy: 0.88, Time: 126.38, Learning Rate: 1.000e-03\n",
            "Epoch: 4, Loss: 2.642e-02, Training accuracy:0.90, Validation Accuracy: 0.88, Time: 127.55, Learning Rate: 1.000e-03\n",
            "Epoch: 5, Loss: 2.470e-02, Training accuracy:0.91, Validation Accuracy: 0.88, Time: 128.32, Learning Rate: 1.000e-03\n",
            "Epoch: 6, Loss: 2.321e-02, Training accuracy:0.91, Validation Accuracy: 0.88, Time: 122.75, Learning Rate: 1.000e-03\n",
            "Epoch: 7, Loss: 2.182e-02, Training accuracy:0.91, Validation Accuracy: 0.88, Time: 127.48, Learning Rate: 1.000e-03\n",
            "Epoch: 8, Loss: 2.063e-02, Training accuracy:0.91, Validation Accuracy: 0.88, Time: 123.54, Learning Rate: 1.000e-03\n",
            "Epoch: 9, Loss: 1.940e-02, Training accuracy:0.92, Validation Accuracy: 0.88, Time: 127.64, Learning Rate: 1.000e-03\n"
          ],
          "name": "stdout"
        },
        {
          "output_type": "display_data",
          "data": {
            "text/html": [
              "<br/>Waiting for W&B process to finish, PID 1233<br/>Program ended successfully."
            ],
            "text/plain": [
              "<IPython.core.display.HTML object>"
            ]
          },
          "metadata": {
            "tags": []
          }
        },
        {
          "output_type": "display_data",
          "data": {
            "application/vnd.jupyter.widget-view+json": {
              "model_id": "4799016969ab464e84bedd41b786b1d0",
              "version_minor": 0,
              "version_major": 2
            },
            "text/plain": [
              "VBox(children=(Label(value=' 0.00MB of 0.00MB uploaded (0.00MB deduped)\\r'), FloatProgress(value=1.0, max=1.0)…"
            ]
          },
          "metadata": {
            "tags": []
          }
        },
        {
          "output_type": "display_data",
          "data": {
            "text/html": [
              "Find user logs for this run at: <code>/content/wandb/run-20210314_115449-coxe11jq/logs/debug.log</code>"
            ],
            "text/plain": [
              "<IPython.core.display.HTML object>"
            ]
          },
          "metadata": {
            "tags": []
          }
        },
        {
          "output_type": "display_data",
          "data": {
            "text/html": [
              "Find internal logs for this run at: <code>/content/wandb/run-20210314_115449-coxe11jq/logs/debug-internal.log</code>"
            ],
            "text/plain": [
              "<IPython.core.display.HTML object>"
            ]
          },
          "metadata": {
            "tags": []
          }
        },
        {
          "output_type": "display_data",
          "data": {
            "text/html": [
              "<h3>Run summary:</h3><br/><style>\n",
              "    table.wandb td:nth-child(1) { padding: 0 10px; text-align: right }\n",
              "    </style><table class=\"wandb\">\n",
              "<tr><td>loss</td><td>0.0194</td></tr><tr><td>trainingaccuracy</td><td>0.91854</td></tr><tr><td>validationaccuracy</td><td>0.88067</td></tr><tr><td>epoch</td><td>9</td></tr><tr><td>_runtime</td><td>1365</td></tr><tr><td>_timestamp</td><td>1615724254</td></tr><tr><td>_step</td><td>9</td></tr></table>"
            ],
            "text/plain": [
              "<IPython.core.display.HTML object>"
            ]
          },
          "metadata": {
            "tags": []
          }
        },
        {
          "output_type": "display_data",
          "data": {
            "text/html": [
              "<h3>Run history:</h3><br/><style>\n",
              "    table.wandb td:nth-child(1) { padding: 0 10px; text-align: right }\n",
              "    </style><table class=\"wandb\">\n",
              "<tr><td>loss</td><td>█▅▄▃▃▂▂▂▁▁</td></tr><tr><td>trainingaccuracy</td><td>▁▄▅▆▆▇▇▇██</td></tr><tr><td>validationaccuracy</td><td>▁▅▇██▇▇▇▇█</td></tr><tr><td>epoch</td><td>▁▂▃▃▄▅▆▆▇█</td></tr><tr><td>_runtime</td><td>▁▂▃▃▄▅▆▆▇█</td></tr><tr><td>_timestamp</td><td>▁▂▃▃▄▅▆▆▇█</td></tr><tr><td>_step</td><td>▁▂▃▃▄▅▆▆▇█</td></tr></table><br/>"
            ],
            "text/plain": [
              "<IPython.core.display.HTML object>"
            ]
          },
          "metadata": {
            "tags": []
          }
        },
        {
          "output_type": "display_data",
          "data": {
            "text/html": [
              "Synced 5 W&B file(s), 0 media file(s), 0 artifact file(s) and 0 other file(s)"
            ],
            "text/plain": [
              "<IPython.core.display.HTML object>"
            ]
          },
          "metadata": {
            "tags": []
          }
        },
        {
          "output_type": "display_data",
          "data": {
            "text/html": [
              "\n",
              "                    <br/>Synced <strong style=\"color:#cdcd00\">fiery-sweep-1</strong>: <a href=\"https://wandb.ai/rahulsundar/CS6910-DeepLearningFundamentals-Assignment1/runs/coxe11jq\" target=\"_blank\">https://wandb.ai/rahulsundar/CS6910-DeepLearningFundamentals-Assignment1/runs/coxe11jq</a><br/>\n",
              "                "
            ],
            "text/plain": [
              "<IPython.core.display.HTML object>"
            ]
          },
          "metadata": {
            "tags": []
          }
        },
        {
          "output_type": "stream",
          "text": [
            "\u001b[34m\u001b[1mwandb\u001b[0m: Agent Starting Run: 5o8ovqdz with config:\n",
            "\u001b[34m\u001b[1mwandb\u001b[0m: \tactivation: TANH\n",
            "\u001b[34m\u001b[1mwandb\u001b[0m: \tbatch_size: 64\n",
            "\u001b[34m\u001b[1mwandb\u001b[0m: \tinitializer: HE\n",
            "\u001b[34m\u001b[1mwandb\u001b[0m: \tlearning_rate: 0.001\n",
            "\u001b[34m\u001b[1mwandb\u001b[0m: \tmax_epochs: 10\n",
            "\u001b[34m\u001b[1mwandb\u001b[0m: \tnum_hidden_neurons: 128\n",
            "\u001b[34m\u001b[1mwandb\u001b[0m: \tnum_layers: 3\n",
            "\u001b[34m\u001b[1mwandb\u001b[0m: \toptimizer: NAG\n",
            "\u001b[34m\u001b[1mwandb\u001b[0m: \tweight_decay: 0\n"
          ],
          "name": "stderr"
        },
        {
          "output_type": "display_data",
          "data": {
            "text/html": [
              "\n",
              "                Tracking run with wandb version 0.10.22<br/>\n",
              "                Syncing run <strong style=\"color:#cdcd00\">major-sweep-2</strong> to <a href=\"https://wandb.ai\" target=\"_blank\">Weights & Biases</a> <a href=\"https://docs.wandb.com/integrations/jupyter.html\" target=\"_blank\">(Documentation)</a>.<br/>\n",
              "                Project page: <a href=\"https://wandb.ai/rahulsundar/CS6910-DeepLearningFundamentals-Assignment1\" target=\"_blank\">https://wandb.ai/rahulsundar/CS6910-DeepLearningFundamentals-Assignment1</a><br/>\n",
              "                Sweep page: <a href=\"https://wandb.ai/rahulsundar/CS6910-DeepLearningFundamentals-Assignment1/sweeps/vny2mdtz\" target=\"_blank\">https://wandb.ai/rahulsundar/CS6910-DeepLearningFundamentals-Assignment1/sweeps/vny2mdtz</a><br/>\n",
              "Run page: <a href=\"https://wandb.ai/rahulsundar/CS6910-DeepLearningFundamentals-Assignment1/runs/5o8ovqdz\" target=\"_blank\">https://wandb.ai/rahulsundar/CS6910-DeepLearningFundamentals-Assignment1/runs/5o8ovqdz</a><br/>\n",
              "                Run data is saved locally in <code>/content/wandb/run-20210314_121740-5o8ovqdz</code><br/><br/>\n",
              "            "
            ],
            "text/plain": [
              "<IPython.core.display.HTML object>"
            ]
          },
          "metadata": {
            "tags": []
          }
        },
        {
          "output_type": "stream",
          "text": [
            "Epoch: 0, Loss: 7.377e-02, Training accuracy:0.82, Validation Accuracy: 0.81, Time: 137.08, Learning Rate: 1.000e-03\n",
            "Epoch: 1, Loss: 4.851e-02, Training accuracy:0.84, Validation Accuracy: 0.84, Time: 135.80, Learning Rate: 1.000e-03\n",
            "Epoch: 2, Loss: 4.411e-02, Training accuracy:0.85, Validation Accuracy: 0.85, Time: 139.80, Learning Rate: 1.000e-03\n",
            "Epoch: 3, Loss: 4.168e-02, Training accuracy:0.86, Validation Accuracy: 0.85, Time: 137.29, Learning Rate: 1.000e-03\n",
            "Epoch: 4, Loss: 3.996e-02, Training accuracy:0.86, Validation Accuracy: 0.85, Time: 139.54, Learning Rate: 1.000e-03\n",
            "Epoch: 5, Loss: 3.862e-02, Training accuracy:0.87, Validation Accuracy: 0.86, Time: 138.22, Learning Rate: 1.000e-03\n",
            "Epoch: 6, Loss: 3.750e-02, Training accuracy:0.87, Validation Accuracy: 0.86, Time: 138.50, Learning Rate: 1.000e-03\n",
            "Epoch: 7, Loss: 3.656e-02, Training accuracy:0.87, Validation Accuracy: 0.86, Time: 139.45, Learning Rate: 1.000e-03\n",
            "Epoch: 8, Loss: 3.572e-02, Training accuracy:0.88, Validation Accuracy: 0.86, Time: 139.13, Learning Rate: 1.000e-03\n",
            "Epoch: 9, Loss: 3.497e-02, Training accuracy:0.88, Validation Accuracy: 0.86, Time: 137.58, Learning Rate: 1.000e-03\n"
          ],
          "name": "stdout"
        },
        {
          "output_type": "display_data",
          "data": {
            "text/html": [
              "<br/>Waiting for W&B process to finish, PID 1471<br/>Program ended successfully."
            ],
            "text/plain": [
              "<IPython.core.display.HTML object>"
            ]
          },
          "metadata": {
            "tags": []
          }
        },
        {
          "output_type": "display_data",
          "data": {
            "application/vnd.jupyter.widget-view+json": {
              "model_id": "1fa1c54e34f54d45b9d9da7744ca2828",
              "version_minor": 0,
              "version_major": 2
            },
            "text/plain": [
              "VBox(children=(Label(value=' 0.00MB of 0.00MB uploaded (0.00MB deduped)\\r'), FloatProgress(value=1.0, max=1.0)…"
            ]
          },
          "metadata": {
            "tags": []
          }
        },
        {
          "output_type": "display_data",
          "data": {
            "text/html": [
              "Find user logs for this run at: <code>/content/wandb/run-20210314_121740-5o8ovqdz/logs/debug.log</code>"
            ],
            "text/plain": [
              "<IPython.core.display.HTML object>"
            ]
          },
          "metadata": {
            "tags": []
          }
        },
        {
          "output_type": "display_data",
          "data": {
            "text/html": [
              "Find internal logs for this run at: <code>/content/wandb/run-20210314_121740-5o8ovqdz/logs/debug-internal.log</code>"
            ],
            "text/plain": [
              "<IPython.core.display.HTML object>"
            ]
          },
          "metadata": {
            "tags": []
          }
        },
        {
          "output_type": "display_data",
          "data": {
            "text/html": [
              "<h3>Run summary:</h3><br/><style>\n",
              "    table.wandb td:nth-child(1) { padding: 0 10px; text-align: right }\n",
              "    </style><table class=\"wandb\">\n",
              "<tr><td>loss</td><td>0.03497</td></tr><tr><td>trainingaccuracy</td><td>0.87952</td></tr><tr><td>validationaccuracy</td><td>0.86367</td></tr><tr><td>epoch</td><td>9</td></tr><tr><td>_runtime</td><td>1488</td></tr><tr><td>_timestamp</td><td>1615725748</td></tr><tr><td>_step</td><td>9</td></tr></table>"
            ],
            "text/plain": [
              "<IPython.core.display.HTML object>"
            ]
          },
          "metadata": {
            "tags": []
          }
        },
        {
          "output_type": "display_data",
          "data": {
            "text/html": [
              "<h3>Run history:</h3><br/><style>\n",
              "    table.wandb td:nth-child(1) { padding: 0 10px; text-align: right }\n",
              "    </style><table class=\"wandb\">\n",
              "<tr><td>loss</td><td>█▃▃▂▂▂▁▁▁▁</td></tr><tr><td>trainingaccuracy</td><td>▁▃▅▆▆▇▇▇██</td></tr><tr><td>validationaccuracy</td><td>▁▄▅▆▇▇▇███</td></tr><tr><td>epoch</td><td>▁▂▃▃▄▅▆▆▇█</td></tr><tr><td>_runtime</td><td>▁▂▃▃▄▅▆▆▇█</td></tr><tr><td>_timestamp</td><td>▁▂▃▃▄▅▆▆▇█</td></tr><tr><td>_step</td><td>▁▂▃▃▄▅▆▆▇█</td></tr></table><br/>"
            ],
            "text/plain": [
              "<IPython.core.display.HTML object>"
            ]
          },
          "metadata": {
            "tags": []
          }
        },
        {
          "output_type": "display_data",
          "data": {
            "text/html": [
              "Synced 5 W&B file(s), 0 media file(s), 0 artifact file(s) and 0 other file(s)"
            ],
            "text/plain": [
              "<IPython.core.display.HTML object>"
            ]
          },
          "metadata": {
            "tags": []
          }
        },
        {
          "output_type": "display_data",
          "data": {
            "text/html": [
              "\n",
              "                    <br/>Synced <strong style=\"color:#cdcd00\">major-sweep-2</strong>: <a href=\"https://wandb.ai/rahulsundar/CS6910-DeepLearningFundamentals-Assignment1/runs/5o8ovqdz\" target=\"_blank\">https://wandb.ai/rahulsundar/CS6910-DeepLearningFundamentals-Assignment1/runs/5o8ovqdz</a><br/>\n",
              "                "
            ],
            "text/plain": [
              "<IPython.core.display.HTML object>"
            ]
          },
          "metadata": {
            "tags": []
          }
        },
        {
          "output_type": "stream",
          "text": [
            "\u001b[34m\u001b[1mwandb\u001b[0m: Agent Starting Run: f0vu3efx with config:\n",
            "\u001b[34m\u001b[1mwandb\u001b[0m: \tactivation: SIGMOID\n",
            "\u001b[34m\u001b[1mwandb\u001b[0m: \tbatch_size: 64\n",
            "\u001b[34m\u001b[1mwandb\u001b[0m: \tinitializer: HE\n",
            "\u001b[34m\u001b[1mwandb\u001b[0m: \tlearning_rate: 0.001\n",
            "\u001b[34m\u001b[1mwandb\u001b[0m: \tmax_epochs: 10\n",
            "\u001b[34m\u001b[1mwandb\u001b[0m: \tnum_hidden_neurons: 64\n",
            "\u001b[34m\u001b[1mwandb\u001b[0m: \tnum_layers: 3\n",
            "\u001b[34m\u001b[1mwandb\u001b[0m: \toptimizer: RMSPROP\n",
            "\u001b[34m\u001b[1mwandb\u001b[0m: \tweight_decay: 0.0005\n"
          ],
          "name": "stderr"
        },
        {
          "output_type": "display_data",
          "data": {
            "text/html": [
              "\n",
              "                Tracking run with wandb version 0.10.22<br/>\n",
              "                Syncing run <strong style=\"color:#cdcd00\">winter-sweep-3</strong> to <a href=\"https://wandb.ai\" target=\"_blank\">Weights & Biases</a> <a href=\"https://docs.wandb.com/integrations/jupyter.html\" target=\"_blank\">(Documentation)</a>.<br/>\n",
              "                Project page: <a href=\"https://wandb.ai/rahulsundar/CS6910-DeepLearningFundamentals-Assignment1\" target=\"_blank\">https://wandb.ai/rahulsundar/CS6910-DeepLearningFundamentals-Assignment1</a><br/>\n",
              "                Sweep page: <a href=\"https://wandb.ai/rahulsundar/CS6910-DeepLearningFundamentals-Assignment1/sweeps/vny2mdtz\" target=\"_blank\">https://wandb.ai/rahulsundar/CS6910-DeepLearningFundamentals-Assignment1/sweeps/vny2mdtz</a><br/>\n",
              "Run page: <a href=\"https://wandb.ai/rahulsundar/CS6910-DeepLearningFundamentals-Assignment1/runs/f0vu3efx\" target=\"_blank\">https://wandb.ai/rahulsundar/CS6910-DeepLearningFundamentals-Assignment1/runs/f0vu3efx</a><br/>\n",
              "                Run data is saved locally in <code>/content/wandb/run-20210314_124236-f0vu3efx</code><br/><br/>\n",
              "            "
            ],
            "text/plain": [
              "<IPython.core.display.HTML object>"
            ]
          },
          "metadata": {
            "tags": []
          }
        },
        {
          "output_type": "stream",
          "text": [
            "Epoch: 0, Loss: 9.084e-02, Training accuracy:0.82, Validation Accuracy: 0.82, Time: 68.64, Learning Rate: 1.000e-03\n",
            "Epoch: 1, Loss: 4.645e-02, Training accuracy:0.86, Validation Accuracy: 0.85, Time: 70.94, Learning Rate: 1.000e-03\n",
            "Epoch: 2, Loss: 4.050e-02, Training accuracy:0.86, Validation Accuracy: 0.85, Time: 70.18, Learning Rate: 1.000e-03\n",
            "Epoch: 3, Loss: 3.766e-02, Training accuracy:0.87, Validation Accuracy: 0.86, Time: 70.14, Learning Rate: 1.000e-03\n",
            "Epoch: 4, Loss: 3.567e-02, Training accuracy:0.88, Validation Accuracy: 0.86, Time: 68.92, Learning Rate: 1.000e-03\n",
            "Epoch: 5, Loss: 3.415e-02, Training accuracy:0.88, Validation Accuracy: 0.87, Time: 70.88, Learning Rate: 1.000e-03\n",
            "Epoch: 6, Loss: 3.284e-02, Training accuracy:0.88, Validation Accuracy: 0.86, Time: 69.76, Learning Rate: 1.000e-03\n",
            "Epoch: 7, Loss: 3.183e-02, Training accuracy:0.89, Validation Accuracy: 0.87, Time: 68.37, Learning Rate: 1.000e-03\n",
            "Epoch: 8, Loss: 3.088e-02, Training accuracy:0.89, Validation Accuracy: 0.87, Time: 70.38, Learning Rate: 1.000e-03\n",
            "Epoch: 9, Loss: 3.007e-02, Training accuracy:0.90, Validation Accuracy: 0.87, Time: 68.69, Learning Rate: 1.000e-03\n"
          ],
          "name": "stdout"
        },
        {
          "output_type": "display_data",
          "data": {
            "text/html": [
              "<br/>Waiting for W&B process to finish, PID 1766<br/>Program ended successfully."
            ],
            "text/plain": [
              "<IPython.core.display.HTML object>"
            ]
          },
          "metadata": {
            "tags": []
          }
        },
        {
          "output_type": "display_data",
          "data": {
            "application/vnd.jupyter.widget-view+json": {
              "model_id": "adecf641fa5449d49849ebcead0327a5",
              "version_minor": 0,
              "version_major": 2
            },
            "text/plain": [
              "VBox(children=(Label(value=' 0.00MB of 0.00MB uploaded (0.00MB deduped)\\r'), FloatProgress(value=1.0, max=1.0)…"
            ]
          },
          "metadata": {
            "tags": []
          }
        },
        {
          "output_type": "display_data",
          "data": {
            "text/html": [
              "Find user logs for this run at: <code>/content/wandb/run-20210314_124236-f0vu3efx/logs/debug.log</code>"
            ],
            "text/plain": [
              "<IPython.core.display.HTML object>"
            ]
          },
          "metadata": {
            "tags": []
          }
        },
        {
          "output_type": "display_data",
          "data": {
            "text/html": [
              "Find internal logs for this run at: <code>/content/wandb/run-20210314_124236-f0vu3efx/logs/debug-internal.log</code>"
            ],
            "text/plain": [
              "<IPython.core.display.HTML object>"
            ]
          },
          "metadata": {
            "tags": []
          }
        },
        {
          "output_type": "display_data",
          "data": {
            "text/html": [
              "<h3>Run summary:</h3><br/><style>\n",
              "    table.wandb td:nth-child(1) { padding: 0 10px; text-align: right }\n",
              "    </style><table class=\"wandb\">\n",
              "<tr><td>loss</td><td>0.03007</td></tr><tr><td>trainingaccuracy</td><td>0.89515</td></tr><tr><td>validationaccuracy</td><td>0.8715</td></tr><tr><td>epoch</td><td>9</td></tr><tr><td>_runtime</td><td>774</td></tr><tr><td>_timestamp</td><td>1615726530</td></tr><tr><td>_step</td><td>9</td></tr></table>"
            ],
            "text/plain": [
              "<IPython.core.display.HTML object>"
            ]
          },
          "metadata": {
            "tags": []
          }
        },
        {
          "output_type": "display_data",
          "data": {
            "text/html": [
              "<h3>Run history:</h3><br/><style>\n",
              "    table.wandb td:nth-child(1) { padding: 0 10px; text-align: right }\n",
              "    </style><table class=\"wandb\">\n",
              "<tr><td>loss</td><td>█▃▂▂▂▁▁▁▁▁</td></tr><tr><td>trainingaccuracy</td><td>▁▄▅▆▇▇▇▇██</td></tr><tr><td>validationaccuracy</td><td>▁▅▅▆▇▇▆▇██</td></tr><tr><td>epoch</td><td>▁▂▃▃▄▅▆▆▇█</td></tr><tr><td>_runtime</td><td>▁▂▃▃▄▅▆▆▇█</td></tr><tr><td>_timestamp</td><td>▁▂▃▃▄▅▆▆▇█</td></tr><tr><td>_step</td><td>▁▂▃▃▄▅▆▆▇█</td></tr></table><br/>"
            ],
            "text/plain": [
              "<IPython.core.display.HTML object>"
            ]
          },
          "metadata": {
            "tags": []
          }
        },
        {
          "output_type": "display_data",
          "data": {
            "text/html": [
              "Synced 5 W&B file(s), 0 media file(s), 0 artifact file(s) and 0 other file(s)"
            ],
            "text/plain": [
              "<IPython.core.display.HTML object>"
            ]
          },
          "metadata": {
            "tags": []
          }
        },
        {
          "output_type": "display_data",
          "data": {
            "text/html": [
              "\n",
              "                    <br/>Synced <strong style=\"color:#cdcd00\">winter-sweep-3</strong>: <a href=\"https://wandb.ai/rahulsundar/CS6910-DeepLearningFundamentals-Assignment1/runs/f0vu3efx\" target=\"_blank\">https://wandb.ai/rahulsundar/CS6910-DeepLearningFundamentals-Assignment1/runs/f0vu3efx</a><br/>\n",
              "                "
            ],
            "text/plain": [
              "<IPython.core.display.HTML object>"
            ]
          },
          "metadata": {
            "tags": []
          }
        },
        {
          "output_type": "stream",
          "text": [
            "\u001b[34m\u001b[1mwandb\u001b[0m: Agent Starting Run: xca8nxbz with config:\n",
            "\u001b[34m\u001b[1mwandb\u001b[0m: \tactivation: SIGMOID\n",
            "\u001b[34m\u001b[1mwandb\u001b[0m: \tbatch_size: 32\n",
            "\u001b[34m\u001b[1mwandb\u001b[0m: \tinitializer: XAVIER\n",
            "\u001b[34m\u001b[1mwandb\u001b[0m: \tlearning_rate: 0.001\n",
            "\u001b[34m\u001b[1mwandb\u001b[0m: \tmax_epochs: 10\n",
            "\u001b[34m\u001b[1mwandb\u001b[0m: \tnum_hidden_neurons: 128\n",
            "\u001b[34m\u001b[1mwandb\u001b[0m: \tnum_layers: 2\n",
            "\u001b[34m\u001b[1mwandb\u001b[0m: \toptimizer: NADAM\n",
            "\u001b[34m\u001b[1mwandb\u001b[0m: \tweight_decay: 0\n"
          ],
          "name": "stderr"
        },
        {
          "output_type": "display_data",
          "data": {
            "text/html": [
              "\n",
              "                Tracking run with wandb version 0.10.22<br/>\n",
              "                Syncing run <strong style=\"color:#cdcd00\">winter-sweep-4</strong> to <a href=\"https://wandb.ai\" target=\"_blank\">Weights & Biases</a> <a href=\"https://docs.wandb.com/integrations/jupyter.html\" target=\"_blank\">(Documentation)</a>.<br/>\n",
              "                Project page: <a href=\"https://wandb.ai/rahulsundar/CS6910-DeepLearningFundamentals-Assignment1\" target=\"_blank\">https://wandb.ai/rahulsundar/CS6910-DeepLearningFundamentals-Assignment1</a><br/>\n",
              "                Sweep page: <a href=\"https://wandb.ai/rahulsundar/CS6910-DeepLearningFundamentals-Assignment1/sweeps/vny2mdtz\" target=\"_blank\">https://wandb.ai/rahulsundar/CS6910-DeepLearningFundamentals-Assignment1/sweeps/vny2mdtz</a><br/>\n",
              "Run page: <a href=\"https://wandb.ai/rahulsundar/CS6910-DeepLearningFundamentals-Assignment1/runs/xca8nxbz\" target=\"_blank\">https://wandb.ai/rahulsundar/CS6910-DeepLearningFundamentals-Assignment1/runs/xca8nxbz</a><br/>\n",
              "                Run data is saved locally in <code>/content/wandb/run-20210314_125539-xca8nxbz</code><br/><br/>\n",
              "            "
            ],
            "text/plain": [
              "<IPython.core.display.HTML object>"
            ]
          },
          "metadata": {
            "tags": []
          }
        },
        {
          "output_type": "stream",
          "text": [
            "Epoch: 0, Loss: 6.490e-02, Training accuracy:0.85, Validation Accuracy: 0.84, Time: 120.62, Learning Rate: 1.000e-03\n",
            "Epoch: 1, Loss: 4.013e-02, Training accuracy:0.87, Validation Accuracy: 0.86, Time: 111.46, Learning Rate: 1.000e-03\n",
            "Epoch: 2, Loss: 3.609e-02, Training accuracy:0.88, Validation Accuracy: 0.87, Time: 112.68, Learning Rate: 1.000e-03\n",
            "Epoch: 3, Loss: 3.378e-02, Training accuracy:0.89, Validation Accuracy: 0.87, Time: 114.68, Learning Rate: 1.000e-03\n",
            "Epoch: 4, Loss: 3.211e-02, Training accuracy:0.89, Validation Accuracy: 0.88, Time: 118.13, Learning Rate: 1.000e-03\n",
            "Epoch: 5, Loss: 3.079e-02, Training accuracy:0.89, Validation Accuracy: 0.88, Time: 118.46, Learning Rate: 1.000e-03\n",
            "Epoch: 6, Loss: 2.967e-02, Training accuracy:0.90, Validation Accuracy: 0.88, Time: 118.97, Learning Rate: 1.000e-03\n",
            "Epoch: 7, Loss: 2.870e-02, Training accuracy:0.90, Validation Accuracy: 0.88, Time: 119.69, Learning Rate: 1.000e-03\n",
            "Epoch: 8, Loss: 2.783e-02, Training accuracy:0.90, Validation Accuracy: 0.89, Time: 118.04, Learning Rate: 1.000e-03\n",
            "Epoch: 9, Loss: 2.704e-02, Training accuracy:0.91, Validation Accuracy: 0.89, Time: 121.31, Learning Rate: 1.000e-03\n"
          ],
          "name": "stdout"
        },
        {
          "output_type": "display_data",
          "data": {
            "text/html": [
              "<br/>Waiting for W&B process to finish, PID 1947<br/>Program ended successfully."
            ],
            "text/plain": [
              "<IPython.core.display.HTML object>"
            ]
          },
          "metadata": {
            "tags": []
          }
        },
        {
          "output_type": "display_data",
          "data": {
            "application/vnd.jupyter.widget-view+json": {
              "model_id": "ec7584eee9dd4d27b26068f1ed57c841",
              "version_minor": 0,
              "version_major": 2
            },
            "text/plain": [
              "VBox(children=(Label(value=' 0.00MB of 0.00MB uploaded (0.00MB deduped)\\r'), FloatProgress(value=1.0, max=1.0)…"
            ]
          },
          "metadata": {
            "tags": []
          }
        },
        {
          "output_type": "display_data",
          "data": {
            "text/html": [
              "Find user logs for this run at: <code>/content/wandb/run-20210314_125539-xca8nxbz/logs/debug.log</code>"
            ],
            "text/plain": [
              "<IPython.core.display.HTML object>"
            ]
          },
          "metadata": {
            "tags": []
          }
        },
        {
          "output_type": "display_data",
          "data": {
            "text/html": [
              "Find internal logs for this run at: <code>/content/wandb/run-20210314_125539-xca8nxbz/logs/debug-internal.log</code>"
            ],
            "text/plain": [
              "<IPython.core.display.HTML object>"
            ]
          },
          "metadata": {
            "tags": []
          }
        },
        {
          "output_type": "display_data",
          "data": {
            "text/html": [
              "<h3>Run summary:</h3><br/><style>\n",
              "    table.wandb td:nth-child(1) { padding: 0 10px; text-align: right }\n",
              "    </style><table class=\"wandb\">\n",
              "<tr><td>loss</td><td>0.02704</td></tr><tr><td>trainingaccuracy</td><td>0.90674</td></tr><tr><td>validationaccuracy</td><td>0.88567</td></tr><tr><td>epoch</td><td>9</td></tr><tr><td>_runtime</td><td>1283</td></tr><tr><td>_timestamp</td><td>1615727822</td></tr><tr><td>_step</td><td>9</td></tr></table>"
            ],
            "text/plain": [
              "<IPython.core.display.HTML object>"
            ]
          },
          "metadata": {
            "tags": []
          }
        },
        {
          "output_type": "display_data",
          "data": {
            "text/html": [
              "<h3>Run history:</h3><br/><style>\n",
              "    table.wandb td:nth-child(1) { padding: 0 10px; text-align: right }\n",
              "    </style><table class=\"wandb\">\n",
              "<tr><td>loss</td><td>█▃▃▂▂▂▁▁▁▁</td></tr><tr><td>trainingaccuracy</td><td>▁▄▅▅▆▇▇▇██</td></tr><tr><td>validationaccuracy</td><td>▁▄▅▆▇▇▇███</td></tr><tr><td>epoch</td><td>▁▂▃▃▄▅▆▆▇█</td></tr><tr><td>_runtime</td><td>▁▂▂▃▄▅▆▆▇█</td></tr><tr><td>_timestamp</td><td>▁▂▂▃▄▅▆▆▇█</td></tr><tr><td>_step</td><td>▁▂▃▃▄▅▆▆▇█</td></tr></table><br/>"
            ],
            "text/plain": [
              "<IPython.core.display.HTML object>"
            ]
          },
          "metadata": {
            "tags": []
          }
        },
        {
          "output_type": "display_data",
          "data": {
            "text/html": [
              "Synced 5 W&B file(s), 0 media file(s), 0 artifact file(s) and 0 other file(s)"
            ],
            "text/plain": [
              "<IPython.core.display.HTML object>"
            ]
          },
          "metadata": {
            "tags": []
          }
        },
        {
          "output_type": "display_data",
          "data": {
            "text/html": [
              "\n",
              "                    <br/>Synced <strong style=\"color:#cdcd00\">winter-sweep-4</strong>: <a href=\"https://wandb.ai/rahulsundar/CS6910-DeepLearningFundamentals-Assignment1/runs/xca8nxbz\" target=\"_blank\">https://wandb.ai/rahulsundar/CS6910-DeepLearningFundamentals-Assignment1/runs/xca8nxbz</a><br/>\n",
              "                "
            ],
            "text/plain": [
              "<IPython.core.display.HTML object>"
            ]
          },
          "metadata": {
            "tags": []
          }
        },
        {
          "output_type": "stream",
          "text": [
            "\u001b[34m\u001b[1mwandb\u001b[0m: Agent Starting Run: glplzk6l with config:\n",
            "\u001b[34m\u001b[1mwandb\u001b[0m: \tactivation: SIGMOID\n",
            "\u001b[34m\u001b[1mwandb\u001b[0m: \tbatch_size: 64\n",
            "\u001b[34m\u001b[1mwandb\u001b[0m: \tinitializer: XAVIER\n",
            "\u001b[34m\u001b[1mwandb\u001b[0m: \tlearning_rate: 0.001\n",
            "\u001b[34m\u001b[1mwandb\u001b[0m: \tmax_epochs: 10\n",
            "\u001b[34m\u001b[1mwandb\u001b[0m: \tnum_hidden_neurons: 128\n",
            "\u001b[34m\u001b[1mwandb\u001b[0m: \tnum_layers: 2\n",
            "\u001b[34m\u001b[1mwandb\u001b[0m: \toptimizer: NADAM\n",
            "\u001b[34m\u001b[1mwandb\u001b[0m: \tweight_decay: 0\n"
          ],
          "name": "stderr"
        },
        {
          "output_type": "display_data",
          "data": {
            "text/html": [
              "\n",
              "                Tracking run with wandb version 0.10.22<br/>\n",
              "                Syncing run <strong style=\"color:#cdcd00\">spring-sweep-5</strong> to <a href=\"https://wandb.ai\" target=\"_blank\">Weights & Biases</a> <a href=\"https://docs.wandb.com/integrations/jupyter.html\" target=\"_blank\">(Documentation)</a>.<br/>\n",
              "                Project page: <a href=\"https://wandb.ai/rahulsundar/CS6910-DeepLearningFundamentals-Assignment1\" target=\"_blank\">https://wandb.ai/rahulsundar/CS6910-DeepLearningFundamentals-Assignment1</a><br/>\n",
              "                Sweep page: <a href=\"https://wandb.ai/rahulsundar/CS6910-DeepLearningFundamentals-Assignment1/sweeps/vny2mdtz\" target=\"_blank\">https://wandb.ai/rahulsundar/CS6910-DeepLearningFundamentals-Assignment1/sweeps/vny2mdtz</a><br/>\n",
              "Run page: <a href=\"https://wandb.ai/rahulsundar/CS6910-DeepLearningFundamentals-Assignment1/runs/glplzk6l\" target=\"_blank\">https://wandb.ai/rahulsundar/CS6910-DeepLearningFundamentals-Assignment1/runs/glplzk6l</a><br/>\n",
              "                Run data is saved locally in <code>/content/wandb/run-20210314_131711-glplzk6l</code><br/><br/>\n",
              "            "
            ],
            "text/plain": [
              "<IPython.core.display.HTML object>"
            ]
          },
          "metadata": {
            "tags": []
          }
        },
        {
          "output_type": "stream",
          "text": [
            "Epoch: 0, Loss: 7.391e-02, Training accuracy:0.84, Validation Accuracy: 0.84, Time: 115.85, Learning Rate: 1.000e-03\n",
            "Epoch: 1, Loss: 4.268e-02, Training accuracy:0.86, Validation Accuracy: 0.86, Time: 114.73, Learning Rate: 1.000e-03\n",
            "Epoch: 2, Loss: 3.825e-02, Training accuracy:0.87, Validation Accuracy: 0.87, Time: 115.06, Learning Rate: 1.000e-03\n",
            "Epoch: 3, Loss: 3.573e-02, Training accuracy:0.88, Validation Accuracy: 0.87, Time: 116.65, Learning Rate: 1.000e-03\n",
            "Epoch: 4, Loss: 3.396e-02, Training accuracy:0.89, Validation Accuracy: 0.87, Time: 114.75, Learning Rate: 1.000e-03\n",
            "Epoch: 5, Loss: 3.260e-02, Training accuracy:0.89, Validation Accuracy: 0.88, Time: 116.11, Learning Rate: 1.000e-03\n",
            "Epoch: 6, Loss: 3.147e-02, Training accuracy:0.89, Validation Accuracy: 0.88, Time: 114.13, Learning Rate: 1.000e-03\n",
            "Epoch: 7, Loss: 3.052e-02, Training accuracy:0.90, Validation Accuracy: 0.88, Time: 114.00, Learning Rate: 1.000e-03\n",
            "Epoch: 8, Loss: 2.968e-02, Training accuracy:0.90, Validation Accuracy: 0.88, Time: 113.52, Learning Rate: 1.000e-03\n",
            "Epoch: 9, Loss: 2.891e-02, Training accuracy:0.90, Validation Accuracy: 0.88, Time: 103.91, Learning Rate: 1.000e-03\n"
          ],
          "name": "stdout"
        },
        {
          "output_type": "display_data",
          "data": {
            "text/html": [
              "<br/>Waiting for W&B process to finish, PID 2226<br/>Program ended successfully."
            ],
            "text/plain": [
              "<IPython.core.display.HTML object>"
            ]
          },
          "metadata": {
            "tags": []
          }
        },
        {
          "output_type": "display_data",
          "data": {
            "application/vnd.jupyter.widget-view+json": {
              "model_id": "23db631fbb8f4d3d9cf17b18d1953974",
              "version_minor": 0,
              "version_major": 2
            },
            "text/plain": [
              "VBox(children=(Label(value=' 0.00MB of 0.00MB uploaded (0.00MB deduped)\\r'), FloatProgress(value=1.0, max=1.0)…"
            ]
          },
          "metadata": {
            "tags": []
          }
        },
        {
          "output_type": "display_data",
          "data": {
            "text/html": [
              "Find user logs for this run at: <code>/content/wandb/run-20210314_131711-glplzk6l/logs/debug.log</code>"
            ],
            "text/plain": [
              "<IPython.core.display.HTML object>"
            ]
          },
          "metadata": {
            "tags": []
          }
        },
        {
          "output_type": "display_data",
          "data": {
            "text/html": [
              "Find internal logs for this run at: <code>/content/wandb/run-20210314_131711-glplzk6l/logs/debug-internal.log</code>"
            ],
            "text/plain": [
              "<IPython.core.display.HTML object>"
            ]
          },
          "metadata": {
            "tags": []
          }
        },
        {
          "output_type": "display_data",
          "data": {
            "text/html": [
              "<h3>Run summary:</h3><br/><style>\n",
              "    table.wandb td:nth-child(1) { padding: 0 10px; text-align: right }\n",
              "    </style><table class=\"wandb\">\n",
              "<tr><td>loss</td><td>0.02891</td></tr><tr><td>trainingaccuracy</td><td>0.90146</td></tr><tr><td>validationaccuracy</td><td>0.88117</td></tr><tr><td>epoch</td><td>9</td></tr><tr><td>_runtime</td><td>1248</td></tr><tr><td>_timestamp</td><td>1615729079</td></tr><tr><td>_step</td><td>9</td></tr></table>"
            ],
            "text/plain": [
              "<IPython.core.display.HTML object>"
            ]
          },
          "metadata": {
            "tags": []
          }
        },
        {
          "output_type": "display_data",
          "data": {
            "text/html": [
              "<h3>Run history:</h3><br/><style>\n",
              "    table.wandb td:nth-child(1) { padding: 0 10px; text-align: right }\n",
              "    </style><table class=\"wandb\">\n",
              "<tr><td>loss</td><td>█▃▂▂▂▂▁▁▁▁</td></tr><tr><td>trainingaccuracy</td><td>▁▄▅▆▆▇▇▇██</td></tr><tr><td>validationaccuracy</td><td>▁▄▆▇▇▇████</td></tr><tr><td>epoch</td><td>▁▂▃▃▄▅▆▆▇█</td></tr><tr><td>_runtime</td><td>▁▂▃▃▄▅▆▇▇█</td></tr><tr><td>_timestamp</td><td>▁▂▃▃▄▅▆▇▇█</td></tr><tr><td>_step</td><td>▁▂▃▃▄▅▆▆▇█</td></tr></table><br/>"
            ],
            "text/plain": [
              "<IPython.core.display.HTML object>"
            ]
          },
          "metadata": {
            "tags": []
          }
        },
        {
          "output_type": "display_data",
          "data": {
            "text/html": [
              "Synced 5 W&B file(s), 0 media file(s), 0 artifact file(s) and 0 other file(s)"
            ],
            "text/plain": [
              "<IPython.core.display.HTML object>"
            ]
          },
          "metadata": {
            "tags": []
          }
        },
        {
          "output_type": "display_data",
          "data": {
            "text/html": [
              "\n",
              "                    <br/>Synced <strong style=\"color:#cdcd00\">spring-sweep-5</strong>: <a href=\"https://wandb.ai/rahulsundar/CS6910-DeepLearningFundamentals-Assignment1/runs/glplzk6l\" target=\"_blank\">https://wandb.ai/rahulsundar/CS6910-DeepLearningFundamentals-Assignment1/runs/glplzk6l</a><br/>\n",
              "                "
            ],
            "text/plain": [
              "<IPython.core.display.HTML object>"
            ]
          },
          "metadata": {
            "tags": []
          }
        },
        {
          "output_type": "stream",
          "text": [
            "\u001b[34m\u001b[1mwandb\u001b[0m: Agent Starting Run: xjscyae1 with config:\n",
            "\u001b[34m\u001b[1mwandb\u001b[0m: \tactivation: RELU\n",
            "\u001b[34m\u001b[1mwandb\u001b[0m: \tbatch_size: 16\n",
            "\u001b[34m\u001b[1mwandb\u001b[0m: \tinitializer: XAVIER\n",
            "\u001b[34m\u001b[1mwandb\u001b[0m: \tlearning_rate: 0.0001\n",
            "\u001b[34m\u001b[1mwandb\u001b[0m: \tmax_epochs: 10\n",
            "\u001b[34m\u001b[1mwandb\u001b[0m: \tnum_hidden_neurons: 128\n",
            "\u001b[34m\u001b[1mwandb\u001b[0m: \tnum_layers: 3\n",
            "\u001b[34m\u001b[1mwandb\u001b[0m: \toptimizer: NADAM\n",
            "\u001b[34m\u001b[1mwandb\u001b[0m: \tweight_decay: 0\n"
          ],
          "name": "stderr"
        },
        {
          "output_type": "display_data",
          "data": {
            "text/html": [
              "\n",
              "                Tracking run with wandb version 0.10.22<br/>\n",
              "                Syncing run <strong style=\"color:#cdcd00\">twilight-sweep-6</strong> to <a href=\"https://wandb.ai\" target=\"_blank\">Weights & Biases</a> <a href=\"https://docs.wandb.com/integrations/jupyter.html\" target=\"_blank\">(Documentation)</a>.<br/>\n",
              "                Project page: <a href=\"https://wandb.ai/rahulsundar/CS6910-DeepLearningFundamentals-Assignment1\" target=\"_blank\">https://wandb.ai/rahulsundar/CS6910-DeepLearningFundamentals-Assignment1</a><br/>\n",
              "                Sweep page: <a href=\"https://wandb.ai/rahulsundar/CS6910-DeepLearningFundamentals-Assignment1/sweeps/vny2mdtz\" target=\"_blank\">https://wandb.ai/rahulsundar/CS6910-DeepLearningFundamentals-Assignment1/sweeps/vny2mdtz</a><br/>\n",
              "Run page: <a href=\"https://wandb.ai/rahulsundar/CS6910-DeepLearningFundamentals-Assignment1/runs/xjscyae1\" target=\"_blank\">https://wandb.ai/rahulsundar/CS6910-DeepLearningFundamentals-Assignment1/runs/xjscyae1</a><br/>\n",
              "                Run data is saved locally in <code>/content/wandb/run-20210314_133807-xjscyae1</code><br/><br/>\n",
              "            "
            ],
            "text/plain": [
              "<IPython.core.display.HTML object>"
            ]
          },
          "metadata": {
            "tags": []
          }
        },
        {
          "output_type": "stream",
          "text": [
            "Epoch: 0, Loss: 5.991e-02, Training accuracy:0.85, Validation Accuracy: 0.84, Time: 135.30, Learning Rate: 1.000e-04\n",
            "Epoch: 1, Loss: 4.198e-02, Training accuracy:0.86, Validation Accuracy: 0.85, Time: 136.22, Learning Rate: 1.000e-04\n",
            "Epoch: 2, Loss: 3.838e-02, Training accuracy:0.87, Validation Accuracy: 0.86, Time: 138.44, Learning Rate: 1.000e-04\n",
            "Epoch: 3, Loss: 3.623e-02, Training accuracy:0.88, Validation Accuracy: 0.86, Time: 137.01, Learning Rate: 1.000e-04\n",
            "Epoch: 4, Loss: 3.465e-02, Training accuracy:0.88, Validation Accuracy: 0.87, Time: 136.98, Learning Rate: 1.000e-04\n",
            "Epoch: 5, Loss: 3.339e-02, Training accuracy:0.89, Validation Accuracy: 0.87, Time: 136.28, Learning Rate: 1.000e-04\n",
            "Epoch: 6, Loss: 3.235e-02, Training accuracy:0.89, Validation Accuracy: 0.87, Time: 136.13, Learning Rate: 1.000e-04\n",
            "Epoch: 7, Loss: 3.147e-02, Training accuracy:0.89, Validation Accuracy: 0.88, Time: 137.50, Learning Rate: 1.000e-04\n",
            "Epoch: 8, Loss: 3.069e-02, Training accuracy:0.89, Validation Accuracy: 0.88, Time: 135.60, Learning Rate: 1.000e-04\n",
            "Epoch: 9, Loss: 2.999e-02, Training accuracy:0.90, Validation Accuracy: 0.88, Time: 137.81, Learning Rate: 1.000e-04\n"
          ],
          "name": "stdout"
        },
        {
          "output_type": "display_data",
          "data": {
            "text/html": [
              "<br/>Waiting for W&B process to finish, PID 2403<br/>Program ended successfully."
            ],
            "text/plain": [
              "<IPython.core.display.HTML object>"
            ]
          },
          "metadata": {
            "tags": []
          }
        },
        {
          "output_type": "display_data",
          "data": {
            "application/vnd.jupyter.widget-view+json": {
              "model_id": "03dd1b60a779482facd70befc55c2a1c",
              "version_minor": 0,
              "version_major": 2
            },
            "text/plain": [
              "VBox(children=(Label(value=' 0.00MB of 0.00MB uploaded (0.00MB deduped)\\r'), FloatProgress(value=1.0, max=1.0)…"
            ]
          },
          "metadata": {
            "tags": []
          }
        },
        {
          "output_type": "display_data",
          "data": {
            "text/html": [
              "Find user logs for this run at: <code>/content/wandb/run-20210314_133807-xjscyae1/logs/debug.log</code>"
            ],
            "text/plain": [
              "<IPython.core.display.HTML object>"
            ]
          },
          "metadata": {
            "tags": []
          }
        },
        {
          "output_type": "display_data",
          "data": {
            "text/html": [
              "Find internal logs for this run at: <code>/content/wandb/run-20210314_133807-xjscyae1/logs/debug-internal.log</code>"
            ],
            "text/plain": [
              "<IPython.core.display.HTML object>"
            ]
          },
          "metadata": {
            "tags": []
          }
        },
        {
          "output_type": "display_data",
          "data": {
            "text/html": [
              "<h3>Run summary:</h3><br/><style>\n",
              "    table.wandb td:nth-child(1) { padding: 0 10px; text-align: right }\n",
              "    </style><table class=\"wandb\">\n",
              "<tr><td>loss</td><td>0.02999</td></tr><tr><td>trainingaccuracy</td><td>0.89689</td></tr><tr><td>validationaccuracy</td><td>0.87967</td></tr><tr><td>epoch</td><td>9</td></tr><tr><td>_runtime</td><td>1494</td></tr><tr><td>_timestamp</td><td>1615730581</td></tr><tr><td>_step</td><td>9</td></tr></table>"
            ],
            "text/plain": [
              "<IPython.core.display.HTML object>"
            ]
          },
          "metadata": {
            "tags": []
          }
        },
        {
          "output_type": "display_data",
          "data": {
            "text/html": [
              "<h3>Run history:</h3><br/><style>\n",
              "    table.wandb td:nth-child(1) { padding: 0 10px; text-align: right }\n",
              "    </style><table class=\"wandb\">\n",
              "<tr><td>loss</td><td>█▄▃▂▂▂▂▁▁▁</td></tr><tr><td>trainingaccuracy</td><td>▁▃▄▅▆▆▇▇██</td></tr><tr><td>validationaccuracy</td><td>▁▃▄▅▆▆▇▇██</td></tr><tr><td>epoch</td><td>▁▂▃▃▄▅▆▆▇█</td></tr><tr><td>_runtime</td><td>▁▂▃▃▄▅▆▆▇█</td></tr><tr><td>_timestamp</td><td>▁▂▃▃▄▅▆▆▇█</td></tr><tr><td>_step</td><td>▁▂▃▃▄▅▆▆▇█</td></tr></table><br/>"
            ],
            "text/plain": [
              "<IPython.core.display.HTML object>"
            ]
          },
          "metadata": {
            "tags": []
          }
        },
        {
          "output_type": "display_data",
          "data": {
            "text/html": [
              "Synced 5 W&B file(s), 0 media file(s), 0 artifact file(s) and 0 other file(s)"
            ],
            "text/plain": [
              "<IPython.core.display.HTML object>"
            ]
          },
          "metadata": {
            "tags": []
          }
        },
        {
          "output_type": "display_data",
          "data": {
            "text/html": [
              "\n",
              "                    <br/>Synced <strong style=\"color:#cdcd00\">twilight-sweep-6</strong>: <a href=\"https://wandb.ai/rahulsundar/CS6910-DeepLearningFundamentals-Assignment1/runs/xjscyae1\" target=\"_blank\">https://wandb.ai/rahulsundar/CS6910-DeepLearningFundamentals-Assignment1/runs/xjscyae1</a><br/>\n",
              "                "
            ],
            "text/plain": [
              "<IPython.core.display.HTML object>"
            ]
          },
          "metadata": {
            "tags": []
          }
        },
        {
          "output_type": "stream",
          "text": [
            "\u001b[34m\u001b[1mwandb\u001b[0m: Agent Starting Run: f9wne3pl with config:\n",
            "\u001b[34m\u001b[1mwandb\u001b[0m: \tactivation: RELU\n",
            "\u001b[34m\u001b[1mwandb\u001b[0m: \tbatch_size: 32\n",
            "\u001b[34m\u001b[1mwandb\u001b[0m: \tinitializer: XAVIER\n",
            "\u001b[34m\u001b[1mwandb\u001b[0m: \tlearning_rate: 0.001\n",
            "\u001b[34m\u001b[1mwandb\u001b[0m: \tmax_epochs: 10\n",
            "\u001b[34m\u001b[1mwandb\u001b[0m: \tnum_hidden_neurons: 128\n",
            "\u001b[34m\u001b[1mwandb\u001b[0m: \tnum_layers: 2\n",
            "\u001b[34m\u001b[1mwandb\u001b[0m: \toptimizer: ADAM\n",
            "\u001b[34m\u001b[1mwandb\u001b[0m: \tweight_decay: 0.0005\n"
          ],
          "name": "stderr"
        },
        {
          "output_type": "display_data",
          "data": {
            "text/html": [
              "\n",
              "                Tracking run with wandb version 0.10.22<br/>\n",
              "                Syncing run <strong style=\"color:#cdcd00\">dandy-sweep-7</strong> to <a href=\"https://wandb.ai\" target=\"_blank\">Weights & Biases</a> <a href=\"https://docs.wandb.com/integrations/jupyter.html\" target=\"_blank\">(Documentation)</a>.<br/>\n",
              "                Project page: <a href=\"https://wandb.ai/rahulsundar/CS6910-DeepLearningFundamentals-Assignment1\" target=\"_blank\">https://wandb.ai/rahulsundar/CS6910-DeepLearningFundamentals-Assignment1</a><br/>\n",
              "                Sweep page: <a href=\"https://wandb.ai/rahulsundar/CS6910-DeepLearningFundamentals-Assignment1/sweeps/vny2mdtz\" target=\"_blank\">https://wandb.ai/rahulsundar/CS6910-DeepLearningFundamentals-Assignment1/sweeps/vny2mdtz</a><br/>\n",
              "Run page: <a href=\"https://wandb.ai/rahulsundar/CS6910-DeepLearningFundamentals-Assignment1/runs/f9wne3pl\" target=\"_blank\">https://wandb.ai/rahulsundar/CS6910-DeepLearningFundamentals-Assignment1/runs/f9wne3pl</a><br/>\n",
              "                Run data is saved locally in <code>/content/wandb/run-20210314_140309-f9wne3pl</code><br/><br/>\n",
              "            "
            ],
            "text/plain": [
              "<IPython.core.display.HTML object>"
            ]
          },
          "metadata": {
            "tags": []
          }
        },
        {
          "output_type": "stream",
          "text": [
            "Epoch: 0, Loss: 6.218e-02, Training accuracy:0.83, Validation Accuracy: 0.82, Time: 122.99, Learning Rate: 1.000e-03\n",
            "Epoch: 1, Loss: 4.357e-02, Training accuracy:0.85, Validation Accuracy: 0.84, Time: 120.80, Learning Rate: 1.000e-03\n"
          ],
          "name": "stdout"
        },
        {
          "output_type": "stream",
          "text": [
            "/usr/local/lib/python3.7/dist-packages/ipykernel_launcher.py:143: RuntimeWarning: divide by zero encountered in log\n",
            "/usr/local/lib/python3.7/dist-packages/ipykernel_launcher.py:143: RuntimeWarning: invalid value encountered in multiply\n"
          ],
          "name": "stderr"
        },
        {
          "output_type": "stream",
          "text": [
            "Epoch: 2, Loss: nan, Training accuracy:0.86, Validation Accuracy: 0.85, Time: 121.61, Learning Rate: 1.000e-03\n",
            "Epoch: 3, Loss: nan, Training accuracy:0.87, Validation Accuracy: 0.86, Time: 118.91, Learning Rate: 1.000e-03\n",
            "Epoch: 4, Loss: nan, Training accuracy:0.87, Validation Accuracy: 0.86, Time: 119.30, Learning Rate: 1.000e-03\n",
            "Epoch: 5, Loss: nan, Training accuracy:0.88, Validation Accuracy: 0.87, Time: 118.98, Learning Rate: 1.000e-03\n",
            "Epoch: 6, Loss: nan, Training accuracy:0.88, Validation Accuracy: 0.87, Time: 113.84, Learning Rate: 1.000e-03\n",
            "Epoch: 7, Loss: nan, Training accuracy:0.89, Validation Accuracy: 0.87, Time: 120.96, Learning Rate: 1.000e-03\n",
            "Epoch: 8, Loss: nan, Training accuracy:0.89, Validation Accuracy: 0.87, Time: 121.16, Learning Rate: 1.000e-03\n",
            "Epoch: 9, Loss: nan, Training accuracy:0.89, Validation Accuracy: 0.87, Time: 121.42, Learning Rate: 1.000e-03\n"
          ],
          "name": "stdout"
        },
        {
          "output_type": "display_data",
          "data": {
            "text/html": [
              "<br/>Waiting for W&B process to finish, PID 2436<br/>Program ended successfully."
            ],
            "text/plain": [
              "<IPython.core.display.HTML object>"
            ]
          },
          "metadata": {
            "tags": []
          }
        },
        {
          "output_type": "display_data",
          "data": {
            "application/vnd.jupyter.widget-view+json": {
              "model_id": "f20aa569ed7b453ca0e6d8e852ff6c35",
              "version_minor": 0,
              "version_major": 2
            },
            "text/plain": [
              "VBox(children=(Label(value=' 0.00MB of 0.00MB uploaded (0.00MB deduped)\\r'), FloatProgress(value=1.0, max=1.0)…"
            ]
          },
          "metadata": {
            "tags": []
          }
        },
        {
          "output_type": "display_data",
          "data": {
            "text/html": [
              "Find user logs for this run at: <code>/content/wandb/run-20210314_140309-f9wne3pl/logs/debug.log</code>"
            ],
            "text/plain": [
              "<IPython.core.display.HTML object>"
            ]
          },
          "metadata": {
            "tags": []
          }
        },
        {
          "output_type": "display_data",
          "data": {
            "text/html": [
              "Find internal logs for this run at: <code>/content/wandb/run-20210314_140309-f9wne3pl/logs/debug-internal.log</code>"
            ],
            "text/plain": [
              "<IPython.core.display.HTML object>"
            ]
          },
          "metadata": {
            "tags": []
          }
        },
        {
          "output_type": "display_data",
          "data": {
            "text/html": [
              "<h3>Run summary:</h3><br/><style>\n",
              "    table.wandb td:nth-child(1) { padding: 0 10px; text-align: right }\n",
              "    </style><table class=\"wandb\">\n",
              "<tr><td>loss</td><td>nan</td></tr><tr><td>trainingaccuracy</td><td>0.89254</td></tr><tr><td>validationaccuracy</td><td>0.87433</td></tr><tr><td>epoch</td><td>9</td></tr><tr><td>_runtime</td><td>1325</td></tr><tr><td>_timestamp</td><td>1615731914</td></tr><tr><td>_step</td><td>9</td></tr></table>"
            ],
            "text/plain": [
              "<IPython.core.display.HTML object>"
            ]
          },
          "metadata": {
            "tags": []
          }
        },
        {
          "output_type": "display_data",
          "data": {
            "text/html": [
              "<h3>Run history:</h3><br/><style>\n",
              "    table.wandb td:nth-child(1) { padding: 0 10px; text-align: right }\n",
              "    </style><table class=\"wandb\">\n",
              "<tr><td>loss</td><td>█▁        </td></tr><tr><td>trainingaccuracy</td><td>▁▃▄▆▆▇▇▇██</td></tr><tr><td>validationaccuracy</td><td>▁▃▅▆▆▇▇▇██</td></tr><tr><td>epoch</td><td>▁▂▃▃▄▅▆▆▇█</td></tr><tr><td>_runtime</td><td>▁▂▃▃▄▅▆▆▇█</td></tr><tr><td>_timestamp</td><td>▁▂▃▃▄▅▆▆▇█</td></tr><tr><td>_step</td><td>▁▂▃▃▄▅▆▆▇█</td></tr></table><br/>"
            ],
            "text/plain": [
              "<IPython.core.display.HTML object>"
            ]
          },
          "metadata": {
            "tags": []
          }
        },
        {
          "output_type": "display_data",
          "data": {
            "text/html": [
              "Synced 5 W&B file(s), 0 media file(s), 0 artifact file(s) and 0 other file(s)"
            ],
            "text/plain": [
              "<IPython.core.display.HTML object>"
            ]
          },
          "metadata": {
            "tags": []
          }
        },
        {
          "output_type": "display_data",
          "data": {
            "text/html": [
              "\n",
              "                    <br/>Synced <strong style=\"color:#cdcd00\">dandy-sweep-7</strong>: <a href=\"https://wandb.ai/rahulsundar/CS6910-DeepLearningFundamentals-Assignment1/runs/f9wne3pl\" target=\"_blank\">https://wandb.ai/rahulsundar/CS6910-DeepLearningFundamentals-Assignment1/runs/f9wne3pl</a><br/>\n",
              "                "
            ],
            "text/plain": [
              "<IPython.core.display.HTML object>"
            ]
          },
          "metadata": {
            "tags": []
          }
        },
        {
          "output_type": "stream",
          "text": [
            "\u001b[34m\u001b[1mwandb\u001b[0m: Agent Starting Run: uc5fd8yw with config:\n",
            "\u001b[34m\u001b[1mwandb\u001b[0m: \tactivation: SIGMOID\n",
            "\u001b[34m\u001b[1mwandb\u001b[0m: \tbatch_size: 16\n",
            "\u001b[34m\u001b[1mwandb\u001b[0m: \tinitializer: XAVIER\n",
            "\u001b[34m\u001b[1mwandb\u001b[0m: \tlearning_rate: 0.0001\n",
            "\u001b[34m\u001b[1mwandb\u001b[0m: \tmax_epochs: 10\n",
            "\u001b[34m\u001b[1mwandb\u001b[0m: \tnum_hidden_neurons: 128\n",
            "\u001b[34m\u001b[1mwandb\u001b[0m: \tnum_layers: 3\n",
            "\u001b[34m\u001b[1mwandb\u001b[0m: \toptimizer: ADAM\n",
            "\u001b[34m\u001b[1mwandb\u001b[0m: \tweight_decay: 0\n"
          ],
          "name": "stderr"
        },
        {
          "output_type": "display_data",
          "data": {
            "text/html": [
              "\n",
              "                Tracking run with wandb version 0.10.22<br/>\n",
              "                Syncing run <strong style=\"color:#cdcd00\">soft-sweep-8</strong> to <a href=\"https://wandb.ai\" target=\"_blank\">Weights & Biases</a> <a href=\"https://docs.wandb.com/integrations/jupyter.html\" target=\"_blank\">(Documentation)</a>.<br/>\n",
              "                Project page: <a href=\"https://wandb.ai/rahulsundar/CS6910-DeepLearningFundamentals-Assignment1\" target=\"_blank\">https://wandb.ai/rahulsundar/CS6910-DeepLearningFundamentals-Assignment1</a><br/>\n",
              "                Sweep page: <a href=\"https://wandb.ai/rahulsundar/CS6910-DeepLearningFundamentals-Assignment1/sweeps/vny2mdtz\" target=\"_blank\">https://wandb.ai/rahulsundar/CS6910-DeepLearningFundamentals-Assignment1/sweeps/vny2mdtz</a><br/>\n",
              "Run page: <a href=\"https://wandb.ai/rahulsundar/CS6910-DeepLearningFundamentals-Assignment1/runs/uc5fd8yw\" target=\"_blank\">https://wandb.ai/rahulsundar/CS6910-DeepLearningFundamentals-Assignment1/runs/uc5fd8yw</a><br/>\n",
              "                Run data is saved locally in <code>/content/wandb/run-20210314_142523-uc5fd8yw</code><br/><br/>\n",
              "            "
            ],
            "text/plain": [
              "<IPython.core.display.HTML object>"
            ]
          },
          "metadata": {
            "tags": []
          }
        },
        {
          "output_type": "stream",
          "text": [
            "Epoch: 0, Loss: 5.886e-02, Training accuracy:0.86, Validation Accuracy: 0.85, Time: 127.50, Learning Rate: 1.000e-04\n",
            "Epoch: 1, Loss: 3.841e-02, Training accuracy:0.87, Validation Accuracy: 0.86, Time: 127.49, Learning Rate: 1.000e-04\n",
            "Epoch: 2, Loss: 3.464e-02, Training accuracy:0.88, Validation Accuracy: 0.87, Time: 127.74, Learning Rate: 1.000e-04\n",
            "Epoch: 3, Loss: 3.255e-02, Training accuracy:0.89, Validation Accuracy: 0.88, Time: 131.07, Learning Rate: 1.000e-04\n",
            "Epoch: 4, Loss: 3.114e-02, Training accuracy:0.89, Validation Accuracy: 0.88, Time: 128.48, Learning Rate: 1.000e-04\n",
            "Epoch: 5, Loss: 3.010e-02, Training accuracy:0.89, Validation Accuracy: 0.88, Time: 127.80, Learning Rate: 1.000e-04\n",
            "Epoch: 6, Loss: 2.927e-02, Training accuracy:0.90, Validation Accuracy: 0.89, Time: 125.56, Learning Rate: 1.000e-04\n",
            "Epoch: 7, Loss: 2.858e-02, Training accuracy:0.90, Validation Accuracy: 0.89, Time: 127.91, Learning Rate: 1.000e-04\n",
            "Epoch: 8, Loss: 2.799e-02, Training accuracy:0.90, Validation Accuracy: 0.89, Time: 121.43, Learning Rate: 1.000e-04\n",
            "Epoch: 9, Loss: 2.746e-02, Training accuracy:0.90, Validation Accuracy: 0.89, Time: 125.87, Learning Rate: 1.000e-04\n"
          ],
          "name": "stdout"
        },
        {
          "output_type": "display_data",
          "data": {
            "text/html": [
              "<br/>Waiting for W&B process to finish, PID 2469<br/>Program ended successfully."
            ],
            "text/plain": [
              "<IPython.core.display.HTML object>"
            ]
          },
          "metadata": {
            "tags": []
          }
        },
        {
          "output_type": "display_data",
          "data": {
            "application/vnd.jupyter.widget-view+json": {
              "model_id": "6c70e65bdff743899dc329801e19b9a3",
              "version_minor": 0,
              "version_major": 2
            },
            "text/plain": [
              "VBox(children=(Label(value=' 0.00MB of 0.00MB uploaded (0.00MB deduped)\\r'), FloatProgress(value=1.0, max=1.0)…"
            ]
          },
          "metadata": {
            "tags": []
          }
        },
        {
          "output_type": "display_data",
          "data": {
            "text/html": [
              "Find user logs for this run at: <code>/content/wandb/run-20210314_142523-uc5fd8yw/logs/debug.log</code>"
            ],
            "text/plain": [
              "<IPython.core.display.HTML object>"
            ]
          },
          "metadata": {
            "tags": []
          }
        },
        {
          "output_type": "display_data",
          "data": {
            "text/html": [
              "Find internal logs for this run at: <code>/content/wandb/run-20210314_142523-uc5fd8yw/logs/debug-internal.log</code>"
            ],
            "text/plain": [
              "<IPython.core.display.HTML object>"
            ]
          },
          "metadata": {
            "tags": []
          }
        },
        {
          "output_type": "display_data",
          "data": {
            "text/html": [
              "<h3>Run summary:</h3><br/><style>\n",
              "    table.wandb td:nth-child(1) { padding: 0 10px; text-align: right }\n",
              "    </style><table class=\"wandb\">\n",
              "<tr><td>loss</td><td>0.02746</td></tr><tr><td>trainingaccuracy</td><td>0.90389</td></tr><tr><td>validationaccuracy</td><td>0.88717</td></tr><tr><td>epoch</td><td>9</td></tr><tr><td>_runtime</td><td>1381</td></tr><tr><td>_timestamp</td><td>1615733304</td></tr><tr><td>_step</td><td>9</td></tr></table>"
            ],
            "text/plain": [
              "<IPython.core.display.HTML object>"
            ]
          },
          "metadata": {
            "tags": []
          }
        },
        {
          "output_type": "display_data",
          "data": {
            "text/html": [
              "<h3>Run history:</h3><br/><style>\n",
              "    table.wandb td:nth-child(1) { padding: 0 10px; text-align: right }\n",
              "    </style><table class=\"wandb\">\n",
              "<tr><td>loss</td><td>█▃▃▂▂▂▁▁▁▁</td></tr><tr><td>trainingaccuracy</td><td>▁▃▄▅▆▇▇▇██</td></tr><tr><td>validationaccuracy</td><td>▁▃▅▆▇█████</td></tr><tr><td>epoch</td><td>▁▂▃▃▄▅▆▆▇█</td></tr><tr><td>_runtime</td><td>▁▂▃▃▄▅▆▆▇█</td></tr><tr><td>_timestamp</td><td>▁▂▃▃▄▅▆▆▇█</td></tr><tr><td>_step</td><td>▁▂▃▃▄▅▆▆▇█</td></tr></table><br/>"
            ],
            "text/plain": [
              "<IPython.core.display.HTML object>"
            ]
          },
          "metadata": {
            "tags": []
          }
        },
        {
          "output_type": "display_data",
          "data": {
            "text/html": [
              "Synced 5 W&B file(s), 0 media file(s), 0 artifact file(s) and 0 other file(s)"
            ],
            "text/plain": [
              "<IPython.core.display.HTML object>"
            ]
          },
          "metadata": {
            "tags": []
          }
        },
        {
          "output_type": "display_data",
          "data": {
            "text/html": [
              "\n",
              "                    <br/>Synced <strong style=\"color:#cdcd00\">soft-sweep-8</strong>: <a href=\"https://wandb.ai/rahulsundar/CS6910-DeepLearningFundamentals-Assignment1/runs/uc5fd8yw\" target=\"_blank\">https://wandb.ai/rahulsundar/CS6910-DeepLearningFundamentals-Assignment1/runs/uc5fd8yw</a><br/>\n",
              "                "
            ],
            "text/plain": [
              "<IPython.core.display.HTML object>"
            ]
          },
          "metadata": {
            "tags": []
          }
        },
        {
          "output_type": "stream",
          "text": [
            "\u001b[34m\u001b[1mwandb\u001b[0m: Agent Starting Run: inuq9i9e with config:\n",
            "\u001b[34m\u001b[1mwandb\u001b[0m: \tactivation: SIGMOID\n",
            "\u001b[34m\u001b[1mwandb\u001b[0m: \tbatch_size: 16\n",
            "\u001b[34m\u001b[1mwandb\u001b[0m: \tinitializer: XAVIER\n",
            "\u001b[34m\u001b[1mwandb\u001b[0m: \tlearning_rate: 0.0001\n",
            "\u001b[34m\u001b[1mwandb\u001b[0m: \tmax_epochs: 10\n",
            "\u001b[34m\u001b[1mwandb\u001b[0m: \tnum_hidden_neurons: 128\n",
            "\u001b[34m\u001b[1mwandb\u001b[0m: \tnum_layers: 4\n",
            "\u001b[34m\u001b[1mwandb\u001b[0m: \toptimizer: NADAM\n",
            "\u001b[34m\u001b[1mwandb\u001b[0m: \tweight_decay: 0\n"
          ],
          "name": "stderr"
        },
        {
          "output_type": "display_data",
          "data": {
            "text/html": [
              "\n",
              "                Tracking run with wandb version 0.10.22<br/>\n",
              "                Syncing run <strong style=\"color:#cdcd00\">comic-sweep-9</strong> to <a href=\"https://wandb.ai\" target=\"_blank\">Weights & Biases</a> <a href=\"https://docs.wandb.com/integrations/jupyter.html\" target=\"_blank\">(Documentation)</a>.<br/>\n",
              "                Project page: <a href=\"https://wandb.ai/rahulsundar/CS6910-DeepLearningFundamentals-Assignment1\" target=\"_blank\">https://wandb.ai/rahulsundar/CS6910-DeepLearningFundamentals-Assignment1</a><br/>\n",
              "                Sweep page: <a href=\"https://wandb.ai/rahulsundar/CS6910-DeepLearningFundamentals-Assignment1/sweeps/vny2mdtz\" target=\"_blank\">https://wandb.ai/rahulsundar/CS6910-DeepLearningFundamentals-Assignment1/sweeps/vny2mdtz</a><br/>\n",
              "Run page: <a href=\"https://wandb.ai/rahulsundar/CS6910-DeepLearningFundamentals-Assignment1/runs/inuq9i9e\" target=\"_blank\">https://wandb.ai/rahulsundar/CS6910-DeepLearningFundamentals-Assignment1/runs/inuq9i9e</a><br/>\n",
              "                Run data is saved locally in <code>/content/wandb/run-20210314_144833-inuq9i9e</code><br/><br/>\n",
              "            "
            ],
            "text/plain": [
              "<IPython.core.display.HTML object>"
            ]
          },
          "metadata": {
            "tags": []
          }
        },
        {
          "output_type": "stream",
          "text": [
            "Epoch: 0, Loss: 1.343e-01, Training accuracy:0.68, Validation Accuracy: 0.67, Time: 126.82, Learning Rate: 1.000e-04\n",
            "Epoch: 1, Loss: 7.467e-02, Training accuracy:0.76, Validation Accuracy: 0.76, Time: 130.15, Learning Rate: 1.000e-04\n",
            "Epoch: 2, Loss: 6.124e-02, Training accuracy:0.78, Validation Accuracy: 0.78, Time: 130.29, Learning Rate: 1.000e-04\n",
            "Epoch: 3, Loss: 5.569e-02, Training accuracy:0.80, Validation Accuracy: 0.80, Time: 131.56, Learning Rate: 1.000e-04\n",
            "Epoch: 4, Loss: 5.203e-02, Training accuracy:0.82, Validation Accuracy: 0.82, Time: 129.85, Learning Rate: 1.000e-04\n",
            "Epoch: 5, Loss: 4.933e-02, Training accuracy:0.83, Validation Accuracy: 0.82, Time: 127.12, Learning Rate: 1.000e-04\n",
            "Epoch: 6, Loss: 4.723e-02, Training accuracy:0.84, Validation Accuracy: 0.83, Time: 129.92, Learning Rate: 1.000e-04\n",
            "Epoch: 7, Loss: 4.555e-02, Training accuracy:0.84, Validation Accuracy: 0.84, Time: 127.93, Learning Rate: 1.000e-04\n",
            "Epoch: 8, Loss: 4.417e-02, Training accuracy:0.85, Validation Accuracy: 0.84, Time: 129.92, Learning Rate: 1.000e-04\n",
            "Epoch: 9, Loss: 4.299e-02, Training accuracy:0.85, Validation Accuracy: 0.85, Time: 129.22, Learning Rate: 1.000e-04\n"
          ],
          "name": "stdout"
        },
        {
          "output_type": "display_data",
          "data": {
            "text/html": [
              "<br/>Waiting for W&B process to finish, PID 2636<br/>Program ended successfully."
            ],
            "text/plain": [
              "<IPython.core.display.HTML object>"
            ]
          },
          "metadata": {
            "tags": []
          }
        },
        {
          "output_type": "display_data",
          "data": {
            "application/vnd.jupyter.widget-view+json": {
              "model_id": "1a840010169b4dd5907bfcfafe85ccce",
              "version_minor": 0,
              "version_major": 2
            },
            "text/plain": [
              "VBox(children=(Label(value=' 0.00MB of 0.00MB uploaded (0.00MB deduped)\\r'), FloatProgress(value=1.0, max=1.0)…"
            ]
          },
          "metadata": {
            "tags": []
          }
        },
        {
          "output_type": "display_data",
          "data": {
            "text/html": [
              "Find user logs for this run at: <code>/content/wandb/run-20210314_144833-inuq9i9e/logs/debug.log</code>"
            ],
            "text/plain": [
              "<IPython.core.display.HTML object>"
            ]
          },
          "metadata": {
            "tags": []
          }
        },
        {
          "output_type": "display_data",
          "data": {
            "text/html": [
              "Find internal logs for this run at: <code>/content/wandb/run-20210314_144833-inuq9i9e/logs/debug-internal.log</code>"
            ],
            "text/plain": [
              "<IPython.core.display.HTML object>"
            ]
          },
          "metadata": {
            "tags": []
          }
        },
        {
          "output_type": "display_data",
          "data": {
            "text/html": [
              "<h3>Run summary:</h3><br/><style>\n",
              "    table.wandb td:nth-child(1) { padding: 0 10px; text-align: right }\n",
              "    </style><table class=\"wandb\">\n",
              "<tr><td>loss</td><td>0.04299</td></tr><tr><td>trainingaccuracy</td><td>0.84974</td></tr><tr><td>validationaccuracy</td><td>0.84767</td></tr><tr><td>epoch</td><td>9</td></tr><tr><td>_runtime</td><td>1402</td></tr><tr><td>_timestamp</td><td>1615734715</td></tr><tr><td>_step</td><td>9</td></tr></table>"
            ],
            "text/plain": [
              "<IPython.core.display.HTML object>"
            ]
          },
          "metadata": {
            "tags": []
          }
        },
        {
          "output_type": "display_data",
          "data": {
            "text/html": [
              "<h3>Run history:</h3><br/><style>\n",
              "    table.wandb td:nth-child(1) { padding: 0 10px; text-align: right }\n",
              "    </style><table class=\"wandb\">\n",
              "<tr><td>loss</td><td>█▃▂▂▂▁▁▁▁▁</td></tr><tr><td>trainingaccuracy</td><td>▁▄▅▆▇▇▇███</td></tr><tr><td>validationaccuracy</td><td>▁▄▅▆▇▇▇███</td></tr><tr><td>epoch</td><td>▁▂▃▃▄▅▆▆▇█</td></tr><tr><td>_runtime</td><td>▁▂▃▃▄▅▆▆▇█</td></tr><tr><td>_timestamp</td><td>▁▂▃▃▄▅▆▆▇█</td></tr><tr><td>_step</td><td>▁▂▃▃▄▅▆▆▇█</td></tr></table><br/>"
            ],
            "text/plain": [
              "<IPython.core.display.HTML object>"
            ]
          },
          "metadata": {
            "tags": []
          }
        },
        {
          "output_type": "display_data",
          "data": {
            "text/html": [
              "Synced 5 W&B file(s), 0 media file(s), 0 artifact file(s) and 0 other file(s)"
            ],
            "text/plain": [
              "<IPython.core.display.HTML object>"
            ]
          },
          "metadata": {
            "tags": []
          }
        },
        {
          "output_type": "display_data",
          "data": {
            "text/html": [
              "\n",
              "                    <br/>Synced <strong style=\"color:#cdcd00\">comic-sweep-9</strong>: <a href=\"https://wandb.ai/rahulsundar/CS6910-DeepLearningFundamentals-Assignment1/runs/inuq9i9e\" target=\"_blank\">https://wandb.ai/rahulsundar/CS6910-DeepLearningFundamentals-Assignment1/runs/inuq9i9e</a><br/>\n",
              "                "
            ],
            "text/plain": [
              "<IPython.core.display.HTML object>"
            ]
          },
          "metadata": {
            "tags": []
          }
        },
        {
          "output_type": "stream",
          "text": [
            "\u001b[34m\u001b[1mwandb\u001b[0m: Agent Starting Run: r8cdv13f with config:\n",
            "\u001b[34m\u001b[1mwandb\u001b[0m: \tactivation: RELU\n",
            "\u001b[34m\u001b[1mwandb\u001b[0m: \tbatch_size: 16\n",
            "\u001b[34m\u001b[1mwandb\u001b[0m: \tinitializer: HE\n",
            "\u001b[34m\u001b[1mwandb\u001b[0m: \tlearning_rate: 0.0001\n",
            "\u001b[34m\u001b[1mwandb\u001b[0m: \tmax_epochs: 10\n",
            "\u001b[34m\u001b[1mwandb\u001b[0m: \tnum_hidden_neurons: 128\n",
            "\u001b[34m\u001b[1mwandb\u001b[0m: \tnum_layers: 2\n",
            "\u001b[34m\u001b[1mwandb\u001b[0m: \toptimizer: NADAM\n",
            "\u001b[34m\u001b[1mwandb\u001b[0m: \tweight_decay: 0\n"
          ],
          "name": "stderr"
        },
        {
          "output_type": "display_data",
          "data": {
            "text/html": [
              "\n",
              "                Tracking run with wandb version 0.10.22<br/>\n",
              "                Syncing run <strong style=\"color:#cdcd00\">swift-sweep-10</strong> to <a href=\"https://wandb.ai\" target=\"_blank\">Weights & Biases</a> <a href=\"https://docs.wandb.com/integrations/jupyter.html\" target=\"_blank\">(Documentation)</a>.<br/>\n",
              "                Project page: <a href=\"https://wandb.ai/rahulsundar/CS6910-DeepLearningFundamentals-Assignment1\" target=\"_blank\">https://wandb.ai/rahulsundar/CS6910-DeepLearningFundamentals-Assignment1</a><br/>\n",
              "                Sweep page: <a href=\"https://wandb.ai/rahulsundar/CS6910-DeepLearningFundamentals-Assignment1/sweeps/vny2mdtz\" target=\"_blank\">https://wandb.ai/rahulsundar/CS6910-DeepLearningFundamentals-Assignment1/sweeps/vny2mdtz</a><br/>\n",
              "Run page: <a href=\"https://wandb.ai/rahulsundar/CS6910-DeepLearningFundamentals-Assignment1/runs/r8cdv13f\" target=\"_blank\">https://wandb.ai/rahulsundar/CS6910-DeepLearningFundamentals-Assignment1/runs/r8cdv13f</a><br/>\n",
              "                Run data is saved locally in <code>/content/wandb/run-20210314_151204-r8cdv13f</code><br/><br/>\n",
              "            "
            ],
            "text/plain": [
              "<IPython.core.display.HTML object>"
            ]
          },
          "metadata": {
            "tags": []
          }
        },
        {
          "output_type": "stream",
          "text": [
            "Epoch: 0, Loss: 5.714e-02, Training accuracy:0.85, Validation Accuracy: 0.85, Time: 128.99, Learning Rate: 1.000e-04\n",
            "Epoch: 1, Loss: 4.070e-02, Training accuracy:0.87, Validation Accuracy: 0.86, Time: 132.69, Learning Rate: 1.000e-04\n",
            "Epoch: 2, Loss: 3.708e-02, Training accuracy:0.88, Validation Accuracy: 0.87, Time: 133.08, Learning Rate: 1.000e-04\n",
            "Epoch: 3, Loss: 3.487e-02, Training accuracy:0.88, Validation Accuracy: 0.87, Time: 132.99, Learning Rate: 1.000e-04\n",
            "Epoch: 4, Loss: 3.328e-02, Training accuracy:0.89, Validation Accuracy: 0.87, Time: 131.59, Learning Rate: 1.000e-04\n",
            "Epoch: 5, Loss: 3.201e-02, Training accuracy:0.89, Validation Accuracy: 0.88, Time: 133.03, Learning Rate: 1.000e-04\n",
            "Epoch: 6, Loss: 3.094e-02, Training accuracy:0.89, Validation Accuracy: 0.88, Time: 138.08, Learning Rate: 1.000e-04\n",
            "Epoch: 7, Loss: 3.001e-02, Training accuracy:0.90, Validation Accuracy: 0.88, Time: 133.21, Learning Rate: 1.000e-04\n",
            "Epoch: 8, Loss: 2.921e-02, Training accuracy:0.90, Validation Accuracy: 0.88, Time: 134.82, Learning Rate: 1.000e-04\n",
            "Epoch: 9, Loss: 2.849e-02, Training accuracy:0.90, Validation Accuracy: 0.89, Time: 129.96, Learning Rate: 1.000e-04\n"
          ],
          "name": "stdout"
        },
        {
          "output_type": "display_data",
          "data": {
            "text/html": [
              "<br/>Waiting for W&B process to finish, PID 2735<br/>Program ended successfully."
            ],
            "text/plain": [
              "<IPython.core.display.HTML object>"
            ]
          },
          "metadata": {
            "tags": []
          }
        },
        {
          "output_type": "display_data",
          "data": {
            "application/vnd.jupyter.widget-view+json": {
              "model_id": "3311e5872539414299257a4fc31bd5ec",
              "version_minor": 0,
              "version_major": 2
            },
            "text/plain": [
              "VBox(children=(Label(value=' 0.00MB of 0.00MB uploaded (0.00MB deduped)\\r'), FloatProgress(value=1.0, max=1.0)…"
            ]
          },
          "metadata": {
            "tags": []
          }
        },
        {
          "output_type": "display_data",
          "data": {
            "text/html": [
              "Find user logs for this run at: <code>/content/wandb/run-20210314_151204-r8cdv13f/logs/debug.log</code>"
            ],
            "text/plain": [
              "<IPython.core.display.HTML object>"
            ]
          },
          "metadata": {
            "tags": []
          }
        },
        {
          "output_type": "display_data",
          "data": {
            "text/html": [
              "Find internal logs for this run at: <code>/content/wandb/run-20210314_151204-r8cdv13f/logs/debug-internal.log</code>"
            ],
            "text/plain": [
              "<IPython.core.display.HTML object>"
            ]
          },
          "metadata": {
            "tags": []
          }
        },
        {
          "output_type": "display_data",
          "data": {
            "text/html": [
              "<h3>Run summary:</h3><br/><style>\n",
              "    table.wandb td:nth-child(1) { padding: 0 10px; text-align: right }\n",
              "    </style><table class=\"wandb\">\n",
              "<tr><td>loss</td><td>0.02849</td></tr><tr><td>trainingaccuracy</td><td>0.90193</td></tr><tr><td>validationaccuracy</td><td>0.88567</td></tr><tr><td>epoch</td><td>9</td></tr><tr><td>_runtime</td><td>1453</td></tr><tr><td>_timestamp</td><td>1615736177</td></tr><tr><td>_step</td><td>9</td></tr></table>"
            ],
            "text/plain": [
              "<IPython.core.display.HTML object>"
            ]
          },
          "metadata": {
            "tags": []
          }
        },
        {
          "output_type": "display_data",
          "data": {
            "text/html": [
              "<h3>Run history:</h3><br/><style>\n",
              "    table.wandb td:nth-child(1) { padding: 0 10px; text-align: right }\n",
              "    </style><table class=\"wandb\">\n",
              "<tr><td>loss</td><td>█▄▃▃▂▂▂▁▁▁</td></tr><tr><td>trainingaccuracy</td><td>▁▃▄▅▆▇▇▇██</td></tr><tr><td>validationaccuracy</td><td>▁▃▅▅▆▆▇▇██</td></tr><tr><td>epoch</td><td>▁▂▃▃▄▅▆▆▇█</td></tr><tr><td>_runtime</td><td>▁▂▃▃▄▅▆▆▇█</td></tr><tr><td>_timestamp</td><td>▁▂▃▃▄▅▆▆▇█</td></tr><tr><td>_step</td><td>▁▂▃▃▄▅▆▆▇█</td></tr></table><br/>"
            ],
            "text/plain": [
              "<IPython.core.display.HTML object>"
            ]
          },
          "metadata": {
            "tags": []
          }
        },
        {
          "output_type": "display_data",
          "data": {
            "text/html": [
              "Synced 5 W&B file(s), 0 media file(s), 0 artifact file(s) and 0 other file(s)"
            ],
            "text/plain": [
              "<IPython.core.display.HTML object>"
            ]
          },
          "metadata": {
            "tags": []
          }
        },
        {
          "output_type": "display_data",
          "data": {
            "text/html": [
              "\n",
              "                    <br/>Synced <strong style=\"color:#cdcd00\">swift-sweep-10</strong>: <a href=\"https://wandb.ai/rahulsundar/CS6910-DeepLearningFundamentals-Assignment1/runs/r8cdv13f\" target=\"_blank\">https://wandb.ai/rahulsundar/CS6910-DeepLearningFundamentals-Assignment1/runs/r8cdv13f</a><br/>\n",
              "                "
            ],
            "text/plain": [
              "<IPython.core.display.HTML object>"
            ]
          },
          "metadata": {
            "tags": []
          }
        },
        {
          "output_type": "stream",
          "text": [
            "\u001b[34m\u001b[1mwandb\u001b[0m: Agent Starting Run: xgivsx26 with config:\n",
            "\u001b[34m\u001b[1mwandb\u001b[0m: \tactivation: TANH\n",
            "\u001b[34m\u001b[1mwandb\u001b[0m: \tbatch_size: 16\n",
            "\u001b[34m\u001b[1mwandb\u001b[0m: \tinitializer: HE\n",
            "\u001b[34m\u001b[1mwandb\u001b[0m: \tlearning_rate: 0.001\n",
            "\u001b[34m\u001b[1mwandb\u001b[0m: \tmax_epochs: 5\n",
            "\u001b[34m\u001b[1mwandb\u001b[0m: \tnum_hidden_neurons: 32\n",
            "\u001b[34m\u001b[1mwandb\u001b[0m: \tnum_layers: 3\n",
            "\u001b[34m\u001b[1mwandb\u001b[0m: \toptimizer: SGD\n",
            "\u001b[34m\u001b[1mwandb\u001b[0m: \tweight_decay: 0.0005\n"
          ],
          "name": "stderr"
        },
        {
          "output_type": "display_data",
          "data": {
            "text/html": [
              "\n",
              "                Tracking run with wandb version 0.10.22<br/>\n",
              "                Syncing run <strong style=\"color:#cdcd00\">unique-sweep-11</strong> to <a href=\"https://wandb.ai\" target=\"_blank\">Weights & Biases</a> <a href=\"https://docs.wandb.com/integrations/jupyter.html\" target=\"_blank\">(Documentation)</a>.<br/>\n",
              "                Project page: <a href=\"https://wandb.ai/rahulsundar/CS6910-DeepLearningFundamentals-Assignment1\" target=\"_blank\">https://wandb.ai/rahulsundar/CS6910-DeepLearningFundamentals-Assignment1</a><br/>\n",
              "                Sweep page: <a href=\"https://wandb.ai/rahulsundar/CS6910-DeepLearningFundamentals-Assignment1/sweeps/vny2mdtz\" target=\"_blank\">https://wandb.ai/rahulsundar/CS6910-DeepLearningFundamentals-Assignment1/sweeps/vny2mdtz</a><br/>\n",
              "Run page: <a href=\"https://wandb.ai/rahulsundar/CS6910-DeepLearningFundamentals-Assignment1/runs/xgivsx26\" target=\"_blank\">https://wandb.ai/rahulsundar/CS6910-DeepLearningFundamentals-Assignment1/runs/xgivsx26</a><br/>\n",
              "                Run data is saved locally in <code>/content/wandb/run-20210314_153626-xgivsx26</code><br/><br/>\n",
              "            "
            ],
            "text/plain": [
              "<IPython.core.display.HTML object>"
            ]
          },
          "metadata": {
            "tags": []
          }
        },
        {
          "output_type": "stream",
          "text": [
            "Epoch: 0, Loss: 1.123e-01, Training accuracy:0.75, Validation Accuracy: 0.74, Time: 44.33, Learning Rate: 1.000e-03\n",
            "Epoch: 1, Loss: 7.390e-02, Training accuracy:0.78, Validation Accuracy: 0.78, Time: 44.18, Learning Rate: 1.000e-03\n",
            "Epoch: 2, Loss: 6.341e-02, Training accuracy:0.80, Validation Accuracy: 0.80, Time: 45.37, Learning Rate: 1.000e-03\n",
            "Epoch: 3, Loss: 5.742e-02, Training accuracy:0.82, Validation Accuracy: 0.82, Time: 44.37, Learning Rate: 1.000e-03\n",
            "Epoch: 4, Loss: 5.340e-02, Training accuracy:0.83, Validation Accuracy: 0.82, Time: 43.81, Learning Rate: 1.000e-03\n"
          ],
          "name": "stdout"
        },
        {
          "output_type": "display_data",
          "data": {
            "text/html": [
              "<br/>Waiting for W&B process to finish, PID 2766<br/>Program ended successfully."
            ],
            "text/plain": [
              "<IPython.core.display.HTML object>"
            ]
          },
          "metadata": {
            "tags": []
          }
        },
        {
          "output_type": "display_data",
          "data": {
            "application/vnd.jupyter.widget-view+json": {
              "model_id": "e1aa3e863c83426c8c8e2937ae4a61d5",
              "version_minor": 0,
              "version_major": 2
            },
            "text/plain": [
              "VBox(children=(Label(value=' 0.00MB of 0.00MB uploaded (0.00MB deduped)\\r'), FloatProgress(value=1.0, max=1.0)…"
            ]
          },
          "metadata": {
            "tags": []
          }
        },
        {
          "output_type": "display_data",
          "data": {
            "text/html": [
              "Find user logs for this run at: <code>/content/wandb/run-20210314_153626-xgivsx26/logs/debug.log</code>"
            ],
            "text/plain": [
              "<IPython.core.display.HTML object>"
            ]
          },
          "metadata": {
            "tags": []
          }
        },
        {
          "output_type": "display_data",
          "data": {
            "text/html": [
              "Find internal logs for this run at: <code>/content/wandb/run-20210314_153626-xgivsx26/logs/debug-internal.log</code>"
            ],
            "text/plain": [
              "<IPython.core.display.HTML object>"
            ]
          },
          "metadata": {
            "tags": []
          }
        },
        {
          "output_type": "display_data",
          "data": {
            "text/html": [
              "<h3>Run summary:</h3><br/><style>\n",
              "    table.wandb td:nth-child(1) { padding: 0 10px; text-align: right }\n",
              "    </style><table class=\"wandb\">\n",
              "<tr><td>loss</td><td>0.0534</td></tr><tr><td>trainingaccuracy</td><td>0.82593</td></tr><tr><td>validationaccuracy</td><td>0.82217</td></tr><tr><td>epoch</td><td>4</td></tr><tr><td>_runtime</td><td>254</td></tr><tr><td>_timestamp</td><td>1615736440</td></tr><tr><td>_step</td><td>4</td></tr></table>"
            ],
            "text/plain": [
              "<IPython.core.display.HTML object>"
            ]
          },
          "metadata": {
            "tags": []
          }
        },
        {
          "output_type": "display_data",
          "data": {
            "text/html": [
              "<h3>Run history:</h3><br/><style>\n",
              "    table.wandb td:nth-child(1) { padding: 0 10px; text-align: right }\n",
              "    </style><table class=\"wandb\">\n",
              "<tr><td>loss</td><td>█▃▂▁▁</td></tr><tr><td>trainingaccuracy</td><td>▁▄▆▇█</td></tr><tr><td>validationaccuracy</td><td>▁▅▆▇█</td></tr><tr><td>epoch</td><td>▁▃▅▆█</td></tr><tr><td>_runtime</td><td>▁▃▅▆█</td></tr><tr><td>_timestamp</td><td>▁▃▅▆█</td></tr><tr><td>_step</td><td>▁▃▅▆█</td></tr></table><br/>"
            ],
            "text/plain": [
              "<IPython.core.display.HTML object>"
            ]
          },
          "metadata": {
            "tags": []
          }
        },
        {
          "output_type": "display_data",
          "data": {
            "text/html": [
              "Synced 5 W&B file(s), 0 media file(s), 0 artifact file(s) and 0 other file(s)"
            ],
            "text/plain": [
              "<IPython.core.display.HTML object>"
            ]
          },
          "metadata": {
            "tags": []
          }
        },
        {
          "output_type": "display_data",
          "data": {
            "text/html": [
              "\n",
              "                    <br/>Synced <strong style=\"color:#cdcd00\">unique-sweep-11</strong>: <a href=\"https://wandb.ai/rahulsundar/CS6910-DeepLearningFundamentals-Assignment1/runs/xgivsx26\" target=\"_blank\">https://wandb.ai/rahulsundar/CS6910-DeepLearningFundamentals-Assignment1/runs/xgivsx26</a><br/>\n",
              "                "
            ],
            "text/plain": [
              "<IPython.core.display.HTML object>"
            ]
          },
          "metadata": {
            "tags": []
          }
        },
        {
          "output_type": "stream",
          "text": [
            "\u001b[34m\u001b[1mwandb\u001b[0m: Agent Starting Run: vpmjp0gx with config:\n",
            "\u001b[34m\u001b[1mwandb\u001b[0m: \tactivation: SIGMOID\n",
            "\u001b[34m\u001b[1mwandb\u001b[0m: \tbatch_size: 64\n",
            "\u001b[34m\u001b[1mwandb\u001b[0m: \tinitializer: HE\n",
            "\u001b[34m\u001b[1mwandb\u001b[0m: \tlearning_rate: 0.0001\n",
            "\u001b[34m\u001b[1mwandb\u001b[0m: \tmax_epochs: 10\n",
            "\u001b[34m\u001b[1mwandb\u001b[0m: \tnum_hidden_neurons: 128\n",
            "\u001b[34m\u001b[1mwandb\u001b[0m: \tnum_layers: 2\n",
            "\u001b[34m\u001b[1mwandb\u001b[0m: \toptimizer: NADAM\n",
            "\u001b[34m\u001b[1mwandb\u001b[0m: \tweight_decay: 0\n"
          ],
          "name": "stderr"
        },
        {
          "output_type": "display_data",
          "data": {
            "text/html": [
              "\n",
              "                Tracking run with wandb version 0.10.22<br/>\n",
              "                Syncing run <strong style=\"color:#cdcd00\">bright-sweep-12</strong> to <a href=\"https://wandb.ai\" target=\"_blank\">Weights & Biases</a> <a href=\"https://docs.wandb.com/integrations/jupyter.html\" target=\"_blank\">(Documentation)</a>.<br/>\n",
              "                Project page: <a href=\"https://wandb.ai/rahulsundar/CS6910-DeepLearningFundamentals-Assignment1\" target=\"_blank\">https://wandb.ai/rahulsundar/CS6910-DeepLearningFundamentals-Assignment1</a><br/>\n",
              "                Sweep page: <a href=\"https://wandb.ai/rahulsundar/CS6910-DeepLearningFundamentals-Assignment1/sweeps/vny2mdtz\" target=\"_blank\">https://wandb.ai/rahulsundar/CS6910-DeepLearningFundamentals-Assignment1/sweeps/vny2mdtz</a><br/>\n",
              "Run page: <a href=\"https://wandb.ai/rahulsundar/CS6910-DeepLearningFundamentals-Assignment1/runs/vpmjp0gx\" target=\"_blank\">https://wandb.ai/rahulsundar/CS6910-DeepLearningFundamentals-Assignment1/runs/vpmjp0gx</a><br/>\n",
              "                Run data is saved locally in <code>/content/wandb/run-20210314_154049-vpmjp0gx</code><br/><br/>\n",
              "            "
            ],
            "text/plain": [
              "<IPython.core.display.HTML object>"
            ]
          },
          "metadata": {
            "tags": []
          }
        },
        {
          "output_type": "stream",
          "text": [
            "Epoch: 0, Loss: 1.645e-01, Training accuracy:0.63, Validation Accuracy: 0.63, Time: 114.31, Learning Rate: 1.000e-04\n",
            "Epoch: 1, Loss: 9.974e-02, Training accuracy:0.71, Validation Accuracy: 0.70, Time: 112.37, Learning Rate: 1.000e-04\n",
            "Epoch: 2, Loss: 7.831e-02, Training accuracy:0.75, Validation Accuracy: 0.75, Time: 111.00, Learning Rate: 1.000e-04\n",
            "Epoch: 3, Loss: 6.818e-02, Training accuracy:0.76, Validation Accuracy: 0.77, Time: 113.94, Learning Rate: 1.000e-04\n",
            "Epoch: 4, Loss: 6.253e-02, Training accuracy:0.78, Validation Accuracy: 0.78, Time: 114.33, Learning Rate: 1.000e-04\n",
            "Epoch: 5, Loss: 5.881e-02, Training accuracy:0.79, Validation Accuracy: 0.80, Time: 117.41, Learning Rate: 1.000e-04\n",
            "Epoch: 6, Loss: 5.601e-02, Training accuracy:0.80, Validation Accuracy: 0.81, Time: 118.89, Learning Rate: 1.000e-04\n",
            "Epoch: 7, Loss: 5.376e-02, Training accuracy:0.81, Validation Accuracy: 0.81, Time: 117.31, Learning Rate: 1.000e-04\n",
            "Epoch: 8, Loss: 5.189e-02, Training accuracy:0.82, Validation Accuracy: 0.82, Time: 117.67, Learning Rate: 1.000e-04\n",
            "Epoch: 9, Loss: 5.029e-02, Training accuracy:0.82, Validation Accuracy: 0.82, Time: 117.00, Learning Rate: 1.000e-04\n"
          ],
          "name": "stdout"
        },
        {
          "output_type": "display_data",
          "data": {
            "text/html": [
              "<br/>Waiting for W&B process to finish, PID 2797<br/>Program ended successfully."
            ],
            "text/plain": [
              "<IPython.core.display.HTML object>"
            ]
          },
          "metadata": {
            "tags": []
          }
        },
        {
          "output_type": "display_data",
          "data": {
            "application/vnd.jupyter.widget-view+json": {
              "model_id": "610f776f32f54df19b8abdb42add0a84",
              "version_minor": 0,
              "version_major": 2
            },
            "text/plain": [
              "VBox(children=(Label(value=' 0.00MB of 0.00MB uploaded (0.00MB deduped)\\r'), FloatProgress(value=1.0, max=1.0)…"
            ]
          },
          "metadata": {
            "tags": []
          }
        },
        {
          "output_type": "display_data",
          "data": {
            "text/html": [
              "Find user logs for this run at: <code>/content/wandb/run-20210314_154049-vpmjp0gx/logs/debug.log</code>"
            ],
            "text/plain": [
              "<IPython.core.display.HTML object>"
            ]
          },
          "metadata": {
            "tags": []
          }
        },
        {
          "output_type": "display_data",
          "data": {
            "text/html": [
              "Find internal logs for this run at: <code>/content/wandb/run-20210314_154049-vpmjp0gx/logs/debug-internal.log</code>"
            ],
            "text/plain": [
              "<IPython.core.display.HTML object>"
            ]
          },
          "metadata": {
            "tags": []
          }
        },
        {
          "output_type": "display_data",
          "data": {
            "text/html": [
              "<h3>Run summary:</h3><br/><style>\n",
              "    table.wandb td:nth-child(1) { padding: 0 10px; text-align: right }\n",
              "    </style><table class=\"wandb\">\n",
              "<tr><td>loss</td><td>0.05029</td></tr><tr><td>trainingaccuracy</td><td>0.82222</td></tr><tr><td>validationaccuracy</td><td>0.823</td></tr><tr><td>epoch</td><td>9</td></tr><tr><td>_runtime</td><td>1268</td></tr><tr><td>_timestamp</td><td>1615737717</td></tr><tr><td>_step</td><td>9</td></tr></table>"
            ],
            "text/plain": [
              "<IPython.core.display.HTML object>"
            ]
          },
          "metadata": {
            "tags": []
          }
        },
        {
          "output_type": "display_data",
          "data": {
            "text/html": [
              "<h3>Run history:</h3><br/><style>\n",
              "    table.wandb td:nth-child(1) { padding: 0 10px; text-align: right }\n",
              "    </style><table class=\"wandb\">\n",
              "<tr><td>loss</td><td>█▄▃▂▂▂▁▁▁▁</td></tr><tr><td>trainingaccuracy</td><td>▁▄▅▆▆▇▇███</td></tr><tr><td>validationaccuracy</td><td>▁▄▅▆▇▇▇███</td></tr><tr><td>epoch</td><td>▁▂▃▃▄▅▆▆▇█</td></tr><tr><td>_runtime</td><td>▁▂▃▃▄▅▆▆▇█</td></tr><tr><td>_timestamp</td><td>▁▂▃▃▄▅▆▆▇█</td></tr><tr><td>_step</td><td>▁▂▃▃▄▅▆▆▇█</td></tr></table><br/>"
            ],
            "text/plain": [
              "<IPython.core.display.HTML object>"
            ]
          },
          "metadata": {
            "tags": []
          }
        },
        {
          "output_type": "display_data",
          "data": {
            "text/html": [
              "Synced 5 W&B file(s), 0 media file(s), 0 artifact file(s) and 0 other file(s)"
            ],
            "text/plain": [
              "<IPython.core.display.HTML object>"
            ]
          },
          "metadata": {
            "tags": []
          }
        },
        {
          "output_type": "display_data",
          "data": {
            "text/html": [
              "\n",
              "                    <br/>Synced <strong style=\"color:#cdcd00\">bright-sweep-12</strong>: <a href=\"https://wandb.ai/rahulsundar/CS6910-DeepLearningFundamentals-Assignment1/runs/vpmjp0gx\" target=\"_blank\">https://wandb.ai/rahulsundar/CS6910-DeepLearningFundamentals-Assignment1/runs/vpmjp0gx</a><br/>\n",
              "                "
            ],
            "text/plain": [
              "<IPython.core.display.HTML object>"
            ]
          },
          "metadata": {
            "tags": []
          }
        },
        {
          "output_type": "stream",
          "text": [
            "\u001b[34m\u001b[1mwandb\u001b[0m: Agent Starting Run: gugi6umg with config:\n",
            "\u001b[34m\u001b[1mwandb\u001b[0m: \tactivation: SIGMOID\n",
            "\u001b[34m\u001b[1mwandb\u001b[0m: \tbatch_size: 64\n",
            "\u001b[34m\u001b[1mwandb\u001b[0m: \tinitializer: HE\n",
            "\u001b[34m\u001b[1mwandb\u001b[0m: \tlearning_rate: 0.001\n",
            "\u001b[34m\u001b[1mwandb\u001b[0m: \tmax_epochs: 10\n",
            "\u001b[34m\u001b[1mwandb\u001b[0m: \tnum_hidden_neurons: 128\n",
            "\u001b[34m\u001b[1mwandb\u001b[0m: \tnum_layers: 3\n",
            "\u001b[34m\u001b[1mwandb\u001b[0m: \toptimizer: NADAM\n",
            "\u001b[34m\u001b[1mwandb\u001b[0m: \tweight_decay: 0\n"
          ],
          "name": "stderr"
        },
        {
          "output_type": "display_data",
          "data": {
            "text/html": [
              "\n",
              "                Tracking run with wandb version 0.10.22<br/>\n",
              "                Syncing run <strong style=\"color:#cdcd00\">whole-sweep-13</strong> to <a href=\"https://wandb.ai\" target=\"_blank\">Weights & Biases</a> <a href=\"https://docs.wandb.com/integrations/jupyter.html\" target=\"_blank\">(Documentation)</a>.<br/>\n",
              "                Project page: <a href=\"https://wandb.ai/rahulsundar/CS6910-DeepLearningFundamentals-Assignment1\" target=\"_blank\">https://wandb.ai/rahulsundar/CS6910-DeepLearningFundamentals-Assignment1</a><br/>\n",
              "                Sweep page: <a href=\"https://wandb.ai/rahulsundar/CS6910-DeepLearningFundamentals-Assignment1/sweeps/vny2mdtz\" target=\"_blank\">https://wandb.ai/rahulsundar/CS6910-DeepLearningFundamentals-Assignment1/sweeps/vny2mdtz</a><br/>\n",
              "Run page: <a href=\"https://wandb.ai/rahulsundar/CS6910-DeepLearningFundamentals-Assignment1/runs/gugi6umg\" target=\"_blank\">https://wandb.ai/rahulsundar/CS6910-DeepLearningFundamentals-Assignment1/runs/gugi6umg</a><br/>\n",
              "                Run data is saved locally in <code>/content/wandb/run-20210314_160206-gugi6umg</code><br/><br/>\n",
              "            "
            ],
            "text/plain": [
              "<IPython.core.display.HTML object>"
            ]
          },
          "metadata": {
            "tags": []
          }
        },
        {
          "output_type": "stream",
          "text": [
            "Epoch: 0, Loss: 6.850e-02, Training accuracy:0.85, Validation Accuracy: 0.84, Time: 117.73, Learning Rate: 1.000e-03\n",
            "Epoch: 1, Loss: 4.111e-02, Training accuracy:0.86, Validation Accuracy: 0.86, Time: 112.55, Learning Rate: 1.000e-03\n",
            "Epoch: 2, Loss: 3.721e-02, Training accuracy:0.87, Validation Accuracy: 0.87, Time: 114.74, Learning Rate: 1.000e-03\n",
            "Epoch: 3, Loss: 3.495e-02, Training accuracy:0.88, Validation Accuracy: 0.87, Time: 113.83, Learning Rate: 1.000e-03\n",
            "Epoch: 4, Loss: 3.331e-02, Training accuracy:0.89, Validation Accuracy: 0.88, Time: 114.27, Learning Rate: 1.000e-03\n",
            "Epoch: 5, Loss: 3.203e-02, Training accuracy:0.89, Validation Accuracy: 0.88, Time: 115.01, Learning Rate: 1.000e-03\n",
            "Epoch: 6, Loss: 3.095e-02, Training accuracy:0.89, Validation Accuracy: 0.88, Time: 111.77, Learning Rate: 1.000e-03\n",
            "Epoch: 7, Loss: 3.002e-02, Training accuracy:0.90, Validation Accuracy: 0.88, Time: 113.60, Learning Rate: 1.000e-03\n",
            "Epoch: 8, Loss: 2.918e-02, Training accuracy:0.90, Validation Accuracy: 0.88, Time: 114.63, Learning Rate: 1.000e-03\n",
            "Epoch: 9, Loss: 2.843e-02, Training accuracy:0.90, Validation Accuracy: 0.89, Time: 113.88, Learning Rate: 1.000e-03\n"
          ],
          "name": "stdout"
        },
        {
          "output_type": "display_data",
          "data": {
            "text/html": [
              "<br/>Waiting for W&B process to finish, PID 2828<br/>Program ended successfully."
            ],
            "text/plain": [
              "<IPython.core.display.HTML object>"
            ]
          },
          "metadata": {
            "tags": []
          }
        },
        {
          "output_type": "display_data",
          "data": {
            "application/vnd.jupyter.widget-view+json": {
              "model_id": "a3848965cd55493fa4eeb7a926b1f768",
              "version_minor": 0,
              "version_major": 2
            },
            "text/plain": [
              "VBox(children=(Label(value=' 0.00MB of 0.00MB uploaded (0.00MB deduped)\\r'), FloatProgress(value=1.0, max=1.0)…"
            ]
          },
          "metadata": {
            "tags": []
          }
        },
        {
          "output_type": "display_data",
          "data": {
            "text/html": [
              "Find user logs for this run at: <code>/content/wandb/run-20210314_160206-gugi6umg/logs/debug.log</code>"
            ],
            "text/plain": [
              "<IPython.core.display.HTML object>"
            ]
          },
          "metadata": {
            "tags": []
          }
        },
        {
          "output_type": "display_data",
          "data": {
            "text/html": [
              "Find internal logs for this run at: <code>/content/wandb/run-20210314_160206-gugi6umg/logs/debug-internal.log</code>"
            ],
            "text/plain": [
              "<IPython.core.display.HTML object>"
            ]
          },
          "metadata": {
            "tags": []
          }
        },
        {
          "output_type": "display_data",
          "data": {
            "text/html": [
              "<h3>Run summary:</h3><br/><style>\n",
              "    table.wandb td:nth-child(1) { padding: 0 10px; text-align: right }\n",
              "    </style><table class=\"wandb\">\n",
              "<tr><td>loss</td><td>0.02843</td></tr><tr><td>trainingaccuracy</td><td>0.90254</td></tr><tr><td>validationaccuracy</td><td>0.88617</td></tr><tr><td>epoch</td><td>9</td></tr><tr><td>_runtime</td><td>1250</td></tr><tr><td>_timestamp</td><td>1615738976</td></tr><tr><td>_step</td><td>9</td></tr></table>"
            ],
            "text/plain": [
              "<IPython.core.display.HTML object>"
            ]
          },
          "metadata": {
            "tags": []
          }
        },
        {
          "output_type": "display_data",
          "data": {
            "text/html": [
              "<h3>Run history:</h3><br/><style>\n",
              "    table.wandb td:nth-child(1) { padding: 0 10px; text-align: right }\n",
              "    </style><table class=\"wandb\">\n",
              "<tr><td>loss</td><td>█▃▃▂▂▂▁▁▁▁</td></tr><tr><td>trainingaccuracy</td><td>▁▃▅▆▆▇▇▇██</td></tr><tr><td>validationaccuracy</td><td>▁▃▅▆▇▇▇███</td></tr><tr><td>epoch</td><td>▁▂▃▃▄▅▆▆▇█</td></tr><tr><td>_runtime</td><td>▁▂▃▃▄▅▆▆▇█</td></tr><tr><td>_timestamp</td><td>▁▂▃▃▄▅▆▆▇█</td></tr><tr><td>_step</td><td>▁▂▃▃▄▅▆▆▇█</td></tr></table><br/>"
            ],
            "text/plain": [
              "<IPython.core.display.HTML object>"
            ]
          },
          "metadata": {
            "tags": []
          }
        },
        {
          "output_type": "display_data",
          "data": {
            "text/html": [
              "Synced 5 W&B file(s), 0 media file(s), 0 artifact file(s) and 0 other file(s)"
            ],
            "text/plain": [
              "<IPython.core.display.HTML object>"
            ]
          },
          "metadata": {
            "tags": []
          }
        },
        {
          "output_type": "display_data",
          "data": {
            "text/html": [
              "\n",
              "                    <br/>Synced <strong style=\"color:#cdcd00\">whole-sweep-13</strong>: <a href=\"https://wandb.ai/rahulsundar/CS6910-DeepLearningFundamentals-Assignment1/runs/gugi6umg\" target=\"_blank\">https://wandb.ai/rahulsundar/CS6910-DeepLearningFundamentals-Assignment1/runs/gugi6umg</a><br/>\n",
              "                "
            ],
            "text/plain": [
              "<IPython.core.display.HTML object>"
            ]
          },
          "metadata": {
            "tags": []
          }
        },
        {
          "output_type": "stream",
          "text": [
            "\u001b[34m\u001b[1mwandb\u001b[0m: Sweep Agent: Waiting for job.\n",
            "\u001b[34m\u001b[1mwandb\u001b[0m: Job received.\n",
            "\u001b[34m\u001b[1mwandb\u001b[0m: Agent Starting Run: uloyui9j with config:\n",
            "\u001b[34m\u001b[1mwandb\u001b[0m: \tactivation: SIGMOID\n",
            "\u001b[34m\u001b[1mwandb\u001b[0m: \tbatch_size: 16\n",
            "\u001b[34m\u001b[1mwandb\u001b[0m: \tinitializer: XAVIER\n",
            "\u001b[34m\u001b[1mwandb\u001b[0m: \tlearning_rate: 0.0001\n",
            "\u001b[34m\u001b[1mwandb\u001b[0m: \tmax_epochs: 10\n",
            "\u001b[34m\u001b[1mwandb\u001b[0m: \tnum_hidden_neurons: 128\n",
            "\u001b[34m\u001b[1mwandb\u001b[0m: \tnum_layers: 3\n",
            "\u001b[34m\u001b[1mwandb\u001b[0m: \toptimizer: ADAM\n",
            "\u001b[34m\u001b[1mwandb\u001b[0m: \tweight_decay: 0\n"
          ],
          "name": "stderr"
        },
        {
          "output_type": "display_data",
          "data": {
            "text/html": [
              "\n",
              "                Tracking run with wandb version 0.10.22<br/>\n",
              "                Syncing run <strong style=\"color:#cdcd00\">avid-sweep-14</strong> to <a href=\"https://wandb.ai\" target=\"_blank\">Weights & Biases</a> <a href=\"https://docs.wandb.com/integrations/jupyter.html\" target=\"_blank\">(Documentation)</a>.<br/>\n",
              "                Project page: <a href=\"https://wandb.ai/rahulsundar/CS6910-DeepLearningFundamentals-Assignment1\" target=\"_blank\">https://wandb.ai/rahulsundar/CS6910-DeepLearningFundamentals-Assignment1</a><br/>\n",
              "                Sweep page: <a href=\"https://wandb.ai/rahulsundar/CS6910-DeepLearningFundamentals-Assignment1/sweeps/vny2mdtz\" target=\"_blank\">https://wandb.ai/rahulsundar/CS6910-DeepLearningFundamentals-Assignment1/sweeps/vny2mdtz</a><br/>\n",
              "Run page: <a href=\"https://wandb.ai/rahulsundar/CS6910-DeepLearningFundamentals-Assignment1/runs/uloyui9j\" target=\"_blank\">https://wandb.ai/rahulsundar/CS6910-DeepLearningFundamentals-Assignment1/runs/uloyui9j</a><br/>\n",
              "                Run data is saved locally in <code>/content/wandb/run-20210314_162323-uloyui9j</code><br/><br/>\n",
              "            "
            ],
            "text/plain": [
              "<IPython.core.display.HTML object>"
            ]
          },
          "metadata": {
            "tags": []
          }
        },
        {
          "output_type": "stream",
          "text": [
            "Epoch: 0, Loss: 5.977e-02, Training accuracy:0.85, Validation Accuracy: 0.84, Time: 127.56, Learning Rate: 1.000e-04\n",
            "Epoch: 1, Loss: 3.864e-02, Training accuracy:0.87, Validation Accuracy: 0.86, Time: 123.46, Learning Rate: 1.000e-04\n",
            "Epoch: 2, Loss: 3.474e-02, Training accuracy:0.88, Validation Accuracy: 0.87, Time: 129.31, Learning Rate: 1.000e-04\n",
            "Epoch: 3, Loss: 3.262e-02, Training accuracy:0.89, Validation Accuracy: 0.87, Time: 127.75, Learning Rate: 1.000e-04\n",
            "Epoch: 4, Loss: 3.119e-02, Training accuracy:0.89, Validation Accuracy: 0.88, Time: 122.99, Learning Rate: 1.000e-04\n",
            "Epoch: 5, Loss: 3.012e-02, Training accuracy:0.89, Validation Accuracy: 0.88, Time: 129.09, Learning Rate: 1.000e-04\n",
            "Epoch: 6, Loss: 2.926e-02, Training accuracy:0.90, Validation Accuracy: 0.88, Time: 128.15, Learning Rate: 1.000e-04\n",
            "Epoch: 7, Loss: 2.855e-02, Training accuracy:0.90, Validation Accuracy: 0.88, Time: 128.64, Learning Rate: 1.000e-04\n",
            "Epoch: 8, Loss: 2.793e-02, Training accuracy:0.90, Validation Accuracy: 0.89, Time: 127.83, Learning Rate: 1.000e-04\n",
            "Epoch: 9, Loss: 2.739e-02, Training accuracy:0.90, Validation Accuracy: 0.89, Time: 126.78, Learning Rate: 1.000e-04\n"
          ],
          "name": "stdout"
        },
        {
          "output_type": "display_data",
          "data": {
            "text/html": [
              "<br/>Waiting for W&B process to finish, PID 2861<br/>Program ended successfully."
            ],
            "text/plain": [
              "<IPython.core.display.HTML object>"
            ]
          },
          "metadata": {
            "tags": []
          }
        },
        {
          "output_type": "display_data",
          "data": {
            "application/vnd.jupyter.widget-view+json": {
              "model_id": "532c3b696deb4ba2891627dff2551538",
              "version_minor": 0,
              "version_major": 2
            },
            "text/plain": [
              "VBox(children=(Label(value=' 0.00MB of 0.00MB uploaded (0.00MB deduped)\\r'), FloatProgress(value=1.0, max=1.0)…"
            ]
          },
          "metadata": {
            "tags": []
          }
        },
        {
          "output_type": "display_data",
          "data": {
            "text/html": [
              "Find user logs for this run at: <code>/content/wandb/run-20210314_162323-uloyui9j/logs/debug.log</code>"
            ],
            "text/plain": [
              "<IPython.core.display.HTML object>"
            ]
          },
          "metadata": {
            "tags": []
          }
        },
        {
          "output_type": "display_data",
          "data": {
            "text/html": [
              "Find internal logs for this run at: <code>/content/wandb/run-20210314_162323-uloyui9j/logs/debug-internal.log</code>"
            ],
            "text/plain": [
              "<IPython.core.display.HTML object>"
            ]
          },
          "metadata": {
            "tags": []
          }
        },
        {
          "output_type": "display_data",
          "data": {
            "text/html": [
              "<h3>Run summary:</h3><br/><style>\n",
              "    table.wandb td:nth-child(1) { padding: 0 10px; text-align: right }\n",
              "    </style><table class=\"wandb\">\n",
              "<tr><td>loss</td><td>0.02739</td></tr><tr><td>trainingaccuracy</td><td>0.90413</td></tr><tr><td>validationaccuracy</td><td>0.88667</td></tr><tr><td>epoch</td><td>9</td></tr><tr><td>_runtime</td><td>1379</td></tr><tr><td>_timestamp</td><td>1615740382</td></tr><tr><td>_step</td><td>9</td></tr></table>"
            ],
            "text/plain": [
              "<IPython.core.display.HTML object>"
            ]
          },
          "metadata": {
            "tags": []
          }
        },
        {
          "output_type": "display_data",
          "data": {
            "text/html": [
              "<h3>Run history:</h3><br/><style>\n",
              "    table.wandb td:nth-child(1) { padding: 0 10px; text-align: right }\n",
              "    </style><table class=\"wandb\">\n",
              "<tr><td>loss</td><td>█▃▃▂▂▂▁▁▁▁</td></tr><tr><td>trainingaccuracy</td><td>▁▃▅▆▆▇▇▇██</td></tr><tr><td>validationaccuracy</td><td>▁▃▅▆▆▇▇███</td></tr><tr><td>epoch</td><td>▁▂▃▃▄▅▆▆▇█</td></tr><tr><td>_runtime</td><td>▁▂▃▃▄▅▆▆▇█</td></tr><tr><td>_timestamp</td><td>▁▂▃▃▄▅▆▆▇█</td></tr><tr><td>_step</td><td>▁▂▃▃▄▅▆▆▇█</td></tr></table><br/>"
            ],
            "text/plain": [
              "<IPython.core.display.HTML object>"
            ]
          },
          "metadata": {
            "tags": []
          }
        },
        {
          "output_type": "display_data",
          "data": {
            "text/html": [
              "Synced 5 W&B file(s), 0 media file(s), 0 artifact file(s) and 0 other file(s)"
            ],
            "text/plain": [
              "<IPython.core.display.HTML object>"
            ]
          },
          "metadata": {
            "tags": []
          }
        },
        {
          "output_type": "display_data",
          "data": {
            "text/html": [
              "\n",
              "                    <br/>Synced <strong style=\"color:#cdcd00\">avid-sweep-14</strong>: <a href=\"https://wandb.ai/rahulsundar/CS6910-DeepLearningFundamentals-Assignment1/runs/uloyui9j\" target=\"_blank\">https://wandb.ai/rahulsundar/CS6910-DeepLearningFundamentals-Assignment1/runs/uloyui9j</a><br/>\n",
              "                "
            ],
            "text/plain": [
              "<IPython.core.display.HTML object>"
            ]
          },
          "metadata": {
            "tags": []
          }
        },
        {
          "output_type": "stream",
          "text": [
            "\u001b[34m\u001b[1mwandb\u001b[0m: Agent Starting Run: b5bd7d2z with config:\n",
            "\u001b[34m\u001b[1mwandb\u001b[0m: \tactivation: SIGMOID\n",
            "\u001b[34m\u001b[1mwandb\u001b[0m: \tbatch_size: 32\n",
            "\u001b[34m\u001b[1mwandb\u001b[0m: \tinitializer: HE\n",
            "\u001b[34m\u001b[1mwandb\u001b[0m: \tlearning_rate: 0.001\n",
            "\u001b[34m\u001b[1mwandb\u001b[0m: \tmax_epochs: 10\n",
            "\u001b[34m\u001b[1mwandb\u001b[0m: \tnum_hidden_neurons: 128\n",
            "\u001b[34m\u001b[1mwandb\u001b[0m: \tnum_layers: 3\n",
            "\u001b[34m\u001b[1mwandb\u001b[0m: \toptimizer: NADAM\n",
            "\u001b[34m\u001b[1mwandb\u001b[0m: \tweight_decay: 0\n"
          ],
          "name": "stderr"
        },
        {
          "output_type": "display_data",
          "data": {
            "text/html": [
              "\n",
              "                Tracking run with wandb version 0.10.22<br/>\n",
              "                Syncing run <strong style=\"color:#cdcd00\">dandy-sweep-15</strong> to <a href=\"https://wandb.ai\" target=\"_blank\">Weights & Biases</a> <a href=\"https://docs.wandb.com/integrations/jupyter.html\" target=\"_blank\">(Documentation)</a>.<br/>\n",
              "                Project page: <a href=\"https://wandb.ai/rahulsundar/CS6910-DeepLearningFundamentals-Assignment1\" target=\"_blank\">https://wandb.ai/rahulsundar/CS6910-DeepLearningFundamentals-Assignment1</a><br/>\n",
              "                Sweep page: <a href=\"https://wandb.ai/rahulsundar/CS6910-DeepLearningFundamentals-Assignment1/sweeps/vny2mdtz\" target=\"_blank\">https://wandb.ai/rahulsundar/CS6910-DeepLearningFundamentals-Assignment1/sweeps/vny2mdtz</a><br/>\n",
              "Run page: <a href=\"https://wandb.ai/rahulsundar/CS6910-DeepLearningFundamentals-Assignment1/runs/b5bd7d2z\" target=\"_blank\">https://wandb.ai/rahulsundar/CS6910-DeepLearningFundamentals-Assignment1/runs/b5bd7d2z</a><br/>\n",
              "                Run data is saved locally in <code>/content/wandb/run-20210314_164632-b5bd7d2z</code><br/><br/>\n",
              "            "
            ],
            "text/plain": [
              "<IPython.core.display.HTML object>"
            ]
          },
          "metadata": {
            "tags": []
          }
        },
        {
          "output_type": "stream",
          "text": [
            "Epoch: 0, Loss: 6.146e-02, Training accuracy:0.85, Validation Accuracy: 0.85, Time: 118.64, Learning Rate: 1.000e-03\n",
            "Epoch: 1, Loss: 3.964e-02, Training accuracy:0.87, Validation Accuracy: 0.86, Time: 118.06, Learning Rate: 1.000e-03\n",
            "Epoch: 2, Loss: 3.584e-02, Training accuracy:0.88, Validation Accuracy: 0.87, Time: 110.82, Learning Rate: 1.000e-03\n",
            "Epoch: 3, Loss: 3.354e-02, Training accuracy:0.89, Validation Accuracy: 0.88, Time: 119.63, Learning Rate: 1.000e-03\n",
            "Epoch: 4, Loss: 3.185e-02, Training accuracy:0.89, Validation Accuracy: 0.88, Time: 118.60, Learning Rate: 1.000e-03\n",
            "Epoch: 5, Loss: 3.052e-02, Training accuracy:0.90, Validation Accuracy: 0.88, Time: 122.01, Learning Rate: 1.000e-03\n",
            "Epoch: 6, Loss: 2.939e-02, Training accuracy:0.90, Validation Accuracy: 0.88, Time: 122.70, Learning Rate: 1.000e-03\n",
            "Epoch: 7, Loss: 2.840e-02, Training accuracy:0.90, Validation Accuracy: 0.88, Time: 121.20, Learning Rate: 1.000e-03\n",
            "Epoch: 8, Loss: 2.751e-02, Training accuracy:0.90, Validation Accuracy: 0.89, Time: 119.61, Learning Rate: 1.000e-03\n",
            "Epoch: 9, Loss: 2.671e-02, Training accuracy:0.91, Validation Accuracy: 0.89, Time: 120.20, Learning Rate: 1.000e-03\n"
          ],
          "name": "stdout"
        },
        {
          "output_type": "display_data",
          "data": {
            "text/html": [
              "<br/>Waiting for W&B process to finish, PID 2984<br/>Program ended successfully."
            ],
            "text/plain": [
              "<IPython.core.display.HTML object>"
            ]
          },
          "metadata": {
            "tags": []
          }
        },
        {
          "output_type": "display_data",
          "data": {
            "application/vnd.jupyter.widget-view+json": {
              "model_id": "3645e158ce3d43b2ad6c0f3a6b599fee",
              "version_minor": 0,
              "version_major": 2
            },
            "text/plain": [
              "VBox(children=(Label(value=' 0.00MB of 0.00MB uploaded (0.00MB deduped)\\r'), FloatProgress(value=1.0, max=1.0)…"
            ]
          },
          "metadata": {
            "tags": []
          }
        },
        {
          "output_type": "display_data",
          "data": {
            "text/html": [
              "Find user logs for this run at: <code>/content/wandb/run-20210314_164632-b5bd7d2z/logs/debug.log</code>"
            ],
            "text/plain": [
              "<IPython.core.display.HTML object>"
            ]
          },
          "metadata": {
            "tags": []
          }
        },
        {
          "output_type": "display_data",
          "data": {
            "text/html": [
              "Find internal logs for this run at: <code>/content/wandb/run-20210314_164632-b5bd7d2z/logs/debug-internal.log</code>"
            ],
            "text/plain": [
              "<IPython.core.display.HTML object>"
            ]
          },
          "metadata": {
            "tags": []
          }
        },
        {
          "output_type": "display_data",
          "data": {
            "text/html": [
              "<h3>Run summary:</h3><br/><style>\n",
              "    table.wandb td:nth-child(1) { padding: 0 10px; text-align: right }\n",
              "    </style><table class=\"wandb\">\n",
              "<tr><td>loss</td><td>0.02671</td></tr><tr><td>trainingaccuracy</td><td>0.90696</td></tr><tr><td>validationaccuracy</td><td>0.88567</td></tr><tr><td>epoch</td><td>9</td></tr><tr><td>_runtime</td><td>1300</td></tr><tr><td>_timestamp</td><td>1615741692</td></tr><tr><td>_step</td><td>9</td></tr></table>"
            ],
            "text/plain": [
              "<IPython.core.display.HTML object>"
            ]
          },
          "metadata": {
            "tags": []
          }
        },
        {
          "output_type": "display_data",
          "data": {
            "text/html": [
              "<h3>Run history:</h3><br/><style>\n",
              "    table.wandb td:nth-child(1) { padding: 0 10px; text-align: right }\n",
              "    </style><table class=\"wandb\">\n",
              "<tr><td>loss</td><td>█▄▃▂▂▂▂▁▁▁</td></tr><tr><td>trainingaccuracy</td><td>▁▃▄▅▆▇▇▇██</td></tr><tr><td>validationaccuracy</td><td>▁▃▅▆▇▇▇███</td></tr><tr><td>epoch</td><td>▁▂▃▃▄▅▆▆▇█</td></tr><tr><td>_runtime</td><td>▁▂▂▃▄▅▆▆▇█</td></tr><tr><td>_timestamp</td><td>▁▂▂▃▄▅▆▆▇█</td></tr><tr><td>_step</td><td>▁▂▃▃▄▅▆▆▇█</td></tr></table><br/>"
            ],
            "text/plain": [
              "<IPython.core.display.HTML object>"
            ]
          },
          "metadata": {
            "tags": []
          }
        },
        {
          "output_type": "display_data",
          "data": {
            "text/html": [
              "Synced 5 W&B file(s), 0 media file(s), 0 artifact file(s) and 0 other file(s)"
            ],
            "text/plain": [
              "<IPython.core.display.HTML object>"
            ]
          },
          "metadata": {
            "tags": []
          }
        },
        {
          "output_type": "display_data",
          "data": {
            "text/html": [
              "\n",
              "                    <br/>Synced <strong style=\"color:#cdcd00\">dandy-sweep-15</strong>: <a href=\"https://wandb.ai/rahulsundar/CS6910-DeepLearningFundamentals-Assignment1/runs/b5bd7d2z\" target=\"_blank\">https://wandb.ai/rahulsundar/CS6910-DeepLearningFundamentals-Assignment1/runs/b5bd7d2z</a><br/>\n",
              "                "
            ],
            "text/plain": [
              "<IPython.core.display.HTML object>"
            ]
          },
          "metadata": {
            "tags": []
          }
        },
        {
          "output_type": "stream",
          "text": [
            "\u001b[34m\u001b[1mwandb\u001b[0m: Agent Starting Run: 7wxthqpo with config:\n",
            "\u001b[34m\u001b[1mwandb\u001b[0m: \tactivation: TANH\n",
            "\u001b[34m\u001b[1mwandb\u001b[0m: \tbatch_size: 64\n",
            "\u001b[34m\u001b[1mwandb\u001b[0m: \tinitializer: XAVIER\n",
            "\u001b[34m\u001b[1mwandb\u001b[0m: \tlearning_rate: 0.001\n",
            "\u001b[34m\u001b[1mwandb\u001b[0m: \tmax_epochs: 10\n",
            "\u001b[34m\u001b[1mwandb\u001b[0m: \tnum_hidden_neurons: 128\n",
            "\u001b[34m\u001b[1mwandb\u001b[0m: \tnum_layers: 4\n",
            "\u001b[34m\u001b[1mwandb\u001b[0m: \toptimizer: NADAM\n",
            "\u001b[34m\u001b[1mwandb\u001b[0m: \tweight_decay: 0\n"
          ],
          "name": "stderr"
        },
        {
          "output_type": "display_data",
          "data": {
            "text/html": [
              "\n",
              "                Tracking run with wandb version 0.10.22<br/>\n",
              "                Syncing run <strong style=\"color:#cdcd00\">quiet-sweep-16</strong> to <a href=\"https://wandb.ai\" target=\"_blank\">Weights & Biases</a> <a href=\"https://docs.wandb.com/integrations/jupyter.html\" target=\"_blank\">(Documentation)</a>.<br/>\n",
              "                Project page: <a href=\"https://wandb.ai/rahulsundar/CS6910-DeepLearningFundamentals-Assignment1\" target=\"_blank\">https://wandb.ai/rahulsundar/CS6910-DeepLearningFundamentals-Assignment1</a><br/>\n",
              "                Sweep page: <a href=\"https://wandb.ai/rahulsundar/CS6910-DeepLearningFundamentals-Assignment1/sweeps/vny2mdtz\" target=\"_blank\">https://wandb.ai/rahulsundar/CS6910-DeepLearningFundamentals-Assignment1/sweeps/vny2mdtz</a><br/>\n",
              "Run page: <a href=\"https://wandb.ai/rahulsundar/CS6910-DeepLearningFundamentals-Assignment1/runs/7wxthqpo\" target=\"_blank\">https://wandb.ai/rahulsundar/CS6910-DeepLearningFundamentals-Assignment1/runs/7wxthqpo</a><br/>\n",
              "                Run data is saved locally in <code>/content/wandb/run-20210314_170821-7wxthqpo</code><br/><br/>\n",
              "            "
            ],
            "text/plain": [
              "<IPython.core.display.HTML object>"
            ]
          },
          "metadata": {
            "tags": []
          }
        },
        {
          "output_type": "stream",
          "text": [
            "Epoch: 0, Loss: 4.677e-02, Training accuracy:0.86, Validation Accuracy: 0.85, Time: 111.78, Learning Rate: 1.000e-03\n",
            "Epoch: 1, Loss: 3.538e-02, Training accuracy:0.88, Validation Accuracy: 0.87, Time: 110.78, Learning Rate: 1.000e-03\n",
            "Epoch: 2, Loss: 3.172e-02, Training accuracy:0.89, Validation Accuracy: 0.88, Time: 110.72, Learning Rate: 1.000e-03\n",
            "Epoch: 3, Loss: 2.935e-02, Training accuracy:0.90, Validation Accuracy: 0.88, Time: 111.07, Learning Rate: 1.000e-03\n",
            "Epoch: 4, Loss: 2.759e-02, Training accuracy:0.91, Validation Accuracy: 0.88, Time: 114.74, Learning Rate: 1.000e-03\n",
            "Epoch: 5, Loss: 2.615e-02, Training accuracy:0.91, Validation Accuracy: 0.88, Time: 113.19, Learning Rate: 1.000e-03\n",
            "Epoch: 6, Loss: 2.490e-02, Training accuracy:0.91, Validation Accuracy: 0.89, Time: 113.96, Learning Rate: 1.000e-03\n",
            "Epoch: 7, Loss: 2.375e-02, Training accuracy:0.92, Validation Accuracy: 0.89, Time: 113.90, Learning Rate: 1.000e-03\n",
            "Epoch: 8, Loss: 2.270e-02, Training accuracy:0.92, Validation Accuracy: 0.89, Time: 114.57, Learning Rate: 1.000e-03\n",
            "Epoch: 9, Loss: 2.169e-02, Training accuracy:0.92, Validation Accuracy: 0.89, Time: 116.28, Learning Rate: 1.000e-03\n"
          ],
          "name": "stdout"
        },
        {
          "output_type": "display_data",
          "data": {
            "text/html": [
              "<br/>Waiting for W&B process to finish, PID 3163<br/>Program ended successfully."
            ],
            "text/plain": [
              "<IPython.core.display.HTML object>"
            ]
          },
          "metadata": {
            "tags": []
          }
        },
        {
          "output_type": "display_data",
          "data": {
            "application/vnd.jupyter.widget-view+json": {
              "model_id": "e77892fdb70b44efb9fe0820d2f8b48a",
              "version_minor": 0,
              "version_major": 2
            },
            "text/plain": [
              "VBox(children=(Label(value=' 0.00MB of 0.00MB uploaded (0.00MB deduped)\\r'), FloatProgress(value=1.0, max=1.0)…"
            ]
          },
          "metadata": {
            "tags": []
          }
        },
        {
          "output_type": "display_data",
          "data": {
            "text/html": [
              "Find user logs for this run at: <code>/content/wandb/run-20210314_170821-7wxthqpo/logs/debug.log</code>"
            ],
            "text/plain": [
              "<IPython.core.display.HTML object>"
            ]
          },
          "metadata": {
            "tags": []
          }
        },
        {
          "output_type": "display_data",
          "data": {
            "text/html": [
              "Find internal logs for this run at: <code>/content/wandb/run-20210314_170821-7wxthqpo/logs/debug-internal.log</code>"
            ],
            "text/plain": [
              "<IPython.core.display.HTML object>"
            ]
          },
          "metadata": {
            "tags": []
          }
        },
        {
          "output_type": "display_data",
          "data": {
            "text/html": [
              "<h3>Run summary:</h3><br/><style>\n",
              "    table.wandb td:nth-child(1) { padding: 0 10px; text-align: right }\n",
              "    </style><table class=\"wandb\">\n",
              "<tr><td>loss</td><td>0.02169</td></tr><tr><td>trainingaccuracy</td><td>0.92154</td></tr><tr><td>validationaccuracy</td><td>0.88583</td></tr><tr><td>epoch</td><td>9</td></tr><tr><td>_runtime</td><td>1238</td></tr><tr><td>_timestamp</td><td>1615742939</td></tr><tr><td>_step</td><td>9</td></tr></table>"
            ],
            "text/plain": [
              "<IPython.core.display.HTML object>"
            ]
          },
          "metadata": {
            "tags": []
          }
        },
        {
          "output_type": "display_data",
          "data": {
            "text/html": [
              "<h3>Run history:</h3><br/><style>\n",
              "    table.wandb td:nth-child(1) { padding: 0 10px; text-align: right }\n",
              "    </style><table class=\"wandb\">\n",
              "<tr><td>loss</td><td>█▅▄▃▃▂▂▂▁▁</td></tr><tr><td>trainingaccuracy</td><td>▁▄▅▆▆▇▇▇██</td></tr><tr><td>validationaccuracy</td><td>▁▄▆▇▇▇████</td></tr><tr><td>epoch</td><td>▁▂▃▃▄▅▆▆▇█</td></tr><tr><td>_runtime</td><td>▁▂▃▃▄▅▆▆▇█</td></tr><tr><td>_timestamp</td><td>▁▂▃▃▄▅▆▆▇█</td></tr><tr><td>_step</td><td>▁▂▃▃▄▅▆▆▇█</td></tr></table><br/>"
            ],
            "text/plain": [
              "<IPython.core.display.HTML object>"
            ]
          },
          "metadata": {
            "tags": []
          }
        },
        {
          "output_type": "display_data",
          "data": {
            "text/html": [
              "Synced 5 W&B file(s), 0 media file(s), 0 artifact file(s) and 0 other file(s)"
            ],
            "text/plain": [
              "<IPython.core.display.HTML object>"
            ]
          },
          "metadata": {
            "tags": []
          }
        },
        {
          "output_type": "display_data",
          "data": {
            "text/html": [
              "\n",
              "                    <br/>Synced <strong style=\"color:#cdcd00\">quiet-sweep-16</strong>: <a href=\"https://wandb.ai/rahulsundar/CS6910-DeepLearningFundamentals-Assignment1/runs/7wxthqpo\" target=\"_blank\">https://wandb.ai/rahulsundar/CS6910-DeepLearningFundamentals-Assignment1/runs/7wxthqpo</a><br/>\n",
              "                "
            ],
            "text/plain": [
              "<IPython.core.display.HTML object>"
            ]
          },
          "metadata": {
            "tags": []
          }
        },
        {
          "output_type": "stream",
          "text": [
            "\u001b[34m\u001b[1mwandb\u001b[0m: Agent Starting Run: jab3rpp7 with config:\n",
            "\u001b[34m\u001b[1mwandb\u001b[0m: \tactivation: SIGMOID\n",
            "\u001b[34m\u001b[1mwandb\u001b[0m: \tbatch_size: 64\n",
            "\u001b[34m\u001b[1mwandb\u001b[0m: \tinitializer: HE\n",
            "\u001b[34m\u001b[1mwandb\u001b[0m: \tlearning_rate: 0.001\n",
            "\u001b[34m\u001b[1mwandb\u001b[0m: \tmax_epochs: 10\n",
            "\u001b[34m\u001b[1mwandb\u001b[0m: \tnum_hidden_neurons: 128\n",
            "\u001b[34m\u001b[1mwandb\u001b[0m: \tnum_layers: 3\n",
            "\u001b[34m\u001b[1mwandb\u001b[0m: \toptimizer: NADAM\n",
            "\u001b[34m\u001b[1mwandb\u001b[0m: \tweight_decay: 0\n"
          ],
          "name": "stderr"
        },
        {
          "output_type": "display_data",
          "data": {
            "text/html": [
              "\n",
              "                Tracking run with wandb version 0.10.22<br/>\n",
              "                Syncing run <strong style=\"color:#cdcd00\">earnest-sweep-17</strong> to <a href=\"https://wandb.ai\" target=\"_blank\">Weights & Biases</a> <a href=\"https://docs.wandb.com/integrations/jupyter.html\" target=\"_blank\">(Documentation)</a>.<br/>\n",
              "                Project page: <a href=\"https://wandb.ai/rahulsundar/CS6910-DeepLearningFundamentals-Assignment1\" target=\"_blank\">https://wandb.ai/rahulsundar/CS6910-DeepLearningFundamentals-Assignment1</a><br/>\n",
              "                Sweep page: <a href=\"https://wandb.ai/rahulsundar/CS6910-DeepLearningFundamentals-Assignment1/sweeps/vny2mdtz\" target=\"_blank\">https://wandb.ai/rahulsundar/CS6910-DeepLearningFundamentals-Assignment1/sweeps/vny2mdtz</a><br/>\n",
              "Run page: <a href=\"https://wandb.ai/rahulsundar/CS6910-DeepLearningFundamentals-Assignment1/runs/jab3rpp7\" target=\"_blank\">https://wandb.ai/rahulsundar/CS6910-DeepLearningFundamentals-Assignment1/runs/jab3rpp7</a><br/>\n",
              "                Run data is saved locally in <code>/content/wandb/run-20210314_172909-jab3rpp7</code><br/><br/>\n",
              "            "
            ],
            "text/plain": [
              "<IPython.core.display.HTML object>"
            ]
          },
          "metadata": {
            "tags": []
          }
        },
        {
          "output_type": "stream",
          "text": [
            "Epoch: 0, Loss: 6.860e-02, Training accuracy:0.85, Validation Accuracy: 0.84, Time: 111.32, Learning Rate: 1.000e-03\n",
            "Epoch: 1, Loss: 4.111e-02, Training accuracy:0.87, Validation Accuracy: 0.86, Time: 114.62, Learning Rate: 1.000e-03\n",
            "Epoch: 2, Loss: 3.726e-02, Training accuracy:0.87, Validation Accuracy: 0.86, Time: 110.52, Learning Rate: 1.000e-03\n",
            "Epoch: 3, Loss: 3.501e-02, Training accuracy:0.88, Validation Accuracy: 0.87, Time: 109.89, Learning Rate: 1.000e-03\n",
            "Epoch: 4, Loss: 3.336e-02, Training accuracy:0.89, Validation Accuracy: 0.87, Time: 112.67, Learning Rate: 1.000e-03\n",
            "Epoch: 5, Loss: 3.208e-02, Training accuracy:0.89, Validation Accuracy: 0.87, Time: 112.51, Learning Rate: 1.000e-03\n",
            "Epoch: 6, Loss: 3.098e-02, Training accuracy:0.89, Validation Accuracy: 0.88, Time: 109.68, Learning Rate: 1.000e-03\n",
            "Epoch: 7, Loss: 3.004e-02, Training accuracy:0.90, Validation Accuracy: 0.88, Time: 112.20, Learning Rate: 1.000e-03\n",
            "Epoch: 8, Loss: 2.919e-02, Training accuracy:0.90, Validation Accuracy: 0.88, Time: 111.25, Learning Rate: 1.000e-03\n",
            "Epoch: 9, Loss: 2.842e-02, Training accuracy:0.90, Validation Accuracy: 0.88, Time: 113.42, Learning Rate: 1.000e-03\n"
          ],
          "name": "stdout"
        },
        {
          "output_type": "display_data",
          "data": {
            "text/html": [
              "<br/>Waiting for W&B process to finish, PID 3278<br/>Program ended successfully."
            ],
            "text/plain": [
              "<IPython.core.display.HTML object>"
            ]
          },
          "metadata": {
            "tags": []
          }
        },
        {
          "output_type": "display_data",
          "data": {
            "application/vnd.jupyter.widget-view+json": {
              "model_id": "7f73ddaa74e04c5f89a43fd68b9e589d",
              "version_minor": 0,
              "version_major": 2
            },
            "text/plain": [
              "VBox(children=(Label(value=' 0.00MB of 0.00MB uploaded (0.00MB deduped)\\r'), FloatProgress(value=1.0, max=1.0)…"
            ]
          },
          "metadata": {
            "tags": []
          }
        },
        {
          "output_type": "display_data",
          "data": {
            "text/html": [
              "Find user logs for this run at: <code>/content/wandb/run-20210314_172909-jab3rpp7/logs/debug.log</code>"
            ],
            "text/plain": [
              "<IPython.core.display.HTML object>"
            ]
          },
          "metadata": {
            "tags": []
          }
        },
        {
          "output_type": "display_data",
          "data": {
            "text/html": [
              "Find internal logs for this run at: <code>/content/wandb/run-20210314_172909-jab3rpp7/logs/debug-internal.log</code>"
            ],
            "text/plain": [
              "<IPython.core.display.HTML object>"
            ]
          },
          "metadata": {
            "tags": []
          }
        },
        {
          "output_type": "display_data",
          "data": {
            "text/html": [
              "<h3>Run summary:</h3><br/><style>\n",
              "    table.wandb td:nth-child(1) { padding: 0 10px; text-align: right }\n",
              "    </style><table class=\"wandb\">\n",
              "<tr><td>loss</td><td>0.02842</td></tr><tr><td>trainingaccuracy</td><td>0.90309</td></tr><tr><td>validationaccuracy</td><td>0.88083</td></tr><tr><td>epoch</td><td>9</td></tr><tr><td>_runtime</td><td>1227</td></tr><tr><td>_timestamp</td><td>1615744176</td></tr><tr><td>_step</td><td>9</td></tr></table>"
            ],
            "text/plain": [
              "<IPython.core.display.HTML object>"
            ]
          },
          "metadata": {
            "tags": []
          }
        },
        {
          "output_type": "display_data",
          "data": {
            "text/html": [
              "<h3>Run history:</h3><br/><style>\n",
              "    table.wandb td:nth-child(1) { padding: 0 10px; text-align: right }\n",
              "    </style><table class=\"wandb\">\n",
              "<tr><td>loss</td><td>█▃▃▂▂▂▁▁▁▁</td></tr><tr><td>trainingaccuracy</td><td>▁▃▄▅▆▆▇▇██</td></tr><tr><td>validationaccuracy</td><td>▁▄▅▆▆▇▇███</td></tr><tr><td>epoch</td><td>▁▂▃▃▄▅▆▆▇█</td></tr><tr><td>_runtime</td><td>▁▂▃▃▄▅▆▆▇█</td></tr><tr><td>_timestamp</td><td>▁▂▃▃▄▅▆▆▇█</td></tr><tr><td>_step</td><td>▁▂▃▃▄▅▆▆▇█</td></tr></table><br/>"
            ],
            "text/plain": [
              "<IPython.core.display.HTML object>"
            ]
          },
          "metadata": {
            "tags": []
          }
        },
        {
          "output_type": "display_data",
          "data": {
            "text/html": [
              "Synced 5 W&B file(s), 0 media file(s), 0 artifact file(s) and 0 other file(s)"
            ],
            "text/plain": [
              "<IPython.core.display.HTML object>"
            ]
          },
          "metadata": {
            "tags": []
          }
        },
        {
          "output_type": "display_data",
          "data": {
            "text/html": [
              "\n",
              "                    <br/>Synced <strong style=\"color:#cdcd00\">earnest-sweep-17</strong>: <a href=\"https://wandb.ai/rahulsundar/CS6910-DeepLearningFundamentals-Assignment1/runs/jab3rpp7\" target=\"_blank\">https://wandb.ai/rahulsundar/CS6910-DeepLearningFundamentals-Assignment1/runs/jab3rpp7</a><br/>\n",
              "                "
            ],
            "text/plain": [
              "<IPython.core.display.HTML object>"
            ]
          },
          "metadata": {
            "tags": []
          }
        },
        {
          "output_type": "stream",
          "text": [
            "\u001b[34m\u001b[1mwandb\u001b[0m: Agent Starting Run: food6oeb with config:\n",
            "\u001b[34m\u001b[1mwandb\u001b[0m: \tactivation: RELU\n",
            "\u001b[34m\u001b[1mwandb\u001b[0m: \tbatch_size: 32\n",
            "\u001b[34m\u001b[1mwandb\u001b[0m: \tinitializer: HE\n",
            "\u001b[34m\u001b[1mwandb\u001b[0m: \tlearning_rate: 0.0001\n",
            "\u001b[34m\u001b[1mwandb\u001b[0m: \tmax_epochs: 10\n",
            "\u001b[34m\u001b[1mwandb\u001b[0m: \tnum_hidden_neurons: 128\n",
            "\u001b[34m\u001b[1mwandb\u001b[0m: \tnum_layers: 3\n",
            "\u001b[34m\u001b[1mwandb\u001b[0m: \toptimizer: NADAM\n",
            "\u001b[34m\u001b[1mwandb\u001b[0m: \tweight_decay: 0.0005\n"
          ],
          "name": "stderr"
        },
        {
          "output_type": "display_data",
          "data": {
            "text/html": [
              "\n",
              "                Tracking run with wandb version 0.10.22<br/>\n",
              "                Syncing run <strong style=\"color:#cdcd00\">sweepy-sweep-18</strong> to <a href=\"https://wandb.ai\" target=\"_blank\">Weights & Biases</a> <a href=\"https://docs.wandb.com/integrations/jupyter.html\" target=\"_blank\">(Documentation)</a>.<br/>\n",
              "                Project page: <a href=\"https://wandb.ai/rahulsundar/CS6910-DeepLearningFundamentals-Assignment1\" target=\"_blank\">https://wandb.ai/rahulsundar/CS6910-DeepLearningFundamentals-Assignment1</a><br/>\n",
              "                Sweep page: <a href=\"https://wandb.ai/rahulsundar/CS6910-DeepLearningFundamentals-Assignment1/sweeps/vny2mdtz\" target=\"_blank\">https://wandb.ai/rahulsundar/CS6910-DeepLearningFundamentals-Assignment1/sweeps/vny2mdtz</a><br/>\n",
              "Run page: <a href=\"https://wandb.ai/rahulsundar/CS6910-DeepLearningFundamentals-Assignment1/runs/food6oeb\" target=\"_blank\">https://wandb.ai/rahulsundar/CS6910-DeepLearningFundamentals-Assignment1/runs/food6oeb</a><br/>\n",
              "                Run data is saved locally in <code>/content/wandb/run-20210314_174946-food6oeb</code><br/><br/>\n",
              "            "
            ],
            "text/plain": [
              "<IPython.core.display.HTML object>"
            ]
          },
          "metadata": {
            "tags": []
          }
        },
        {
          "output_type": "stream",
          "text": [
            "Epoch: 0, Loss: 6.009e-02, Training accuracy:0.85, Validation Accuracy: 0.84, Time: 120.93, Learning Rate: 1.000e-04\n",
            "Epoch: 1, Loss: 4.266e-02, Training accuracy:0.86, Validation Accuracy: 0.85, Time: 122.36, Learning Rate: 1.000e-04\n",
            "Epoch: 2, Loss: 3.916e-02, Training accuracy:0.87, Validation Accuracy: 0.86, Time: 121.91, Learning Rate: 1.000e-04\n",
            "Epoch: 3, Loss: 3.703e-02, Training accuracy:0.88, Validation Accuracy: 0.86, Time: 123.00, Learning Rate: 1.000e-04\n",
            "Epoch: 4, Loss: 3.546e-02, Training accuracy:0.88, Validation Accuracy: 0.87, Time: 123.24, Learning Rate: 1.000e-04\n",
            "Epoch: 5, Loss: 3.421e-02, Training accuracy:0.88, Validation Accuracy: 0.87, Time: 122.44, Learning Rate: 1.000e-04\n",
            "Epoch: 6, Loss: 3.318e-02, Training accuracy:0.89, Validation Accuracy: 0.87, Time: 123.58, Learning Rate: 1.000e-04\n",
            "Epoch: 7, Loss: 3.228e-02, Training accuracy:0.89, Validation Accuracy: 0.87, Time: 121.92, Learning Rate: 1.000e-04\n",
            "Epoch: 8, Loss: 3.149e-02, Training accuracy:0.89, Validation Accuracy: 0.87, Time: 123.79, Learning Rate: 1.000e-04\n",
            "Epoch: 9, Loss: 3.078e-02, Training accuracy:0.89, Validation Accuracy: 0.87, Time: 127.43, Learning Rate: 1.000e-04\n"
          ],
          "name": "stdout"
        },
        {
          "output_type": "display_data",
          "data": {
            "text/html": [
              "<br/>Waiting for W&B process to finish, PID 3339<br/>Program ended successfully."
            ],
            "text/plain": [
              "<IPython.core.display.HTML object>"
            ]
          },
          "metadata": {
            "tags": []
          }
        },
        {
          "output_type": "display_data",
          "data": {
            "application/vnd.jupyter.widget-view+json": {
              "model_id": "e4c12149d3ff4045bdcde589864504a8",
              "version_minor": 0,
              "version_major": 2
            },
            "text/plain": [
              "VBox(children=(Label(value=' 0.00MB of 0.00MB uploaded (0.00MB deduped)\\r'), FloatProgress(value=1.0, max=1.0)…"
            ]
          },
          "metadata": {
            "tags": []
          }
        },
        {
          "output_type": "display_data",
          "data": {
            "text/html": [
              "Find user logs for this run at: <code>/content/wandb/run-20210314_174946-food6oeb/logs/debug.log</code>"
            ],
            "text/plain": [
              "<IPython.core.display.HTML object>"
            ]
          },
          "metadata": {
            "tags": []
          }
        },
        {
          "output_type": "display_data",
          "data": {
            "text/html": [
              "Find internal logs for this run at: <code>/content/wandb/run-20210314_174946-food6oeb/logs/debug-internal.log</code>"
            ],
            "text/plain": [
              "<IPython.core.display.HTML object>"
            ]
          },
          "metadata": {
            "tags": []
          }
        },
        {
          "output_type": "display_data",
          "data": {
            "text/html": [
              "<h3>Run summary:</h3><br/><style>\n",
              "    table.wandb td:nth-child(1) { padding: 0 10px; text-align: right }\n",
              "    </style><table class=\"wandb\">\n",
              "<tr><td>loss</td><td>0.03078</td></tr><tr><td>trainingaccuracy</td><td>0.89496</td></tr><tr><td>validationaccuracy</td><td>0.87417</td></tr><tr><td>epoch</td><td>9</td></tr><tr><td>_runtime</td><td>1356</td></tr><tr><td>_timestamp</td><td>1615745542</td></tr><tr><td>_step</td><td>9</td></tr></table>"
            ],
            "text/plain": [
              "<IPython.core.display.HTML object>"
            ]
          },
          "metadata": {
            "tags": []
          }
        },
        {
          "output_type": "display_data",
          "data": {
            "text/html": [
              "<h3>Run history:</h3><br/><style>\n",
              "    table.wandb td:nth-child(1) { padding: 0 10px; text-align: right }\n",
              "    </style><table class=\"wandb\">\n",
              "<tr><td>loss</td><td>█▄▃▂▂▂▂▁▁▁</td></tr><tr><td>trainingaccuracy</td><td>▁▃▅▅▆▇▇▇██</td></tr><tr><td>validationaccuracy</td><td>▁▄▅▆▇▇▇███</td></tr><tr><td>epoch</td><td>▁▂▃▃▄▅▆▆▇█</td></tr><tr><td>_runtime</td><td>▁▂▃▃▄▅▆▆▇█</td></tr><tr><td>_timestamp</td><td>▁▂▃▃▄▅▆▆▇█</td></tr><tr><td>_step</td><td>▁▂▃▃▄▅▆▆▇█</td></tr></table><br/>"
            ],
            "text/plain": [
              "<IPython.core.display.HTML object>"
            ]
          },
          "metadata": {
            "tags": []
          }
        },
        {
          "output_type": "display_data",
          "data": {
            "text/html": [
              "Synced 5 W&B file(s), 0 media file(s), 0 artifact file(s) and 0 other file(s)"
            ],
            "text/plain": [
              "<IPython.core.display.HTML object>"
            ]
          },
          "metadata": {
            "tags": []
          }
        },
        {
          "output_type": "display_data",
          "data": {
            "text/html": [
              "\n",
              "                    <br/>Synced <strong style=\"color:#cdcd00\">sweepy-sweep-18</strong>: <a href=\"https://wandb.ai/rahulsundar/CS6910-DeepLearningFundamentals-Assignment1/runs/food6oeb\" target=\"_blank\">https://wandb.ai/rahulsundar/CS6910-DeepLearningFundamentals-Assignment1/runs/food6oeb</a><br/>\n",
              "                "
            ],
            "text/plain": [
              "<IPython.core.display.HTML object>"
            ]
          },
          "metadata": {
            "tags": []
          }
        },
        {
          "output_type": "stream",
          "text": [
            "\u001b[34m\u001b[1mwandb\u001b[0m: Agent Starting Run: x6ptuxb0 with config:\n",
            "\u001b[34m\u001b[1mwandb\u001b[0m: \tactivation: SIGMOID\n",
            "\u001b[34m\u001b[1mwandb\u001b[0m: \tbatch_size: 32\n",
            "\u001b[34m\u001b[1mwandb\u001b[0m: \tinitializer: XAVIER\n",
            "\u001b[34m\u001b[1mwandb\u001b[0m: \tlearning_rate: 0.0001\n",
            "\u001b[34m\u001b[1mwandb\u001b[0m: \tmax_epochs: 10\n",
            "\u001b[34m\u001b[1mwandb\u001b[0m: \tnum_hidden_neurons: 128\n",
            "\u001b[34m\u001b[1mwandb\u001b[0m: \tnum_layers: 3\n",
            "\u001b[34m\u001b[1mwandb\u001b[0m: \toptimizer: ADAM\n",
            "\u001b[34m\u001b[1mwandb\u001b[0m: \tweight_decay: 0\n"
          ],
          "name": "stderr"
        },
        {
          "output_type": "display_data",
          "data": {
            "text/html": [
              "\n",
              "                Tracking run with wandb version 0.10.22<br/>\n",
              "                Syncing run <strong style=\"color:#cdcd00\">proud-sweep-19</strong> to <a href=\"https://wandb.ai\" target=\"_blank\">Weights & Biases</a> <a href=\"https://docs.wandb.com/integrations/jupyter.html\" target=\"_blank\">(Documentation)</a>.<br/>\n",
              "                Project page: <a href=\"https://wandb.ai/rahulsundar/CS6910-DeepLearningFundamentals-Assignment1\" target=\"_blank\">https://wandb.ai/rahulsundar/CS6910-DeepLearningFundamentals-Assignment1</a><br/>\n",
              "                Sweep page: <a href=\"https://wandb.ai/rahulsundar/CS6910-DeepLearningFundamentals-Assignment1/sweeps/vny2mdtz\" target=\"_blank\">https://wandb.ai/rahulsundar/CS6910-DeepLearningFundamentals-Assignment1/sweeps/vny2mdtz</a><br/>\n",
              "Run page: <a href=\"https://wandb.ai/rahulsundar/CS6910-DeepLearningFundamentals-Assignment1/runs/x6ptuxb0\" target=\"_blank\">https://wandb.ai/rahulsundar/CS6910-DeepLearningFundamentals-Assignment1/runs/x6ptuxb0</a><br/>\n",
              "                Run data is saved locally in <code>/content/wandb/run-20210314_181232-x6ptuxb0</code><br/><br/>\n",
              "            "
            ],
            "text/plain": [
              "<IPython.core.display.HTML object>"
            ]
          },
          "metadata": {
            "tags": []
          }
        },
        {
          "output_type": "stream",
          "text": [
            "Epoch: 0, Loss: 6.346e-02, Training accuracy:0.84, Validation Accuracy: 0.84, Time: 118.32, Learning Rate: 1.000e-04\n",
            "Epoch: 1, Loss: 3.940e-02, Training accuracy:0.87, Validation Accuracy: 0.86, Time: 117.01, Learning Rate: 1.000e-04\n",
            "Epoch: 2, Loss: 3.589e-02, Training accuracy:0.88, Validation Accuracy: 0.87, Time: 116.58, Learning Rate: 1.000e-04\n",
            "Epoch: 3, Loss: 3.399e-02, Training accuracy:0.88, Validation Accuracy: 0.87, Time: 117.23, Learning Rate: 1.000e-04\n",
            "Epoch: 4, Loss: 3.271e-02, Training accuracy:0.89, Validation Accuracy: 0.88, Time: 116.40, Learning Rate: 1.000e-04\n",
            "Epoch: 5, Loss: 3.175e-02, Training accuracy:0.89, Validation Accuracy: 0.88, Time: 119.72, Learning Rate: 1.000e-04\n",
            "Epoch: 6, Loss: 3.097e-02, Training accuracy:0.89, Validation Accuracy: 0.88, Time: 114.26, Learning Rate: 1.000e-04\n",
            "Epoch: 7, Loss: 3.032e-02, Training accuracy:0.89, Validation Accuracy: 0.88, Time: 117.70, Learning Rate: 1.000e-04\n",
            "Epoch: 8, Loss: 2.976e-02, Training accuracy:0.90, Validation Accuracy: 0.88, Time: 120.47, Learning Rate: 1.000e-04\n",
            "Epoch: 9, Loss: 2.926e-02, Training accuracy:0.90, Validation Accuracy: 0.88, Time: 117.43, Learning Rate: 1.000e-04\n"
          ],
          "name": "stdout"
        },
        {
          "output_type": "display_data",
          "data": {
            "text/html": [
              "<br/>Waiting for W&B process to finish, PID 3400<br/>Program ended successfully."
            ],
            "text/plain": [
              "<IPython.core.display.HTML object>"
            ]
          },
          "metadata": {
            "tags": []
          }
        },
        {
          "output_type": "display_data",
          "data": {
            "application/vnd.jupyter.widget-view+json": {
              "model_id": "be8cdaa039714ecfa7305bb0bcfb8b57",
              "version_minor": 0,
              "version_major": 2
            },
            "text/plain": [
              "VBox(children=(Label(value=' 0.00MB of 0.00MB uploaded (0.00MB deduped)\\r'), FloatProgress(value=1.0, max=1.0)…"
            ]
          },
          "metadata": {
            "tags": []
          }
        },
        {
          "output_type": "display_data",
          "data": {
            "text/html": [
              "Find user logs for this run at: <code>/content/wandb/run-20210314_181232-x6ptuxb0/logs/debug.log</code>"
            ],
            "text/plain": [
              "<IPython.core.display.HTML object>"
            ]
          },
          "metadata": {
            "tags": []
          }
        },
        {
          "output_type": "display_data",
          "data": {
            "text/html": [
              "Find internal logs for this run at: <code>/content/wandb/run-20210314_181232-x6ptuxb0/logs/debug-internal.log</code>"
            ],
            "text/plain": [
              "<IPython.core.display.HTML object>"
            ]
          },
          "metadata": {
            "tags": []
          }
        },
        {
          "output_type": "display_data",
          "data": {
            "text/html": [
              "<h3>Run summary:</h3><br/><style>\n",
              "    table.wandb td:nth-child(1) { padding: 0 10px; text-align: right }\n",
              "    </style><table class=\"wandb\">\n",
              "<tr><td>loss</td><td>0.02926</td></tr><tr><td>trainingaccuracy</td><td>0.89835</td></tr><tr><td>validationaccuracy</td><td>0.88083</td></tr><tr><td>epoch</td><td>9</td></tr><tr><td>_runtime</td><td>1284</td></tr><tr><td>_timestamp</td><td>1615746836</td></tr><tr><td>_step</td><td>9</td></tr></table>"
            ],
            "text/plain": [
              "<IPython.core.display.HTML object>"
            ]
          },
          "metadata": {
            "tags": []
          }
        },
        {
          "output_type": "display_data",
          "data": {
            "text/html": [
              "<h3>Run history:</h3><br/><style>\n",
              "    table.wandb td:nth-child(1) { padding: 0 10px; text-align: right }\n",
              "    </style><table class=\"wandb\">\n",
              "<tr><td>loss</td><td>█▃▂▂▂▂▁▁▁▁</td></tr><tr><td>trainingaccuracy</td><td>▁▄▆▆▇▇▇███</td></tr><tr><td>validationaccuracy</td><td>▁▅▆▇▇█████</td></tr><tr><td>epoch</td><td>▁▂▃▃▄▅▆▆▇█</td></tr><tr><td>_runtime</td><td>▁▂▃▃▄▅▆▆▇█</td></tr><tr><td>_timestamp</td><td>▁▂▃▃▄▅▆▆▇█</td></tr><tr><td>_step</td><td>▁▂▃▃▄▅▆▆▇█</td></tr></table><br/>"
            ],
            "text/plain": [
              "<IPython.core.display.HTML object>"
            ]
          },
          "metadata": {
            "tags": []
          }
        },
        {
          "output_type": "display_data",
          "data": {
            "text/html": [
              "Synced 5 W&B file(s), 0 media file(s), 0 artifact file(s) and 0 other file(s)"
            ],
            "text/plain": [
              "<IPython.core.display.HTML object>"
            ]
          },
          "metadata": {
            "tags": []
          }
        },
        {
          "output_type": "display_data",
          "data": {
            "text/html": [
              "\n",
              "                    <br/>Synced <strong style=\"color:#cdcd00\">proud-sweep-19</strong>: <a href=\"https://wandb.ai/rahulsundar/CS6910-DeepLearningFundamentals-Assignment1/runs/x6ptuxb0\" target=\"_blank\">https://wandb.ai/rahulsundar/CS6910-DeepLearningFundamentals-Assignment1/runs/x6ptuxb0</a><br/>\n",
              "                "
            ],
            "text/plain": [
              "<IPython.core.display.HTML object>"
            ]
          },
          "metadata": {
            "tags": []
          }
        },
        {
          "output_type": "stream",
          "text": [
            "\u001b[34m\u001b[1mwandb\u001b[0m: Agent Starting Run: vezc5j2n with config:\n",
            "\u001b[34m\u001b[1mwandb\u001b[0m: \tactivation: SIGMOID\n",
            "\u001b[34m\u001b[1mwandb\u001b[0m: \tbatch_size: 32\n",
            "\u001b[34m\u001b[1mwandb\u001b[0m: \tinitializer: XAVIER\n",
            "\u001b[34m\u001b[1mwandb\u001b[0m: \tlearning_rate: 0.0001\n",
            "\u001b[34m\u001b[1mwandb\u001b[0m: \tmax_epochs: 10\n",
            "\u001b[34m\u001b[1mwandb\u001b[0m: \tnum_hidden_neurons: 128\n",
            "\u001b[34m\u001b[1mwandb\u001b[0m: \tnum_layers: 3\n",
            "\u001b[34m\u001b[1mwandb\u001b[0m: \toptimizer: ADAM\n",
            "\u001b[34m\u001b[1mwandb\u001b[0m: \tweight_decay: 0\n"
          ],
          "name": "stderr"
        },
        {
          "output_type": "display_data",
          "data": {
            "text/html": [
              "\n",
              "                Tracking run with wandb version 0.10.22<br/>\n",
              "                Syncing run <strong style=\"color:#cdcd00\">elated-sweep-20</strong> to <a href=\"https://wandb.ai\" target=\"_blank\">Weights & Biases</a> <a href=\"https://docs.wandb.com/integrations/jupyter.html\" target=\"_blank\">(Documentation)</a>.<br/>\n",
              "                Project page: <a href=\"https://wandb.ai/rahulsundar/CS6910-DeepLearningFundamentals-Assignment1\" target=\"_blank\">https://wandb.ai/rahulsundar/CS6910-DeepLearningFundamentals-Assignment1</a><br/>\n",
              "                Sweep page: <a href=\"https://wandb.ai/rahulsundar/CS6910-DeepLearningFundamentals-Assignment1/sweeps/vny2mdtz\" target=\"_blank\">https://wandb.ai/rahulsundar/CS6910-DeepLearningFundamentals-Assignment1/sweeps/vny2mdtz</a><br/>\n",
              "Run page: <a href=\"https://wandb.ai/rahulsundar/CS6910-DeepLearningFundamentals-Assignment1/runs/vezc5j2n\" target=\"_blank\">https://wandb.ai/rahulsundar/CS6910-DeepLearningFundamentals-Assignment1/runs/vezc5j2n</a><br/>\n",
              "                Run data is saved locally in <code>/content/wandb/run-20210314_183405-vezc5j2n</code><br/><br/>\n",
              "            "
            ],
            "text/plain": [
              "<IPython.core.display.HTML object>"
            ]
          },
          "metadata": {
            "tags": []
          }
        },
        {
          "output_type": "stream",
          "text": [
            "Epoch: 0, Loss: 6.423e-02, Training accuracy:0.85, Validation Accuracy: 0.84, Time: 118.89, Learning Rate: 1.000e-04\n",
            "Epoch: 1, Loss: 3.914e-02, Training accuracy:0.87, Validation Accuracy: 0.86, Time: 116.87, Learning Rate: 1.000e-04\n",
            "Epoch: 2, Loss: 3.569e-02, Training accuracy:0.88, Validation Accuracy: 0.87, Time: 117.96, Learning Rate: 1.000e-04\n",
            "Epoch: 3, Loss: 3.381e-02, Training accuracy:0.88, Validation Accuracy: 0.87, Time: 118.34, Learning Rate: 1.000e-04\n",
            "Epoch: 4, Loss: 3.252e-02, Training accuracy:0.89, Validation Accuracy: 0.87, Time: 118.54, Learning Rate: 1.000e-04\n",
            "Epoch: 5, Loss: 3.154e-02, Training accuracy:0.89, Validation Accuracy: 0.88, Time: 117.66, Learning Rate: 1.000e-04\n",
            "Epoch: 6, Loss: 3.076e-02, Training accuracy:0.89, Validation Accuracy: 0.88, Time: 115.71, Learning Rate: 1.000e-04\n",
            "Epoch: 7, Loss: 3.010e-02, Training accuracy:0.90, Validation Accuracy: 0.88, Time: 118.00, Learning Rate: 1.000e-04\n",
            "Epoch: 8, Loss: 2.954e-02, Training accuracy:0.90, Validation Accuracy: 0.88, Time: 115.78, Learning Rate: 1.000e-04\n",
            "Epoch: 9, Loss: 2.904e-02, Training accuracy:0.90, Validation Accuracy: 0.88, Time: 109.64, Learning Rate: 1.000e-04\n"
          ],
          "name": "stdout"
        },
        {
          "output_type": "display_data",
          "data": {
            "text/html": [
              "<br/>Waiting for W&B process to finish, PID 3433<br/>Program ended successfully."
            ],
            "text/plain": [
              "<IPython.core.display.HTML object>"
            ]
          },
          "metadata": {
            "tags": []
          }
        },
        {
          "output_type": "display_data",
          "data": {
            "application/vnd.jupyter.widget-view+json": {
              "model_id": "d7eec64506d34345842bd9ff540ccba5",
              "version_minor": 0,
              "version_major": 2
            },
            "text/plain": [
              "VBox(children=(Label(value=' 0.00MB of 0.00MB uploaded (0.00MB deduped)\\r'), FloatProgress(value=1.0, max=1.0)…"
            ]
          },
          "metadata": {
            "tags": []
          }
        },
        {
          "output_type": "display_data",
          "data": {
            "text/html": [
              "Find user logs for this run at: <code>/content/wandb/run-20210314_183405-vezc5j2n/logs/debug.log</code>"
            ],
            "text/plain": [
              "<IPython.core.display.HTML object>"
            ]
          },
          "metadata": {
            "tags": []
          }
        },
        {
          "output_type": "display_data",
          "data": {
            "text/html": [
              "Find internal logs for this run at: <code>/content/wandb/run-20210314_183405-vezc5j2n/logs/debug-internal.log</code>"
            ],
            "text/plain": [
              "<IPython.core.display.HTML object>"
            ]
          },
          "metadata": {
            "tags": []
          }
        },
        {
          "output_type": "display_data",
          "data": {
            "text/html": [
              "<h3>Run summary:</h3><br/><style>\n",
              "    table.wandb td:nth-child(1) { padding: 0 10px; text-align: right }\n",
              "    </style><table class=\"wandb\">\n",
              "<tr><td>loss</td><td>0.02904</td></tr><tr><td>trainingaccuracy</td><td>0.89859</td></tr><tr><td>validationaccuracy</td><td>0.8825</td></tr><tr><td>epoch</td><td>9</td></tr><tr><td>_runtime</td><td>1275</td></tr><tr><td>_timestamp</td><td>1615748120</td></tr><tr><td>_step</td><td>9</td></tr></table>"
            ],
            "text/plain": [
              "<IPython.core.display.HTML object>"
            ]
          },
          "metadata": {
            "tags": []
          }
        },
        {
          "output_type": "display_data",
          "data": {
            "text/html": [
              "<h3>Run history:</h3><br/><style>\n",
              "    table.wandb td:nth-child(1) { padding: 0 10px; text-align: right }\n",
              "    </style><table class=\"wandb\">\n",
              "<tr><td>loss</td><td>█▃▂▂▂▁▁▁▁▁</td></tr><tr><td>trainingaccuracy</td><td>▁▄▅▆▇▇▇███</td></tr><tr><td>validationaccuracy</td><td>▁▅▆▇▇▇▇███</td></tr><tr><td>epoch</td><td>▁▂▃▃▄▅▆▆▇█</td></tr><tr><td>_runtime</td><td>▁▂▃▃▄▅▆▆▇█</td></tr><tr><td>_timestamp</td><td>▁▂▃▃▄▅▆▆▇█</td></tr><tr><td>_step</td><td>▁▂▃▃▄▅▆▆▇█</td></tr></table><br/>"
            ],
            "text/plain": [
              "<IPython.core.display.HTML object>"
            ]
          },
          "metadata": {
            "tags": []
          }
        },
        {
          "output_type": "display_data",
          "data": {
            "text/html": [
              "Synced 5 W&B file(s), 0 media file(s), 0 artifact file(s) and 0 other file(s)"
            ],
            "text/plain": [
              "<IPython.core.display.HTML object>"
            ]
          },
          "metadata": {
            "tags": []
          }
        },
        {
          "output_type": "display_data",
          "data": {
            "text/html": [
              "\n",
              "                    <br/>Synced <strong style=\"color:#cdcd00\">elated-sweep-20</strong>: <a href=\"https://wandb.ai/rahulsundar/CS6910-DeepLearningFundamentals-Assignment1/runs/vezc5j2n\" target=\"_blank\">https://wandb.ai/rahulsundar/CS6910-DeepLearningFundamentals-Assignment1/runs/vezc5j2n</a><br/>\n",
              "                "
            ],
            "text/plain": [
              "<IPython.core.display.HTML object>"
            ]
          },
          "metadata": {
            "tags": []
          }
        },
        {
          "output_type": "stream",
          "text": [
            "\u001b[34m\u001b[1mwandb\u001b[0m: Agent Starting Run: 0i8gldxu with config:\n",
            "\u001b[34m\u001b[1mwandb\u001b[0m: \tactivation: RELU\n",
            "\u001b[34m\u001b[1mwandb\u001b[0m: \tbatch_size: 64\n",
            "\u001b[34m\u001b[1mwandb\u001b[0m: \tinitializer: HE\n",
            "\u001b[34m\u001b[1mwandb\u001b[0m: \tlearning_rate: 0.001\n",
            "\u001b[34m\u001b[1mwandb\u001b[0m: \tmax_epochs: 10\n",
            "\u001b[34m\u001b[1mwandb\u001b[0m: \tnum_hidden_neurons: 64\n",
            "\u001b[34m\u001b[1mwandb\u001b[0m: \tnum_layers: 4\n",
            "\u001b[34m\u001b[1mwandb\u001b[0m: \toptimizer: NADAM\n",
            "\u001b[34m\u001b[1mwandb\u001b[0m: \tweight_decay: 0\n"
          ],
          "name": "stderr"
        },
        {
          "output_type": "display_data",
          "data": {
            "text/html": [
              "\n",
              "                Tracking run with wandb version 0.10.22<br/>\n",
              "                Syncing run <strong style=\"color:#cdcd00\">firm-sweep-21</strong> to <a href=\"https://wandb.ai\" target=\"_blank\">Weights & Biases</a> <a href=\"https://docs.wandb.com/integrations/jupyter.html\" target=\"_blank\">(Documentation)</a>.<br/>\n",
              "                Project page: <a href=\"https://wandb.ai/rahulsundar/CS6910-DeepLearningFundamentals-Assignment1\" target=\"_blank\">https://wandb.ai/rahulsundar/CS6910-DeepLearningFundamentals-Assignment1</a><br/>\n",
              "                Sweep page: <a href=\"https://wandb.ai/rahulsundar/CS6910-DeepLearningFundamentals-Assignment1/sweeps/vny2mdtz\" target=\"_blank\">https://wandb.ai/rahulsundar/CS6910-DeepLearningFundamentals-Assignment1/sweeps/vny2mdtz</a><br/>\n",
              "Run page: <a href=\"https://wandb.ai/rahulsundar/CS6910-DeepLearningFundamentals-Assignment1/runs/0i8gldxu\" target=\"_blank\">https://wandb.ai/rahulsundar/CS6910-DeepLearningFundamentals-Assignment1/runs/0i8gldxu</a><br/>\n",
              "                Run data is saved locally in <code>/content/wandb/run-20210314_185529-0i8gldxu</code><br/><br/>\n",
              "            "
            ],
            "text/plain": [
              "<IPython.core.display.HTML object>"
            ]
          },
          "metadata": {
            "tags": []
          }
        },
        {
          "output_type": "stream",
          "text": [
            "Epoch: 0, Loss: 5.314e-02, Training accuracy:0.85, Validation Accuracy: 0.85, Time: 74.49, Learning Rate: 1.000e-03\n",
            "Epoch: 1, Loss: 3.839e-02, Training accuracy:0.87, Validation Accuracy: 0.86, Time: 75.22, Learning Rate: 1.000e-03\n",
            "Epoch: 2, Loss: 3.445e-02, Training accuracy:0.89, Validation Accuracy: 0.87, Time: 74.90, Learning Rate: 1.000e-03\n",
            "Epoch: 3, Loss: 3.199e-02, Training accuracy:0.89, Validation Accuracy: 0.88, Time: 76.00, Learning Rate: 1.000e-03\n",
            "Epoch: 4, Loss: 3.026e-02, Training accuracy:0.90, Validation Accuracy: 0.88, Time: 75.77, Learning Rate: 1.000e-03\n",
            "Epoch: 5, Loss: 2.877e-02, Training accuracy:0.90, Validation Accuracy: 0.88, Time: 75.71, Learning Rate: 1.000e-03\n",
            "Epoch: 6, Loss: 2.757e-02, Training accuracy:0.90, Validation Accuracy: 0.88, Time: 75.48, Learning Rate: 1.000e-03\n",
            "Epoch: 7, Loss: 2.646e-02, Training accuracy:0.91, Validation Accuracy: 0.89, Time: 74.22, Learning Rate: 1.000e-03\n",
            "Epoch: 8, Loss: 2.558e-02, Training accuracy:0.91, Validation Accuracy: 0.89, Time: 73.63, Learning Rate: 1.000e-03\n",
            "Epoch: 9, Loss: 2.472e-02, Training accuracy:0.91, Validation Accuracy: 0.89, Time: 75.25, Learning Rate: 1.000e-03\n"
          ],
          "name": "stdout"
        },
        {
          "output_type": "display_data",
          "data": {
            "text/html": [
              "<br/>Waiting for W&B process to finish, PID 3518<br/>Program ended successfully."
            ],
            "text/plain": [
              "<IPython.core.display.HTML object>"
            ]
          },
          "metadata": {
            "tags": []
          }
        },
        {
          "output_type": "display_data",
          "data": {
            "application/vnd.jupyter.widget-view+json": {
              "model_id": "b4e7479818fc4b1aaaeb5ca4afd01421",
              "version_minor": 0,
              "version_major": 2
            },
            "text/plain": [
              "VBox(children=(Label(value=' 0.00MB of 0.00MB uploaded (0.00MB deduped)\\r'), FloatProgress(value=1.0, max=1.0)…"
            ]
          },
          "metadata": {
            "tags": []
          }
        },
        {
          "output_type": "display_data",
          "data": {
            "text/html": [
              "Find user logs for this run at: <code>/content/wandb/run-20210314_185529-0i8gldxu/logs/debug.log</code>"
            ],
            "text/plain": [
              "<IPython.core.display.HTML object>"
            ]
          },
          "metadata": {
            "tags": []
          }
        },
        {
          "output_type": "display_data",
          "data": {
            "text/html": [
              "Find internal logs for this run at: <code>/content/wandb/run-20210314_185529-0i8gldxu/logs/debug-internal.log</code>"
            ],
            "text/plain": [
              "<IPython.core.display.HTML object>"
            ]
          },
          "metadata": {
            "tags": []
          }
        },
        {
          "output_type": "display_data",
          "data": {
            "text/html": [
              "<h3>Run summary:</h3><br/><style>\n",
              "    table.wandb td:nth-child(1) { padding: 0 10px; text-align: right }\n",
              "    </style><table class=\"wandb\">\n",
              "<tr><td>loss</td><td>0.02472</td></tr><tr><td>trainingaccuracy</td><td>0.90983</td></tr><tr><td>validationaccuracy</td><td>0.88717</td></tr><tr><td>epoch</td><td>9</td></tr><tr><td>_runtime</td><td>845</td></tr><tr><td>_timestamp</td><td>1615748974</td></tr><tr><td>_step</td><td>9</td></tr></table>"
            ],
            "text/plain": [
              "<IPython.core.display.HTML object>"
            ]
          },
          "metadata": {
            "tags": []
          }
        },
        {
          "output_type": "display_data",
          "data": {
            "text/html": [
              "<h3>Run history:</h3><br/><style>\n",
              "    table.wandb td:nth-child(1) { padding: 0 10px; text-align: right }\n",
              "    </style><table class=\"wandb\">\n",
              "<tr><td>loss</td><td>█▄▃▃▂▂▂▁▁▁</td></tr><tr><td>trainingaccuracy</td><td>▁▄▅▆▆▇▇███</td></tr><tr><td>validationaccuracy</td><td>▁▄▆▆▇▇▇███</td></tr><tr><td>epoch</td><td>▁▂▃▃▄▅▆▆▇█</td></tr><tr><td>_runtime</td><td>▁▂▃▃▄▅▆▆▇█</td></tr><tr><td>_timestamp</td><td>▁▂▃▃▄▅▆▆▇█</td></tr><tr><td>_step</td><td>▁▂▃▃▄▅▆▆▇█</td></tr></table><br/>"
            ],
            "text/plain": [
              "<IPython.core.display.HTML object>"
            ]
          },
          "metadata": {
            "tags": []
          }
        },
        {
          "output_type": "display_data",
          "data": {
            "text/html": [
              "Synced 5 W&B file(s), 0 media file(s), 0 artifact file(s) and 0 other file(s)"
            ],
            "text/plain": [
              "<IPython.core.display.HTML object>"
            ]
          },
          "metadata": {
            "tags": []
          }
        },
        {
          "output_type": "display_data",
          "data": {
            "text/html": [
              "\n",
              "                    <br/>Synced <strong style=\"color:#cdcd00\">firm-sweep-21</strong>: <a href=\"https://wandb.ai/rahulsundar/CS6910-DeepLearningFundamentals-Assignment1/runs/0i8gldxu\" target=\"_blank\">https://wandb.ai/rahulsundar/CS6910-DeepLearningFundamentals-Assignment1/runs/0i8gldxu</a><br/>\n",
              "                "
            ],
            "text/plain": [
              "<IPython.core.display.HTML object>"
            ]
          },
          "metadata": {
            "tags": []
          }
        },
        {
          "output_type": "stream",
          "text": [
            "\u001b[34m\u001b[1mwandb\u001b[0m: Agent Starting Run: 41xi5lzw with config:\n",
            "\u001b[34m\u001b[1mwandb\u001b[0m: \tactivation: TANH\n",
            "\u001b[34m\u001b[1mwandb\u001b[0m: \tbatch_size: 32\n",
            "\u001b[34m\u001b[1mwandb\u001b[0m: \tinitializer: HE\n",
            "\u001b[34m\u001b[1mwandb\u001b[0m: \tlearning_rate: 0.0001\n",
            "\u001b[34m\u001b[1mwandb\u001b[0m: \tmax_epochs: 10\n",
            "\u001b[34m\u001b[1mwandb\u001b[0m: \tnum_hidden_neurons: 128\n",
            "\u001b[34m\u001b[1mwandb\u001b[0m: \tnum_layers: 2\n",
            "\u001b[34m\u001b[1mwandb\u001b[0m: \toptimizer: NADAM\n",
            "\u001b[34m\u001b[1mwandb\u001b[0m: \tweight_decay: 0.0005\n"
          ],
          "name": "stderr"
        },
        {
          "output_type": "display_data",
          "data": {
            "text/html": [
              "\n",
              "                Tracking run with wandb version 0.10.22<br/>\n",
              "                Syncing run <strong style=\"color:#cdcd00\">sleek-sweep-22</strong> to <a href=\"https://wandb.ai\" target=\"_blank\">Weights & Biases</a> <a href=\"https://docs.wandb.com/integrations/jupyter.html\" target=\"_blank\">(Documentation)</a>.<br/>\n",
              "                Project page: <a href=\"https://wandb.ai/rahulsundar/CS6910-DeepLearningFundamentals-Assignment1\" target=\"_blank\">https://wandb.ai/rahulsundar/CS6910-DeepLearningFundamentals-Assignment1</a><br/>\n",
              "                Sweep page: <a href=\"https://wandb.ai/rahulsundar/CS6910-DeepLearningFundamentals-Assignment1/sweeps/vny2mdtz\" target=\"_blank\">https://wandb.ai/rahulsundar/CS6910-DeepLearningFundamentals-Assignment1/sweeps/vny2mdtz</a><br/>\n",
              "Run page: <a href=\"https://wandb.ai/rahulsundar/CS6910-DeepLearningFundamentals-Assignment1/runs/41xi5lzw\" target=\"_blank\">https://wandb.ai/rahulsundar/CS6910-DeepLearningFundamentals-Assignment1/runs/41xi5lzw</a><br/>\n",
              "                Run data is saved locally in <code>/content/wandb/run-20210314_190943-41xi5lzw</code><br/><br/>\n",
              "            "
            ],
            "text/plain": [
              "<IPython.core.display.HTML object>"
            ]
          },
          "metadata": {
            "tags": []
          }
        },
        {
          "output_type": "stream",
          "text": [
            "Epoch: 0, Loss: 5.733e-02, Training accuracy:0.85, Validation Accuracy: 0.84, Time: 114.85, Learning Rate: 1.000e-04\n",
            "Epoch: 1, Loss: 4.135e-02, Training accuracy:0.86, Validation Accuracy: 0.85, Time: 115.28, Learning Rate: 1.000e-04\n",
            "Epoch: 2, Loss: 3.807e-02, Training accuracy:0.87, Validation Accuracy: 0.86, Time: 115.35, Learning Rate: 1.000e-04\n",
            "Epoch: 3, Loss: 3.616e-02, Training accuracy:0.88, Validation Accuracy: 0.87, Time: 115.07, Learning Rate: 1.000e-04\n",
            "Epoch: 4, Loss: 3.479e-02, Training accuracy:0.88, Validation Accuracy: 0.87, Time: 116.09, Learning Rate: 1.000e-04\n",
            "Epoch: 5, Loss: 3.372e-02, Training accuracy:0.88, Validation Accuracy: 0.87, Time: 113.48, Learning Rate: 1.000e-04\n",
            "Epoch: 6, Loss: 3.284e-02, Training accuracy:0.89, Validation Accuracy: 0.87, Time: 116.69, Learning Rate: 1.000e-04\n",
            "Epoch: 7, Loss: 3.207e-02, Training accuracy:0.89, Validation Accuracy: 0.87, Time: 114.23, Learning Rate: 1.000e-04\n",
            "Epoch: 8, Loss: 3.139e-02, Training accuracy:0.89, Validation Accuracy: 0.88, Time: 112.69, Learning Rate: 1.000e-04\n",
            "Epoch: 9, Loss: 3.078e-02, Training accuracy:0.89, Validation Accuracy: 0.88, Time: 115.43, Learning Rate: 1.000e-04\n"
          ],
          "name": "stdout"
        },
        {
          "output_type": "display_data",
          "data": {
            "text/html": [
              "<br/>Waiting for W&B process to finish, PID 3563<br/>Program ended successfully."
            ],
            "text/plain": [
              "<IPython.core.display.HTML object>"
            ]
          },
          "metadata": {
            "tags": []
          }
        },
        {
          "output_type": "display_data",
          "data": {
            "application/vnd.jupyter.widget-view+json": {
              "model_id": "abf20e9aea9342ff9d4ba52fea36aa8b",
              "version_minor": 0,
              "version_major": 2
            },
            "text/plain": [
              "VBox(children=(Label(value=' 0.00MB of 0.00MB uploaded (0.00MB deduped)\\r'), FloatProgress(value=1.0, max=1.0)…"
            ]
          },
          "metadata": {
            "tags": []
          }
        },
        {
          "output_type": "display_data",
          "data": {
            "text/html": [
              "Find user logs for this run at: <code>/content/wandb/run-20210314_190943-41xi5lzw/logs/debug.log</code>"
            ],
            "text/plain": [
              "<IPython.core.display.HTML object>"
            ]
          },
          "metadata": {
            "tags": []
          }
        },
        {
          "output_type": "display_data",
          "data": {
            "text/html": [
              "Find internal logs for this run at: <code>/content/wandb/run-20210314_190943-41xi5lzw/logs/debug-internal.log</code>"
            ],
            "text/plain": [
              "<IPython.core.display.HTML object>"
            ]
          },
          "metadata": {
            "tags": []
          }
        },
        {
          "output_type": "display_data",
          "data": {
            "text/html": [
              "<h3>Run summary:</h3><br/><style>\n",
              "    table.wandb td:nth-child(1) { padding: 0 10px; text-align: right }\n",
              "    </style><table class=\"wandb\">\n",
              "<tr><td>loss</td><td>0.03078</td></tr><tr><td>trainingaccuracy</td><td>0.89417</td></tr><tr><td>validationaccuracy</td><td>0.87883</td></tr><tr><td>epoch</td><td>9</td></tr><tr><td>_runtime</td><td>1255</td></tr><tr><td>_timestamp</td><td>1615750238</td></tr><tr><td>_step</td><td>9</td></tr></table>"
            ],
            "text/plain": [
              "<IPython.core.display.HTML object>"
            ]
          },
          "metadata": {
            "tags": []
          }
        },
        {
          "output_type": "display_data",
          "data": {
            "text/html": [
              "<h3>Run history:</h3><br/><style>\n",
              "    table.wandb td:nth-child(1) { padding: 0 10px; text-align: right }\n",
              "    </style><table class=\"wandb\">\n",
              "<tr><td>loss</td><td>█▄▃▂▂▂▂▁▁▁</td></tr><tr><td>trainingaccuracy</td><td>▁▃▄▅▆▇▇▇██</td></tr><tr><td>validationaccuracy</td><td>▁▃▅▆▆▇▇▇██</td></tr><tr><td>epoch</td><td>▁▂▃▃▄▅▆▆▇█</td></tr><tr><td>_runtime</td><td>▁▂▃▃▄▅▆▆▇█</td></tr><tr><td>_timestamp</td><td>▁▂▃▃▄▅▆▆▇█</td></tr><tr><td>_step</td><td>▁▂▃▃▄▅▆▆▇█</td></tr></table><br/>"
            ],
            "text/plain": [
              "<IPython.core.display.HTML object>"
            ]
          },
          "metadata": {
            "tags": []
          }
        },
        {
          "output_type": "display_data",
          "data": {
            "text/html": [
              "Synced 5 W&B file(s), 0 media file(s), 0 artifact file(s) and 0 other file(s)"
            ],
            "text/plain": [
              "<IPython.core.display.HTML object>"
            ]
          },
          "metadata": {
            "tags": []
          }
        },
        {
          "output_type": "display_data",
          "data": {
            "text/html": [
              "\n",
              "                    <br/>Synced <strong style=\"color:#cdcd00\">sleek-sweep-22</strong>: <a href=\"https://wandb.ai/rahulsundar/CS6910-DeepLearningFundamentals-Assignment1/runs/41xi5lzw\" target=\"_blank\">https://wandb.ai/rahulsundar/CS6910-DeepLearningFundamentals-Assignment1/runs/41xi5lzw</a><br/>\n",
              "                "
            ],
            "text/plain": [
              "<IPython.core.display.HTML object>"
            ]
          },
          "metadata": {
            "tags": []
          }
        },
        {
          "output_type": "stream",
          "text": [
            "\u001b[34m\u001b[1mwandb\u001b[0m: Agent Starting Run: i5jyzepr with config:\n",
            "\u001b[34m\u001b[1mwandb\u001b[0m: \tactivation: RELU\n",
            "\u001b[34m\u001b[1mwandb\u001b[0m: \tbatch_size: 64\n",
            "\u001b[34m\u001b[1mwandb\u001b[0m: \tinitializer: HE\n",
            "\u001b[34m\u001b[1mwandb\u001b[0m: \tlearning_rate: 0.001\n",
            "\u001b[34m\u001b[1mwandb\u001b[0m: \tmax_epochs: 10\n",
            "\u001b[34m\u001b[1mwandb\u001b[0m: \tnum_hidden_neurons: 128\n",
            "\u001b[34m\u001b[1mwandb\u001b[0m: \tnum_layers: 4\n",
            "\u001b[34m\u001b[1mwandb\u001b[0m: \toptimizer: ADAM\n",
            "\u001b[34m\u001b[1mwandb\u001b[0m: \tweight_decay: 0\n"
          ],
          "name": "stderr"
        },
        {
          "output_type": "display_data",
          "data": {
            "text/html": [
              "\n",
              "                Tracking run with wandb version 0.10.22<br/>\n",
              "                Syncing run <strong style=\"color:#cdcd00\">eternal-sweep-23</strong> to <a href=\"https://wandb.ai\" target=\"_blank\">Weights & Biases</a> <a href=\"https://docs.wandb.com/integrations/jupyter.html\" target=\"_blank\">(Documentation)</a>.<br/>\n",
              "                Project page: <a href=\"https://wandb.ai/rahulsundar/CS6910-DeepLearningFundamentals-Assignment1\" target=\"_blank\">https://wandb.ai/rahulsundar/CS6910-DeepLearningFundamentals-Assignment1</a><br/>\n",
              "                Sweep page: <a href=\"https://wandb.ai/rahulsundar/CS6910-DeepLearningFundamentals-Assignment1/sweeps/vny2mdtz\" target=\"_blank\">https://wandb.ai/rahulsundar/CS6910-DeepLearningFundamentals-Assignment1/sweeps/vny2mdtz</a><br/>\n",
              "Run page: <a href=\"https://wandb.ai/rahulsundar/CS6910-DeepLearningFundamentals-Assignment1/runs/i5jyzepr\" target=\"_blank\">https://wandb.ai/rahulsundar/CS6910-DeepLearningFundamentals-Assignment1/runs/i5jyzepr</a><br/>\n",
              "                Run data is saved locally in <code>/content/wandb/run-20210314_193048-i5jyzepr</code><br/><br/>\n",
              "            "
            ],
            "text/plain": [
              "<IPython.core.display.HTML object>"
            ]
          },
          "metadata": {
            "tags": []
          }
        },
        {
          "output_type": "stream",
          "text": [
            "Epoch: 0, Loss: 6.087e-02, Training accuracy:0.84, Validation Accuracy: 0.83, Time: 114.08, Learning Rate: 1.000e-03\n",
            "Epoch: 1, Loss: 4.050e-02, Training accuracy:0.86, Validation Accuracy: 0.85, Time: 114.56, Learning Rate: 1.000e-03\n",
            "Epoch: 2, Loss: 3.574e-02, Training accuracy:0.88, Validation Accuracy: 0.87, Time: 109.86, Learning Rate: 1.000e-03\n",
            "Epoch: 3, Loss: nan, Training accuracy:0.88, Validation Accuracy: 0.87, Time: 114.33, Learning Rate: 1.000e-03\n",
            "Epoch: 4, Loss: nan, Training accuracy:0.89, Validation Accuracy: 0.87, Time: 114.72, Learning Rate: 1.000e-03\n",
            "Epoch: 5, Loss: nan, Training accuracy:0.89, Validation Accuracy: 0.87, Time: 116.38, Learning Rate: 1.000e-03\n",
            "Epoch: 6, Loss: nan, Training accuracy:0.90, Validation Accuracy: 0.88, Time: 118.97, Learning Rate: 1.000e-03\n",
            "Epoch: 7, Loss: nan, Training accuracy:0.90, Validation Accuracy: 0.87, Time: 111.16, Learning Rate: 1.000e-03\n",
            "Epoch: 8, Loss: nan, Training accuracy:0.90, Validation Accuracy: 0.88, Time: 116.62, Learning Rate: 1.000e-03\n",
            "Epoch: 9, Loss: nan, Training accuracy:0.90, Validation Accuracy: 0.88, Time: 114.96, Learning Rate: 1.000e-03\n"
          ],
          "name": "stdout"
        },
        {
          "output_type": "display_data",
          "data": {
            "text/html": [
              "<br/>Waiting for W&B process to finish, PID 3600<br/>Program ended successfully."
            ],
            "text/plain": [
              "<IPython.core.display.HTML object>"
            ]
          },
          "metadata": {
            "tags": []
          }
        },
        {
          "output_type": "display_data",
          "data": {
            "application/vnd.jupyter.widget-view+json": {
              "model_id": "b08fe9837d1645c8ac7b052aa1f6c157",
              "version_minor": 0,
              "version_major": 2
            },
            "text/plain": [
              "VBox(children=(Label(value=' 0.00MB of 0.00MB uploaded (0.00MB deduped)\\r'), FloatProgress(value=1.0, max=1.0)…"
            ]
          },
          "metadata": {
            "tags": []
          }
        },
        {
          "output_type": "display_data",
          "data": {
            "text/html": [
              "Find user logs for this run at: <code>/content/wandb/run-20210314_193048-i5jyzepr/logs/debug.log</code>"
            ],
            "text/plain": [
              "<IPython.core.display.HTML object>"
            ]
          },
          "metadata": {
            "tags": []
          }
        },
        {
          "output_type": "display_data",
          "data": {
            "text/html": [
              "Find internal logs for this run at: <code>/content/wandb/run-20210314_193048-i5jyzepr/logs/debug-internal.log</code>"
            ],
            "text/plain": [
              "<IPython.core.display.HTML object>"
            ]
          },
          "metadata": {
            "tags": []
          }
        },
        {
          "output_type": "display_data",
          "data": {
            "text/html": [
              "<h3>Run summary:</h3><br/><style>\n",
              "    table.wandb td:nth-child(1) { padding: 0 10px; text-align: right }\n",
              "    </style><table class=\"wandb\">\n",
              "<tr><td>loss</td><td>nan</td></tr><tr><td>trainingaccuracy</td><td>0.90319</td></tr><tr><td>validationaccuracy</td><td>0.87867</td></tr><tr><td>epoch</td><td>9</td></tr><tr><td>_runtime</td><td>1268</td></tr><tr><td>_timestamp</td><td>1615751516</td></tr><tr><td>_step</td><td>9</td></tr></table>"
            ],
            "text/plain": [
              "<IPython.core.display.HTML object>"
            ]
          },
          "metadata": {
            "tags": []
          }
        },
        {
          "output_type": "display_data",
          "data": {
            "text/html": [
              "<h3>Run history:</h3><br/><style>\n",
              "    table.wandb td:nth-child(1) { padding: 0 10px; text-align: right }\n",
              "    </style><table class=\"wandb\">\n",
              "<tr><td>loss</td><td>█▂▁       </td></tr><tr><td>trainingaccuracy</td><td>▁▃▅▆▆▇▇███</td></tr><tr><td>validationaccuracy</td><td>▁▄▇▆▆▇█▇██</td></tr><tr><td>epoch</td><td>▁▂▃▃▄▅▆▆▇█</td></tr><tr><td>_runtime</td><td>▁▂▃▃▄▅▆▆▇█</td></tr><tr><td>_timestamp</td><td>▁▂▃▃▄▅▆▆▇█</td></tr><tr><td>_step</td><td>▁▂▃▃▄▅▆▆▇█</td></tr></table><br/>"
            ],
            "text/plain": [
              "<IPython.core.display.HTML object>"
            ]
          },
          "metadata": {
            "tags": []
          }
        },
        {
          "output_type": "display_data",
          "data": {
            "text/html": [
              "Synced 5 W&B file(s), 0 media file(s), 0 artifact file(s) and 0 other file(s)"
            ],
            "text/plain": [
              "<IPython.core.display.HTML object>"
            ]
          },
          "metadata": {
            "tags": []
          }
        },
        {
          "output_type": "display_data",
          "data": {
            "text/html": [
              "\n",
              "                    <br/>Synced <strong style=\"color:#cdcd00\">eternal-sweep-23</strong>: <a href=\"https://wandb.ai/rahulsundar/CS6910-DeepLearningFundamentals-Assignment1/runs/i5jyzepr\" target=\"_blank\">https://wandb.ai/rahulsundar/CS6910-DeepLearningFundamentals-Assignment1/runs/i5jyzepr</a><br/>\n",
              "                "
            ],
            "text/plain": [
              "<IPython.core.display.HTML object>"
            ]
          },
          "metadata": {
            "tags": []
          }
        },
        {
          "output_type": "stream",
          "text": [
            "\u001b[34m\u001b[1mwandb\u001b[0m: Agent Starting Run: 17xg5nqm with config:\n",
            "\u001b[34m\u001b[1mwandb\u001b[0m: \tactivation: SIGMOID\n",
            "\u001b[34m\u001b[1mwandb\u001b[0m: \tbatch_size: 64\n",
            "\u001b[34m\u001b[1mwandb\u001b[0m: \tinitializer: XAVIER\n",
            "\u001b[34m\u001b[1mwandb\u001b[0m: \tlearning_rate: 0.0001\n",
            "\u001b[34m\u001b[1mwandb\u001b[0m: \tmax_epochs: 10\n",
            "\u001b[34m\u001b[1mwandb\u001b[0m: \tnum_hidden_neurons: 128\n",
            "\u001b[34m\u001b[1mwandb\u001b[0m: \tnum_layers: 3\n",
            "\u001b[34m\u001b[1mwandb\u001b[0m: \toptimizer: ADAM\n",
            "\u001b[34m\u001b[1mwandb\u001b[0m: \tweight_decay: 0\n"
          ],
          "name": "stderr"
        },
        {
          "output_type": "display_data",
          "data": {
            "text/html": [
              "\n",
              "                Tracking run with wandb version 0.10.22<br/>\n",
              "                Syncing run <strong style=\"color:#cdcd00\">hardy-sweep-24</strong> to <a href=\"https://wandb.ai\" target=\"_blank\">Weights & Biases</a> <a href=\"https://docs.wandb.com/integrations/jupyter.html\" target=\"_blank\">(Documentation)</a>.<br/>\n",
              "                Project page: <a href=\"https://wandb.ai/rahulsundar/CS6910-DeepLearningFundamentals-Assignment1\" target=\"_blank\">https://wandb.ai/rahulsundar/CS6910-DeepLearningFundamentals-Assignment1</a><br/>\n",
              "                Sweep page: <a href=\"https://wandb.ai/rahulsundar/CS6910-DeepLearningFundamentals-Assignment1/sweeps/vny2mdtz\" target=\"_blank\">https://wandb.ai/rahulsundar/CS6910-DeepLearningFundamentals-Assignment1/sweeps/vny2mdtz</a><br/>\n",
              "Run page: <a href=\"https://wandb.ai/rahulsundar/CS6910-DeepLearningFundamentals-Assignment1/runs/17xg5nqm\" target=\"_blank\">https://wandb.ai/rahulsundar/CS6910-DeepLearningFundamentals-Assignment1/runs/17xg5nqm</a><br/>\n",
              "                Run data is saved locally in <code>/content/wandb/run-20210314_195207-17xg5nqm</code><br/><br/>\n",
              "            "
            ],
            "text/plain": [
              "<IPython.core.display.HTML object>"
            ]
          },
          "metadata": {
            "tags": []
          }
        },
        {
          "output_type": "stream",
          "text": [
            "Epoch: 0, Loss: 7.454e-02, Training accuracy:0.84, Validation Accuracy: 0.84, Time: 109.43, Learning Rate: 1.000e-04\n",
            "Epoch: 1, Loss: 4.177e-02, Training accuracy:0.86, Validation Accuracy: 0.86, Time: 111.79, Learning Rate: 1.000e-04\n",
            "Epoch: 2, Loss: 3.801e-02, Training accuracy:0.87, Validation Accuracy: 0.86, Time: 113.96, Learning Rate: 1.000e-04\n",
            "Epoch: 3, Loss: 3.607e-02, Training accuracy:0.87, Validation Accuracy: 0.86, Time: 110.27, Learning Rate: 1.000e-04\n",
            "Epoch: 4, Loss: 3.479e-02, Training accuracy:0.88, Validation Accuracy: 0.87, Time: 112.68, Learning Rate: 1.000e-04\n",
            "Epoch: 5, Loss: 3.385e-02, Training accuracy:0.88, Validation Accuracy: 0.87, Time: 112.94, Learning Rate: 1.000e-04\n",
            "Epoch: 6, Loss: 3.311e-02, Training accuracy:0.88, Validation Accuracy: 0.87, Time: 111.33, Learning Rate: 1.000e-04\n",
            "Epoch: 7, Loss: 3.249e-02, Training accuracy:0.88, Validation Accuracy: 0.87, Time: 109.65, Learning Rate: 1.000e-04\n",
            "Epoch: 8, Loss: 3.196e-02, Training accuracy:0.88, Validation Accuracy: 0.87, Time: 112.58, Learning Rate: 1.000e-04\n",
            "Epoch: 9, Loss: 3.149e-02, Training accuracy:0.89, Validation Accuracy: 0.87, Time: 112.59, Learning Rate: 1.000e-04\n"
          ],
          "name": "stdout"
        },
        {
          "output_type": "display_data",
          "data": {
            "text/html": [
              "<br/>Waiting for W&B process to finish, PID 3645<br/>Program ended successfully."
            ],
            "text/plain": [
              "<IPython.core.display.HTML object>"
            ]
          },
          "metadata": {
            "tags": []
          }
        },
        {
          "output_type": "display_data",
          "data": {
            "application/vnd.jupyter.widget-view+json": {
              "model_id": "ecf64252b3534eb18214832ee8f84b73",
              "version_minor": 0,
              "version_major": 2
            },
            "text/plain": [
              "VBox(children=(Label(value=' 0.00MB of 0.00MB uploaded (0.00MB deduped)\\r'), FloatProgress(value=1.0, max=1.0)…"
            ]
          },
          "metadata": {
            "tags": []
          }
        },
        {
          "output_type": "display_data",
          "data": {
            "text/html": [
              "Find user logs for this run at: <code>/content/wandb/run-20210314_195207-17xg5nqm/logs/debug.log</code>"
            ],
            "text/plain": [
              "<IPython.core.display.HTML object>"
            ]
          },
          "metadata": {
            "tags": []
          }
        },
        {
          "output_type": "display_data",
          "data": {
            "text/html": [
              "Find internal logs for this run at: <code>/content/wandb/run-20210314_195207-17xg5nqm/logs/debug-internal.log</code>"
            ],
            "text/plain": [
              "<IPython.core.display.HTML object>"
            ]
          },
          "metadata": {
            "tags": []
          }
        },
        {
          "output_type": "display_data",
          "data": {
            "text/html": [
              "<h3>Run summary:</h3><br/><style>\n",
              "    table.wandb td:nth-child(1) { padding: 0 10px; text-align: right }\n",
              "    </style><table class=\"wandb\">\n",
              "<tr><td>loss</td><td>0.03149</td></tr><tr><td>trainingaccuracy</td><td>0.88539</td></tr><tr><td>validationaccuracy</td><td>0.87383</td></tr><tr><td>epoch</td><td>9</td></tr><tr><td>_runtime</td><td>1226</td></tr><tr><td>_timestamp</td><td>1615752753</td></tr><tr><td>_step</td><td>9</td></tr></table>"
            ],
            "text/plain": [
              "<IPython.core.display.HTML object>"
            ]
          },
          "metadata": {
            "tags": []
          }
        },
        {
          "output_type": "display_data",
          "data": {
            "text/html": [
              "<h3>Run history:</h3><br/><style>\n",
              "    table.wandb td:nth-child(1) { padding: 0 10px; text-align: right }\n",
              "    </style><table class=\"wandb\">\n",
              "<tr><td>loss</td><td>█▃▂▂▂▁▁▁▁▁</td></tr><tr><td>trainingaccuracy</td><td>▁▄▆▆▇▇▇███</td></tr><tr><td>validationaccuracy</td><td>▁▄▆▆▇▇▇▇██</td></tr><tr><td>epoch</td><td>▁▂▃▃▄▅▆▆▇█</td></tr><tr><td>_runtime</td><td>▁▂▃▃▄▅▆▆▇█</td></tr><tr><td>_timestamp</td><td>▁▂▃▃▄▅▆▆▇█</td></tr><tr><td>_step</td><td>▁▂▃▃▄▅▆▆▇█</td></tr></table><br/>"
            ],
            "text/plain": [
              "<IPython.core.display.HTML object>"
            ]
          },
          "metadata": {
            "tags": []
          }
        },
        {
          "output_type": "display_data",
          "data": {
            "text/html": [
              "Synced 5 W&B file(s), 0 media file(s), 0 artifact file(s) and 0 other file(s)"
            ],
            "text/plain": [
              "<IPython.core.display.HTML object>"
            ]
          },
          "metadata": {
            "tags": []
          }
        },
        {
          "output_type": "display_data",
          "data": {
            "text/html": [
              "\n",
              "                    <br/>Synced <strong style=\"color:#cdcd00\">hardy-sweep-24</strong>: <a href=\"https://wandb.ai/rahulsundar/CS6910-DeepLearningFundamentals-Assignment1/runs/17xg5nqm\" target=\"_blank\">https://wandb.ai/rahulsundar/CS6910-DeepLearningFundamentals-Assignment1/runs/17xg5nqm</a><br/>\n",
              "                "
            ],
            "text/plain": [
              "<IPython.core.display.HTML object>"
            ]
          },
          "metadata": {
            "tags": []
          }
        },
        {
          "output_type": "stream",
          "text": [
            "\u001b[34m\u001b[1mwandb\u001b[0m: Agent Starting Run: iyt9c7ko with config:\n",
            "\u001b[34m\u001b[1mwandb\u001b[0m: \tactivation: RELU\n",
            "\u001b[34m\u001b[1mwandb\u001b[0m: \tbatch_size: 64\n",
            "\u001b[34m\u001b[1mwandb\u001b[0m: \tinitializer: XAVIER\n",
            "\u001b[34m\u001b[1mwandb\u001b[0m: \tlearning_rate: 0.0001\n",
            "\u001b[34m\u001b[1mwandb\u001b[0m: \tmax_epochs: 10\n",
            "\u001b[34m\u001b[1mwandb\u001b[0m: \tnum_hidden_neurons: 128\n",
            "\u001b[34m\u001b[1mwandb\u001b[0m: \tnum_layers: 3\n",
            "\u001b[34m\u001b[1mwandb\u001b[0m: \toptimizer: NADAM\n",
            "\u001b[34m\u001b[1mwandb\u001b[0m: \tweight_decay: 0\n"
          ],
          "name": "stderr"
        },
        {
          "output_type": "display_data",
          "data": {
            "text/html": [
              "\n",
              "                Tracking run with wandb version 0.10.22<br/>\n",
              "                Syncing run <strong style=\"color:#cdcd00\">deft-sweep-25</strong> to <a href=\"https://wandb.ai\" target=\"_blank\">Weights & Biases</a> <a href=\"https://docs.wandb.com/integrations/jupyter.html\" target=\"_blank\">(Documentation)</a>.<br/>\n",
              "                Project page: <a href=\"https://wandb.ai/rahulsundar/CS6910-DeepLearningFundamentals-Assignment1\" target=\"_blank\">https://wandb.ai/rahulsundar/CS6910-DeepLearningFundamentals-Assignment1</a><br/>\n",
              "                Sweep page: <a href=\"https://wandb.ai/rahulsundar/CS6910-DeepLearningFundamentals-Assignment1/sweeps/vny2mdtz\" target=\"_blank\">https://wandb.ai/rahulsundar/CS6910-DeepLearningFundamentals-Assignment1/sweeps/vny2mdtz</a><br/>\n",
              "Run page: <a href=\"https://wandb.ai/rahulsundar/CS6910-DeepLearningFundamentals-Assignment1/runs/iyt9c7ko\" target=\"_blank\">https://wandb.ai/rahulsundar/CS6910-DeepLearningFundamentals-Assignment1/runs/iyt9c7ko</a><br/>\n",
              "                Run data is saved locally in <code>/content/wandb/run-20210314_201243-iyt9c7ko</code><br/><br/>\n",
              "            "
            ],
            "text/plain": [
              "<IPython.core.display.HTML object>"
            ]
          },
          "metadata": {
            "tags": []
          }
        },
        {
          "output_type": "stream",
          "text": [
            "Epoch: 0, Loss: 7.044e-02, Training accuracy:0.83, Validation Accuracy: 0.83, Time: 118.20, Learning Rate: 1.000e-04\n",
            "Epoch: 1, Loss: 4.663e-02, Training accuracy:0.85, Validation Accuracy: 0.84, Time: 118.06, Learning Rate: 1.000e-04\n",
            "Epoch: 2, Loss: 4.301e-02, Training accuracy:0.86, Validation Accuracy: 0.85, Time: 118.37, Learning Rate: 1.000e-04\n",
            "Epoch: 3, Loss: 4.090e-02, Training accuracy:0.86, Validation Accuracy: 0.86, Time: 118.95, Learning Rate: 1.000e-04\n",
            "Epoch: 4, Loss: 3.936e-02, Training accuracy:0.87, Validation Accuracy: 0.86, Time: 115.51, Learning Rate: 1.000e-04\n",
            "Epoch: 5, Loss: 3.815e-02, Training accuracy:0.87, Validation Accuracy: 0.86, Time: 117.60, Learning Rate: 1.000e-04\n",
            "Epoch: 6, Loss: 3.716e-02, Training accuracy:0.87, Validation Accuracy: 0.86, Time: 114.19, Learning Rate: 1.000e-04\n",
            "Epoch: 7, Loss: 3.631e-02, Training accuracy:0.88, Validation Accuracy: 0.86, Time: 117.09, Learning Rate: 1.000e-04\n",
            "Epoch: 8, Loss: 3.556e-02, Training accuracy:0.88, Validation Accuracy: 0.86, Time: 116.88, Learning Rate: 1.000e-04\n",
            "Epoch: 9, Loss: 3.490e-02, Training accuracy:0.88, Validation Accuracy: 0.87, Time: 116.63, Learning Rate: 1.000e-04\n"
          ],
          "name": "stdout"
        },
        {
          "output_type": "display_data",
          "data": {
            "text/html": [
              "<br/>Waiting for W&B process to finish, PID 3874<br/>Program ended successfully."
            ],
            "text/plain": [
              "<IPython.core.display.HTML object>"
            ]
          },
          "metadata": {
            "tags": []
          }
        },
        {
          "output_type": "display_data",
          "data": {
            "application/vnd.jupyter.widget-view+json": {
              "model_id": "7abaeb78c3a4436ebdf5d51ef87d58f2",
              "version_minor": 0,
              "version_major": 2
            },
            "text/plain": [
              "VBox(children=(Label(value=' 0.00MB of 0.00MB uploaded (0.00MB deduped)\\r'), FloatProgress(value=1.0, max=1.0)…"
            ]
          },
          "metadata": {
            "tags": []
          }
        },
        {
          "output_type": "display_data",
          "data": {
            "text/html": [
              "Find user logs for this run at: <code>/content/wandb/run-20210314_201243-iyt9c7ko/logs/debug.log</code>"
            ],
            "text/plain": [
              "<IPython.core.display.HTML object>"
            ]
          },
          "metadata": {
            "tags": []
          }
        },
        {
          "output_type": "display_data",
          "data": {
            "text/html": [
              "Find internal logs for this run at: <code>/content/wandb/run-20210314_201243-iyt9c7ko/logs/debug-internal.log</code>"
            ],
            "text/plain": [
              "<IPython.core.display.HTML object>"
            ]
          },
          "metadata": {
            "tags": []
          }
        },
        {
          "output_type": "display_data",
          "data": {
            "text/html": [
              "<h3>Run summary:</h3><br/><style>\n",
              "    table.wandb td:nth-child(1) { padding: 0 10px; text-align: right }\n",
              "    </style><table class=\"wandb\">\n",
              "<tr><td>loss</td><td>0.0349</td></tr><tr><td>trainingaccuracy</td><td>0.87957</td></tr><tr><td>validationaccuracy</td><td>0.867</td></tr><tr><td>epoch</td><td>9</td></tr><tr><td>_runtime</td><td>1298</td></tr><tr><td>_timestamp</td><td>1615754061</td></tr><tr><td>_step</td><td>9</td></tr></table>"
            ],
            "text/plain": [
              "<IPython.core.display.HTML object>"
            ]
          },
          "metadata": {
            "tags": []
          }
        },
        {
          "output_type": "display_data",
          "data": {
            "text/html": [
              "<h3>Run history:</h3><br/><style>\n",
              "    table.wandb td:nth-child(1) { padding: 0 10px; text-align: right }\n",
              "    </style><table class=\"wandb\">\n",
              "<tr><td>loss</td><td>█▃▃▂▂▂▁▁▁▁</td></tr><tr><td>trainingaccuracy</td><td>▁▃▅▅▆▆▇▇██</td></tr><tr><td>validationaccuracy</td><td>▁▃▅▆▆▇▇▇██</td></tr><tr><td>epoch</td><td>▁▂▃▃▄▅▆▆▇█</td></tr><tr><td>_runtime</td><td>▁▂▃▃▄▅▆▆▇█</td></tr><tr><td>_timestamp</td><td>▁▂▃▃▄▅▆▆▇█</td></tr><tr><td>_step</td><td>▁▂▃▃▄▅▆▆▇█</td></tr></table><br/>"
            ],
            "text/plain": [
              "<IPython.core.display.HTML object>"
            ]
          },
          "metadata": {
            "tags": []
          }
        },
        {
          "output_type": "display_data",
          "data": {
            "text/html": [
              "Synced 5 W&B file(s), 0 media file(s), 0 artifact file(s) and 0 other file(s)"
            ],
            "text/plain": [
              "<IPython.core.display.HTML object>"
            ]
          },
          "metadata": {
            "tags": []
          }
        },
        {
          "output_type": "display_data",
          "data": {
            "text/html": [
              "\n",
              "                    <br/>Synced <strong style=\"color:#cdcd00\">deft-sweep-25</strong>: <a href=\"https://wandb.ai/rahulsundar/CS6910-DeepLearningFundamentals-Assignment1/runs/iyt9c7ko\" target=\"_blank\">https://wandb.ai/rahulsundar/CS6910-DeepLearningFundamentals-Assignment1/runs/iyt9c7ko</a><br/>\n",
              "                "
            ],
            "text/plain": [
              "<IPython.core.display.HTML object>"
            ]
          },
          "metadata": {
            "tags": []
          }
        },
        {
          "output_type": "stream",
          "text": [
            "\u001b[34m\u001b[1mwandb\u001b[0m: Agent Starting Run: ez8r87pf with config:\n",
            "\u001b[34m\u001b[1mwandb\u001b[0m: \tactivation: SIGMOID\n",
            "\u001b[34m\u001b[1mwandb\u001b[0m: \tbatch_size: 64\n",
            "\u001b[34m\u001b[1mwandb\u001b[0m: \tinitializer: HE\n",
            "\u001b[34m\u001b[1mwandb\u001b[0m: \tlearning_rate: 0.001\n",
            "\u001b[34m\u001b[1mwandb\u001b[0m: \tmax_epochs: 10\n",
            "\u001b[34m\u001b[1mwandb\u001b[0m: \tnum_hidden_neurons: 64\n",
            "\u001b[34m\u001b[1mwandb\u001b[0m: \tnum_layers: 4\n",
            "\u001b[34m\u001b[1mwandb\u001b[0m: \toptimizer: NADAM\n",
            "\u001b[34m\u001b[1mwandb\u001b[0m: \tweight_decay: 0\n"
          ],
          "name": "stderr"
        },
        {
          "output_type": "display_data",
          "data": {
            "text/html": [
              "\n",
              "                Tracking run with wandb version 0.10.22<br/>\n",
              "                Syncing run <strong style=\"color:#cdcd00\">sandy-sweep-26</strong> to <a href=\"https://wandb.ai\" target=\"_blank\">Weights & Biases</a> <a href=\"https://docs.wandb.com/integrations/jupyter.html\" target=\"_blank\">(Documentation)</a>.<br/>\n",
              "                Project page: <a href=\"https://wandb.ai/rahulsundar/CS6910-DeepLearningFundamentals-Assignment1\" target=\"_blank\">https://wandb.ai/rahulsundar/CS6910-DeepLearningFundamentals-Assignment1</a><br/>\n",
              "                Sweep page: <a href=\"https://wandb.ai/rahulsundar/CS6910-DeepLearningFundamentals-Assignment1/sweeps/vny2mdtz\" target=\"_blank\">https://wandb.ai/rahulsundar/CS6910-DeepLearningFundamentals-Assignment1/sweeps/vny2mdtz</a><br/>\n",
              "Run page: <a href=\"https://wandb.ai/rahulsundar/CS6910-DeepLearningFundamentals-Assignment1/runs/ez8r87pf\" target=\"_blank\">https://wandb.ai/rahulsundar/CS6910-DeepLearningFundamentals-Assignment1/runs/ez8r87pf</a><br/>\n",
              "                Run data is saved locally in <code>/content/wandb/run-20210314_203431-ez8r87pf</code><br/><br/>\n",
              "            "
            ],
            "text/plain": [
              "<IPython.core.display.HTML object>"
            ]
          },
          "metadata": {
            "tags": []
          }
        },
        {
          "output_type": "stream",
          "text": [
            "Epoch: 0, Loss: 8.752e-02, Training accuracy:0.82, Validation Accuracy: 0.82, Time: 71.23, Learning Rate: 1.000e-03\n",
            "Epoch: 1, Loss: 4.623e-02, Training accuracy:0.85, Validation Accuracy: 0.84, Time: 70.61, Learning Rate: 1.000e-03\n",
            "Epoch: 2, Loss: 4.066e-02, Training accuracy:0.86, Validation Accuracy: 0.85, Time: 71.94, Learning Rate: 1.000e-03\n",
            "Epoch: 3, Loss: 3.776e-02, Training accuracy:0.87, Validation Accuracy: 0.86, Time: 70.33, Learning Rate: 1.000e-03\n",
            "Epoch: 4, Loss: 3.583e-02, Training accuracy:0.88, Validation Accuracy: 0.86, Time: 71.40, Learning Rate: 1.000e-03\n",
            "Epoch: 5, Loss: 3.442e-02, Training accuracy:0.88, Validation Accuracy: 0.87, Time: 71.24, Learning Rate: 1.000e-03\n",
            "Epoch: 6, Loss: 3.329e-02, Training accuracy:0.88, Validation Accuracy: 0.87, Time: 69.78, Learning Rate: 1.000e-03\n",
            "Epoch: 7, Loss: 3.235e-02, Training accuracy:0.89, Validation Accuracy: 0.87, Time: 70.77, Learning Rate: 1.000e-03\n",
            "Epoch: 8, Loss: 3.152e-02, Training accuracy:0.89, Validation Accuracy: 0.88, Time: 70.33, Learning Rate: 1.000e-03\n",
            "Epoch: 9, Loss: 3.078e-02, Training accuracy:0.89, Validation Accuracy: 0.88, Time: 71.79, Learning Rate: 1.000e-03\n"
          ],
          "name": "stdout"
        },
        {
          "output_type": "display_data",
          "data": {
            "text/html": [
              "<br/>Waiting for W&B process to finish, PID 4157<br/>Program ended successfully."
            ],
            "text/plain": [
              "<IPython.core.display.HTML object>"
            ]
          },
          "metadata": {
            "tags": []
          }
        },
        {
          "output_type": "display_data",
          "data": {
            "application/vnd.jupyter.widget-view+json": {
              "model_id": "0c4f132b9db94b55a95d70c63e3e8e5b",
              "version_minor": 0,
              "version_major": 2
            },
            "text/plain": [
              "VBox(children=(Label(value=' 0.00MB of 0.00MB uploaded (0.00MB deduped)\\r'), FloatProgress(value=1.0, max=1.0)…"
            ]
          },
          "metadata": {
            "tags": []
          }
        },
        {
          "output_type": "display_data",
          "data": {
            "text/html": [
              "Find user logs for this run at: <code>/content/wandb/run-20210314_203431-ez8r87pf/logs/debug.log</code>"
            ],
            "text/plain": [
              "<IPython.core.display.HTML object>"
            ]
          },
          "metadata": {
            "tags": []
          }
        },
        {
          "output_type": "display_data",
          "data": {
            "text/html": [
              "Find internal logs for this run at: <code>/content/wandb/run-20210314_203431-ez8r87pf/logs/debug-internal.log</code>"
            ],
            "text/plain": [
              "<IPython.core.display.HTML object>"
            ]
          },
          "metadata": {
            "tags": []
          }
        },
        {
          "output_type": "display_data",
          "data": {
            "text/html": [
              "<h3>Run summary:</h3><br/><style>\n",
              "    table.wandb td:nth-child(1) { padding: 0 10px; text-align: right }\n",
              "    </style><table class=\"wandb\">\n",
              "<tr><td>loss</td><td>0.03078</td></tr><tr><td>trainingaccuracy</td><td>0.89165</td></tr><tr><td>validationaccuracy</td><td>0.87617</td></tr><tr><td>epoch</td><td>9</td></tr><tr><td>_runtime</td><td>788</td></tr><tr><td>_timestamp</td><td>1615754859</td></tr><tr><td>_step</td><td>9</td></tr></table>"
            ],
            "text/plain": [
              "<IPython.core.display.HTML object>"
            ]
          },
          "metadata": {
            "tags": []
          }
        },
        {
          "output_type": "display_data",
          "data": {
            "text/html": [
              "<h3>Run history:</h3><br/><style>\n",
              "    table.wandb td:nth-child(1) { padding: 0 10px; text-align: right }\n",
              "    </style><table class=\"wandb\">\n",
              "<tr><td>loss</td><td>█▃▂▂▂▁▁▁▁▁</td></tr><tr><td>trainingaccuracy</td><td>▁▄▅▆▆▇▇███</td></tr><tr><td>validationaccuracy</td><td>▁▄▅▆▇▇████</td></tr><tr><td>epoch</td><td>▁▂▃▃▄▅▆▆▇█</td></tr><tr><td>_runtime</td><td>▁▂▃▃▄▅▆▆▇█</td></tr><tr><td>_timestamp</td><td>▁▂▃▃▄▅▆▆▇█</td></tr><tr><td>_step</td><td>▁▂▃▃▄▅▆▆▇█</td></tr></table><br/>"
            ],
            "text/plain": [
              "<IPython.core.display.HTML object>"
            ]
          },
          "metadata": {
            "tags": []
          }
        },
        {
          "output_type": "display_data",
          "data": {
            "text/html": [
              "Synced 5 W&B file(s), 0 media file(s), 0 artifact file(s) and 0 other file(s)"
            ],
            "text/plain": [
              "<IPython.core.display.HTML object>"
            ]
          },
          "metadata": {
            "tags": []
          }
        },
        {
          "output_type": "display_data",
          "data": {
            "text/html": [
              "\n",
              "                    <br/>Synced <strong style=\"color:#cdcd00\">sandy-sweep-26</strong>: <a href=\"https://wandb.ai/rahulsundar/CS6910-DeepLearningFundamentals-Assignment1/runs/ez8r87pf\" target=\"_blank\">https://wandb.ai/rahulsundar/CS6910-DeepLearningFundamentals-Assignment1/runs/ez8r87pf</a><br/>\n",
              "                "
            ],
            "text/plain": [
              "<IPython.core.display.HTML object>"
            ]
          },
          "metadata": {
            "tags": []
          }
        },
        {
          "output_type": "stream",
          "text": [
            "\u001b[34m\u001b[1mwandb\u001b[0m: Agent Starting Run: y77dqkcc with config:\n",
            "\u001b[34m\u001b[1mwandb\u001b[0m: \tactivation: RELU\n",
            "\u001b[34m\u001b[1mwandb\u001b[0m: \tbatch_size: 64\n",
            "\u001b[34m\u001b[1mwandb\u001b[0m: \tinitializer: HE\n",
            "\u001b[34m\u001b[1mwandb\u001b[0m: \tlearning_rate: 0.001\n",
            "\u001b[34m\u001b[1mwandb\u001b[0m: \tmax_epochs: 10\n",
            "\u001b[34m\u001b[1mwandb\u001b[0m: \tnum_hidden_neurons: 128\n",
            "\u001b[34m\u001b[1mwandb\u001b[0m: \tnum_layers: 4\n",
            "\u001b[34m\u001b[1mwandb\u001b[0m: \toptimizer: NADAM\n",
            "\u001b[34m\u001b[1mwandb\u001b[0m: \tweight_decay: 0.0005\n"
          ],
          "name": "stderr"
        },
        {
          "output_type": "display_data",
          "data": {
            "text/html": [
              "\n",
              "                Tracking run with wandb version 0.10.22<br/>\n",
              "                Syncing run <strong style=\"color:#cdcd00\">neat-sweep-27</strong> to <a href=\"https://wandb.ai\" target=\"_blank\">Weights & Biases</a> <a href=\"https://docs.wandb.com/integrations/jupyter.html\" target=\"_blank\">(Documentation)</a>.<br/>\n",
              "                Project page: <a href=\"https://wandb.ai/rahulsundar/CS6910-DeepLearningFundamentals-Assignment1\" target=\"_blank\">https://wandb.ai/rahulsundar/CS6910-DeepLearningFundamentals-Assignment1</a><br/>\n",
              "                Sweep page: <a href=\"https://wandb.ai/rahulsundar/CS6910-DeepLearningFundamentals-Assignment1/sweeps/vny2mdtz\" target=\"_blank\">https://wandb.ai/rahulsundar/CS6910-DeepLearningFundamentals-Assignment1/sweeps/vny2mdtz</a><br/>\n",
              "Run page: <a href=\"https://wandb.ai/rahulsundar/CS6910-DeepLearningFundamentals-Assignment1/runs/y77dqkcc\" target=\"_blank\">https://wandb.ai/rahulsundar/CS6910-DeepLearningFundamentals-Assignment1/runs/y77dqkcc</a><br/>\n",
              "                Run data is saved locally in <code>/content/wandb/run-20210314_204749-y77dqkcc</code><br/><br/>\n",
              "            "
            ],
            "text/plain": [
              "<IPython.core.display.HTML object>"
            ]
          },
          "metadata": {
            "tags": []
          }
        },
        {
          "output_type": "stream",
          "text": [
            "Epoch: 0, Loss: 4.860e-02, Training accuracy:0.86, Validation Accuracy: 0.85, Time: 117.79, Learning Rate: 1.000e-03\n",
            "Epoch: 1, Loss: 3.561e-02, Training accuracy:0.88, Validation Accuracy: 0.86, Time: 115.72, Learning Rate: 1.000e-03\n",
            "Epoch: 2, Loss: 3.172e-02, Training accuracy:0.89, Validation Accuracy: 0.88, Time: 111.84, Learning Rate: 1.000e-03\n",
            "Epoch: 3, Loss: 2.904e-02, Training accuracy:0.90, Validation Accuracy: 0.88, Time: 113.21, Learning Rate: 1.000e-03\n",
            "Epoch: 4, Loss: 2.699e-02, Training accuracy:0.90, Validation Accuracy: 0.88, Time: 113.33, Learning Rate: 1.000e-03\n",
            "Epoch: 5, Loss: 2.533e-02, Training accuracy:0.91, Validation Accuracy: 0.88, Time: 111.94, Learning Rate: 1.000e-03\n",
            "Epoch: 6, Loss: 2.392e-02, Training accuracy:0.91, Validation Accuracy: 0.88, Time: 114.79, Learning Rate: 1.000e-03\n",
            "Epoch: 7, Loss: 2.257e-02, Training accuracy:0.92, Validation Accuracy: 0.88, Time: 114.18, Learning Rate: 1.000e-03\n",
            "Epoch: 8, Loss: 2.142e-02, Training accuracy:0.92, Validation Accuracy: 0.89, Time: 116.93, Learning Rate: 1.000e-03\n",
            "Epoch: 9, Loss: 2.043e-02, Training accuracy:0.92, Validation Accuracy: 0.88, Time: 118.80, Learning Rate: 1.000e-03\n"
          ],
          "name": "stdout"
        },
        {
          "output_type": "display_data",
          "data": {
            "text/html": [
              "<br/>Waiting for W&B process to finish, PID 4340<br/>Program ended successfully."
            ],
            "text/plain": [
              "<IPython.core.display.HTML object>"
            ]
          },
          "metadata": {
            "tags": []
          }
        },
        {
          "output_type": "display_data",
          "data": {
            "application/vnd.jupyter.widget-view+json": {
              "model_id": "ed2f8a13549b4470aa137bb7b40930c8",
              "version_minor": 0,
              "version_major": 2
            },
            "text/plain": [
              "VBox(children=(Label(value=' 0.00MB of 0.00MB uploaded (0.00MB deduped)\\r'), FloatProgress(value=1.0, max=1.0)…"
            ]
          },
          "metadata": {
            "tags": []
          }
        },
        {
          "output_type": "display_data",
          "data": {
            "text/html": [
              "Find user logs for this run at: <code>/content/wandb/run-20210314_204749-y77dqkcc/logs/debug.log</code>"
            ],
            "text/plain": [
              "<IPython.core.display.HTML object>"
            ]
          },
          "metadata": {
            "tags": []
          }
        },
        {
          "output_type": "display_data",
          "data": {
            "text/html": [
              "Find internal logs for this run at: <code>/content/wandb/run-20210314_204749-y77dqkcc/logs/debug-internal.log</code>"
            ],
            "text/plain": [
              "<IPython.core.display.HTML object>"
            ]
          },
          "metadata": {
            "tags": []
          }
        },
        {
          "output_type": "display_data",
          "data": {
            "text/html": [
              "<h3>Run summary:</h3><br/><style>\n",
              "    table.wandb td:nth-child(1) { padding: 0 10px; text-align: right }\n",
              "    </style><table class=\"wandb\">\n",
              "<tr><td>loss</td><td>0.02043</td></tr><tr><td>trainingaccuracy</td><td>0.92248</td></tr><tr><td>validationaccuracy</td><td>0.88117</td></tr><tr><td>epoch</td><td>9</td></tr><tr><td>_runtime</td><td>1272</td></tr><tr><td>_timestamp</td><td>1615756141</td></tr><tr><td>_step</td><td>9</td></tr></table>"
            ],
            "text/plain": [
              "<IPython.core.display.HTML object>"
            ]
          },
          "metadata": {
            "tags": []
          }
        },
        {
          "output_type": "display_data",
          "data": {
            "text/html": [
              "<h3>Run history:</h3><br/><style>\n",
              "    table.wandb td:nth-child(1) { padding: 0 10px; text-align: right }\n",
              "    </style><table class=\"wandb\">\n",
              "<tr><td>loss</td><td>█▅▄▃▃▂▂▂▁▁</td></tr><tr><td>trainingaccuracy</td><td>▁▃▅▆▆▇▇▇██</td></tr><tr><td>validationaccuracy</td><td>▁▄▆▇██▇▇█▇</td></tr><tr><td>epoch</td><td>▁▂▃▃▄▅▆▆▇█</td></tr><tr><td>_runtime</td><td>▁▂▃▃▄▅▆▆▇█</td></tr><tr><td>_timestamp</td><td>▁▂▃▃▄▅▆▆▇█</td></tr><tr><td>_step</td><td>▁▂▃▃▄▅▆▆▇█</td></tr></table><br/>"
            ],
            "text/plain": [
              "<IPython.core.display.HTML object>"
            ]
          },
          "metadata": {
            "tags": []
          }
        },
        {
          "output_type": "display_data",
          "data": {
            "text/html": [
              "Synced 5 W&B file(s), 0 media file(s), 0 artifact file(s) and 0 other file(s)"
            ],
            "text/plain": [
              "<IPython.core.display.HTML object>"
            ]
          },
          "metadata": {
            "tags": []
          }
        },
        {
          "output_type": "display_data",
          "data": {
            "text/html": [
              "\n",
              "                    <br/>Synced <strong style=\"color:#cdcd00\">neat-sweep-27</strong>: <a href=\"https://wandb.ai/rahulsundar/CS6910-DeepLearningFundamentals-Assignment1/runs/y77dqkcc\" target=\"_blank\">https://wandb.ai/rahulsundar/CS6910-DeepLearningFundamentals-Assignment1/runs/y77dqkcc</a><br/>\n",
              "                "
            ],
            "text/plain": [
              "<IPython.core.display.HTML object>"
            ]
          },
          "metadata": {
            "tags": []
          }
        },
        {
          "output_type": "stream",
          "text": [
            "\u001b[34m\u001b[1mwandb\u001b[0m: Agent Starting Run: 2s5m3p3k with config:\n",
            "\u001b[34m\u001b[1mwandb\u001b[0m: \tactivation: RELU\n",
            "\u001b[34m\u001b[1mwandb\u001b[0m: \tbatch_size: 16\n",
            "\u001b[34m\u001b[1mwandb\u001b[0m: \tinitializer: XAVIER\n",
            "\u001b[34m\u001b[1mwandb\u001b[0m: \tlearning_rate: 0.0001\n",
            "\u001b[34m\u001b[1mwandb\u001b[0m: \tmax_epochs: 10\n",
            "\u001b[34m\u001b[1mwandb\u001b[0m: \tnum_hidden_neurons: 128\n",
            "\u001b[34m\u001b[1mwandb\u001b[0m: \tnum_layers: 2\n",
            "\u001b[34m\u001b[1mwandb\u001b[0m: \toptimizer: NADAM\n",
            "\u001b[34m\u001b[1mwandb\u001b[0m: \tweight_decay: 0.0005\n"
          ],
          "name": "stderr"
        },
        {
          "output_type": "display_data",
          "data": {
            "text/html": [
              "\n",
              "                Tracking run with wandb version 0.10.22<br/>\n",
              "                Syncing run <strong style=\"color:#cdcd00\">firm-sweep-28</strong> to <a href=\"https://wandb.ai\" target=\"_blank\">Weights & Biases</a> <a href=\"https://docs.wandb.com/integrations/jupyter.html\" target=\"_blank\">(Documentation)</a>.<br/>\n",
              "                Project page: <a href=\"https://wandb.ai/rahulsundar/CS6910-DeepLearningFundamentals-Assignment1\" target=\"_blank\">https://wandb.ai/rahulsundar/CS6910-DeepLearningFundamentals-Assignment1</a><br/>\n",
              "                Sweep page: <a href=\"https://wandb.ai/rahulsundar/CS6910-DeepLearningFundamentals-Assignment1/sweeps/vny2mdtz\" target=\"_blank\">https://wandb.ai/rahulsundar/CS6910-DeepLearningFundamentals-Assignment1/sweeps/vny2mdtz</a><br/>\n",
              "Run page: <a href=\"https://wandb.ai/rahulsundar/CS6910-DeepLearningFundamentals-Assignment1/runs/2s5m3p3k\" target=\"_blank\">https://wandb.ai/rahulsundar/CS6910-DeepLearningFundamentals-Assignment1/runs/2s5m3p3k</a><br/>\n",
              "                Run data is saved locally in <code>/content/wandb/run-20210314_210911-2s5m3p3k</code><br/><br/>\n",
              "            "
            ],
            "text/plain": [
              "<IPython.core.display.HTML object>"
            ]
          },
          "metadata": {
            "tags": []
          }
        },
        {
          "output_type": "stream",
          "text": [
            "Epoch: 0, Loss: 5.911e-02, Training accuracy:0.85, Validation Accuracy: 0.84, Time: 132.70, Learning Rate: 1.000e-04\n",
            "Epoch: 1, Loss: 4.239e-02, Training accuracy:0.86, Validation Accuracy: 0.85, Time: 129.58, Learning Rate: 1.000e-04\n",
            "Epoch: 2, Loss: 3.879e-02, Training accuracy:0.87, Validation Accuracy: 0.86, Time: 133.70, Learning Rate: 1.000e-04\n",
            "Epoch: 3, Loss: 3.661e-02, Training accuracy:0.88, Validation Accuracy: 0.87, Time: 134.91, Learning Rate: 1.000e-04\n",
            "Epoch: 4, Loss: 3.501e-02, Training accuracy:0.88, Validation Accuracy: 0.87, Time: 134.27, Learning Rate: 1.000e-04\n",
            "Epoch: 5, Loss: 3.370e-02, Training accuracy:0.89, Validation Accuracy: 0.87, Time: 132.46, Learning Rate: 1.000e-04\n",
            "Epoch: 6, Loss: 3.260e-02, Training accuracy:0.89, Validation Accuracy: 0.88, Time: 134.99, Learning Rate: 1.000e-04\n",
            "Epoch: 7, Loss: 3.166e-02, Training accuracy:0.89, Validation Accuracy: 0.88, Time: 133.57, Learning Rate: 1.000e-04\n",
            "Epoch: 8, Loss: 3.083e-02, Training accuracy:0.89, Validation Accuracy: 0.88, Time: 130.91, Learning Rate: 1.000e-04\n",
            "Epoch: 9, Loss: 3.008e-02, Training accuracy:0.90, Validation Accuracy: 0.88, Time: 129.44, Learning Rate: 1.000e-04\n"
          ],
          "name": "stdout"
        },
        {
          "output_type": "display_data",
          "data": {
            "text/html": [
              "<br/>Waiting for W&B process to finish, PID 4615<br/>Program ended successfully."
            ],
            "text/plain": [
              "<IPython.core.display.HTML object>"
            ]
          },
          "metadata": {
            "tags": []
          }
        },
        {
          "output_type": "display_data",
          "data": {
            "application/vnd.jupyter.widget-view+json": {
              "model_id": "3d388c98ebec4b70955abf6e11ef93df",
              "version_minor": 0,
              "version_major": 2
            },
            "text/plain": [
              "VBox(children=(Label(value=' 0.00MB of 0.00MB uploaded (0.00MB deduped)\\r'), FloatProgress(value=1.0, max=1.0)…"
            ]
          },
          "metadata": {
            "tags": []
          }
        },
        {
          "output_type": "display_data",
          "data": {
            "text/html": [
              "Find user logs for this run at: <code>/content/wandb/run-20210314_210911-2s5m3p3k/logs/debug.log</code>"
            ],
            "text/plain": [
              "<IPython.core.display.HTML object>"
            ]
          },
          "metadata": {
            "tags": []
          }
        },
        {
          "output_type": "display_data",
          "data": {
            "text/html": [
              "Find internal logs for this run at: <code>/content/wandb/run-20210314_210911-2s5m3p3k/logs/debug-internal.log</code>"
            ],
            "text/plain": [
              "<IPython.core.display.HTML object>"
            ]
          },
          "metadata": {
            "tags": []
          }
        },
        {
          "output_type": "display_data",
          "data": {
            "text/html": [
              "<h3>Run summary:</h3><br/><style>\n",
              "    table.wandb td:nth-child(1) { padding: 0 10px; text-align: right }\n",
              "    </style><table class=\"wandb\">\n",
              "<tr><td>loss</td><td>0.03008</td></tr><tr><td>trainingaccuracy</td><td>0.89604</td></tr><tr><td>validationaccuracy</td><td>0.88083</td></tr><tr><td>epoch</td><td>9</td></tr><tr><td>_runtime</td><td>1452</td></tr><tr><td>_timestamp</td><td>1615757603</td></tr><tr><td>_step</td><td>9</td></tr></table>"
            ],
            "text/plain": [
              "<IPython.core.display.HTML object>"
            ]
          },
          "metadata": {
            "tags": []
          }
        },
        {
          "output_type": "display_data",
          "data": {
            "text/html": [
              "<h3>Run history:</h3><br/><style>\n",
              "    table.wandb td:nth-child(1) { padding: 0 10px; text-align: right }\n",
              "    </style><table class=\"wandb\">\n",
              "<tr><td>loss</td><td>█▄▃▃▂▂▂▁▁▁</td></tr><tr><td>trainingaccuracy</td><td>▁▃▅▅▆▇▇▇██</td></tr><tr><td>validationaccuracy</td><td>▁▃▄▅▆▇▇▇██</td></tr><tr><td>epoch</td><td>▁▂▃▃▄▅▆▆▇█</td></tr><tr><td>_runtime</td><td>▁▂▃▃▄▅▆▆▇█</td></tr><tr><td>_timestamp</td><td>▁▂▃▃▄▅▆▆▇█</td></tr><tr><td>_step</td><td>▁▂▃▃▄▅▆▆▇█</td></tr></table><br/>"
            ],
            "text/plain": [
              "<IPython.core.display.HTML object>"
            ]
          },
          "metadata": {
            "tags": []
          }
        },
        {
          "output_type": "display_data",
          "data": {
            "text/html": [
              "Synced 5 W&B file(s), 0 media file(s), 0 artifact file(s) and 0 other file(s)"
            ],
            "text/plain": [
              "<IPython.core.display.HTML object>"
            ]
          },
          "metadata": {
            "tags": []
          }
        },
        {
          "output_type": "display_data",
          "data": {
            "text/html": [
              "\n",
              "                    <br/>Synced <strong style=\"color:#cdcd00\">firm-sweep-28</strong>: <a href=\"https://wandb.ai/rahulsundar/CS6910-DeepLearningFundamentals-Assignment1/runs/2s5m3p3k\" target=\"_blank\">https://wandb.ai/rahulsundar/CS6910-DeepLearningFundamentals-Assignment1/runs/2s5m3p3k</a><br/>\n",
              "                "
            ],
            "text/plain": [
              "<IPython.core.display.HTML object>"
            ]
          },
          "metadata": {
            "tags": []
          }
        },
        {
          "output_type": "stream",
          "text": [
            "\u001b[34m\u001b[1mwandb\u001b[0m: Agent Starting Run: 9i41mhfr with config:\n",
            "\u001b[34m\u001b[1mwandb\u001b[0m: \tactivation: SIGMOID\n",
            "\u001b[34m\u001b[1mwandb\u001b[0m: \tbatch_size: 32\n",
            "\u001b[34m\u001b[1mwandb\u001b[0m: \tinitializer: XAVIER\n",
            "\u001b[34m\u001b[1mwandb\u001b[0m: \tlearning_rate: 0.001\n",
            "\u001b[34m\u001b[1mwandb\u001b[0m: \tmax_epochs: 10\n",
            "\u001b[34m\u001b[1mwandb\u001b[0m: \tnum_hidden_neurons: 128\n",
            "\u001b[34m\u001b[1mwandb\u001b[0m: \tnum_layers: 2\n",
            "\u001b[34m\u001b[1mwandb\u001b[0m: \toptimizer: NADAM\n",
            "\u001b[34m\u001b[1mwandb\u001b[0m: \tweight_decay: 0\n"
          ],
          "name": "stderr"
        },
        {
          "output_type": "display_data",
          "data": {
            "text/html": [
              "\n",
              "                Tracking run with wandb version 0.10.22<br/>\n",
              "                Syncing run <strong style=\"color:#cdcd00\">genial-sweep-29</strong> to <a href=\"https://wandb.ai\" target=\"_blank\">Weights & Biases</a> <a href=\"https://docs.wandb.com/integrations/jupyter.html\" target=\"_blank\">(Documentation)</a>.<br/>\n",
              "                Project page: <a href=\"https://wandb.ai/rahulsundar/CS6910-DeepLearningFundamentals-Assignment1\" target=\"_blank\">https://wandb.ai/rahulsundar/CS6910-DeepLearningFundamentals-Assignment1</a><br/>\n",
              "                Sweep page: <a href=\"https://wandb.ai/rahulsundar/CS6910-DeepLearningFundamentals-Assignment1/sweeps/vny2mdtz\" target=\"_blank\">https://wandb.ai/rahulsundar/CS6910-DeepLearningFundamentals-Assignment1/sweeps/vny2mdtz</a><br/>\n",
              "Run page: <a href=\"https://wandb.ai/rahulsundar/CS6910-DeepLearningFundamentals-Assignment1/runs/9i41mhfr\" target=\"_blank\">https://wandb.ai/rahulsundar/CS6910-DeepLearningFundamentals-Assignment1/runs/9i41mhfr</a><br/>\n",
              "                Run data is saved locally in <code>/content/wandb/run-20210314_213334-9i41mhfr</code><br/><br/>\n",
              "            "
            ],
            "text/plain": [
              "<IPython.core.display.HTML object>"
            ]
          },
          "metadata": {
            "tags": []
          }
        },
        {
          "output_type": "stream",
          "text": [
            "Epoch: 0, Loss: 6.482e-02, Training accuracy:0.85, Validation Accuracy: 0.85, Time: 114.15, Learning Rate: 1.000e-03\n",
            "Epoch: 1, Loss: 4.030e-02, Training accuracy:0.87, Validation Accuracy: 0.86, Time: 114.41, Learning Rate: 1.000e-03\n",
            "Epoch: 2, Loss: 3.637e-02, Training accuracy:0.88, Validation Accuracy: 0.87, Time: 116.79, Learning Rate: 1.000e-03\n",
            "Epoch: 3, Loss: 3.401e-02, Training accuracy:0.89, Validation Accuracy: 0.87, Time: 112.86, Learning Rate: 1.000e-03\n",
            "Epoch: 4, Loss: 3.229e-02, Training accuracy:0.89, Validation Accuracy: 0.88, Time: 115.96, Learning Rate: 1.000e-03\n",
            "Epoch: 5, Loss: 3.092e-02, Training accuracy:0.90, Validation Accuracy: 0.88, Time: 115.90, Learning Rate: 1.000e-03\n",
            "Epoch: 6, Loss: 2.978e-02, Training accuracy:0.90, Validation Accuracy: 0.88, Time: 115.33, Learning Rate: 1.000e-03\n",
            "Epoch: 7, Loss: 2.878e-02, Training accuracy:0.90, Validation Accuracy: 0.88, Time: 117.08, Learning Rate: 1.000e-03\n",
            "Epoch: 8, Loss: 2.789e-02, Training accuracy:0.90, Validation Accuracy: 0.88, Time: 114.89, Learning Rate: 1.000e-03\n",
            "Epoch: 9, Loss: 2.706e-02, Training accuracy:0.91, Validation Accuracy: 0.88, Time: 116.02, Learning Rate: 1.000e-03\n"
          ],
          "name": "stdout"
        },
        {
          "output_type": "display_data",
          "data": {
            "text/html": [
              "<br/>Waiting for W&B process to finish, PID 4926<br/>Program ended successfully."
            ],
            "text/plain": [
              "<IPython.core.display.HTML object>"
            ]
          },
          "metadata": {
            "tags": []
          }
        },
        {
          "output_type": "display_data",
          "data": {
            "application/vnd.jupyter.widget-view+json": {
              "model_id": "f85bb37df5a042b5aeebf6edee6f559d",
              "version_minor": 0,
              "version_major": 2
            },
            "text/plain": [
              "VBox(children=(Label(value=' 0.00MB of 0.00MB uploaded (0.00MB deduped)\\r'), FloatProgress(value=1.0, max=1.0)…"
            ]
          },
          "metadata": {
            "tags": []
          }
        },
        {
          "output_type": "display_data",
          "data": {
            "text/html": [
              "Find user logs for this run at: <code>/content/wandb/run-20210314_213334-9i41mhfr/logs/debug.log</code>"
            ],
            "text/plain": [
              "<IPython.core.display.HTML object>"
            ]
          },
          "metadata": {
            "tags": []
          }
        },
        {
          "output_type": "display_data",
          "data": {
            "text/html": [
              "Find internal logs for this run at: <code>/content/wandb/run-20210314_213334-9i41mhfr/logs/debug-internal.log</code>"
            ],
            "text/plain": [
              "<IPython.core.display.HTML object>"
            ]
          },
          "metadata": {
            "tags": []
          }
        },
        {
          "output_type": "display_data",
          "data": {
            "text/html": [
              "<h3>Run summary:</h3><br/><style>\n",
              "    table.wandb td:nth-child(1) { padding: 0 10px; text-align: right }\n",
              "    </style><table class=\"wandb\">\n",
              "<tr><td>loss</td><td>0.02706</td></tr><tr><td>trainingaccuracy</td><td>0.90757</td></tr><tr><td>validationaccuracy</td><td>0.88483</td></tr><tr><td>epoch</td><td>9</td></tr><tr><td>_runtime</td><td>1262</td></tr><tr><td>_timestamp</td><td>1615758876</td></tr><tr><td>_step</td><td>9</td></tr></table>"
            ],
            "text/plain": [
              "<IPython.core.display.HTML object>"
            ]
          },
          "metadata": {
            "tags": []
          }
        },
        {
          "output_type": "display_data",
          "data": {
            "text/html": [
              "<h3>Run history:</h3><br/><style>\n",
              "    table.wandb td:nth-child(1) { padding: 0 10px; text-align: right }\n",
              "    </style><table class=\"wandb\">\n",
              "<tr><td>loss</td><td>█▃▃▂▂▂▂▁▁▁</td></tr><tr><td>trainingaccuracy</td><td>▁▃▄▅▆▇▇▇██</td></tr><tr><td>validationaccuracy</td><td>▁▄▅▆▇▇▇███</td></tr><tr><td>epoch</td><td>▁▂▃▃▄▅▆▆▇█</td></tr><tr><td>_runtime</td><td>▁▂▃▃▄▅▆▆▇█</td></tr><tr><td>_timestamp</td><td>▁▂▃▃▄▅▆▆▇█</td></tr><tr><td>_step</td><td>▁▂▃▃▄▅▆▆▇█</td></tr></table><br/>"
            ],
            "text/plain": [
              "<IPython.core.display.HTML object>"
            ]
          },
          "metadata": {
            "tags": []
          }
        },
        {
          "output_type": "display_data",
          "data": {
            "text/html": [
              "Synced 5 W&B file(s), 0 media file(s), 0 artifact file(s) and 0 other file(s)"
            ],
            "text/plain": [
              "<IPython.core.display.HTML object>"
            ]
          },
          "metadata": {
            "tags": []
          }
        },
        {
          "output_type": "display_data",
          "data": {
            "text/html": [
              "\n",
              "                    <br/>Synced <strong style=\"color:#cdcd00\">genial-sweep-29</strong>: <a href=\"https://wandb.ai/rahulsundar/CS6910-DeepLearningFundamentals-Assignment1/runs/9i41mhfr\" target=\"_blank\">https://wandb.ai/rahulsundar/CS6910-DeepLearningFundamentals-Assignment1/runs/9i41mhfr</a><br/>\n",
              "                "
            ],
            "text/plain": [
              "<IPython.core.display.HTML object>"
            ]
          },
          "metadata": {
            "tags": []
          }
        },
        {
          "output_type": "stream",
          "text": [
            "\u001b[34m\u001b[1mwandb\u001b[0m: Agent Starting Run: 3ecnftvk with config:\n",
            "\u001b[34m\u001b[1mwandb\u001b[0m: \tactivation: RELU\n",
            "\u001b[34m\u001b[1mwandb\u001b[0m: \tbatch_size: 16\n",
            "\u001b[34m\u001b[1mwandb\u001b[0m: \tinitializer: XAVIER\n",
            "\u001b[34m\u001b[1mwandb\u001b[0m: \tlearning_rate: 0.0001\n",
            "\u001b[34m\u001b[1mwandb\u001b[0m: \tmax_epochs: 10\n",
            "\u001b[34m\u001b[1mwandb\u001b[0m: \tnum_hidden_neurons: 128\n",
            "\u001b[34m\u001b[1mwandb\u001b[0m: \tnum_layers: 3\n",
            "\u001b[34m\u001b[1mwandb\u001b[0m: \toptimizer: RMSPROP\n",
            "\u001b[34m\u001b[1mwandb\u001b[0m: \tweight_decay: 0.0005\n"
          ],
          "name": "stderr"
        },
        {
          "output_type": "display_data",
          "data": {
            "text/html": [
              "\n",
              "                Tracking run with wandb version 0.10.22<br/>\n",
              "                Syncing run <strong style=\"color:#cdcd00\">lunar-sweep-30</strong> to <a href=\"https://wandb.ai\" target=\"_blank\">Weights & Biases</a> <a href=\"https://docs.wandb.com/integrations/jupyter.html\" target=\"_blank\">(Documentation)</a>.<br/>\n",
              "                Project page: <a href=\"https://wandb.ai/rahulsundar/CS6910-DeepLearningFundamentals-Assignment1\" target=\"_blank\">https://wandb.ai/rahulsundar/CS6910-DeepLearningFundamentals-Assignment1</a><br/>\n",
              "                Sweep page: <a href=\"https://wandb.ai/rahulsundar/CS6910-DeepLearningFundamentals-Assignment1/sweeps/vny2mdtz\" target=\"_blank\">https://wandb.ai/rahulsundar/CS6910-DeepLearningFundamentals-Assignment1/sweeps/vny2mdtz</a><br/>\n",
              "Run page: <a href=\"https://wandb.ai/rahulsundar/CS6910-DeepLearningFundamentals-Assignment1/runs/3ecnftvk\" target=\"_blank\">https://wandb.ai/rahulsundar/CS6910-DeepLearningFundamentals-Assignment1/runs/3ecnftvk</a><br/>\n",
              "                Run data is saved locally in <code>/content/wandb/run-20210314_215447-3ecnftvk</code><br/><br/>\n",
              "            "
            ],
            "text/plain": [
              "<IPython.core.display.HTML object>"
            ]
          },
          "metadata": {
            "tags": []
          }
        },
        {
          "output_type": "stream",
          "text": [
            "Epoch: 0, Loss: 6.092e-02, Training accuracy:0.85, Validation Accuracy: 0.84, Time: 119.31, Learning Rate: 1.000e-04\n",
            "Epoch: 1, Loss: 4.214e-02, Training accuracy:0.87, Validation Accuracy: 0.85, Time: 120.53, Learning Rate: 1.000e-04\n",
            "Epoch: 2, Loss: 3.816e-02, Training accuracy:0.88, Validation Accuracy: 0.86, Time: 121.47, Learning Rate: 1.000e-04\n",
            "Epoch: 3, Loss: 3.565e-02, Training accuracy:0.88, Validation Accuracy: 0.87, Time: 120.63, Learning Rate: 1.000e-04\n",
            "Epoch: 4, Loss: 3.387e-02, Training accuracy:0.89, Validation Accuracy: 0.87, Time: 119.19, Learning Rate: 1.000e-04\n",
            "Epoch: 5, Loss: 3.249e-02, Training accuracy:0.89, Validation Accuracy: 0.87, Time: 122.96, Learning Rate: 1.000e-04\n",
            "Epoch: 6, Loss: 3.139e-02, Training accuracy:0.90, Validation Accuracy: 0.87, Time: 111.29, Learning Rate: 1.000e-04\n",
            "Epoch: 7, Loss: 3.044e-02, Training accuracy:0.90, Validation Accuracy: 0.87, Time: 118.36, Learning Rate: 1.000e-04\n",
            "Epoch: 8, Loss: 2.959e-02, Training accuracy:0.90, Validation Accuracy: 0.88, Time: 118.21, Learning Rate: 1.000e-04\n",
            "Epoch: 9, Loss: 2.885e-02, Training accuracy:0.90, Validation Accuracy: 0.88, Time: 120.34, Learning Rate: 1.000e-04\n"
          ],
          "name": "stdout"
        },
        {
          "output_type": "display_data",
          "data": {
            "text/html": [
              "<br/>Waiting for W&B process to finish, PID 5201<br/>Program ended successfully."
            ],
            "text/plain": [
              "<IPython.core.display.HTML object>"
            ]
          },
          "metadata": {
            "tags": []
          }
        },
        {
          "output_type": "display_data",
          "data": {
            "application/vnd.jupyter.widget-view+json": {
              "model_id": "dcd2275bba6b41208c4547dcf78df0b9",
              "version_minor": 0,
              "version_major": 2
            },
            "text/plain": [
              "VBox(children=(Label(value=' 0.00MB of 0.00MB uploaded (0.00MB deduped)\\r'), FloatProgress(value=1.0, max=1.0)…"
            ]
          },
          "metadata": {
            "tags": []
          }
        },
        {
          "output_type": "display_data",
          "data": {
            "text/html": [
              "Find user logs for this run at: <code>/content/wandb/run-20210314_215447-3ecnftvk/logs/debug.log</code>"
            ],
            "text/plain": [
              "<IPython.core.display.HTML object>"
            ]
          },
          "metadata": {
            "tags": []
          }
        },
        {
          "output_type": "display_data",
          "data": {
            "text/html": [
              "Find internal logs for this run at: <code>/content/wandb/run-20210314_215447-3ecnftvk/logs/debug-internal.log</code>"
            ],
            "text/plain": [
              "<IPython.core.display.HTML object>"
            ]
          },
          "metadata": {
            "tags": []
          }
        },
        {
          "output_type": "display_data",
          "data": {
            "text/html": [
              "<h3>Run summary:</h3><br/><style>\n",
              "    table.wandb td:nth-child(1) { padding: 0 10px; text-align: right }\n",
              "    </style><table class=\"wandb\">\n",
              "<tr><td>loss</td><td>0.02885</td></tr><tr><td>trainingaccuracy</td><td>0.90456</td></tr><tr><td>validationaccuracy</td><td>0.8775</td></tr><tr><td>epoch</td><td>9</td></tr><tr><td>_runtime</td><td>1316</td></tr><tr><td>_timestamp</td><td>1615760203</td></tr><tr><td>_step</td><td>9</td></tr></table>"
            ],
            "text/plain": [
              "<IPython.core.display.HTML object>"
            ]
          },
          "metadata": {
            "tags": []
          }
        },
        {
          "output_type": "display_data",
          "data": {
            "text/html": [
              "<h3>Run history:</h3><br/><style>\n",
              "    table.wandb td:nth-child(1) { padding: 0 10px; text-align: right }\n",
              "    </style><table class=\"wandb\">\n",
              "<tr><td>loss</td><td>█▄▃▂▂▂▂▁▁▁</td></tr><tr><td>trainingaccuracy</td><td>▁▃▅▅▆▇▇▇██</td></tr><tr><td>validationaccuracy</td><td>▁▄▅▆▆▇▇▇██</td></tr><tr><td>epoch</td><td>▁▂▃▃▄▅▆▆▇█</td></tr><tr><td>_runtime</td><td>▁▂▃▃▄▅▆▆▇█</td></tr><tr><td>_timestamp</td><td>▁▂▃▃▄▅▆▆▇█</td></tr><tr><td>_step</td><td>▁▂▃▃▄▅▆▆▇█</td></tr></table><br/>"
            ],
            "text/plain": [
              "<IPython.core.display.HTML object>"
            ]
          },
          "metadata": {
            "tags": []
          }
        },
        {
          "output_type": "display_data",
          "data": {
            "text/html": [
              "Synced 5 W&B file(s), 0 media file(s), 0 artifact file(s) and 0 other file(s)"
            ],
            "text/plain": [
              "<IPython.core.display.HTML object>"
            ]
          },
          "metadata": {
            "tags": []
          }
        },
        {
          "output_type": "display_data",
          "data": {
            "text/html": [
              "\n",
              "                    <br/>Synced <strong style=\"color:#cdcd00\">lunar-sweep-30</strong>: <a href=\"https://wandb.ai/rahulsundar/CS6910-DeepLearningFundamentals-Assignment1/runs/3ecnftvk\" target=\"_blank\">https://wandb.ai/rahulsundar/CS6910-DeepLearningFundamentals-Assignment1/runs/3ecnftvk</a><br/>\n",
              "                "
            ],
            "text/plain": [
              "<IPython.core.display.HTML object>"
            ]
          },
          "metadata": {
            "tags": []
          }
        },
        {
          "output_type": "stream",
          "text": [
            "\u001b[34m\u001b[1mwandb\u001b[0m: Agent Starting Run: axfvzn74 with config:\n",
            "\u001b[34m\u001b[1mwandb\u001b[0m: \tactivation: RELU\n",
            "\u001b[34m\u001b[1mwandb\u001b[0m: \tbatch_size: 32\n",
            "\u001b[34m\u001b[1mwandb\u001b[0m: \tinitializer: HE\n",
            "\u001b[34m\u001b[1mwandb\u001b[0m: \tlearning_rate: 0.0001\n",
            "\u001b[34m\u001b[1mwandb\u001b[0m: \tmax_epochs: 10\n",
            "\u001b[34m\u001b[1mwandb\u001b[0m: \tnum_hidden_neurons: 128\n",
            "\u001b[34m\u001b[1mwandb\u001b[0m: \tnum_layers: 3\n",
            "\u001b[34m\u001b[1mwandb\u001b[0m: \toptimizer: NADAM\n",
            "\u001b[34m\u001b[1mwandb\u001b[0m: \tweight_decay: 0\n"
          ],
          "name": "stderr"
        },
        {
          "output_type": "display_data",
          "data": {
            "text/html": [
              "\n",
              "                Tracking run with wandb version 0.10.22<br/>\n",
              "                Syncing run <strong style=\"color:#cdcd00\">lyric-sweep-31</strong> to <a href=\"https://wandb.ai\" target=\"_blank\">Weights & Biases</a> <a href=\"https://docs.wandb.com/integrations/jupyter.html\" target=\"_blank\">(Documentation)</a>.<br/>\n",
              "                Project page: <a href=\"https://wandb.ai/rahulsundar/CS6910-DeepLearningFundamentals-Assignment1\" target=\"_blank\">https://wandb.ai/rahulsundar/CS6910-DeepLearningFundamentals-Assignment1</a><br/>\n",
              "                Sweep page: <a href=\"https://wandb.ai/rahulsundar/CS6910-DeepLearningFundamentals-Assignment1/sweeps/vny2mdtz\" target=\"_blank\">https://wandb.ai/rahulsundar/CS6910-DeepLearningFundamentals-Assignment1/sweeps/vny2mdtz</a><br/>\n",
              "Run page: <a href=\"https://wandb.ai/rahulsundar/CS6910-DeepLearningFundamentals-Assignment1/runs/axfvzn74\" target=\"_blank\">https://wandb.ai/rahulsundar/CS6910-DeepLearningFundamentals-Assignment1/runs/axfvzn74</a><br/>\n",
              "                Run data is saved locally in <code>/content/wandb/run-20210314_221653-axfvzn74</code><br/><br/>\n",
              "            "
            ],
            "text/plain": [
              "<IPython.core.display.HTML object>"
            ]
          },
          "metadata": {
            "tags": []
          }
        },
        {
          "output_type": "stream",
          "text": [
            "Epoch: 0, Loss: 6.092e-02, Training accuracy:0.84, Validation Accuracy: 0.84, Time: 118.10, Learning Rate: 1.000e-04\n",
            "Epoch: 1, Loss: 4.290e-02, Training accuracy:0.86, Validation Accuracy: 0.85, Time: 113.36, Learning Rate: 1.000e-04\n",
            "Epoch: 2, Loss: 3.944e-02, Training accuracy:0.87, Validation Accuracy: 0.86, Time: 116.26, Learning Rate: 1.000e-04\n",
            "Epoch: 3, Loss: 3.733e-02, Training accuracy:0.88, Validation Accuracy: 0.87, Time: 119.16, Learning Rate: 1.000e-04\n",
            "Epoch: 4, Loss: 3.579e-02, Training accuracy:0.88, Validation Accuracy: 0.87, Time: 119.49, Learning Rate: 1.000e-04\n",
            "Epoch: 5, Loss: 3.456e-02, Training accuracy:0.88, Validation Accuracy: 0.87, Time: 121.11, Learning Rate: 1.000e-04\n",
            "Epoch: 6, Loss: 3.351e-02, Training accuracy:0.89, Validation Accuracy: 0.87, Time: 118.71, Learning Rate: 1.000e-04\n",
            "Epoch: 7, Loss: 3.260e-02, Training accuracy:0.89, Validation Accuracy: 0.88, Time: 120.23, Learning Rate: 1.000e-04\n",
            "Epoch: 8, Loss: 3.179e-02, Training accuracy:0.89, Validation Accuracy: 0.88, Time: 121.21, Learning Rate: 1.000e-04\n",
            "Epoch: 9, Loss: 3.107e-02, Training accuracy:0.89, Validation Accuracy: 0.88, Time: 122.39, Learning Rate: 1.000e-04\n"
          ],
          "name": "stdout"
        },
        {
          "output_type": "display_data",
          "data": {
            "text/html": [
              "<br/>Waiting for W&B process to finish, PID 5486<br/>Program ended successfully."
            ],
            "text/plain": [
              "<IPython.core.display.HTML object>"
            ]
          },
          "metadata": {
            "tags": []
          }
        },
        {
          "output_type": "display_data",
          "data": {
            "application/vnd.jupyter.widget-view+json": {
              "model_id": "2c0f1281d0214643a9c1d7e233423989",
              "version_minor": 0,
              "version_major": 2
            },
            "text/plain": [
              "VBox(children=(Label(value=' 0.00MB of 0.00MB uploaded (0.00MB deduped)\\r'), FloatProgress(value=1.0, max=1.0)…"
            ]
          },
          "metadata": {
            "tags": []
          }
        },
        {
          "output_type": "display_data",
          "data": {
            "text/html": [
              "Find user logs for this run at: <code>/content/wandb/run-20210314_221653-axfvzn74/logs/debug.log</code>"
            ],
            "text/plain": [
              "<IPython.core.display.HTML object>"
            ]
          },
          "metadata": {
            "tags": []
          }
        },
        {
          "output_type": "display_data",
          "data": {
            "text/html": [
              "Find internal logs for this run at: <code>/content/wandb/run-20210314_221653-axfvzn74/logs/debug-internal.log</code>"
            ],
            "text/plain": [
              "<IPython.core.display.HTML object>"
            ]
          },
          "metadata": {
            "tags": []
          }
        },
        {
          "output_type": "display_data",
          "data": {
            "text/html": [
              "<h3>Run summary:</h3><br/><style>\n",
              "    table.wandb td:nth-child(1) { padding: 0 10px; text-align: right }\n",
              "    </style><table class=\"wandb\">\n",
              "<tr><td>loss</td><td>0.03107</td></tr><tr><td>trainingaccuracy</td><td>0.89469</td></tr><tr><td>validationaccuracy</td><td>0.87933</td></tr><tr><td>epoch</td><td>9</td></tr><tr><td>_runtime</td><td>1312</td></tr><tr><td>_timestamp</td><td>1615761525</td></tr><tr><td>_step</td><td>9</td></tr></table>"
            ],
            "text/plain": [
              "<IPython.core.display.HTML object>"
            ]
          },
          "metadata": {
            "tags": []
          }
        },
        {
          "output_type": "display_data",
          "data": {
            "text/html": [
              "<h3>Run history:</h3><br/><style>\n",
              "    table.wandb td:nth-child(1) { padding: 0 10px; text-align: right }\n",
              "    </style><table class=\"wandb\">\n",
              "<tr><td>loss</td><td>█▄▃▂▂▂▂▁▁▁</td></tr><tr><td>trainingaccuracy</td><td>▁▃▄▅▆▇▇▇██</td></tr><tr><td>validationaccuracy</td><td>▁▃▅▆▆▇▇▇██</td></tr><tr><td>epoch</td><td>▁▂▃▃▄▅▆▆▇█</td></tr><tr><td>_runtime</td><td>▁▂▃▃▄▅▆▆▇█</td></tr><tr><td>_timestamp</td><td>▁▂▃▃▄▅▆▆▇█</td></tr><tr><td>_step</td><td>▁▂▃▃▄▅▆▆▇█</td></tr></table><br/>"
            ],
            "text/plain": [
              "<IPython.core.display.HTML object>"
            ]
          },
          "metadata": {
            "tags": []
          }
        },
        {
          "output_type": "display_data",
          "data": {
            "text/html": [
              "Synced 5 W&B file(s), 0 media file(s), 0 artifact file(s) and 0 other file(s)"
            ],
            "text/plain": [
              "<IPython.core.display.HTML object>"
            ]
          },
          "metadata": {
            "tags": []
          }
        },
        {
          "output_type": "display_data",
          "data": {
            "text/html": [
              "\n",
              "                    <br/>Synced <strong style=\"color:#cdcd00\">lyric-sweep-31</strong>: <a href=\"https://wandb.ai/rahulsundar/CS6910-DeepLearningFundamentals-Assignment1/runs/axfvzn74\" target=\"_blank\">https://wandb.ai/rahulsundar/CS6910-DeepLearningFundamentals-Assignment1/runs/axfvzn74</a><br/>\n",
              "                "
            ],
            "text/plain": [
              "<IPython.core.display.HTML object>"
            ]
          },
          "metadata": {
            "tags": []
          }
        },
        {
          "output_type": "stream",
          "text": [
            "\u001b[34m\u001b[1mwandb\u001b[0m: Agent Starting Run: tc3c9hsp with config:\n",
            "\u001b[34m\u001b[1mwandb\u001b[0m: \tactivation: RELU\n",
            "\u001b[34m\u001b[1mwandb\u001b[0m: \tbatch_size: 32\n",
            "\u001b[34m\u001b[1mwandb\u001b[0m: \tinitializer: HE\n",
            "\u001b[34m\u001b[1mwandb\u001b[0m: \tlearning_rate: 0.0001\n",
            "\u001b[34m\u001b[1mwandb\u001b[0m: \tmax_epochs: 10\n",
            "\u001b[34m\u001b[1mwandb\u001b[0m: \tnum_hidden_neurons: 128\n",
            "\u001b[34m\u001b[1mwandb\u001b[0m: \tnum_layers: 2\n",
            "\u001b[34m\u001b[1mwandb\u001b[0m: \toptimizer: NADAM\n",
            "\u001b[34m\u001b[1mwandb\u001b[0m: \tweight_decay: 0.0005\n"
          ],
          "name": "stderr"
        },
        {
          "output_type": "display_data",
          "data": {
            "text/html": [
              "\n",
              "                Tracking run with wandb version 0.10.22<br/>\n",
              "                Syncing run <strong style=\"color:#cdcd00\">bright-sweep-32</strong> to <a href=\"https://wandb.ai\" target=\"_blank\">Weights & Biases</a> <a href=\"https://docs.wandb.com/integrations/jupyter.html\" target=\"_blank\">(Documentation)</a>.<br/>\n",
              "                Project page: <a href=\"https://wandb.ai/rahulsundar/CS6910-DeepLearningFundamentals-Assignment1\" target=\"_blank\">https://wandb.ai/rahulsundar/CS6910-DeepLearningFundamentals-Assignment1</a><br/>\n",
              "                Sweep page: <a href=\"https://wandb.ai/rahulsundar/CS6910-DeepLearningFundamentals-Assignment1/sweeps/vny2mdtz\" target=\"_blank\">https://wandb.ai/rahulsundar/CS6910-DeepLearningFundamentals-Assignment1/sweeps/vny2mdtz</a><br/>\n",
              "Run page: <a href=\"https://wandb.ai/rahulsundar/CS6910-DeepLearningFundamentals-Assignment1/runs/tc3c9hsp\" target=\"_blank\">https://wandb.ai/rahulsundar/CS6910-DeepLearningFundamentals-Assignment1/runs/tc3c9hsp</a><br/>\n",
              "                Run data is saved locally in <code>/content/wandb/run-20210314_223856-tc3c9hsp</code><br/><br/>\n",
              "            "
            ],
            "text/plain": [
              "<IPython.core.display.HTML object>"
            ]
          },
          "metadata": {
            "tags": []
          }
        },
        {
          "output_type": "stream",
          "text": [
            "Epoch: 0, Loss: 6.215e-02, Training accuracy:0.84, Validation Accuracy: 0.84, Time: 117.92, Learning Rate: 1.000e-04\n"
          ],
          "name": "stdout"
        }
      ]
    },
    {
      "cell_type": "code",
      "metadata": {
        "id": "IuiqRBuDUhIw"
      },
      "source": [
        "wandb.finish()"
      ],
      "execution_count": 8,
      "outputs": []
    }
  ]
}